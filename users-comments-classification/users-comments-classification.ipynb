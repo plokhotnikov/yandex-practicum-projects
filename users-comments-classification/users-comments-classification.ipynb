{
 "cells": [
  {
   "cell_type": "markdown",
   "metadata": {},
   "source": [
    "# Классификация комментариев пользователей"
   ]
  },
  {
   "cell_type": "markdown",
   "metadata": {},
   "source": [
    "## Постановка задачи"
   ]
  },
  {
   "cell_type": "markdown",
   "metadata": {},
   "source": [
    "### Описание \n",
    "\n",
    "На основе исходных данных с разметкой о токсичности правок разработать модель, которая бы классифицировала комментарии пользователей о товарах интернет-магазина на позитивные и негативные. Модель должна соответствовать значению метрики качества F1 не меньше 0.75. \n",
    "\n",
    "### Описание данных\n",
    "\n",
    "Данные находятся в файле `toxic_comments.csv`. Столбец *text* в нём содержит текст комментария, а *toxic* — целевой признак."
   ]
  },
  {
   "cell_type": "markdown",
   "metadata": {},
   "source": [
    "## Подготовка"
   ]
  },
  {
   "cell_type": "code",
   "execution_count": 1,
   "metadata": {},
   "outputs": [
    {
     "name": "stdout",
     "output_type": "stream",
     "text": [
      "Requirement already satisfied: hyperopt in c:\\users\\1\\anaconda3\\lib\\site-packages (0.2.7)\n",
      "Requirement already satisfied: networkx>=2.2 in c:\\users\\1\\anaconda3\\lib\\site-packages (from hyperopt) (2.6.3)\n",
      "Requirement already satisfied: py4j in c:\\users\\1\\anaconda3\\lib\\site-packages (from hyperopt) (0.10.9.5)\n",
      "Requirement already satisfied: six in c:\\users\\1\\anaconda3\\lib\\site-packages (from hyperopt) (1.16.0)\n",
      "Requirement already satisfied: cloudpickle in c:\\users\\1\\anaconda3\\lib\\site-packages (from hyperopt) (2.0.0)\n",
      "Requirement already satisfied: scipy in c:\\users\\1\\anaconda3\\lib\\site-packages (from hyperopt) (1.7.1)\n",
      "Requirement already satisfied: tqdm in c:\\users\\1\\anaconda3\\lib\\site-packages (from hyperopt) (4.62.3)\n",
      "Requirement already satisfied: future in c:\\users\\1\\anaconda3\\lib\\site-packages (from hyperopt) (0.18.2)\n",
      "Requirement already satisfied: numpy in c:\\users\\1\\anaconda3\\lib\\site-packages (from hyperopt) (1.21.5)\n",
      "Requirement already satisfied: colorama in c:\\users\\1\\anaconda3\\lib\\site-packages (from tqdm->hyperopt) (0.4.4)\n"
     ]
    }
   ],
   "source": [
    "#!pip install torch-lr-finder\n",
    "#!pip install transformers\n",
    "!pip install hyperopt"
   ]
  },
  {
   "cell_type": "code",
   "execution_count": 112,
   "metadata": {},
   "outputs": [
    {
     "name": "stderr",
     "output_type": "stream",
     "text": [
      "[nltk_data] Downloading package stopwords to\n",
      "[nltk_data]     C:\\Users\\1\\AppData\\Roaming\\nltk_data...\n",
      "[nltk_data]   Package stopwords is already up-to-date!\n"
     ]
    }
   ],
   "source": [
    "import re\n",
    "import numpy as np\n",
    "import scipy as sp\n",
    "import pandas as pd\n",
    "import seaborn as sns\n",
    "import matplotlib.pyplot as plt\n",
    "\n",
    "import nltk\n",
    "from nltk.stem import WordNetLemmatizer\n",
    "from nltk.corpus import stopwords\n",
    "nltk.download('stopwords')\n",
    "\n",
    "from joblib import Parallel, delayed\n",
    "from tqdm import tqdm, notebook\n",
    "\n",
    "from sklearn.model_selection import train_test_split, cross_val_score\n",
    "from sklearn.feature_extraction.text import CountVectorizer, TfidfVectorizer\n",
    "from sklearn.preprocessing import StandardScaler\n",
    "pd.options.mode.chained_assignment = None\n",
    "from sklearn.utils import shuffle\n",
    "from sklearn.metrics import precision_score, recall_score, accuracy_score, roc_auc_score, roc_curve\n",
    "\n",
    "from sklearn.linear_model import LogisticRegression\n",
    "from sklearn.ensemble import RandomForestClassifier\n",
    "from sklearn.tree import DecisionTreeClassifier\n",
    "from xgboost import XGBClassifier\n",
    "import lightgbm as lgb\n",
    "\n",
    "import transformers\n",
    "import torch\n",
    "\n",
    "from hyperopt import hp, tpe, Trials, STATUS_OK\n",
    "from hyperopt.fmin import fmin\n",
    "from functools import partial\n",
    "\n",
    "import warnings\n",
    "warnings.filterwarnings('ignore')"
   ]
  },
  {
   "cell_type": "code",
   "execution_count": 3,
   "metadata": {},
   "outputs": [],
   "source": [
    "pd.set_option('display.max_rows', None)\n",
    "pd.set_option('display.max_columns', None)\n",
    "pd.set_option('display.width', None)\n",
    "pd.set_option('display.max_colwidth', -1)"
   ]
  },
  {
   "cell_type": "code",
   "execution_count": 4,
   "metadata": {},
   "outputs": [],
   "source": [
    "data = pd.read_csv('toxic_comments.csv')"
   ]
  },
  {
   "cell_type": "code",
   "execution_count": 5,
   "metadata": {},
   "outputs": [
    {
     "data": {
      "text/html": [
       "<div>\n",
       "<style scoped>\n",
       "    .dataframe tbody tr th:only-of-type {\n",
       "        vertical-align: middle;\n",
       "    }\n",
       "\n",
       "    .dataframe tbody tr th {\n",
       "        vertical-align: top;\n",
       "    }\n",
       "\n",
       "    .dataframe thead th {\n",
       "        text-align: right;\n",
       "    }\n",
       "</style>\n",
       "<table border=\"1\" class=\"dataframe\">\n",
       "  <thead>\n",
       "    <tr style=\"text-align: right;\">\n",
       "      <th></th>\n",
       "      <th>text</th>\n",
       "      <th>toxic</th>\n",
       "    </tr>\n",
       "  </thead>\n",
       "  <tbody>\n",
       "    <tr>\n",
       "      <th>82442</th>\n",
       "      <td>What a hypocrite this creep Chavez is!\\n\\nFrom the main article about Hugo Chavez:\\n\\nChávez was raised a Roman Catholic, although he has had a series of disputes with both the Venezuelan Catholic hierarchy and Protestant groups like the New Tribes Mission. He has traditionally kept his own faith a private matter, but over the course of his presidency, Chávez has become increasingly open to discussing his religious views, stating that both his faith and his interpretation of Jesus' personal life and ideology have had a profound impact on his left-wing and progressivist views. He often invokes God and asks for prayer in speeches, as he did when he asked Venezuelans to pray for Fidel Castro's health.\\n\\nI find it ironic that an atheist such as Hugo Chavez would ask the Venezuelan people to pray to God for another atheist's (Fidel Castro) health! This just shows what a hypocrite and liar Chavez is!</td>\n",
       "      <td>1</td>\n",
       "    </tr>\n",
       "    <tr>\n",
       "      <th>132112</th>\n",
       "      <td>\"\\nAh I needed to stay away for a day and clear my mind. I wasn't gone for long. )  | talk \"</td>\n",
       "      <td>0</td>\n",
       "    </tr>\n",
       "    <tr>\n",
       "      <th>30078</th>\n",
       "      <td>The true words of a moron</td>\n",
       "      <td>1</td>\n",
       "    </tr>\n",
       "    <tr>\n",
       "      <th>130901</th>\n",
       "      <td>, 7 September 2010 (UTC)\\n\\nThat Op-ed is 90% about criticism of the US system and I'm not sure that is relevant to this article.  Did you see where he says there's a pretty good argument that she should have been found innocent?  Fair enough. Wikipedia articles are supposed to report facts about opinions. Is his opinion notable? That's a close call. I'm calling for quite a bit of discussion about what observers say about the trial.  He's saying he doesn't like the US response, not that he agrees with the verdict.  The lengthy criticism section I put together wasn't necessarily intended to go in as is.  The idea is that it puts in one place content that I believe belongs in various places in the article.  Feel free to say what you think is wrong with what I wrote in that criticism section.  13:25</td>\n",
       "      <td>0</td>\n",
       "    </tr>\n",
       "    <tr>\n",
       "      <th>90549</th>\n",
       "      <td>I didn't ask how often you jerk off.  A Simpsons episode is where the mass of twitchy muscle is from.  69.158.165.129</td>\n",
       "      <td>1</td>\n",
       "    </tr>\n",
       "    <tr>\n",
       "      <th>130019</th>\n",
       "      <td>\"\\n File:CarlsburgBeer.JPG listed for deletion \\nA file that you uploaded or altered, File:CarlsburgBeer.JPG, has been listed at Wikipedia:Files for deletion. Please see the discussion to see why it has been listed (you may have to search for the title of the image to find its entry). Feel free to add your opinion on the matter below the nomination. Thank you.   hi! \"</td>\n",
       "      <td>0</td>\n",
       "    </tr>\n",
       "    <tr>\n",
       "      <th>77359</th>\n",
       "      <td>\"\\n\\nPS: “Blackpearl14\"\" Do you, your friends and family or any contributors, editors, administrators or Mr. Wales or their friends and family own stock within the Walt Disney Company?  The Walt Disney Company page is not neutral, it is a series of promotional pages including links to products and causes of the Walt Disney Company.   Many of the other statements on the Walt Disney Company page don’t follow your so-called neutral definition.  Following your own claim of “neutral”, the entire page would have to be deleted per your own standards.  Furthermore, the lawsuit sentence that was placed on it, was exactly as the other statements of “criticism” within the Walt Disney Company page, yet you claim it’s not neutral.   Clearly you enforce double standards and don’t adhere to wikipedia’s own written polices.  \\nCriticism\\nDisney has on several occasions prompted action from religious groups such as the Catholic League, due to purported insensitive broadcasting, and the release of films, which the league and others found offensive. Disney has faced boycotts from Baptist groups, \"\"Assemblies of God\"\", and Catholic groups in the past. (boycott 1;boycott 2;boycott 3)  \\nThe worldwide commercial success of the Disney brand is viewed by some as detrimental to cultural diversity (see Disneyfication).\\nDisney is one among several American companies lobbying for more stringent enforcement of intellectual property around the world and continued copyright term extensions, posing a perceived threat to the existence of the public domain; see Copyright Term Extension Act.\\nDisney has been accused of human rights violations regarding the working conditions in factories that produce their merchandise.http://www.somo.nl/monitoring/reports/hkcic01-02.htmhttp://www.cbc.ca/news/story/2001/06/18/sweatshops_010618.html source\\nDisney has been criticized by animal welfare groups for its import, use and frequent deaths of wild animals at its Animal Kingdom theme parkCaution: Live Animals - TIME as well as for using purebred dogs in movies such as 101 Dalmatians, which these groups claim leads to creating an artificial demand for these purebred dogs many of whom are later abandoned or surrendered to shelters or rescue groups.CNN.com - 'Nemo' fans net fish warning - Jun. 30, 2003\\nDisney has been criticized in the Abaco Islands for their role in a dredging operation on Great Guana Cay that is said to be responsible for a wide array of environmental problems, including widespread death of coral communities. \\nDisney films are also notable for their ongoing lack of cultural understanding when portraying non-white ethnic groups on screen. They have been criticised for their liberal use of stereotyping, in both appearance and dialogue. The 9 Most Racist Disney Characters\\n Independent film maker Royce Mathew sued  www.disneylawsuit.com the Walt Disney Company, Jerry Bruckheimer Inc./films, Ted Elliott and Terry Rossio in Federal Court claiming they plagiarized his supernatural pirate move for the Pirates of the Caribbean movie.\"</td>\n",
       "      <td>0</td>\n",
       "    </tr>\n",
       "  </tbody>\n",
       "</table>\n",
       "</div>"
      ],
      "text/plain": [
       "                                                                                                                                                                                                                                                                                                                                                                                                                                                                                                                                                                                                                                                                                                                                                                                                                                                                                                                                                                                                                                                                                                                                                                                                                                                                                                                                                                                                                                                                                                                                                                                                                                                                                                                                                                                                                                                                                                                                                                                                                                                                                                                                                                                                                                                                                                                                                                                                                                                                                                                                                                                                                                                                                                                                                                                                                                                                                                                                                                                                                                                                                                                                                                                  text  \\\n",
       "82442   What a hypocrite this creep Chavez is!\\n\\nFrom the main article about Hugo Chavez:\\n\\nChávez was raised a Roman Catholic, although he has had a series of disputes with both the Venezuelan Catholic hierarchy and Protestant groups like the New Tribes Mission. He has traditionally kept his own faith a private matter, but over the course of his presidency, Chávez has become increasingly open to discussing his religious views, stating that both his faith and his interpretation of Jesus' personal life and ideology have had a profound impact on his left-wing and progressivist views. He often invokes God and asks for prayer in speeches, as he did when he asked Venezuelans to pray for Fidel Castro's health.\\n\\nI find it ironic that an atheist such as Hugo Chavez would ask the Venezuelan people to pray to God for another atheist's (Fidel Castro) health! This just shows what a hypocrite and liar Chavez is!                                                                                                                                                                                                                                                                                                                                                                                                                                                                                                                                                                                                                                                                                                                                                                                                                                                                                                                                                                                                                                                                                                                                                                                                                                                                                                                                                                                                                                                                                                                                                                                                                                                                                                                                                                                                                                                                                                                                                                                                                                                                                                                                                                                                                                     \n",
       "132112  \"\\nAh I needed to stay away for a day and clear my mind. I wasn't gone for long. )  | talk \"                                                                                                                                                                                                                                                                                                                                                                                                                                                                                                                                                                                                                                                                                                                                                                                                                                                                                                                                                                                                                                                                                                                                                                                                                                                                                                                                                                                                                                                                                                                                                                                                                                                                                                                                                                                                                                                                                                                                                                                                                                                                                                                                                                                                                                                                                                                                                                                                                                                                                                                                                                                                                                                                                                                                                                                                                                                                                                                                                                                                                                                                                     \n",
       "30078   The true words of a moron                                                                                                                                                                                                                                                                                                                                                                                                                                                                                                                                                                                                                                                                                                                                                                                                                                                                                                                                                                                                                                                                                                                                                                                                                                                                                                                                                                                                                                                                                                                                                                                                                                                                                                                                                                                                                                                                                                                                                                                                                                                                                                                                                                                                                                                                                                                                                                                                                                                                                                                                                                                                                                                                                                                                                                                                                                                                                                                                                                                                                                                                                                                                                        \n",
       "130901  , 7 September 2010 (UTC)\\n\\nThat Op-ed is 90% about criticism of the US system and I'm not sure that is relevant to this article.  Did you see where he says there's a pretty good argument that she should have been found innocent?  Fair enough. Wikipedia articles are supposed to report facts about opinions. Is his opinion notable? That's a close call. I'm calling for quite a bit of discussion about what observers say about the trial.  He's saying he doesn't like the US response, not that he agrees with the verdict.  The lengthy criticism section I put together wasn't necessarily intended to go in as is.  The idea is that it puts in one place content that I believe belongs in various places in the article.  Feel free to say what you think is wrong with what I wrote in that criticism section.  13:25                                                                                                                                                                                                                                                                                                                                                                                                                                                                                                                                                                                                                                                                                                                                                                                                                                                                                                                                                                                                                                                                                                                                                                                                                                                                                                                                                                                                                                                                                                                                                                                                                                                                                                                                                                                                                                                                                                                                                                                                                                                                                                                                                                                                                                                                                                                                          \n",
       "90549   I didn't ask how often you jerk off.  A Simpsons episode is where the mass of twitchy muscle is from.  69.158.165.129                                                                                                                                                                                                                                                                                                                                                                                                                                                                                                                                                                                                                                                                                                                                                                                                                                                                                                                                                                                                                                                                                                                                                                                                                                                                                                                                                                                                                                                                                                                                                                                                                                                                                                                                                                                                                                                                                                                                                                                                                                                                                                                                                                                                                                                                                                                                                                                                                                                                                                                                                                                                                                                                                                                                                                                                                                                                                                                                                                                                                                                            \n",
       "130019  \"\\n File:CarlsburgBeer.JPG listed for deletion \\nA file that you uploaded or altered, File:CarlsburgBeer.JPG, has been listed at Wikipedia:Files for deletion. Please see the discussion to see why it has been listed (you may have to search for the title of the image to find its entry). Feel free to add your opinion on the matter below the nomination. Thank you.   hi! \"                                                                                                                                                                                                                                                                                                                                                                                                                                                                                                                                                                                                                                                                                                                                                                                                                                                                                                                                                                                                                                                                                                                                                                                                                                                                                                                                                                                                                                                                                                                                                                                                                                                                                                                                                                                                                                                                                                                                                                                                                                                                                                                                                                                                                                                                                                                                                                                                                                                                                                                                                                                                                                                                                                                                                                                               \n",
       "77359   \"\\n\\nPS: “Blackpearl14\"\" Do you, your friends and family or any contributors, editors, administrators or Mr. Wales or their friends and family own stock within the Walt Disney Company?  The Walt Disney Company page is not neutral, it is a series of promotional pages including links to products and causes of the Walt Disney Company.   Many of the other statements on the Walt Disney Company page don’t follow your so-called neutral definition.  Following your own claim of “neutral”, the entire page would have to be deleted per your own standards.  Furthermore, the lawsuit sentence that was placed on it, was exactly as the other statements of “criticism” within the Walt Disney Company page, yet you claim it’s not neutral.   Clearly you enforce double standards and don’t adhere to wikipedia’s own written polices.  \\nCriticism\\nDisney has on several occasions prompted action from religious groups such as the Catholic League, due to purported insensitive broadcasting, and the release of films, which the league and others found offensive. Disney has faced boycotts from Baptist groups, \"\"Assemblies of God\"\", and Catholic groups in the past. (boycott 1;boycott 2;boycott 3)  \\nThe worldwide commercial success of the Disney brand is viewed by some as detrimental to cultural diversity (see Disneyfication).\\nDisney is one among several American companies lobbying for more stringent enforcement of intellectual property around the world and continued copyright term extensions, posing a perceived threat to the existence of the public domain; see Copyright Term Extension Act.\\nDisney has been accused of human rights violations regarding the working conditions in factories that produce their merchandise.http://www.somo.nl/monitoring/reports/hkcic01-02.htmhttp://www.cbc.ca/news/story/2001/06/18/sweatshops_010618.html source\\nDisney has been criticized by animal welfare groups for its import, use and frequent deaths of wild animals at its Animal Kingdom theme parkCaution: Live Animals - TIME as well as for using purebred dogs in movies such as 101 Dalmatians, which these groups claim leads to creating an artificial demand for these purebred dogs many of whom are later abandoned or surrendered to shelters or rescue groups.CNN.com - 'Nemo' fans net fish warning - Jun. 30, 2003\\nDisney has been criticized in the Abaco Islands for their role in a dredging operation on Great Guana Cay that is said to be responsible for a wide array of environmental problems, including widespread death of coral communities. \\nDisney films are also notable for their ongoing lack of cultural understanding when portraying non-white ethnic groups on screen. They have been criticised for their liberal use of stereotyping, in both appearance and dialogue. The 9 Most Racist Disney Characters\\n Independent film maker Royce Mathew sued  www.disneylawsuit.com the Walt Disney Company, Jerry Bruckheimer Inc./films, Ted Elliott and Terry Rossio in Federal Court claiming they plagiarized his supernatural pirate move for the Pirates of the Caribbean movie.\"   \n",
       "\n",
       "        toxic  \n",
       "82442   1      \n",
       "132112  0      \n",
       "30078   1      \n",
       "130901  0      \n",
       "90549   1      \n",
       "130019  0      \n",
       "77359   0      "
      ]
     },
     "execution_count": 5,
     "metadata": {},
     "output_type": "execute_result"
    }
   ],
   "source": [
    "data.sample(7)"
   ]
  },
  {
   "cell_type": "code",
   "execution_count": 6,
   "metadata": {},
   "outputs": [
    {
     "name": "stdout",
     "output_type": "stream",
     "text": [
      "<class 'pandas.core.frame.DataFrame'>\n",
      "RangeIndex: 159571 entries, 0 to 159570\n",
      "Data columns (total 2 columns):\n",
      " #   Column  Non-Null Count   Dtype \n",
      "---  ------  --------------   ----- \n",
      " 0   text    159571 non-null  object\n",
      " 1   toxic   159571 non-null  int64 \n",
      "dtypes: int64(1), object(1)\n",
      "memory usage: 2.4+ MB\n"
     ]
    }
   ],
   "source": [
    "data.info()"
   ]
  },
  {
   "cell_type": "code",
   "execution_count": 7,
   "metadata": {},
   "outputs": [
    {
     "data": {
      "text/plain": [
       "0    143346\n",
       "1    16225 \n",
       "Name: toxic, dtype: int64"
      ]
     },
     "execution_count": 7,
     "metadata": {},
     "output_type": "execute_result"
    }
   ],
   "source": [
    "data['toxic'].value_counts()"
   ]
  },
  {
   "cell_type": "markdown",
   "metadata": {},
   "source": [
    "Обратим внимание на дисбаланс классов в исходной выборке: значений \"1\" в столбце целевого признака составяет чуть больше 10% от общего количества записей. Это необходимо будет учесть при построении моделей."
   ]
  },
  {
   "cell_type": "markdown",
   "metadata": {},
   "source": [
    "#### Прописные буквы"
   ]
  },
  {
   "cell_type": "markdown",
   "metadata": {},
   "source": [
    "Есть предположение, что токсичные комментарии связаны с повышенным эмоциональным состоянием человека, которые он выражает через набор текста прописными буквами для усиления эффекта воздействия. Думается, что человек в спокойном состоянии для нейтрального комментария будет придерживаться правил правписания. Проверим."
   ]
  },
  {
   "cell_type": "code",
   "execution_count": 8,
   "metadata": {},
   "outputs": [
    {
     "data": {
      "text/plain": [
       "27548     FUCK YOU \\n\\nFUCK YOU ASSHOLE                                                                                                                                                                                                                                                                                                                                                                                                                     \n",
       "42557     Jesus Christ, I can't edit anything without stupid pimple faced kids editing my work.                                                                                                                                                                                                                                                                                                                                                             \n",
       "141377    \"\\n Well, when the root problem is a miserable, lowlife scumbag like you? BUNG-HO(LE)?! Eh, I basically just tell you to go fuck yourself. Did you really think a \"\"win\"\" would be that easy, dumbass? Really? Oh no, no, no... I tried it the nice way... But now you're about to learn just what you fucked with. Enjoy! Couldn't happen to a more deserving pile of shit. Hugs, kisses - and get used to my foot in your ass... 69.50.214.99  \"\n",
       "131805    I HAVE NO LIFE, AND IF I DON'T GET TO EVER HAVE SEX THEN I WILL MAKE EVERYONE'S LIFE I CAN AS MISERABLE AS POSSIBLE!                                                                                                                                                                                                                                                                                                                              \n",
       "62480     ON A SIDE NOTE \\n\\nStop being a little cry-baby and grow up. Stop complaining to your administrators behind their computers. I'm sure you're a grown man. Grow up and act like one.                                                                                                                                                                                                                                                               \n",
       "Name: text, dtype: object"
      ]
     },
     "execution_count": 8,
     "metadata": {},
     "output_type": "execute_result"
    }
   ],
   "source": [
    "data.loc[data['toxic'] == 1]['text'].sample(5)"
   ]
  },
  {
   "cell_type": "markdown",
   "metadata": {},
   "source": [
    "Стоит отметить, что нас интересуют не просто прописные буквы в тексте, а идующие подряд, а также их соотношение по отношению к общему слов в тексте. "
   ]
  },
  {
   "cell_type": "code",
   "execution_count": 9,
   "metadata": {},
   "outputs": [],
   "source": [
    "data['length'] = data['text'].apply(lambda x: len(x))"
   ]
  },
  {
   "cell_type": "markdown",
   "metadata": {},
   "source": [
    "Интересно также посмотреть, как отличаются по размеру текстов токсичные и нейтральные комментарии."
   ]
  },
  {
   "cell_type": "code",
   "execution_count": 10,
   "metadata": {},
   "outputs": [
    {
     "data": {
      "image/png": "[encoded data removed]",
      "text/plain": [
       "<Figure size 864x432 with 1 Axes>"
      ]
     },
     "metadata": {
      "needs_background": "light"
     },
     "output_type": "display_data"
    }
   ],
   "source": [
    "data.query('toxic == 1')['length'].plot(kind = 'hist', bins = 30, figsize = (12, 6), alpha = 0.9, density = True)\n",
    "data.query('toxic == 0')['length'].plot(kind = 'hist', bins = 30, grid = True,  alpha = 0.7, density = True)\n",
    "\n",
    "plt.title('Распределение количества текстов в зависимоти от их размеров')\n",
    "plt.xlabel('Количество символов в тексте')\n",
    "plt.ylabel('Количесто текстов, нормализованное')\n",
    "plt.show()"
   ]
  },
  {
   "cell_type": "markdown",
   "metadata": {},
   "source": [
    "По графикам видим, что токсичные и нейтральные тексты особо не отличаются друг от друга. Интересно было посмотреть на распределение количества текстов в зависимости от отношения числа слов, набранных прописными буквами, к общему количеству слов в тексте. Однако, иногда комментарии могут состоять из текстов без пробелов или, наоборот, с большим количеством пробелов, поэтому будет считать не по отношению к общему количеству слов, а по отошению к общему количеству символов в тексте."
   ]
  },
  {
   "cell_type": "code",
   "execution_count": 11,
   "metadata": {},
   "outputs": [],
   "source": [
    "data['caps'] = data['text'].apply(lambda x: len(re.findall(r'[A-Z]{2,}', x))) / data['text'].apply(lambda x: len(x))"
   ]
  },
  {
   "cell_type": "code",
   "execution_count": 12,
   "metadata": {},
   "outputs": [
    {
     "data": {
      "image/png": "[encoded data removed]",
      "text/plain": [
       "<Figure size 864x432 with 1 Axes>"
      ]
     },
     "metadata": {
      "needs_background": "light"
     },
     "output_type": "display_data"
    }
   ],
   "source": [
    "plt.figure(figsize = (12, 6))\n",
    "data.query('toxic == 0 & caps < 1')['caps'].plot(x = 'caps', kind = 'hist', \n",
    "                                                 bins = 30, alpha = 0.6, \n",
    "                                                 color = 'green',  density = True)\n",
    "\n",
    "data.query('toxic == 1 & caps < 1')['caps'].plot(x = 'caps', kind = 'hist', \n",
    "                                                 bins = 30, alpha = 0.5, \n",
    "                                                 color = 'blue', density = True)\n",
    "\n",
    "plt.title('Распределение количества текстов в зависимости от коэффициента \"прописных\" слов')\n",
    "plt.xlabel('Соотношение количества слов, набранных прописными буквами к общему количеству символов в тексте')\n",
    "plt.ylabel('Количесто текстов, нормализованное')\n",
    "\n",
    "plt.ylim(0, 10)\n",
    "plt.grid()\n",
    "plt.show()"
   ]
  },
  {
   "cell_type": "markdown",
   "metadata": {},
   "source": [
    "По графику видно, что ориентировочно до значения коэффициента \"прописных\" слов =0,05 токсичные тексты не отличаются от нейтральных текстов, но далее, с ростом коэффициента (количества \"прописных\" слов) нейтральных текстов становится гораздо меньше токсичных. Причем со значения =0,125 наблюдается существенный рост токсичных текстов. Таким образом, наше предположение подтвердилось, оставим данный коэффициент в качестве нового признака."
   ]
  },
  {
   "cell_type": "markdown",
   "metadata": {},
   "source": [
    "#### Восклицательные знаки"
   ]
  },
  {
   "cell_type": "markdown",
   "metadata": {},
   "source": [
    "Второе предположение является продолжением первого: для усиления своего токсичного комментария пользователь употребляет большое количество восклицательных знаков. Проверим наше предположение."
   ]
  },
  {
   "cell_type": "code",
   "execution_count": 13,
   "metadata": {},
   "outputs": [],
   "source": [
    "data['ex_point'] = data['text'].apply(lambda x: \n",
    "                                      len(re.findall(r'[!]', x))) / data['text'].apply(lambda x: len(x))"
   ]
  },
  {
   "cell_type": "code",
   "execution_count": 14,
   "metadata": {},
   "outputs": [
    {
     "data": {
      "image/png": "[encoded data removed]",
      "text/plain": [
       "<Figure size 864x432 with 1 Axes>"
      ]
     },
     "metadata": {
      "needs_background": "light"
     },
     "output_type": "display_data"
    }
   ],
   "source": [
    "plt.figure(figsize = (12, 6))\n",
    "data.query('toxic == 0')['ex_point'].plot(kind = 'hist', \n",
    "                                                 bins = 30, alpha = 0.6, \n",
    "                                                 color = 'green',  density = True)\n",
    "\n",
    "data.query('toxic == 1')['ex_point'].plot(kind = 'hist', \n",
    "                                                 bins = 30, alpha = 0.5, \n",
    "                                                 color = 'blue', density = True)\n",
    "\n",
    "plt.title('Распределение количества текстов в зависимости от количества восклицательных знаков в тексте')\n",
    "plt.xlabel('Соотношение количества воскицательных знаков к общему количеству символов в тексте')\n",
    "plt.ylabel('Количесто текстов, нормализованное')\n",
    "\n",
    "plt.ylim(0, 1)\n",
    "plt.grid()\n",
    "plt.show()"
   ]
  },
  {
   "cell_type": "markdown",
   "metadata": {},
   "source": [
    "По графику распределения также видим, что у токсичных текстов \"хвост\" с большим количеством восклицательных знаков больше чем у нейтральных текстов. После значения коэффициента =0,2 нейтральных текстов практически не осталось. Наше предположение имеет право на существование, также оставим значения данного коэффициента в качестве нового признака."
   ]
  },
  {
   "cell_type": "markdown",
   "metadata": {},
   "source": [
    "Предположения о большем количестве специальных символов и пробелов, а также использовании более коротких слов в токсичных текстах не нашли подтверждения."
   ]
  },
  {
   "cell_type": "markdown",
   "metadata": {},
   "source": [
    "### Обработка"
   ]
  },
  {
   "cell_type": "markdown",
   "metadata": {},
   "source": [
    "Исключим все лишние символы из текстов."
   ]
  },
  {
   "cell_type": "code",
   "execution_count": 15,
   "metadata": {},
   "outputs": [],
   "source": [
    "data['text'] = data['text'].apply(lambda x: ' '.join(re.sub(r\"\"\"[^a-z'A-Z]\"\"\", ' ', x).split()))"
   ]
  },
  {
   "cell_type": "markdown",
   "metadata": {},
   "source": [
    "#### Лемматизация"
   ]
  },
  {
   "cell_type": "markdown",
   "metadata": {},
   "source": [
    "Лемматизируем тексты "
   ]
  },
  {
   "cell_type": "code",
   "execution_count": 16,
   "metadata": {},
   "outputs": [],
   "source": [
    "tokenizer = nltk.tokenize.wordpunct_tokenize\n",
    "wnl = nltk.WordNetLemmatizer()"
   ]
  },
  {
   "cell_type": "code",
   "execution_count": 17,
   "metadata": {},
   "outputs": [],
   "source": [
    "def func_lemmatize(text):\n",
    "    text = text.lower()\n",
    "    tokens_lemmatized = ' '.join([wnl.lemmatize(token) for token in tokenizer(text)])\n",
    "    return tokens_lemmatized"
   ]
  },
  {
   "cell_type": "code",
   "execution_count": 18,
   "metadata": {},
   "outputs": [
    {
     "name": "stderr",
     "output_type": "stream",
     "text": [
      "100%|██████████| 159571/159571 [00:49<00:00, 3231.44it/s]\n"
     ]
    }
   ],
   "source": [
    "data['text_lemm'] = Parallel(n_jobs=-1)(delayed(func_lemmatize)(item) for item in tqdm(data['text']))"
   ]
  },
  {
   "cell_type": "code",
   "execution_count": 19,
   "metadata": {},
   "outputs": [
    {
     "data": {
      "text/html": [
       "<div>\n",
       "<style scoped>\n",
       "    .dataframe tbody tr th:only-of-type {\n",
       "        vertical-align: middle;\n",
       "    }\n",
       "\n",
       "    .dataframe tbody tr th {\n",
       "        vertical-align: top;\n",
       "    }\n",
       "\n",
       "    .dataframe thead th {\n",
       "        text-align: right;\n",
       "    }\n",
       "</style>\n",
       "<table border=\"1\" class=\"dataframe\">\n",
       "  <thead>\n",
       "    <tr style=\"text-align: right;\">\n",
       "      <th></th>\n",
       "      <th>text</th>\n",
       "      <th>toxic</th>\n",
       "      <th>length</th>\n",
       "      <th>caps</th>\n",
       "      <th>ex_point</th>\n",
       "      <th>text_lemm</th>\n",
       "    </tr>\n",
       "  </thead>\n",
       "  <tbody>\n",
       "    <tr>\n",
       "      <th>18671</th>\n",
       "      <td>Notability of James Cunningham developer A tag has been placed on James Cunningham developer requesting that it be speedily deleted from Wikipedia This has been done because the article appears to be about a person group of people band club company or web content but it does not indicate how or why the subject is notable that is why an article about that subject should be included in an encyclopedia Under the criteria for speedy deletion articles that do not assert the subject's importance or significance may be deleted at any time Please see the guidelines for what is generally accepted as notable If you think that you can assert the notability of the subject you may contest the deletion by adding to the top of the page just below the existing speedy deletion or db tag coupled with adding a note on the article's talk page explaining your position but be aware that once tagged for speedy deletion if the article meets the criterion it may be deleted without delay Please do not remove the speedy deletion tag yourself but don't hesitate to add information to the article that would confirm the subject's notability under Wikipedia guidelines For guidelines on specific types of articles you may want to check out our criteria for biographies for web sites for bands or for companies Feel free to leave a note on my talk page if you have any questions about this</td>\n",
       "      <td>0</td>\n",
       "      <td>1419</td>\n",
       "      <td>0.0</td>\n",
       "      <td>0.000000</td>\n",
       "      <td>notability of james cunningham developer a tag ha been placed on james cunningham developer requesting that it be speedily deleted from wikipedia this ha been done because the article appears to be about a person group of people band club company or web content but it doe not indicate how or why the subject is notable that is why an article about that subject should be included in an encyclopedia under the criterion for speedy deletion article that do not assert the subject ' s importance or significance may be deleted at any time please see the guideline for what is generally accepted a notable if you think that you can assert the notability of the subject you may contest the deletion by adding to the top of the page just below the existing speedy deletion or db tag coupled with adding a note on the article ' s talk page explaining your position but be aware that once tagged for speedy deletion if the article meet the criterion it may be deleted without delay please do not remove the speedy deletion tag yourself but don ' t hesitate to add information to the article that would confirm the subject ' s notability under wikipedia guideline for guideline on specific type of article you may want to check out our criterion for biography for web site for band or for company feel free to leave a note on my talk page if you have any question about this</td>\n",
       "    </tr>\n",
       "    <tr>\n",
       "      <th>46012</th>\n",
       "      <td>The Tireless Contributor Barnstar I hereby award you this barnstar for your tireless invaluable work here Keep up the good work Regards nd</td>\n",
       "      <td>0</td>\n",
       "      <td>149</td>\n",
       "      <td>0.0</td>\n",
       "      <td>0.006711</td>\n",
       "      <td>the tireless contributor barnstar i hereby award you this barnstar for your tireless invaluable work here keep up the good work regard nd</td>\n",
       "    </tr>\n",
       "    <tr>\n",
       "      <th>124674</th>\n",
       "      <td>I was talking to you</td>\n",
       "      <td>0</td>\n",
       "      <td>21</td>\n",
       "      <td>0.0</td>\n",
       "      <td>0.000000</td>\n",
       "      <td>i wa talking to you</td>\n",
       "    </tr>\n",
       "  </tbody>\n",
       "</table>\n",
       "</div>"
      ],
      "text/plain": [
       "                                                                                                                                                                                                                                                                                                                                                                                                                                                                                                                                                                                                                                                                                                                                                                                                                                                                                                                                                                                                                                                                                                                                                                                                                                                                                                                                                                                                                                  text  \\\n",
       "18671   Notability of James Cunningham developer A tag has been placed on James Cunningham developer requesting that it be speedily deleted from Wikipedia This has been done because the article appears to be about a person group of people band club company or web content but it does not indicate how or why the subject is notable that is why an article about that subject should be included in an encyclopedia Under the criteria for speedy deletion articles that do not assert the subject's importance or significance may be deleted at any time Please see the guidelines for what is generally accepted as notable If you think that you can assert the notability of the subject you may contest the deletion by adding to the top of the page just below the existing speedy deletion or db tag coupled with adding a note on the article's talk page explaining your position but be aware that once tagged for speedy deletion if the article meets the criterion it may be deleted without delay Please do not remove the speedy deletion tag yourself but don't hesitate to add information to the article that would confirm the subject's notability under Wikipedia guidelines For guidelines on specific types of articles you may want to check out our criteria for biographies for web sites for bands or for companies Feel free to leave a note on my talk page if you have any questions about this   \n",
       "46012   The Tireless Contributor Barnstar I hereby award you this barnstar for your tireless invaluable work here Keep up the good work Regards nd                                                                                                                                                                                                                                                                                                                                                                                                                                                                                                                                                                                                                                                                                                                                                                                                                                                                                                                                                                                                                                                                                                                                                                                                                                                                                       \n",
       "124674  I was talking to you                                                                                                                                                                                                                                                                                                                                                                                                                                                                                                                                                                                                                                                                                                                                                                                                                                                                                                                                                                                                                                                                                                                                                                                                                                                                                                                                                                                                             \n",
       "\n",
       "        toxic  length  caps  ex_point  \\\n",
       "18671   0      1419    0.0   0.000000   \n",
       "46012   0      149     0.0   0.006711   \n",
       "124674  0      21      0.0   0.000000   \n",
       "\n",
       "                                                                                                                                                                                                                                                                                                                                                                                                                                                                                                                                                                                                                                                                                                                                                                                                                                                                                                                                                                                                                                                                                                                                                                                                                                                                                                                                                                                                                     text_lemm  \n",
       "18671   notability of james cunningham developer a tag ha been placed on james cunningham developer requesting that it be speedily deleted from wikipedia this ha been done because the article appears to be about a person group of people band club company or web content but it doe not indicate how or why the subject is notable that is why an article about that subject should be included in an encyclopedia under the criterion for speedy deletion article that do not assert the subject ' s importance or significance may be deleted at any time please see the guideline for what is generally accepted a notable if you think that you can assert the notability of the subject you may contest the deletion by adding to the top of the page just below the existing speedy deletion or db tag coupled with adding a note on the article ' s talk page explaining your position but be aware that once tagged for speedy deletion if the article meet the criterion it may be deleted without delay please do not remove the speedy deletion tag yourself but don ' t hesitate to add information to the article that would confirm the subject ' s notability under wikipedia guideline for guideline on specific type of article you may want to check out our criterion for biography for web site for band or for company feel free to leave a note on my talk page if you have any question about this  \n",
       "46012   the tireless contributor barnstar i hereby award you this barnstar for your tireless invaluable work here keep up the good work regard nd                                                                                                                                                                                                                                                                                                                                                                                                                                                                                                                                                                                                                                                                                                                                                                                                                                                                                                                                                                                                                                                                                                                                                                                                                                                                               \n",
       "124674  i wa talking to you                                                                                                                                                                                                                                                                                                                                                                                                                                                                                                                                                                                                                                                                                                                                                                                                                                                                                                                                                                                                                                                                                                                                                                                                                                                                                                                                                                                                     "
      ]
     },
     "execution_count": 19,
     "metadata": {},
     "output_type": "execute_result"
    }
   ],
   "source": [
    "data.sample(3)"
   ]
  },
  {
   "cell_type": "markdown",
   "metadata": {},
   "source": [
    "Преобразование в леммы прошло не идеально, остались некоторые слова, для которых не была возвращена исходная форма, к примеру, слова \"making\", \"happening\", \"deleted\". Оставим пока так."
   ]
  },
  {
   "cell_type": "markdown",
   "metadata": {},
   "source": [
    "#### Масштабирование"
   ]
  },
  {
   "cell_type": "markdown",
   "metadata": {},
   "source": [
    "Проведем масштабирование численных признаков, предварительно разбив исходную выборку на тренировочную и тестовую."
   ]
  },
  {
   "cell_type": "code",
   "execution_count": 20,
   "metadata": {},
   "outputs": [
    {
     "data": {
      "text/html": [
       "<div>\n",
       "<style scoped>\n",
       "    .dataframe tbody tr th:only-of-type {\n",
       "        vertical-align: middle;\n",
       "    }\n",
       "\n",
       "    .dataframe tbody tr th {\n",
       "        vertical-align: top;\n",
       "    }\n",
       "\n",
       "    .dataframe thead th {\n",
       "        text-align: right;\n",
       "    }\n",
       "</style>\n",
       "<table border=\"1\" class=\"dataframe\">\n",
       "  <thead>\n",
       "    <tr style=\"text-align: right;\">\n",
       "      <th></th>\n",
       "      <th>text</th>\n",
       "      <th>toxic</th>\n",
       "      <th>length</th>\n",
       "      <th>caps</th>\n",
       "      <th>ex_point</th>\n",
       "      <th>text_lemm</th>\n",
       "    </tr>\n",
       "  </thead>\n",
       "  <tbody>\n",
       "    <tr>\n",
       "      <th>0</th>\n",
       "      <td>Explanation Why the edits made under my username Hardcore Metallica Fan were reverted They weren't vandalisms just closure on some GAs after I voted at New York Dolls FAC And please don't remove the template from the talk page since I'm retired now</td>\n",
       "      <td>0</td>\n",
       "      <td>264</td>\n",
       "      <td>0.007576</td>\n",
       "      <td>0.000000</td>\n",
       "      <td>explanation why the edits made under my username hardcore metallica fan were reverted they weren ' t vandalism just closure on some gas after i voted at new york doll fac and please don ' t remove the template from the talk page since i ' m retired now</td>\n",
       "    </tr>\n",
       "    <tr>\n",
       "      <th>1</th>\n",
       "      <td>D'aww He matches this background colour I'm seemingly stuck with Thanks talk January UTC</td>\n",
       "      <td>0</td>\n",
       "      <td>112</td>\n",
       "      <td>0.008929</td>\n",
       "      <td>0.008929</td>\n",
       "      <td>d ' aww he match this background colour i ' m seemingly stuck with thanks talk january utc</td>\n",
       "    </tr>\n",
       "    <tr>\n",
       "      <th>2</th>\n",
       "      <td>Hey man I'm really not trying to edit war It's just that this guy is constantly removing relevant information and talking to me through edits instead of my talk page He seems to care more about the formatting than the actual info</td>\n",
       "      <td>0</td>\n",
       "      <td>233</td>\n",
       "      <td>0.000000</td>\n",
       "      <td>0.000000</td>\n",
       "      <td>hey man i ' m really not trying to edit war it ' s just that this guy is constantly removing relevant information and talking to me through edits instead of my talk page he seems to care more about the formatting than the actual info</td>\n",
       "    </tr>\n",
       "    <tr>\n",
       "      <th>3</th>\n",
       "      <td>More I can't make any real suggestions on improvement I wondered if the section statistics should be later on or a subsection of types of accidents I think the references may need tidying so that they are all in the exact same format ie date format etc I can do that later on if no one else does first if you have any preferences for formatting style on references or want to do it yourself please let me know There appears to be a backlog on articles for review so I guess there may be a delay until a reviewer turns up It's listed in the relevant form eg Wikipedia Good article nominations Transport</td>\n",
       "      <td>0</td>\n",
       "      <td>622</td>\n",
       "      <td>0.000000</td>\n",
       "      <td>0.000000</td>\n",
       "      <td>more i can ' t make any real suggestion on improvement i wondered if the section statistic should be later on or a subsection of type of accident i think the reference may need tidying so that they are all in the exact same format ie date format etc i can do that later on if no one else doe first if you have any preference for formatting style on reference or want to do it yourself please let me know there appears to be a backlog on article for review so i guess there may be a delay until a reviewer turn up it ' s listed in the relevant form eg wikipedia good article nomination transport</td>\n",
       "    </tr>\n",
       "    <tr>\n",
       "      <th>4</th>\n",
       "      <td>You sir are my hero Any chance you remember what page that's on</td>\n",
       "      <td>0</td>\n",
       "      <td>67</td>\n",
       "      <td>0.000000</td>\n",
       "      <td>0.000000</td>\n",
       "      <td>you sir are my hero any chance you remember what page that ' s on</td>\n",
       "    </tr>\n",
       "  </tbody>\n",
       "</table>\n",
       "</div>"
      ],
      "text/plain": [
       "                                                                                                                                                                                                                                                                                                                                                                                                                                                                                                                                                                                                                        text  \\\n",
       "0  Explanation Why the edits made under my username Hardcore Metallica Fan were reverted They weren't vandalisms just closure on some GAs after I voted at New York Dolls FAC And please don't remove the template from the talk page since I'm retired now                                                                                                                                                                                                                                                                                                                                                                    \n",
       "1  D'aww He matches this background colour I'm seemingly stuck with Thanks talk January UTC                                                                                                                                                                                                                                                                                                                                                                                                                                                                                                                                    \n",
       "2  Hey man I'm really not trying to edit war It's just that this guy is constantly removing relevant information and talking to me through edits instead of my talk page He seems to care more about the formatting than the actual info                                                                                                                                                                                                                                                                                                                                                                                       \n",
       "3  More I can't make any real suggestions on improvement I wondered if the section statistics should be later on or a subsection of types of accidents I think the references may need tidying so that they are all in the exact same format ie date format etc I can do that later on if no one else does first if you have any preferences for formatting style on references or want to do it yourself please let me know There appears to be a backlog on articles for review so I guess there may be a delay until a reviewer turns up It's listed in the relevant form eg Wikipedia Good article nominations Transport   \n",
       "4  You sir are my hero Any chance you remember what page that's on                                                                                                                                                                                                                                                                                                                                                                                                                                                                                                                                                             \n",
       "\n",
       "   toxic  length      caps  ex_point  \\\n",
       "0  0      264     0.007576  0.000000   \n",
       "1  0      112     0.008929  0.008929   \n",
       "2  0      233     0.000000  0.000000   \n",
       "3  0      622     0.000000  0.000000   \n",
       "4  0      67      0.000000  0.000000   \n",
       "\n",
       "                                                                                                                                                                                                                                                                                                                                                                                                                                                                                                                                                                                                            text_lemm  \n",
       "0  explanation why the edits made under my username hardcore metallica fan were reverted they weren ' t vandalism just closure on some gas after i voted at new york doll fac and please don ' t remove the template from the talk page since i ' m retired now                                                                                                                                                                                                                                                                                                                                                        \n",
       "1  d ' aww he match this background colour i ' m seemingly stuck with thanks talk january utc                                                                                                                                                                                                                                                                                                                                                                                                                                                                                                                          \n",
       "2  hey man i ' m really not trying to edit war it ' s just that this guy is constantly removing relevant information and talking to me through edits instead of my talk page he seems to care more about the formatting than the actual info                                                                                                                                                                                                                                                                                                                                                                           \n",
       "3  more i can ' t make any real suggestion on improvement i wondered if the section statistic should be later on or a subsection of type of accident i think the reference may need tidying so that they are all in the exact same format ie date format etc i can do that later on if no one else doe first if you have any preference for formatting style on reference or want to do it yourself please let me know there appears to be a backlog on article for review so i guess there may be a delay until a reviewer turn up it ' s listed in the relevant form eg wikipedia good article nomination transport  \n",
       "4  you sir are my hero any chance you remember what page that ' s on                                                                                                                                                                                                                                                                                                                                                                                                                                                                                                                                                   "
      ]
     },
     "execution_count": 20,
     "metadata": {},
     "output_type": "execute_result"
    }
   ],
   "source": [
    "data.head()"
   ]
  },
  {
   "cell_type": "code",
   "execution_count": 21,
   "metadata": {},
   "outputs": [],
   "source": [
    "features_train_0, features_test_0, target_train, target_test = train_test_split(data.drop(['toxic', \n",
    "                                'length', 'text'], axis =1), data['toxic'], test_size = 0.3, \n",
    "                                            random_state = 12345, stratify = data['toxic'])"
   ]
  },
  {
   "cell_type": "code",
   "execution_count": 22,
   "metadata": {},
   "outputs": [],
   "source": [
    "scaler = StandardScaler()"
   ]
  },
  {
   "cell_type": "code",
   "execution_count": 23,
   "metadata": {},
   "outputs": [],
   "source": [
    "scaler.fit(features_train_0[['caps', 'ex_point']])\n",
    "features_train_0[['caps', 'ex_point']] = scaler.transform(features_train_0[['caps', 'ex_point']])"
   ]
  },
  {
   "cell_type": "code",
   "execution_count": 24,
   "metadata": {},
   "outputs": [],
   "source": [
    "scaler.fit(features_test_0[['caps', 'ex_point']])\n",
    "features_test_0[['caps', 'ex_point']] = scaler.transform(features_test_0[['caps', 'ex_point']])"
   ]
  },
  {
   "cell_type": "markdown",
   "metadata": {},
   "source": [
    "#### TF-IDF"
   ]
  },
  {
   "cell_type": "markdown",
   "metadata": {},
   "source": [
    "Включим в наши выборки признак на основе оценки важности слов tf-idf"
   ]
  },
  {
   "cell_type": "code",
   "execution_count": 25,
   "metadata": {},
   "outputs": [],
   "source": [
    "def func_tfidf(x_train, x_test):\n",
    "    stop_words = set(stopwords.words('english'))\n",
    "    count_tfidf = TfidfVectorizer(stop_words = stop_words)\n",
    "    \n",
    "    tf_idf_train = count_tfidf.fit_transform(x_train['text_lemm'])\n",
    "    tf_idf_test = count_tfidf.transform(x_test['text_lemm'])\n",
    "    \n",
    "    features_train = sp.sparse.hstack((tf_idf_train, x_train[['caps', 'ex_point']]))\n",
    "    features_test = sp.sparse.hstack((tf_idf_test, x_test[['caps', 'ex_point']]))\n",
    "    \n",
    "    return (features_train, features_test)"
   ]
  },
  {
   "cell_type": "code",
   "execution_count": 26,
   "metadata": {},
   "outputs": [],
   "source": [
    "features_train, features_test = func_tfidf(features_train_0, features_test_0)"
   ]
  },
  {
   "cell_type": "code",
   "execution_count": 27,
   "metadata": {},
   "outputs": [
    {
     "data": {
      "text/plain": [
       "(47872, 127855)"
      ]
     },
     "execution_count": 27,
     "metadata": {},
     "output_type": "execute_result"
    }
   ],
   "source": [
    "features_test.shape"
   ]
  },
  {
   "cell_type": "markdown",
   "metadata": {},
   "source": [
    "### Вывод"
   ]
  },
  {
   "cell_type": "markdown",
   "metadata": {},
   "source": [
    "В результате анализа данных были выявлены некоторые закономерности, которы позволили создать новые признаки для будущих моделей. Такими признаками оказались зависимости целевого признака от наличия в тексте комментария прописных букв и от наличия в тексте восклицательных знаков. Признаки были добавлены в общую талицу признаков.\n",
    "\n",
    "Помимо этого, на данном этапе была проведена лемматизация текстов, удалены лишние символы и стоп-слова. Тексты были преобразованы в матрицу со значениями оценки важности слов в текстах TF-IDF. "
   ]
  },
  {
   "cell_type": "markdown",
   "metadata": {},
   "source": [
    "## Обучение"
   ]
  },
  {
   "cell_type": "markdown",
   "metadata": {},
   "source": [
    "Создадим функцию для подбора параметров разрабатываемых моделей."
   ]
  },
  {
   "cell_type": "code",
   "execution_count": 28,
   "metadata": {},
   "outputs": [],
   "source": [
    "def hyperopt_score(params, x_train, y_train, type_model):\n",
    "    model = type_model(**params, random_state = 12345)\n",
    "    current_score = cross_val_score(model, x_train, y_train, scoring = 'f1', cv = 3).mean()\n",
    "    \n",
    "    return {'loss': -current_score, 'params': params, 'status': STATUS_OK}"
   ]
  },
  {
   "cell_type": "markdown",
   "metadata": {},
   "source": [
    "Создадим функцию для тестирования полученных моделей на тестовой выборке"
   ]
  },
  {
   "cell_type": "code",
   "execution_count": 29,
   "metadata": {},
   "outputs": [],
   "source": [
    "def test_func_model(hyper_param, type_model, \n",
    "                    x_train = features_train, y_train = target_train, \n",
    "                    x_test = features_test, y_test = target_test):\n",
    "    \n",
    "    model = type_model(**hyper_param, random_state = 12345)\n",
    "    model.fit(x_train, y_train)\n",
    "    predicted = model.predict(x_test)\n",
    "    \n",
    "    return f1_score(y_test, predicted) "
   ]
  },
  {
   "cell_type": "code",
   "execution_count": 30,
   "metadata": {},
   "outputs": [],
   "source": [
    "model_metric = pd.DataFrame(index = ['f1_train', 'f1_test'], columns = ['Tree'])"
   ]
  },
  {
   "cell_type": "markdown",
   "metadata": {},
   "source": [
    "### DecisionTreeClassifier"
   ]
  },
  {
   "cell_type": "markdown",
   "metadata": {},
   "source": [
    "Начнем поиск с простых моделей. Определим пространство гиперпараметров для классификатора Дерево решений, куда включим параметр class_weight для сбаланисрования классов."
   ]
  },
  {
   "cell_type": "code",
   "execution_count": 31,
   "metadata": {},
   "outputs": [],
   "source": [
    "space = {'max_depth': hp.choice('max_depth', range(1,20)),\n",
    "        'class_weight' : 'balanced'}"
   ]
  },
  {
   "cell_type": "code",
   "execution_count": 32,
   "metadata": {},
   "outputs": [
    {
     "name": "stdout",
     "output_type": "stream",
     "text": [
      "100%|██████████| 10/10 [11:13<00:00, 67.39s/trial, best loss: -0.5955198236774559]\n"
     ]
    }
   ],
   "source": [
    "trials = Trials()\n",
    "best = fmin(fn = partial(hyperopt_score, \n",
    "                         x_train = features_train, y_train = target_train, \n",
    "                         type_model = DecisionTreeClassifier), \n",
    "                                                     space = space, algo = tpe.suggest, \n",
    "                                                     max_evals = 10, trials = trials)"
   ]
  },
  {
   "cell_type": "code",
   "execution_count": 33,
   "metadata": {},
   "outputs": [
    {
     "data": {
      "text/plain": [
       "{'max_depth': 17}"
      ]
     },
     "execution_count": 33,
     "metadata": {},
     "output_type": "execute_result"
    }
   ],
   "source": [
    "model_metric.loc['f1_train', 'Tree'] = round(-trials.results[np.argmin([r['loss'] for r in trials.results])]['loss'], 2)\n",
    "\n",
    "hyper_param = {'max_depth' : trials.results[np.argmin([r['loss'] for r in trials.results])]['params']['max_depth']}\n",
    "hyper_param"
   ]
  },
  {
   "cell_type": "markdown",
   "metadata": {},
   "source": [
    "Проверим модель на тестовых данных"
   ]
  },
  {
   "cell_type": "code",
   "execution_count": 34,
   "metadata": {},
   "outputs": [
    {
     "data": {
      "text/html": [
       "<div>\n",
       "<style scoped>\n",
       "    .dataframe tbody tr th:only-of-type {\n",
       "        vertical-align: middle;\n",
       "    }\n",
       "\n",
       "    .dataframe tbody tr th {\n",
       "        vertical-align: top;\n",
       "    }\n",
       "\n",
       "    .dataframe thead th {\n",
       "        text-align: right;\n",
       "    }\n",
       "</style>\n",
       "<table border=\"1\" class=\"dataframe\">\n",
       "  <thead>\n",
       "    <tr style=\"text-align: right;\">\n",
       "      <th></th>\n",
       "      <th>Tree</th>\n",
       "    </tr>\n",
       "  </thead>\n",
       "  <tbody>\n",
       "    <tr>\n",
       "      <th>f1_train</th>\n",
       "      <td>0.6</td>\n",
       "    </tr>\n",
       "    <tr>\n",
       "      <th>f1_test</th>\n",
       "      <td>0.63</td>\n",
       "    </tr>\n",
       "  </tbody>\n",
       "</table>\n",
       "</div>"
      ],
      "text/plain": [
       "          Tree\n",
       "f1_train  0.6 \n",
       "f1_test   0.63"
      ]
     },
     "execution_count": 34,
     "metadata": {},
     "output_type": "execute_result"
    }
   ],
   "source": [
    "model_metric.loc['f1_test', 'Tree'] = round(test_func_model(hyper_param, DecisionTreeClassifier), 2)\n",
    "model_metric"
   ]
  },
  {
   "cell_type": "markdown",
   "metadata": {},
   "source": [
    "Для модели DecisionTreeClassifier повышение веса у более редкого класса с помощью гиперпараметра class_weight позволило увеличить значение метрики $f1_{score}$ на 0,2 пункта, но этого все равно недостаточно. При требуемом значениии $f1_{score} > 0,75$, у нас на тестовой выборке получилось $f1_{score} = 0,62$. Этого недостаточно. Попробуем модель логистической регресии."
   ]
  },
  {
   "cell_type": "markdown",
   "metadata": {},
   "source": [
    "### LogisticRegression"
   ]
  },
  {
   "cell_type": "markdown",
   "metadata": {},
   "source": [
    "Построим модель логистической регресии"
   ]
  },
  {
   "cell_type": "code",
   "execution_count": 35,
   "metadata": {},
   "outputs": [],
   "source": [
    "model = LogisticRegression(random_state = 12345, solver = 'liblinear')"
   ]
  },
  {
   "cell_type": "code",
   "execution_count": 36,
   "metadata": {},
   "outputs": [],
   "source": [
    "model_metric.loc['f1_train', 'LR'] = round(cross_val_score(model, features_train, target_train, \n",
    "                                                         scoring = 'f1', cv = 3).mean(), 2)"
   ]
  },
  {
   "cell_type": "markdown",
   "metadata": {},
   "source": [
    "Проверим модель на тестовых данных"
   ]
  },
  {
   "cell_type": "code",
   "execution_count": 37,
   "metadata": {},
   "outputs": [
    {
     "data": {
      "text/html": [
       "<div>\n",
       "<style scoped>\n",
       "    .dataframe tbody tr th:only-of-type {\n",
       "        vertical-align: middle;\n",
       "    }\n",
       "\n",
       "    .dataframe tbody tr th {\n",
       "        vertical-align: top;\n",
       "    }\n",
       "\n",
       "    .dataframe thead th {\n",
       "        text-align: right;\n",
       "    }\n",
       "</style>\n",
       "<table border=\"1\" class=\"dataframe\">\n",
       "  <thead>\n",
       "    <tr style=\"text-align: right;\">\n",
       "      <th></th>\n",
       "      <th>Tree</th>\n",
       "      <th>LR</th>\n",
       "    </tr>\n",
       "  </thead>\n",
       "  <tbody>\n",
       "    <tr>\n",
       "      <th>f1_train</th>\n",
       "      <td>0.6</td>\n",
       "      <td>0.70</td>\n",
       "    </tr>\n",
       "    <tr>\n",
       "      <th>f1_test</th>\n",
       "      <td>0.63</td>\n",
       "      <td>0.73</td>\n",
       "    </tr>\n",
       "  </tbody>\n",
       "</table>\n",
       "</div>"
      ],
      "text/plain": [
       "          Tree    LR\n",
       "f1_train  0.6   0.70\n",
       "f1_test   0.63  0.73"
      ]
     },
     "execution_count": 37,
     "metadata": {},
     "output_type": "execute_result"
    }
   ],
   "source": [
    "hyper_param = {'solver' : 'liblinear'}\n",
    "model_metric.loc['f1_test', 'LR'] = round(test_func_model(hyper_param, LogisticRegression), 2)\n",
    "model_metric"
   ]
  },
  {
   "cell_type": "markdown",
   "metadata": {},
   "source": [
    "Модель логистической регрессии показала себя значительно лучше: $f1_{score} = 0,73$ на тестовых данных, что совсем немного не дотягивает до требуемого значения. Попробуем улучшить тренировочную выборку с помощью другого метода устранения дисбаланса классов, увеличив количество строк класса =1."
   ]
  },
  {
   "cell_type": "markdown",
   "metadata": {},
   "source": [
    "#### Увеличение выборки"
   ]
  },
  {
   "cell_type": "markdown",
   "metadata": {},
   "source": [
    "Как ранее было отмечено, в выборке присутствует дисбаланс классов."
   ]
  },
  {
   "cell_type": "code",
   "execution_count": 38,
   "metadata": {},
   "outputs": [
    {
     "data": {
      "text/plain": [
       "0    100342\n",
       "1    11357 \n",
       "Name: toxic, dtype: int64"
      ]
     },
     "execution_count": 38,
     "metadata": {},
     "output_type": "execute_result"
    }
   ],
   "source": [
    "target_train.value_counts()"
   ]
  },
  {
   "cell_type": "markdown",
   "metadata": {},
   "source": [
    "Увеличим количество записей с ответом \"1\" и посмотрим, как это повлияет на модель. "
   ]
  },
  {
   "cell_type": "code",
   "execution_count": 39,
   "metadata": {},
   "outputs": [],
   "source": [
    "target_train_zero = target_train[target_train == 0]\n",
    "target_train_one = target_train[target_train == 1]"
   ]
  },
  {
   "cell_type": "code",
   "execution_count": 40,
   "metadata": {},
   "outputs": [],
   "source": [
    "features_train_zero = features_train_0.loc[target_train_zero.index]\n",
    "features_train_one = features_train_0.loc[target_train_one.index]"
   ]
  },
  {
   "cell_type": "code",
   "execution_count": 41,
   "metadata": {},
   "outputs": [],
   "source": [
    "features_train_up = pd.concat([features_train_zero] + [features_train_one] * 2)\n",
    "target_train_up = pd.concat([target_train_zero] + [target_train_one] * 2)\n",
    "\n",
    "features_train_up = shuffle(features_train_up, random_state = 12345)\n",
    "target_train_up = shuffle(target_train_up, random_state = 12345)"
   ]
  },
  {
   "cell_type": "code",
   "execution_count": 42,
   "metadata": {},
   "outputs": [
    {
     "data": {
      "text/plain": [
       "(123056, 3)"
      ]
     },
     "execution_count": 42,
     "metadata": {},
     "output_type": "execute_result"
    }
   ],
   "source": [
    "features_train_up.shape"
   ]
  },
  {
   "cell_type": "code",
   "execution_count": 43,
   "metadata": {},
   "outputs": [],
   "source": [
    "features_train_up, features_test_up = func_tfidf(features_train_up, features_test_0)"
   ]
  },
  {
   "cell_type": "markdown",
   "metadata": {},
   "source": [
    "**LogisticRegression**"
   ]
  },
  {
   "cell_type": "markdown",
   "metadata": {},
   "source": [
    "Проверим обновленную тренировочную выборку на модели LogisticRegression"
   ]
  },
  {
   "cell_type": "code",
   "execution_count": 44,
   "metadata": {},
   "outputs": [],
   "source": [
    "model = LogisticRegression(random_state = 12345, solver = 'liblinear')"
   ]
  },
  {
   "cell_type": "code",
   "execution_count": 45,
   "metadata": {},
   "outputs": [],
   "source": [
    "model_metric.loc['f1_train', 'LR_up'] = round(cross_val_score(model, features_train_up, target_train_up, \n",
    "                                                         scoring = 'f1', cv = 3).mean(), 2)"
   ]
  },
  {
   "cell_type": "markdown",
   "metadata": {},
   "source": [
    "Проверим модель на тестовых данных"
   ]
  },
  {
   "cell_type": "code",
   "execution_count": 46,
   "metadata": {},
   "outputs": [
    {
     "data": {
      "text/html": [
       "<div>\n",
       "<style scoped>\n",
       "    .dataframe tbody tr th:only-of-type {\n",
       "        vertical-align: middle;\n",
       "    }\n",
       "\n",
       "    .dataframe tbody tr th {\n",
       "        vertical-align: top;\n",
       "    }\n",
       "\n",
       "    .dataframe thead th {\n",
       "        text-align: right;\n",
       "    }\n",
       "</style>\n",
       "<table border=\"1\" class=\"dataframe\">\n",
       "  <thead>\n",
       "    <tr style=\"text-align: right;\">\n",
       "      <th></th>\n",
       "      <th>Tree</th>\n",
       "      <th>LR</th>\n",
       "      <th>LR_up</th>\n",
       "    </tr>\n",
       "  </thead>\n",
       "  <tbody>\n",
       "    <tr>\n",
       "      <th>f1_train</th>\n",
       "      <td>0.6</td>\n",
       "      <td>0.70</td>\n",
       "      <td>0.80</td>\n",
       "    </tr>\n",
       "    <tr>\n",
       "      <th>f1_test</th>\n",
       "      <td>0.63</td>\n",
       "      <td>0.73</td>\n",
       "      <td>0.78</td>\n",
       "    </tr>\n",
       "  </tbody>\n",
       "</table>\n",
       "</div>"
      ],
      "text/plain": [
       "          Tree    LR  LR_up\n",
       "f1_train  0.6   0.70  0.80 \n",
       "f1_test   0.63  0.73  0.78 "
      ]
     },
     "execution_count": 46,
     "metadata": {},
     "output_type": "execute_result"
    }
   ],
   "source": [
    "hyper_param = {'solver' : 'liblinear'}\n",
    "model_metric.loc['f1_test', 'LR_up'] = round(test_func_model(hyper_param, \n",
    "                                                             LogisticRegression, \n",
    "                                                             features_train_up, target_train_up, features_test_up), 2)\n",
    "model_metric"
   ]
  },
  {
   "cell_type": "markdown",
   "metadata": {},
   "source": [
    "С помощью модели логистической регрессии и увеличенной значениями класа =1 тренировочной выборки удалось получить на тестовой выборке удовлетворительный результат $f1_{score}=0,78$. Посмотим, что покажет DecisionTreeClassifier"
   ]
  },
  {
   "cell_type": "markdown",
   "metadata": {},
   "source": [
    "**DecisionTree**"
   ]
  },
  {
   "cell_type": "code",
   "execution_count": 47,
   "metadata": {},
   "outputs": [
    {
     "name": "stdout",
     "output_type": "stream",
     "text": [
      "100%|██████████| 10/10 [09:40<00:00, 58.03s/trial, best loss: -0.6825631167168913]\n"
     ]
    }
   ],
   "source": [
    "space = {'max_depth': hp.choice('max_depth', range(1,20))}\n",
    "\n",
    "trials = Trials()\n",
    "best = fmin(fn = partial(hyperopt_score, \n",
    "                         x_train = features_train_up, y_train = target_train_up, \n",
    "                         type_model = DecisionTreeClassifier), \n",
    "                                                     space = space, algo = tpe.suggest, \n",
    "                                                     max_evals = 10, trials = trials)"
   ]
  },
  {
   "cell_type": "code",
   "execution_count": 48,
   "metadata": {},
   "outputs": [
    {
     "data": {
      "text/plain": [
       "{'max_depth': 16}"
      ]
     },
     "execution_count": 48,
     "metadata": {},
     "output_type": "execute_result"
    }
   ],
   "source": [
    "model_metric.loc['f1_train', 'Tree_up'] = round(-trials.results[np.argmin([r['loss'] for r in trials.results])]['loss'], 2)\n",
    "\n",
    "hyper_param = {'max_depth' : trials.results[np.argmin([r['loss'] for r in trials.results])]['params']['max_depth']}\n",
    "hyper_param"
   ]
  },
  {
   "cell_type": "code",
   "execution_count": 49,
   "metadata": {},
   "outputs": [
    {
     "data": {
      "text/html": [
       "<div>\n",
       "<style scoped>\n",
       "    .dataframe tbody tr th:only-of-type {\n",
       "        vertical-align: middle;\n",
       "    }\n",
       "\n",
       "    .dataframe tbody tr th {\n",
       "        vertical-align: top;\n",
       "    }\n",
       "\n",
       "    .dataframe thead th {\n",
       "        text-align: right;\n",
       "    }\n",
       "</style>\n",
       "<table border=\"1\" class=\"dataframe\">\n",
       "  <thead>\n",
       "    <tr style=\"text-align: right;\">\n",
       "      <th></th>\n",
       "      <th>Tree</th>\n",
       "      <th>LR</th>\n",
       "      <th>LR_up</th>\n",
       "      <th>Tree_up</th>\n",
       "    </tr>\n",
       "  </thead>\n",
       "  <tbody>\n",
       "    <tr>\n",
       "      <th>f1_train</th>\n",
       "      <td>0.6</td>\n",
       "      <td>0.70</td>\n",
       "      <td>0.80</td>\n",
       "      <td>0.68</td>\n",
       "    </tr>\n",
       "    <tr>\n",
       "      <th>f1_test</th>\n",
       "      <td>0.63</td>\n",
       "      <td>0.73</td>\n",
       "      <td>0.78</td>\n",
       "      <td>0.64</td>\n",
       "    </tr>\n",
       "  </tbody>\n",
       "</table>\n",
       "</div>"
      ],
      "text/plain": [
       "          Tree    LR  LR_up  Tree_up\n",
       "f1_train  0.6   0.70  0.80   0.68   \n",
       "f1_test   0.63  0.73  0.78   0.64   "
      ]
     },
     "execution_count": 49,
     "metadata": {},
     "output_type": "execute_result"
    }
   ],
   "source": [
    "model_metric.loc['f1_test', 'Tree_up'] = round(test_func_model(hyper_param, DecisionTreeClassifier,  \n",
    "                                                         features_train_up, target_train_up), 2)\n",
    "model_metric"
   ]
  },
  {
   "cell_type": "markdown",
   "metadata": {},
   "source": [
    "На результат модели DecisionTreeClassifier увеличение в тренировочной выборке класса =1 никакне повлияло $f1_{score}=0,65$."
   ]
  },
  {
   "cell_type": "markdown",
   "metadata": {},
   "source": [
    "#### Уменьшение выборки"
   ]
  },
  {
   "cell_type": "markdown",
   "metadata": {},
   "source": [
    "Посмотрим, как повлияет на результаты моделей метод устранения дисбаланса с помощью уменьшения в тренровочнй выборке значений класса =0. Напишем функцию для уменьшения тренировочной выборки."
   ]
  },
  {
   "cell_type": "code",
   "execution_count": 50,
   "metadata": {},
   "outputs": [],
   "source": [
    "def func_down_sample(features, target, fraction):\n",
    "    \n",
    "    target_zero = target[target == 0]\n",
    "    target_one = target[target == 1]\n",
    "    \n",
    "    features_zero = features.loc[target_zero.index]\n",
    "    features_one = features.loc[target_one.index]\n",
    "    \n",
    "    features_down = pd.concat([features_zero.sample(frac = fraction, random_state = 12345)] + [features_one])\n",
    "    target_down = pd.concat([target_zero.sample(frac = fraction, random_state = 12345)] + [target_one])\n",
    "    \n",
    "    features_down, target_down = shuffle(features_down, target_down, random_state = 12345)\n",
    "    \n",
    "    return (features_down, target_down)"
   ]
  },
  {
   "cell_type": "code",
   "execution_count": 51,
   "metadata": {},
   "outputs": [],
   "source": [
    "features_train_down, target_train_down = func_down_sample(features_train_0, target_train, 0.3)"
   ]
  },
  {
   "cell_type": "code",
   "execution_count": 52,
   "metadata": {},
   "outputs": [],
   "source": [
    "features_train_down, features_test_down = func_tfidf(features_train_down, features_test_0)"
   ]
  },
  {
   "cell_type": "markdown",
   "metadata": {},
   "source": [
    "**LogisticRegression**"
   ]
  },
  {
   "cell_type": "markdown",
   "metadata": {},
   "source": [
    "Проверим обновленную тренировочную выборку на модели LogisticRegression "
   ]
  },
  {
   "cell_type": "code",
   "execution_count": 53,
   "metadata": {},
   "outputs": [],
   "source": [
    "model = LogisticRegression(random_state = 12345, solver = 'liblinear')"
   ]
  },
  {
   "cell_type": "code",
   "execution_count": 54,
   "metadata": {},
   "outputs": [],
   "source": [
    "model_metric.loc['f1_train', 'LR_down'] = round(cross_val_score(model, features_train_down, target_train_down, \n",
    "                                                                scoring = 'f1', cv = 3).mean(), 2)"
   ]
  },
  {
   "cell_type": "markdown",
   "metadata": {},
   "source": [
    "Проверим модель на тестовых данных"
   ]
  },
  {
   "cell_type": "code",
   "execution_count": 55,
   "metadata": {},
   "outputs": [
    {
     "data": {
      "text/html": [
       "<div>\n",
       "<style scoped>\n",
       "    .dataframe tbody tr th:only-of-type {\n",
       "        vertical-align: middle;\n",
       "    }\n",
       "\n",
       "    .dataframe tbody tr th {\n",
       "        vertical-align: top;\n",
       "    }\n",
       "\n",
       "    .dataframe thead th {\n",
       "        text-align: right;\n",
       "    }\n",
       "</style>\n",
       "<table border=\"1\" class=\"dataframe\">\n",
       "  <thead>\n",
       "    <tr style=\"text-align: right;\">\n",
       "      <th></th>\n",
       "      <th>Tree</th>\n",
       "      <th>LR</th>\n",
       "      <th>LR_up</th>\n",
       "      <th>Tree_up</th>\n",
       "      <th>LR_down</th>\n",
       "    </tr>\n",
       "  </thead>\n",
       "  <tbody>\n",
       "    <tr>\n",
       "      <th>f1_train</th>\n",
       "      <td>0.6</td>\n",
       "      <td>0.70</td>\n",
       "      <td>0.80</td>\n",
       "      <td>0.68</td>\n",
       "      <td>0.79</td>\n",
       "    </tr>\n",
       "    <tr>\n",
       "      <th>f1_test</th>\n",
       "      <td>0.63</td>\n",
       "      <td>0.73</td>\n",
       "      <td>0.78</td>\n",
       "      <td>0.64</td>\n",
       "      <td>0.77</td>\n",
       "    </tr>\n",
       "  </tbody>\n",
       "</table>\n",
       "</div>"
      ],
      "text/plain": [
       "          Tree    LR  LR_up  Tree_up  LR_down\n",
       "f1_train  0.6   0.70  0.80   0.68     0.79   \n",
       "f1_test   0.63  0.73  0.78   0.64     0.77   "
      ]
     },
     "execution_count": 55,
     "metadata": {},
     "output_type": "execute_result"
    }
   ],
   "source": [
    "hyper_param = {'solver' : 'liblinear'}\n",
    "model_metric.loc['f1_test', 'LR_down'] = round(test_func_model(hyper_param, \n",
    "                                                             LogisticRegression, \n",
    "                                                             features_train_down, target_train_down, features_test_down), 2)\n",
    "model_metric"
   ]
  },
  {
   "cell_type": "markdown",
   "metadata": {},
   "source": [
    "Для логистической регрессии наилучший результат получен при уменьшении значений класса =0 в тренировочной выборки на 30% - $f1_{score}=0,77$. Дальнейшее уменьшение выборки итоговый результат не улучшало. Остановим свой выбор на увеличенной значениями класса =1 тренировочной выборке и перейдем к более сложным моделям."
   ]
  },
  {
   "cell_type": "markdown",
   "metadata": {},
   "source": [
    "### RandomForestClassifier"
   ]
  },
  {
   "cell_type": "markdown",
   "metadata": {},
   "source": [
    "Рассмотрим модель Случайный лес для решения нашей задачи"
   ]
  },
  {
   "cell_type": "code",
   "execution_count": 56,
   "metadata": {},
   "outputs": [],
   "source": [
    "space = {'max_depth': hp.choice(\"max_depth\", np.arange(1, 25, dtype = int)),\n",
    "        'n_estimators' : hp.choice(\"n_estimators\", np.arange(1, 60, dtype = int))}"
   ]
  },
  {
   "cell_type": "code",
   "execution_count": 57,
   "metadata": {},
   "outputs": [
    {
     "name": "stdout",
     "output_type": "stream",
     "text": [
      "100%|██████████| 10/10 [06:22<00:00, 38.28s/trial, best loss: -0.03655429681029367]\n"
     ]
    }
   ],
   "source": [
    "trials = Trials()\n",
    "best = fmin(fn = partial(hyperopt_score, \n",
    "                         x_train = features_train_up, y_train = target_train_up, \n",
    "                         type_model = RandomForestClassifier), \n",
    "                                                     space = space, algo = tpe.suggest, \n",
    "                                                     max_evals = 10, trials = trials)"
   ]
  },
  {
   "cell_type": "code",
   "execution_count": 58,
   "metadata": {},
   "outputs": [
    {
     "data": {
      "text/plain": [
       "{'max_depth': 20, 'n_estimators': 10}"
      ]
     },
     "execution_count": 58,
     "metadata": {},
     "output_type": "execute_result"
    }
   ],
   "source": [
    "model_metric.loc['f1_train', 'RF_up'] = round(-trials.results[np.argmin([r['loss'] for r in trials.results])]['loss'], 2)\n",
    "\n",
    "hyper_param = {'max_depth' : trials.results[np.argmin([r['loss'] for r in trials.results])]['params']['max_depth'],\n",
    "              'n_estimators' : trials.results[np.argmin([r['loss'] for r in trials.results])]['params']['n_estimators']}\n",
    "hyper_param"
   ]
  },
  {
   "cell_type": "code",
   "execution_count": 59,
   "metadata": {},
   "outputs": [
    {
     "data": {
      "text/html": [
       "<div>\n",
       "<style scoped>\n",
       "    .dataframe tbody tr th:only-of-type {\n",
       "        vertical-align: middle;\n",
       "    }\n",
       "\n",
       "    .dataframe tbody tr th {\n",
       "        vertical-align: top;\n",
       "    }\n",
       "\n",
       "    .dataframe thead th {\n",
       "        text-align: right;\n",
       "    }\n",
       "</style>\n",
       "<table border=\"1\" class=\"dataframe\">\n",
       "  <thead>\n",
       "    <tr style=\"text-align: right;\">\n",
       "      <th></th>\n",
       "      <th>Tree</th>\n",
       "      <th>LR</th>\n",
       "      <th>LR_up</th>\n",
       "      <th>Tree_up</th>\n",
       "      <th>LR_down</th>\n",
       "      <th>RF_up</th>\n",
       "    </tr>\n",
       "  </thead>\n",
       "  <tbody>\n",
       "    <tr>\n",
       "      <th>f1_train</th>\n",
       "      <td>0.6</td>\n",
       "      <td>0.70</td>\n",
       "      <td>0.80</td>\n",
       "      <td>0.68</td>\n",
       "      <td>0.79</td>\n",
       "      <td>0.04</td>\n",
       "    </tr>\n",
       "    <tr>\n",
       "      <th>f1_test</th>\n",
       "      <td>0.63</td>\n",
       "      <td>0.73</td>\n",
       "      <td>0.78</td>\n",
       "      <td>0.64</td>\n",
       "      <td>0.77</td>\n",
       "      <td>0.02</td>\n",
       "    </tr>\n",
       "  </tbody>\n",
       "</table>\n",
       "</div>"
      ],
      "text/plain": [
       "          Tree    LR  LR_up  Tree_up  LR_down  RF_up\n",
       "f1_train  0.6   0.70  0.80   0.68     0.79     0.04 \n",
       "f1_test   0.63  0.73  0.78   0.64     0.77     0.02 "
      ]
     },
     "execution_count": 59,
     "metadata": {},
     "output_type": "execute_result"
    }
   ],
   "source": [
    "model_metric.loc['f1_test', 'RF_up'] = round(test_func_model(hyper_param, RandomForestClassifier, \n",
    "                                                          features_train_up, target_train_up), 2)\n",
    "model_metric"
   ]
  },
  {
   "cell_type": "markdown",
   "metadata": {},
   "source": [
    "Модель RandomForestClassifier на тестовой выборке показала наихудший результат среди рассмотренных вариантов с $f1_{score} =0,02$.  "
   ]
  },
  {
   "cell_type": "markdown",
   "metadata": {},
   "source": [
    "### XGBClassifier"
   ]
  },
  {
   "cell_type": "code",
   "execution_count": 60,
   "metadata": {},
   "outputs": [],
   "source": [
    "space = {'max_depth': hp.choice(\"max_depth\", np.arange(1, 15, dtype = int)),\n",
    "        'n_estimators' : hp.choice(\"n_estimators\", np.arange(1, 60, dtype = int))}"
   ]
  },
  {
   "cell_type": "code",
   "execution_count": 61,
   "metadata": {},
   "outputs": [
    {
     "name": "stdout",
     "output_type": "stream",
     "text": [
      "100%|██████████| 10/10 [17:04<00:00, 102.47s/trial, best loss: -0.8170730181272067]\n"
     ]
    }
   ],
   "source": [
    "trials = Trials()\n",
    "best = fmin(fn = partial(hyperopt_score, \n",
    "                         x_train = features_train_up, y_train = target_train_up, \n",
    "                         type_model = XGBClassifier), \n",
    "                                                     space = space, algo = tpe.suggest, \n",
    "                                                     max_evals = 10, trials = trials)"
   ]
  },
  {
   "cell_type": "code",
   "execution_count": 62,
   "metadata": {},
   "outputs": [
    {
     "data": {
      "text/plain": [
       "{'max_depth': 14, 'n_estimators': 49}"
      ]
     },
     "execution_count": 62,
     "metadata": {},
     "output_type": "execute_result"
    }
   ],
   "source": [
    "model_metric.loc['f1_train', 'XGB_up'] = round(-trials.results[np.argmin([r['loss'] for r in trials.results])]['loss'], 2)\n",
    "\n",
    "hyper_param = {'max_depth' : trials.results[np.argmin([r['loss'] for r in trials.results])]['params']['max_depth'],\n",
    "              'n_estimators' : trials.results[np.argmin([r['loss'] for r in trials.results])]['params']['n_estimators']}\n",
    "hyper_param"
   ]
  },
  {
   "cell_type": "code",
   "execution_count": 63,
   "metadata": {},
   "outputs": [
    {
     "data": {
      "text/html": [
       "<div>\n",
       "<style scoped>\n",
       "    .dataframe tbody tr th:only-of-type {\n",
       "        vertical-align: middle;\n",
       "    }\n",
       "\n",
       "    .dataframe tbody tr th {\n",
       "        vertical-align: top;\n",
       "    }\n",
       "\n",
       "    .dataframe thead th {\n",
       "        text-align: right;\n",
       "    }\n",
       "</style>\n",
       "<table border=\"1\" class=\"dataframe\">\n",
       "  <thead>\n",
       "    <tr style=\"text-align: right;\">\n",
       "      <th></th>\n",
       "      <th>Tree</th>\n",
       "      <th>LR</th>\n",
       "      <th>LR_up</th>\n",
       "      <th>Tree_up</th>\n",
       "      <th>LR_down</th>\n",
       "      <th>RF_up</th>\n",
       "      <th>XGB_up</th>\n",
       "    </tr>\n",
       "  </thead>\n",
       "  <tbody>\n",
       "    <tr>\n",
       "      <th>f1_train</th>\n",
       "      <td>0.6</td>\n",
       "      <td>0.70</td>\n",
       "      <td>0.80</td>\n",
       "      <td>0.68</td>\n",
       "      <td>0.79</td>\n",
       "      <td>0.04</td>\n",
       "      <td>0.82</td>\n",
       "    </tr>\n",
       "    <tr>\n",
       "      <th>f1_test</th>\n",
       "      <td>0.63</td>\n",
       "      <td>0.73</td>\n",
       "      <td>0.78</td>\n",
       "      <td>0.64</td>\n",
       "      <td>0.77</td>\n",
       "      <td>0.02</td>\n",
       "      <td>0.76</td>\n",
       "    </tr>\n",
       "  </tbody>\n",
       "</table>\n",
       "</div>"
      ],
      "text/plain": [
       "          Tree    LR  LR_up  Tree_up  LR_down  RF_up  XGB_up\n",
       "f1_train  0.6   0.70  0.80   0.68     0.79     0.04   0.82  \n",
       "f1_test   0.63  0.73  0.78   0.64     0.77     0.02   0.76  "
      ]
     },
     "execution_count": 63,
     "metadata": {},
     "output_type": "execute_result"
    }
   ],
   "source": [
    "model_metric.loc['f1_test', 'XGB_up'] = round(test_func_model(hyper_param, XGBClassifier, \n",
    "                                                              features_train_up, target_train_up), 2)\n",
    "model_metric"
   ]
  },
  {
   "cell_type": "markdown",
   "metadata": {},
   "source": [
    "Модель XGBClassifier на тестовых данных показала результат метрики $f1_{score} =0,76$, также выполнив поставленное требование. "
   ]
  },
  {
   "cell_type": "markdown",
   "metadata": {},
   "source": [
    "### BERT"
   ]
  },
  {
   "cell_type": "markdown",
   "metadata": {},
   "source": [
    "Рассмотрим вариант предсказаний с помощью нейронной сети. Ограничимся выборкой из 2000 текстов для ускорения процесса обработки."
   ]
  },
  {
   "cell_type": "code",
   "execution_count": 64,
   "id": "adc0ded4",
   "metadata": {},
   "outputs": [],
   "source": [
    "SAMPLE_SIZE = 2000 # количество текстов из выборки"
   ]
  },
  {
   "cell_type": "code",
   "execution_count": 65,
   "id": "3464a2c3",
   "metadata": {},
   "outputs": [],
   "source": [
    "data_sample = data.sample(SAMPLE_SIZE)"
   ]
  },
  {
   "cell_type": "markdown",
   "id": "2743a3cf",
   "metadata": {},
   "source": [
    "Инициализируем модель класса DistilBERT, передав ей файл с предобученной моделью и конфигурацией, инициализируем токенизатор"
   ]
  },
  {
   "cell_type": "code",
   "execution_count": 66,
   "id": "448161a9",
   "metadata": {},
   "outputs": [],
   "source": [
    "model_class, tokenizer_class, pretrained_weights = (transformers.DistilBertModel, \n",
    "                                                    transformers.DistilBertTokenizer, \n",
    "                                                    'distilbert-base-uncased')"
   ]
  },
  {
   "cell_type": "code",
   "execution_count": 67,
   "id": "4a232f0b",
   "metadata": {},
   "outputs": [
    {
     "name": "stderr",
     "output_type": "stream",
     "text": [
      "Some weights of the model checkpoint at distilbert-base-uncased were not used when initializing DistilBertModel: ['vocab_transform.weight', 'vocab_projector.bias', 'vocab_projector.weight', 'vocab_transform.bias', 'vocab_layer_norm.weight', 'vocab_layer_norm.bias']\n",
      "- This IS expected if you are initializing DistilBertModel from the checkpoint of a model trained on another task or with another architecture (e.g. initializing a BertForSequenceClassification model from a BertForPreTraining model).\n",
      "- This IS NOT expected if you are initializing DistilBertModel from the checkpoint of a model that you expect to be exactly identical (initializing a BertForSequenceClassification model from a BertForSequenceClassification model).\n"
     ]
    }
   ],
   "source": [
    "tokenizer = tokenizer_class.from_pretrained(pretrained_weights)\n",
    "model = model_class.from_pretrained(pretrained_weights)"
   ]
  },
  {
   "cell_type": "markdown",
   "id": "dd5355b5",
   "metadata": {},
   "source": [
    "Преобразуем тексты в векторы. В связи с особенностью модели ограничимся размером одного вектора =512, т.е. фактически обрежем все тексты, превышающие размер в 512 символов."
   ]
  },
  {
   "cell_type": "code",
   "execution_count": 68,
   "id": "e194ab07",
   "metadata": {},
   "outputs": [],
   "source": [
    "LENGTH_TEXT = 512"
   ]
  },
  {
   "cell_type": "code",
   "execution_count": 69,
   "id": "bbd691d5",
   "metadata": {},
   "outputs": [
    {
     "name": "stderr",
     "output_type": "stream",
     "text": [
      "Truncation was not explicitly activated but `max_length` is provided a specific value, please use `truncation=True` to explicitly truncate examples to max length. Defaulting to 'longest_first' truncation strategy. If you encode pairs of sequences (GLUE-style) with the tokenizer you can select this strategy more precisely by providing a specific strategy to `truncation`.\n"
     ]
    }
   ],
   "source": [
    "tokenized = data_sample['text'].apply(lambda x: \n",
    "                                      tokenizer.encode(x, add_special_tokens = True, max_length = LENGTH_TEXT))"
   ]
  },
  {
   "cell_type": "code",
   "execution_count": 70,
   "id": "2fc4bce5",
   "metadata": {},
   "outputs": [
    {
     "data": {
      "text/plain": [
       "61661    [101, 2008, 1005, 1055, 2025, 2033, 1998, 3504, 2066, 2017, 2024, 1996, 2028, 2725, 1996, 18820, 18965, 2011, 5815, 2008, 27420, 2227, 6148, 2010, 4519, 102]                      \n",
       "44925    [101, 3531, 2079, 2025, 3158, 9305, 4697, 5530, 2004, 2017, 2106, 2007, 2023, 10086, 2000, 2572, 4576, 2065, 2017, 3613, 2000, 2079, 2061, 2017, 2097, 2022, 8534, 2013, 9260, 102]\n",
       "Name: text, dtype: object"
      ]
     },
     "execution_count": 70,
     "metadata": {},
     "output_type": "execute_result"
    }
   ],
   "source": [
    "tokenized.sample(2)"
   ]
  },
  {
   "cell_type": "markdown",
   "id": "c587cbad",
   "metadata": {},
   "source": [
    "Для быстрой работы Bert заполним полученные векторы нулями до максимальной длины"
   ]
  },
  {
   "cell_type": "code",
   "execution_count": 71,
   "id": "f61b20b6",
   "metadata": {},
   "outputs": [],
   "source": [
    "padded = np.array(list(map(lambda x: x + [0] * (LENGTH_TEXT - len(x)), np.array(tokenized))))"
   ]
  },
  {
   "cell_type": "code",
   "execution_count": 72,
   "id": "412cb2b7",
   "metadata": {},
   "outputs": [
    {
     "data": {
      "text/plain": [
       "(2000, 512)"
      ]
     },
     "execution_count": 72,
     "metadata": {},
     "output_type": "execute_result"
    }
   ],
   "source": [
    "padded.shape"
   ]
  },
  {
   "cell_type": "markdown",
   "id": "d5122bbc",
   "metadata": {},
   "source": [
    "Скроем для Bert нули, заполненные нами в векторах, с помощью маски"
   ]
  },
  {
   "cell_type": "code",
   "execution_count": 73,
   "id": "970f477d",
   "metadata": {},
   "outputs": [],
   "source": [
    "attention_mask = np.where(padded != 0, 1, 0)"
   ]
  },
  {
   "cell_type": "code",
   "execution_count": 74,
   "id": "b1437ab7",
   "metadata": {},
   "outputs": [
    {
     "data": {
      "text/plain": [
       "array([[1, 1, 1, ..., 0, 0, 0],\n",
       "       [1, 1, 1, ..., 0, 0, 0],\n",
       "       [1, 1, 1, ..., 0, 0, 0],\n",
       "       ...,\n",
       "       [1, 1, 1, ..., 0, 0, 0],\n",
       "       [1, 1, 1, ..., 0, 0, 0],\n",
       "       [1, 1, 1, ..., 0, 0, 0]])"
      ]
     },
     "execution_count": 74,
     "metadata": {},
     "output_type": "execute_result"
    }
   ],
   "source": [
    "attention_mask"
   ]
  },
  {
   "cell_type": "code",
   "execution_count": 75,
   "id": "95c310cf",
   "metadata": {},
   "outputs": [
    {
     "data": {
      "text/plain": [
       "(2000, 512)"
      ]
     },
     "execution_count": 75,
     "metadata": {},
     "output_type": "execute_result"
    }
   ],
   "source": [
    "attention_mask.shape"
   ]
  },
  {
   "cell_type": "markdown",
   "id": "eba4325d",
   "metadata": {},
   "source": [
    "Для экономии опративной памяти ограничим размер батчей с эмбедингами, которые создает Bert"
   ]
  },
  {
   "cell_type": "code",
   "execution_count": 76,
   "id": "d0c11081",
   "metadata": {},
   "outputs": [],
   "source": [
    "BATCH_SIZE = 100 # размер батча"
   ]
  },
  {
   "cell_type": "code",
   "execution_count": 77,
   "id": "f1ec55c9",
   "metadata": {},
   "outputs": [
    {
     "data": {
      "application/vnd.jupyter.widget-view+json": {
       "model_id": "9df85885b3a24d5a8ac5c68fc269592a",
       "version_major": 2,
       "version_minor": 0
      },
      "text/plain": [
       "  0%|          | 0/20 [00:00<?, ?it/s]"
      ]
     },
     "metadata": {},
     "output_type": "display_data"
    }
   ],
   "source": [
    "embeddings = []\n",
    "for i in notebook.tqdm(range(padded.shape[0] // BATCH_SIZE)):\n",
    "    \n",
    "    # Перебираем батчи и переводим в формат тензоров (многомерных векторов)\n",
    "    batch = torch.LongTensor(padded[BATCH_SIZE * i : BATCH_SIZE * (i + 1)])\n",
    "    attention_mask_batch = torch.LongTensor(attention_mask[BATCH_SIZE * i : BATCH_SIZE * (i + 1)])\n",
    "    \n",
    "    with torch.no_grad():\n",
    "        batch_embeddings = model(batch, attention_mask = attention_mask_batch)\n",
    "    \n",
    "    # для задачи классификации оставляем выход BERT'а для токена [CLS], остальное отбрасываем\n",
    "    embeddings.append(batch_embeddings[0][:,0,:].numpy())\n",
    "    "
   ]
  },
  {
   "cell_type": "code",
   "execution_count": 78,
   "id": "a4acd852",
   "metadata": {},
   "outputs": [],
   "source": [
    "features = np.concatenate(embeddings)"
   ]
  },
  {
   "cell_type": "code",
   "execution_count": 79,
   "id": "b3f7f7c8",
   "metadata": {},
   "outputs": [
    {
     "data": {
      "text/plain": [
       "array([[ 0.03535952, -0.07927292, -0.01615617, ..., -0.24551621,\n",
       "         0.4235055 ,  0.24310385],\n",
       "       [ 0.05332525,  0.16472387, -0.25779337, ..., -0.05152125,\n",
       "         0.45004097,  0.33295387],\n",
       "       [ 0.1318903 , -0.05567373, -0.292391  , ..., -0.0716961 ,\n",
       "         0.49964628,  0.42272303],\n",
       "       ...,\n",
       "       [ 0.10383351, -0.20728599, -0.14604987, ..., -0.23507291,\n",
       "         0.2925673 ,  0.20484142],\n",
       "       [-0.19480382, -0.07343734, -0.00076875, ..., -0.05508371,\n",
       "         0.19796346,  0.28604695],\n",
       "       [ 0.17202017,  0.09881824, -0.38155013, ..., -0.07690867,\n",
       "         0.46900654,  0.37409693]], dtype=float32)"
      ]
     },
     "execution_count": 79,
     "metadata": {},
     "output_type": "execute_result"
    }
   ],
   "source": [
    "features"
   ]
  },
  {
   "cell_type": "code",
   "execution_count": 81,
   "metadata": {},
   "outputs": [],
   "source": [
    "features_all = np.concatenate((features, \n",
    "                           data.loc[data_sample.index][['ex_point']].values, \n",
    "                           data.loc[data_sample.index][['caps']].values), axis = 1)"
   ]
  },
  {
   "cell_type": "code",
   "execution_count": 82,
   "metadata": {},
   "outputs": [],
   "source": [
    "features_train_bert, features_test_bert, target_train_bert, target_test_bert = train_test_split(features_all, \n",
    "                                                                            data_sample['toxic'], \n",
    "                                                                            test_size = 0.3, \n",
    "                                                                            random_state = 12345,\n",
    "                                                                            stratify = data_sample['toxic'])"
   ]
  },
  {
   "cell_type": "markdown",
   "metadata": {},
   "source": [
    "#### LogisticRegression"
   ]
  },
  {
   "cell_type": "code",
   "execution_count": 84,
   "metadata": {},
   "outputs": [],
   "source": [
    "model = LogisticRegression(random_state = 12345, solver = 'liblinear')"
   ]
  },
  {
   "cell_type": "code",
   "execution_count": 85,
   "metadata": {},
   "outputs": [],
   "source": [
    "model_metric.loc['f1_train', 'LR_bert'] = round(cross_val_score(model, features_train_bert, target_train_bert, \n",
    "                                                         scoring = 'f1', cv = 3).mean(), 2)"
   ]
  },
  {
   "cell_type": "markdown",
   "metadata": {},
   "source": [
    "Проверим модель на тестовых данных"
   ]
  },
  {
   "cell_type": "code",
   "execution_count": 87,
   "metadata": {},
   "outputs": [
    {
     "data": {
      "text/html": [
       "<div>\n",
       "<style scoped>\n",
       "    .dataframe tbody tr th:only-of-type {\n",
       "        vertical-align: middle;\n",
       "    }\n",
       "\n",
       "    .dataframe tbody tr th {\n",
       "        vertical-align: top;\n",
       "    }\n",
       "\n",
       "    .dataframe thead th {\n",
       "        text-align: right;\n",
       "    }\n",
       "</style>\n",
       "<table border=\"1\" class=\"dataframe\">\n",
       "  <thead>\n",
       "    <tr style=\"text-align: right;\">\n",
       "      <th></th>\n",
       "      <th>Tree</th>\n",
       "      <th>LR</th>\n",
       "      <th>LR_up</th>\n",
       "      <th>Tree_up</th>\n",
       "      <th>LR_down</th>\n",
       "      <th>RF_up</th>\n",
       "      <th>XGB_up</th>\n",
       "      <th>LR_bert</th>\n",
       "    </tr>\n",
       "  </thead>\n",
       "  <tbody>\n",
       "    <tr>\n",
       "      <th>f1_train</th>\n",
       "      <td>0.6</td>\n",
       "      <td>0.70</td>\n",
       "      <td>0.80</td>\n",
       "      <td>0.68</td>\n",
       "      <td>0.79</td>\n",
       "      <td>0.04</td>\n",
       "      <td>0.82</td>\n",
       "      <td>0.65</td>\n",
       "    </tr>\n",
       "    <tr>\n",
       "      <th>f1_test</th>\n",
       "      <td>0.63</td>\n",
       "      <td>0.73</td>\n",
       "      <td>0.78</td>\n",
       "      <td>0.64</td>\n",
       "      <td>0.77</td>\n",
       "      <td>0.02</td>\n",
       "      <td>0.76</td>\n",
       "      <td>0.71</td>\n",
       "    </tr>\n",
       "  </tbody>\n",
       "</table>\n",
       "</div>"
      ],
      "text/plain": [
       "          Tree    LR  LR_up  Tree_up  LR_down  RF_up  XGB_up  LR_bert\n",
       "f1_train  0.6   0.70  0.80   0.68     0.79     0.04   0.82    0.65   \n",
       "f1_test   0.63  0.73  0.78   0.64     0.77     0.02   0.76    0.71   "
      ]
     },
     "execution_count": 87,
     "metadata": {},
     "output_type": "execute_result"
    }
   ],
   "source": [
    "hyper_param = {'solver' : 'liblinear'}\n",
    "model_metric.loc['f1_test', 'LR_bert'] = round(test_func_model(hyper_param, LogisticRegression, \n",
    "                                                               features_train_bert, target_train_bert, \n",
    "                                                               features_test_bert, target_test_bert), 2)\n",
    "model_metric"
   ]
  },
  {
   "cell_type": "markdown",
   "metadata": {},
   "source": [
    "Модель логистической регрессии с использованием нейронных сетей показала себя чуть хуже $f1_{score}=0,71$ yна тестовых данных чем она же на предсказании с помощью TF-IDF, где $f1_{score}=0,73$. Попробуем сбалансировать выборку, увеличив количество строк со значениям класса =1."
   ]
  },
  {
   "cell_type": "code",
   "execution_count": 90,
   "id": "b0ee4220",
   "metadata": {},
   "outputs": [],
   "source": [
    "features_train_zero_bert = features_train_bert[target_train_bert == 0]\n",
    "features_train_one_bert = features_train_bert[target_train_bert == 1]\n",
    "\n",
    "target_train_zero_bert = target_train_bert[target_train_bert == 0]\n",
    "target_train_one_bert = target_train_bert[target_train_bert == 1]"
   ]
  },
  {
   "cell_type": "code",
   "execution_count": 95,
   "id": "c540a8e9",
   "metadata": {},
   "outputs": [],
   "source": [
    "features_train_bert_up = np.concatenate([features_train_zero_bert] + [features_train_one_bert] * 2)\n",
    "target_train_bert_up = np.concatenate([target_train_zero_bert] + [target_train_one_bert] * 2)\n",
    "\n",
    "features_train_bert_up = shuffle(features_train_bert_up, random_state = 12345)\n",
    "target_train_bert_up = shuffle(target_train_bert_up, random_state = 12345)"
   ]
  },
  {
   "cell_type": "code",
   "execution_count": 96,
   "metadata": {},
   "outputs": [],
   "source": [
    "model_metric.loc['f1_train', 'LR_bert_up'] = round(cross_val_score(model, features_train_bert_up, target_train_bert_up, \n",
    "                                                         scoring = 'f1', cv = 3).mean(), 2)"
   ]
  },
  {
   "cell_type": "code",
   "execution_count": 98,
   "metadata": {},
   "outputs": [
    {
     "data": {
      "text/html": [
       "<div>\n",
       "<style scoped>\n",
       "    .dataframe tbody tr th:only-of-type {\n",
       "        vertical-align: middle;\n",
       "    }\n",
       "\n",
       "    .dataframe tbody tr th {\n",
       "        vertical-align: top;\n",
       "    }\n",
       "\n",
       "    .dataframe thead th {\n",
       "        text-align: right;\n",
       "    }\n",
       "</style>\n",
       "<table border=\"1\" class=\"dataframe\">\n",
       "  <thead>\n",
       "    <tr style=\"text-align: right;\">\n",
       "      <th></th>\n",
       "      <th>Tree</th>\n",
       "      <th>LR</th>\n",
       "      <th>LR_up</th>\n",
       "      <th>Tree_up</th>\n",
       "      <th>LR_down</th>\n",
       "      <th>RF_up</th>\n",
       "      <th>XGB_up</th>\n",
       "      <th>LR_bert</th>\n",
       "      <th>LR_bert_up</th>\n",
       "    </tr>\n",
       "  </thead>\n",
       "  <tbody>\n",
       "    <tr>\n",
       "      <th>f1_train</th>\n",
       "      <td>0.6</td>\n",
       "      <td>0.70</td>\n",
       "      <td>0.80</td>\n",
       "      <td>0.68</td>\n",
       "      <td>0.79</td>\n",
       "      <td>0.04</td>\n",
       "      <td>0.82</td>\n",
       "      <td>0.65</td>\n",
       "      <td>0.80</td>\n",
       "    </tr>\n",
       "    <tr>\n",
       "      <th>f1_test</th>\n",
       "      <td>0.63</td>\n",
       "      <td>0.73</td>\n",
       "      <td>0.78</td>\n",
       "      <td>0.64</td>\n",
       "      <td>0.77</td>\n",
       "      <td>0.02</td>\n",
       "      <td>0.76</td>\n",
       "      <td>0.71</td>\n",
       "      <td>0.72</td>\n",
       "    </tr>\n",
       "  </tbody>\n",
       "</table>\n",
       "</div>"
      ],
      "text/plain": [
       "          Tree    LR  LR_up  Tree_up  LR_down  RF_up  XGB_up  LR_bert  \\\n",
       "f1_train  0.6   0.70  0.80   0.68     0.79     0.04   0.82    0.65      \n",
       "f1_test   0.63  0.73  0.78   0.64     0.77     0.02   0.76    0.71      \n",
       "\n",
       "          LR_bert_up  \n",
       "f1_train  0.80        \n",
       "f1_test   0.72        "
      ]
     },
     "execution_count": 98,
     "metadata": {},
     "output_type": "execute_result"
    }
   ],
   "source": [
    "hyper_param = {'solver' : 'liblinear'}\n",
    "model_metric.loc['f1_test', 'LR_bert_up'] = round(test_func_model(hyper_param, LogisticRegression, \n",
    "                                                               features_train_bert_up, target_train_bert_up, \n",
    "                                                               features_test_bert, target_test_bert), 2)\n",
    "model_metric"
   ]
  },
  {
   "cell_type": "markdown",
   "metadata": {},
   "source": [
    "Увеличение значений класса =1 в тренировочной выборке совсем незначтельно повлияло на резуьтат предсказания $f1_{score}=0,72$. Значение метрики улучшилось все на 0,01. "
   ]
  },
  {
   "cell_type": "markdown",
   "id": "23f7ab27",
   "metadata": {},
   "source": [
    "### LGBMClassifier"
   ]
  },
  {
   "cell_type": "markdown",
   "metadata": {},
   "source": [
    "Попробуем модель LGBMClassifier без увеличения выборки значениями класса =1."
   ]
  },
  {
   "cell_type": "code",
   "execution_count": 99,
   "id": "653f9f0b",
   "metadata": {},
   "outputs": [],
   "source": [
    "space = {'max_depth': hp.choice(\"max_depth\", np.arange(1, 15, dtype = int)),\n",
    "        'n_estimators' : hp.choice(\"n_estimators\", np.arange(1, 60, dtype = int)),\n",
    "        'num_leaves' : hp.choice(\"num_leaves\", np.arange(5, 31, dtype = int))}"
   ]
  },
  {
   "cell_type": "code",
   "execution_count": 100,
   "id": "9f960cea",
   "metadata": {},
   "outputs": [
    {
     "name": "stdout",
     "output_type": "stream",
     "text": [
      "100%|██████████| 10/10 [00:33<00:00,  3.37s/trial, best loss: -0.555531867643793]\n"
     ]
    }
   ],
   "source": [
    "trials = Trials()\n",
    "best = fmin(fn = partial(hyperopt_score, \n",
    "                         x_train = features_train_bert, y_train = target_train_bert, \n",
    "                         type_model = lgb.LGBMClassifier), \n",
    "                                                     space = space, algo = tpe.suggest, \n",
    "                                                     max_evals = 10, trials = trials)"
   ]
  },
  {
   "cell_type": "code",
   "execution_count": 101,
   "id": "fc37e17f",
   "metadata": {},
   "outputs": [
    {
     "data": {
      "text/plain": [
       "{'max_depth': 11, 'n_estimators': 56, 'num_leaves': 10}"
      ]
     },
     "execution_count": 101,
     "metadata": {},
     "output_type": "execute_result"
    }
   ],
   "source": [
    "model_metric.loc['f1_train', 'LGBM_bert'] = round(-trials.results[np.argmin([r['loss'] for r in trials.results])]['loss'], 2)\n",
    "hyper_param = {'max_depth' : trials.results[np.argmin([r['loss'] for r in trials.results])]['params']['max_depth'],\n",
    "              'n_estimators' : trials.results[np.argmin([r['loss'] for r in trials.results])]['params']['n_estimators'],\n",
    "              'num_leaves' : trials.results[np.argmin([r['loss'] for r in trials.results])]['params']['num_leaves']}\n",
    "hyper_param"
   ]
  },
  {
   "cell_type": "code",
   "execution_count": 102,
   "id": "9518b146",
   "metadata": {},
   "outputs": [
    {
     "data": {
      "text/html": [
       "<div>\n",
       "<style scoped>\n",
       "    .dataframe tbody tr th:only-of-type {\n",
       "        vertical-align: middle;\n",
       "    }\n",
       "\n",
       "    .dataframe tbody tr th {\n",
       "        vertical-align: top;\n",
       "    }\n",
       "\n",
       "    .dataframe thead th {\n",
       "        text-align: right;\n",
       "    }\n",
       "</style>\n",
       "<table border=\"1\" class=\"dataframe\">\n",
       "  <thead>\n",
       "    <tr style=\"text-align: right;\">\n",
       "      <th></th>\n",
       "      <th>Tree</th>\n",
       "      <th>LR</th>\n",
       "      <th>LR_up</th>\n",
       "      <th>Tree_up</th>\n",
       "      <th>LR_down</th>\n",
       "      <th>RF_up</th>\n",
       "      <th>XGB_up</th>\n",
       "      <th>LR_bert</th>\n",
       "      <th>LR_bert_up</th>\n",
       "      <th>LGBM_bert</th>\n",
       "    </tr>\n",
       "  </thead>\n",
       "  <tbody>\n",
       "    <tr>\n",
       "      <th>f1_train</th>\n",
       "      <td>0.6</td>\n",
       "      <td>0.70</td>\n",
       "      <td>0.80</td>\n",
       "      <td>0.68</td>\n",
       "      <td>0.79</td>\n",
       "      <td>0.04</td>\n",
       "      <td>0.82</td>\n",
       "      <td>0.65</td>\n",
       "      <td>0.80</td>\n",
       "      <td>0.56</td>\n",
       "    </tr>\n",
       "    <tr>\n",
       "      <th>f1_test</th>\n",
       "      <td>0.63</td>\n",
       "      <td>0.73</td>\n",
       "      <td>0.78</td>\n",
       "      <td>0.64</td>\n",
       "      <td>0.77</td>\n",
       "      <td>0.02</td>\n",
       "      <td>0.76</td>\n",
       "      <td>0.71</td>\n",
       "      <td>0.72</td>\n",
       "      <td>0.59</td>\n",
       "    </tr>\n",
       "  </tbody>\n",
       "</table>\n",
       "</div>"
      ],
      "text/plain": [
       "          Tree    LR  LR_up  Tree_up  LR_down  RF_up  XGB_up  LR_bert  \\\n",
       "f1_train  0.6   0.70  0.80   0.68     0.79     0.04   0.82    0.65      \n",
       "f1_test   0.63  0.73  0.78   0.64     0.77     0.02   0.76    0.71      \n",
       "\n",
       "          LR_bert_up  LGBM_bert  \n",
       "f1_train  0.80        0.56       \n",
       "f1_test   0.72        0.59       "
      ]
     },
     "execution_count": 102,
     "metadata": {},
     "output_type": "execute_result"
    }
   ],
   "source": [
    "model_metric.loc['f1_test', 'LGBM_bert'] = round(test_func_model(hyper_param, lgb.LGBMClassifier, \n",
    "                                                      features_train_bert, target_train_bert,  \n",
    "                                                      features_test_bert, target_test_bert), 2)\n",
    "model_metric"
   ]
  },
  {
   "cell_type": "markdown",
   "metadata": {},
   "source": [
    "Модель LGBMClassifier с $f1_{score}=0,59$ на тестовой выборке показала наихудший результат из рассмотренных вариантов."
   ]
  },
  {
   "cell_type": "markdown",
   "metadata": {},
   "source": [
    "### Кривая ошибок"
   ]
  },
  {
   "cell_type": "markdown",
   "metadata": {},
   "source": [
    "Построим кривую ошибок для наилучшей модели LoggisticRegression, чтобы сравнить со случайной моделью и рассчитаем метрику AUC-ROC."
   ]
  },
  {
   "cell_type": "code",
   "execution_count": 114,
   "metadata": {},
   "outputs": [
    {
     "name": "stdout",
     "output_type": "stream",
     "text": [
      "f1_score: 0.7807881773399015\n",
      "Recall: 0.7163105998356615\n",
      "Accuracy: 0.8580216535433071\n",
      "AUC-ROC 0.9731432537815174\n"
     ]
    }
   ],
   "source": [
    "model = LogisticRegression(random_state = 12345, solver = 'liblinear')\n",
    "model.fit(features_train_up, target_train_up)\n",
    "\n",
    "probabilities_test = model.predict_proba(features_test)\n",
    "probabilities_test_ones = probabilities_test[:, 1]\n",
    "predicted_test = model.predict(features_test)\n",
    "fpr, tpr, threshold = roc_curve(target_test, probabilities_test_ones)\n",
    "\n",
    "print('f1_score:', f1_score(target_test, predicted_test))\n",
    "print('Recall:', recall_score(target_test, predicted_test))\n",
    "print('Accuracy:', precision_score(target_test, predicted_test))\n",
    "print('AUC-ROC', roc_auc_score(target_test, probabilities_test_ones))"
   ]
  },
  {
   "cell_type": "code",
   "execution_count": 115,
   "metadata": {},
   "outputs": [
    {
     "data": {
      "image/png": "[encoded data removed]",
      "text/plain": [
       "<Figure size 864x432 with 1 Axes>"
      ]
     },
     "metadata": {
      "needs_background": "light"
     },
     "output_type": "display_data"
    }
   ],
   "source": [
    "plt.figure(figsize=(12, 6))\n",
    "plt.plot(fpr, tpr)\n",
    "plt.plot([0, 1], [0, 1], linestyle='--')\n",
    "plt.xlim(0, 1)\n",
    "plt.ylim(0, 1)\n",
    "plt.xlabel('False Positive Rate', fontsize=12)\n",
    "plt.ylabel('True Positive Rate', fontsize=12)\n",
    "plt.title(\"ROC-кривая\", fontsize=14)\n",
    "plt.show()"
   ]
  },
  {
   "cell_type": "markdown",
   "metadata": {},
   "source": [
    "### Вывод"
   ]
  },
  {
   "cell_type": "markdown",
   "metadata": {},
   "source": [
    "В рамках этапа в результате перебора моделей была выбрана модель, показавшая на тестовой выборке наилучшее значение метрики $f1_{score}=0,78$. Этой моделью оказалась модель логистической регрессии. Модель показала наилучший результат при увеличении в тренировочной выборке количества строк с классом =1, что позволяет уменьшить влияние дисбаланса классов. \n",
    "\n",
    "Судя по значению метрики $Accuracy=0,86$ модель достаточно точно определяет токсичные комментарии. Однако, если взяглянуть на значение метрики $Recall=0,71$, можно понять, что модель отлавливает не все токсичные комментарии, только 71%. Для улучшения метрик можно более скурпулезно подойти к подбору гиперпараметров рассмотренных моделей, что, конечно же, увеличит время как самого исследования так и время обучения самих моделей. \n",
    "\n",
    "Кроме того, при желании по графику ROC-кривой можно подобрать такое значение порога классификации (соотношение парметров TPR и FPR), которое удовлетворит требования заказчика. К примеру, пожертвовать точностью определения токсичных комментариев (увеличится FPR), но затоповысить полноту определения истиннополжительных значений (TPR)."
   ]
  },
  {
   "cell_type": "markdown",
   "metadata": {},
   "source": [
    "## Выводы"
   ]
  },
  {
   "cell_type": "markdown",
   "metadata": {},
   "source": [
    "В рамках данного исследования был проведен анализ текстов комментариев и разработаны модели для предсказания по тексту комментария его токсчичности или нетокисчности.\n",
    "\n",
    "На первом этапе проекта были сделаны предположения о влиянии соотношения количества слов с прописными буквами и общего количества символов в текстах, а также количества восклицательных знаков в текстах к общему количеству символов в текстах. Предположения были подтверждены на основе графиков распределения характеристик. Характеристики были добавлены в общую таблицу признаков. Также на первом этапе была проведена обработка и лемматизация текстов, создана таблица с оцнкой важности слов TF-IDF.\n",
    "\n",
    "На втором этапе были построены несколько моделей, где в качестве признаков использовалась матрица с оценками важности слов TF-IDF c двумя допонительными признаками, выявленными на первом этапе. Для уменьшения влияния дисбаланса классов было рассмотрено несколько ваиантов решения: увеличение веса класса \"1\", увеличение в тренировочной выборке количества строк с классом \"1\", уменьшение количества строк с классом \"0\". Налучший результат $f1_{score}=0,78$ дала модель логистической регрессии с увеличенной за счет строк с классом \"1\" тренировочной выборкой. Данная модель обеспечила требование заказчика на значение метрики  $f1_{score}>0,75$.\n",
    "\n",
    "Далее были разработаны модели предсказания с использованием нейронной сети DestillBert. Предварительно тексты комментариев были преобразованы нейронной сетью в эмбеддинги, которые в дальнейшем стали матрицей признаков для разрабатываемых моделей. Были рассмотрены модели логистической регрессии и LGBMClassifier. К сожалению, данные модели показали результат хуже чем модели на базе матрицы TF-IDF. Наилучший результат показала модель логистической регресии с $f1_{score}=0,72$, что не удовлетворяет поставленной задаче. Для улучшения результата моделей с использованием нейронных сетей необходимо лучше подбирать гиперпараметры моделей и сами модели классификации. Кроме того, можно рассматривать другие модели перевода слов в векторное сосотояние, различные варианты словарей, на которых обучались модели, варианты лемматизации текстов."
   ]
  }
 ],
 "metadata": {
  "ExecuteTimeLog": [
   {
    "duration": 3,
    "start_time": "2022-05-29T10:16:06.043Z"
   },
   {
    "duration": 5331,
    "start_time": "2022-05-29T10:16:06.049Z"
   },
   {
    "duration": 8670,
    "start_time": "2022-05-29T10:16:11.383Z"
   },
   {
    "duration": 4,
    "start_time": "2022-05-29T10:16:20.056Z"
   },
   {
    "duration": 912,
    "start_time": "2022-05-29T10:16:20.062Z"
   },
   {
    "duration": 21,
    "start_time": "2022-05-29T10:16:20.976Z"
   },
   {
    "duration": 39,
    "start_time": "2022-05-29T10:16:20.999Z"
   },
   {
    "duration": 13,
    "start_time": "2022-05-29T10:16:21.041Z"
   },
   {
    "duration": 38,
    "start_time": "2022-05-29T10:16:21.055Z"
   },
   {
    "duration": 116,
    "start_time": "2022-05-29T10:16:21.097Z"
   },
   {
    "duration": 351,
    "start_time": "2022-05-29T10:16:21.215Z"
   },
   {
    "duration": 1568,
    "start_time": "2022-05-29T10:16:21.569Z"
   },
   {
    "duration": 344,
    "start_time": "2022-05-29T10:16:23.139Z"
   },
   {
    "duration": 283,
    "start_time": "2022-05-29T10:16:23.486Z"
   },
   {
    "duration": 302,
    "start_time": "2022-05-29T10:16:23.771Z"
   },
   {
    "duration": 6,
    "start_time": "2022-05-29T10:39:58.625Z"
   },
   {
    "duration": 17,
    "start_time": "2022-05-29T10:39:58.633Z"
   },
   {
    "duration": 13,
    "start_time": "2022-05-29T10:39:58.652Z"
   },
   {
    "duration": 1092,
    "start_time": "2022-05-29T10:39:58.668Z"
   },
   {
    "duration": 12,
    "start_time": "2022-05-29T10:39:59.762Z"
   },
   {
    "duration": 44,
    "start_time": "2022-05-29T10:39:59.776Z"
   },
   {
    "duration": 20,
    "start_time": "2022-05-29T10:39:59.822Z"
   },
   {
    "duration": 10,
    "start_time": "2022-05-29T10:39:59.844Z"
   },
   {
    "duration": 114,
    "start_time": "2022-05-29T10:39:59.856Z"
   },
   {
    "duration": 440,
    "start_time": "2022-05-29T10:39:59.973Z"
   },
   {
    "duration": 2245,
    "start_time": "2022-05-29T10:40:00.415Z"
   },
   {
    "duration": 417,
    "start_time": "2022-05-29T10:40:02.662Z"
   },
   {
    "duration": 397,
    "start_time": "2022-05-29T10:40:03.082Z"
   },
   {
    "duration": 417,
    "start_time": "2022-05-29T10:40:03.481Z"
   },
   {
    "duration": 5861,
    "start_time": "2022-05-29T10:40:03.901Z"
   },
   {
    "duration": 2,
    "start_time": "2022-05-29T10:40:09.765Z"
   },
   {
    "duration": 15,
    "start_time": "2022-05-29T10:40:09.769Z"
   },
   {
    "duration": 71205,
    "start_time": "2022-05-29T10:40:09.789Z"
   },
   {
    "duration": 71,
    "start_time": "2022-05-29T10:41:34.127Z"
   },
   {
    "duration": 3,
    "start_time": "2022-05-29T10:42:55.723Z"
   },
   {
    "duration": 52020,
    "start_time": "2022-05-29T10:42:58.922Z"
   },
   {
    "duration": 14,
    "start_time": "2022-05-29T10:44:15.852Z"
   },
   {
    "duration": 9,
    "start_time": "2022-05-29T10:55:27.883Z"
   },
   {
    "duration": 100,
    "start_time": "2022-05-29T11:20:18.845Z"
   },
   {
    "duration": 7575,
    "start_time": "2022-05-29T11:22:28.520Z"
   },
   {
    "duration": 357,
    "start_time": "2022-05-29T11:23:24.841Z"
   },
   {
    "duration": 257,
    "start_time": "2022-05-29T11:24:14.601Z"
   },
   {
    "duration": 8621,
    "start_time": "2022-05-29T11:25:05.912Z"
   },
   {
    "duration": 5,
    "start_time": "2022-05-29T11:25:31.634Z"
   },
   {
    "duration": 6,
    "start_time": "2022-05-29T11:25:47.010Z"
   },
   {
    "duration": 26,
    "start_time": "2022-05-29T11:31:15.353Z"
   },
   {
    "duration": 22,
    "start_time": "2022-05-29T11:31:25.488Z"
   },
   {
    "duration": 21,
    "start_time": "2022-05-29T11:31:29.351Z"
   },
   {
    "duration": 4,
    "start_time": "2022-05-29T11:31:32.931Z"
   },
   {
    "duration": 6,
    "start_time": "2022-05-29T11:31:39.807Z"
   },
   {
    "duration": 7,
    "start_time": "2022-05-29T11:33:27.655Z"
   },
   {
    "duration": 3,
    "start_time": "2022-05-29T11:34:16.096Z"
   },
   {
    "duration": 35,
    "start_time": "2022-05-29T11:40:11.519Z"
   },
   {
    "duration": 7057,
    "start_time": "2022-05-29T11:42:22.902Z"
   },
   {
    "duration": 13,
    "start_time": "2022-05-29T11:43:39.385Z"
   },
   {
    "duration": 32,
    "start_time": "2022-05-29T11:46:58.530Z"
   },
   {
    "duration": 24,
    "start_time": "2022-05-29T11:47:12.952Z"
   },
   {
    "duration": 30,
    "start_time": "2022-05-29T11:47:32.911Z"
   },
   {
    "duration": 26,
    "start_time": "2022-05-29T11:47:45.612Z"
   },
   {
    "duration": 99,
    "start_time": "2022-05-29T11:48:30.087Z"
   },
   {
    "duration": 6987,
    "start_time": "2022-05-29T11:48:41.927Z"
   },
   {
    "duration": 4,
    "start_time": "2022-05-29T11:49:10.118Z"
   },
   {
    "duration": 4,
    "start_time": "2022-05-29T11:49:11.551Z"
   },
   {
    "duration": 3,
    "start_time": "2022-05-29T11:49:19.831Z"
   },
   {
    "duration": 7653,
    "start_time": "2022-05-29T11:49:24.535Z"
   },
   {
    "duration": 3,
    "start_time": "2022-05-29T13:33:56.826Z"
   },
   {
    "duration": 15698,
    "start_time": "2022-05-29T13:33:56.834Z"
   },
   {
    "duration": 6,
    "start_time": "2022-05-29T13:34:12.535Z"
   },
   {
    "duration": 3259,
    "start_time": "2022-05-29T13:34:12.543Z"
   },
   {
    "duration": 21,
    "start_time": "2022-05-29T13:34:15.805Z"
   },
   {
    "duration": 32,
    "start_time": "2022-05-29T13:34:15.827Z"
   },
   {
    "duration": 28,
    "start_time": "2022-05-29T13:34:15.861Z"
   },
   {
    "duration": 9,
    "start_time": "2022-05-29T13:34:15.891Z"
   },
   {
    "duration": 85,
    "start_time": "2022-05-29T13:34:15.902Z"
   },
   {
    "duration": 323,
    "start_time": "2022-05-29T13:34:15.989Z"
   },
   {
    "duration": 1537,
    "start_time": "2022-05-29T13:34:16.315Z"
   },
   {
    "duration": 323,
    "start_time": "2022-05-29T13:34:17.854Z"
   },
   {
    "duration": 241,
    "start_time": "2022-05-29T13:34:18.179Z"
   },
   {
    "duration": 279,
    "start_time": "2022-05-29T13:34:18.422Z"
   },
   {
    "duration": 3893,
    "start_time": "2022-05-29T13:34:18.703Z"
   },
   {
    "duration": 3,
    "start_time": "2022-05-29T13:34:22.598Z"
   },
   {
    "duration": 6,
    "start_time": "2022-05-29T13:34:22.603Z"
   },
   {
    "duration": 46423,
    "start_time": "2022-05-29T13:34:22.610Z"
   },
   {
    "duration": 37,
    "start_time": "2022-05-29T13:35:09.035Z"
   },
   {
    "duration": 8,
    "start_time": "2022-05-29T13:35:09.074Z"
   },
   {
    "duration": 69,
    "start_time": "2022-05-29T13:35:09.083Z"
   },
   {
    "duration": 6922,
    "start_time": "2022-05-29T13:35:09.153Z"
   },
   {
    "duration": 4,
    "start_time": "2022-05-29T13:35:16.076Z"
   },
   {
    "duration": 9,
    "start_time": "2022-05-29T13:35:16.082Z"
   },
   {
    "duration": 5,
    "start_time": "2022-05-29T13:35:16.092Z"
   },
   {
    "duration": 6943,
    "start_time": "2022-05-29T13:35:16.098Z"
   },
   {
    "duration": 4,
    "start_time": "2022-05-29T13:37:26.709Z"
   },
   {
    "duration": 2,
    "start_time": "2022-05-29T13:39:27.314Z"
   },
   {
    "duration": 7,
    "start_time": "2022-05-29T13:39:27.324Z"
   },
   {
    "duration": 6,
    "start_time": "2022-05-29T13:39:27.332Z"
   },
   {
    "duration": 710,
    "start_time": "2022-05-29T13:39:27.339Z"
   },
   {
    "duration": 13,
    "start_time": "2022-05-29T13:39:28.050Z"
   },
   {
    "duration": 33,
    "start_time": "2022-05-29T13:39:28.067Z"
   },
   {
    "duration": 5,
    "start_time": "2022-05-29T13:39:28.103Z"
   },
   {
    "duration": 12,
    "start_time": "2022-05-29T13:39:28.109Z"
   },
   {
    "duration": 93,
    "start_time": "2022-05-29T13:39:28.123Z"
   },
   {
    "duration": 294,
    "start_time": "2022-05-29T13:39:28.218Z"
   },
   {
    "duration": 1414,
    "start_time": "2022-05-29T13:39:28.514Z"
   },
   {
    "duration": 294,
    "start_time": "2022-05-29T13:39:29.930Z"
   },
   {
    "duration": 260,
    "start_time": "2022-05-29T13:39:30.227Z"
   },
   {
    "duration": 294,
    "start_time": "2022-05-29T13:39:30.489Z"
   },
   {
    "duration": 3825,
    "start_time": "2022-05-29T13:39:30.785Z"
   },
   {
    "duration": 2,
    "start_time": "2022-05-29T13:39:34.612Z"
   },
   {
    "duration": 9,
    "start_time": "2022-05-29T13:39:34.616Z"
   },
   {
    "duration": 47016,
    "start_time": "2022-05-29T13:39:34.626Z"
   },
   {
    "duration": 36,
    "start_time": "2022-05-29T13:40:21.644Z"
   },
   {
    "duration": 9,
    "start_time": "2022-05-29T13:40:21.681Z"
   },
   {
    "duration": 95,
    "start_time": "2022-05-29T13:40:21.692Z"
   },
   {
    "duration": 6961,
    "start_time": "2022-05-29T13:40:21.788Z"
   },
   {
    "duration": 4,
    "start_time": "2022-05-29T13:40:28.751Z"
   },
   {
    "duration": 9,
    "start_time": "2022-05-29T13:40:28.758Z"
   },
   {
    "duration": 38,
    "start_time": "2022-05-29T13:40:28.769Z"
   },
   {
    "duration": 5,
    "start_time": "2022-05-29T13:41:05.266Z"
   },
   {
    "duration": 3,
    "start_time": "2022-05-29T16:42:57.008Z"
   },
   {
    "duration": 12927,
    "start_time": "2022-05-29T16:42:57.013Z"
   },
   {
    "duration": 6,
    "start_time": "2022-05-29T16:43:09.942Z"
   },
   {
    "duration": 2096,
    "start_time": "2022-05-29T16:43:09.949Z"
   },
   {
    "duration": 15,
    "start_time": "2022-05-29T16:43:12.047Z"
   },
   {
    "duration": 28,
    "start_time": "2022-05-29T16:43:12.064Z"
   },
   {
    "duration": 15,
    "start_time": "2022-05-29T16:43:12.093Z"
   },
   {
    "duration": 16,
    "start_time": "2022-05-29T16:43:12.110Z"
   },
   {
    "duration": 91,
    "start_time": "2022-05-29T16:43:12.128Z"
   },
   {
    "duration": 305,
    "start_time": "2022-05-29T16:43:12.220Z"
   },
   {
    "duration": 1362,
    "start_time": "2022-05-29T16:43:12.526Z"
   },
   {
    "duration": 296,
    "start_time": "2022-05-29T16:43:13.889Z"
   },
   {
    "duration": 245,
    "start_time": "2022-05-29T16:43:14.187Z"
   },
   {
    "duration": 276,
    "start_time": "2022-05-29T16:43:14.434Z"
   },
   {
    "duration": 3638,
    "start_time": "2022-05-29T16:43:14.711Z"
   },
   {
    "duration": 3,
    "start_time": "2022-05-29T16:43:18.351Z"
   },
   {
    "duration": 6,
    "start_time": "2022-05-29T16:43:18.356Z"
   },
   {
    "duration": 45481,
    "start_time": "2022-05-29T16:43:18.364Z"
   },
   {
    "duration": 38,
    "start_time": "2022-05-29T16:44:03.847Z"
   },
   {
    "duration": 9,
    "start_time": "2022-05-29T16:44:03.887Z"
   },
   {
    "duration": 84,
    "start_time": "2022-05-29T16:44:03.897Z"
   },
   {
    "duration": 6476,
    "start_time": "2022-05-29T16:44:03.982Z"
   },
   {
    "duration": 3,
    "start_time": "2022-05-29T16:44:10.460Z"
   },
   {
    "duration": 8,
    "start_time": "2022-05-29T16:44:10.465Z"
   },
   {
    "duration": 5,
    "start_time": "2022-05-29T16:44:10.475Z"
   },
   {
    "duration": 6675,
    "start_time": "2022-05-29T16:44:10.481Z"
   },
   {
    "duration": 320,
    "start_time": "2022-05-29T16:44:46.926Z"
   },
   {
    "duration": 4242,
    "start_time": "2022-05-29T16:44:57.290Z"
   },
   {
    "duration": 7,
    "start_time": "2022-05-29T16:46:25.275Z"
   },
   {
    "duration": 19,
    "start_time": "2022-05-29T16:46:38.593Z"
   },
   {
    "duration": 22,
    "start_time": "2022-05-29T16:46:57.805Z"
   },
   {
    "duration": 59,
    "start_time": "2022-05-29T16:47:04.682Z"
   },
   {
    "duration": 4,
    "start_time": "2022-05-29T16:48:28.601Z"
   },
   {
    "duration": 5,
    "start_time": "2022-05-29T16:48:37.975Z"
   },
   {
    "duration": 21,
    "start_time": "2022-05-29T16:49:37.854Z"
   },
   {
    "duration": 4,
    "start_time": "2022-05-29T16:50:05.616Z"
   },
   {
    "duration": 4,
    "start_time": "2022-05-29T16:50:44.657Z"
   },
   {
    "duration": 60,
    "start_time": "2022-05-29T16:51:07.788Z"
   },
   {
    "duration": 4,
    "start_time": "2022-05-29T16:51:58.672Z"
   },
   {
    "duration": 13016,
    "start_time": "2022-05-29T16:51:58.678Z"
   },
   {
    "duration": 6,
    "start_time": "2022-05-29T16:52:11.697Z"
   },
   {
    "duration": 2115,
    "start_time": "2022-05-29T16:52:11.705Z"
   },
   {
    "duration": 16,
    "start_time": "2022-05-29T16:52:13.822Z"
   },
   {
    "duration": 28,
    "start_time": "2022-05-29T16:52:13.840Z"
   },
   {
    "duration": 6,
    "start_time": "2022-05-29T16:52:13.869Z"
   },
   {
    "duration": 9,
    "start_time": "2022-05-29T16:52:13.876Z"
   },
   {
    "duration": 94,
    "start_time": "2022-05-29T16:52:13.887Z"
   },
   {
    "duration": 313,
    "start_time": "2022-05-29T16:52:13.982Z"
   },
   {
    "duration": 1368,
    "start_time": "2022-05-29T16:52:14.297Z"
   },
   {
    "duration": 283,
    "start_time": "2022-05-29T16:52:15.666Z"
   },
   {
    "duration": 257,
    "start_time": "2022-05-29T16:52:15.952Z"
   },
   {
    "duration": 303,
    "start_time": "2022-05-29T16:52:16.211Z"
   },
   {
    "duration": 3650,
    "start_time": "2022-05-29T16:52:16.515Z"
   },
   {
    "duration": 3,
    "start_time": "2022-05-29T16:52:20.168Z"
   },
   {
    "duration": 10,
    "start_time": "2022-05-29T16:52:20.173Z"
   },
   {
    "duration": 44678,
    "start_time": "2022-05-29T16:52:20.185Z"
   },
   {
    "duration": 36,
    "start_time": "2022-05-29T16:53:04.865Z"
   },
   {
    "duration": 9,
    "start_time": "2022-05-29T16:53:04.903Z"
   },
   {
    "duration": 89,
    "start_time": "2022-05-29T16:53:04.914Z"
   },
   {
    "duration": 6317,
    "start_time": "2022-05-29T16:53:05.005Z"
   },
   {
    "duration": 4,
    "start_time": "2022-05-29T16:53:11.323Z"
   },
   {
    "duration": 6,
    "start_time": "2022-05-29T16:53:11.329Z"
   },
   {
    "duration": 16,
    "start_time": "2022-05-29T16:53:11.336Z"
   },
   {
    "duration": 6551,
    "start_time": "2022-05-29T16:53:11.353Z"
   },
   {
    "duration": 4,
    "start_time": "2022-05-29T16:53:17.906Z"
   },
   {
    "duration": 8,
    "start_time": "2022-05-29T17:37:22.216Z"
   },
   {
    "duration": 28,
    "start_time": "2022-05-29T17:38:51.442Z"
   },
   {
    "duration": 75,
    "start_time": "2022-05-29T17:39:22.762Z"
   },
   {
    "duration": 3,
    "start_time": "2022-05-29T17:39:57.171Z"
   },
   {
    "duration": 3,
    "start_time": "2022-05-29T17:40:06.979Z"
   },
   {
    "duration": 4,
    "start_time": "2022-05-29T17:40:23.979Z"
   },
   {
    "duration": 420,
    "start_time": "2022-05-29T17:40:55.160Z"
   },
   {
    "duration": 85,
    "start_time": "2022-05-29T17:41:11.870Z"
   },
   {
    "duration": 4,
    "start_time": "2022-05-29T17:41:16.673Z"
   },
   {
    "duration": 21,
    "start_time": "2022-05-29T17:41:41.142Z"
   },
   {
    "duration": 451,
    "start_time": "2022-05-29T17:42:21.283Z"
   },
   {
    "duration": 68,
    "start_time": "2022-05-29T17:42:37.851Z"
   },
   {
    "duration": 4,
    "start_time": "2022-05-29T17:42:42.233Z"
   },
   {
    "duration": 69,
    "start_time": "2022-05-29T17:43:35.829Z"
   },
   {
    "duration": 54,
    "start_time": "2022-05-29T17:44:14.809Z"
   },
   {
    "duration": 36,
    "start_time": "2022-05-29T17:44:21.702Z"
   },
   {
    "duration": 80,
    "start_time": "2022-05-29T17:54:14.992Z"
   },
   {
    "duration": 6901,
    "start_time": "2022-05-29T17:54:18.765Z"
   },
   {
    "duration": 9,
    "start_time": "2022-05-29T17:54:39.524Z"
   },
   {
    "duration": 7215,
    "start_time": "2022-05-29T17:54:41.342Z"
   },
   {
    "duration": 122,
    "start_time": "2022-05-29T17:57:23.824Z"
   },
   {
    "duration": 2,
    "start_time": "2022-05-29T17:58:01.346Z"
   },
   {
    "duration": 7,
    "start_time": "2022-05-29T17:58:37.249Z"
   },
   {
    "duration": 12,
    "start_time": "2022-05-29T17:59:19.947Z"
   },
   {
    "duration": 56,
    "start_time": "2022-05-29T18:00:47.452Z"
   },
   {
    "duration": 6880,
    "start_time": "2022-05-29T18:00:55.346Z"
   },
   {
    "duration": 29,
    "start_time": "2022-05-29T18:04:14.792Z"
   },
   {
    "duration": 18,
    "start_time": "2022-05-29T18:05:14.397Z"
   },
   {
    "duration": 4,
    "start_time": "2022-05-29T18:05:18.982Z"
   },
   {
    "duration": 8,
    "start_time": "2022-05-29T18:05:35.846Z"
   },
   {
    "duration": 4,
    "start_time": "2022-05-29T18:06:17.257Z"
   },
   {
    "duration": 147,
    "start_time": "2022-05-29T18:06:25.147Z"
   },
   {
    "duration": 3,
    "start_time": "2022-05-29T18:06:34.043Z"
   },
   {
    "duration": 4,
    "start_time": "2022-05-29T18:06:47.265Z"
   },
   {
    "duration": 262,
    "start_time": "2022-05-29T18:08:32.451Z"
   },
   {
    "duration": 5513,
    "start_time": "2022-05-29T18:08:47.400Z"
   },
   {
    "duration": 131,
    "start_time": "2022-05-29T18:09:06.882Z"
   },
   {
    "duration": 5,
    "start_time": "2022-05-29T18:09:31.281Z"
   },
   {
    "duration": 2981,
    "start_time": "2022-05-30T11:47:30.298Z"
   },
   {
    "duration": 22684,
    "start_time": "2022-05-30T11:47:33.281Z"
   },
   {
    "duration": 6,
    "start_time": "2022-05-30T11:47:55.971Z"
   },
   {
    "duration": 3484,
    "start_time": "2022-05-30T11:47:55.980Z"
   },
   {
    "duration": 18,
    "start_time": "2022-05-30T11:47:59.466Z"
   },
   {
    "duration": 32,
    "start_time": "2022-05-30T11:47:59.486Z"
   },
   {
    "duration": 6,
    "start_time": "2022-05-30T11:47:59.520Z"
   },
   {
    "duration": 43,
    "start_time": "2022-05-30T11:47:59.531Z"
   },
   {
    "duration": 103,
    "start_time": "2022-05-30T11:47:59.576Z"
   },
   {
    "duration": 332,
    "start_time": "2022-05-30T11:47:59.683Z"
   },
   {
    "duration": 1800,
    "start_time": "2022-05-30T11:48:00.017Z"
   },
   {
    "duration": 359,
    "start_time": "2022-05-30T11:48:01.820Z"
   },
   {
    "duration": 329,
    "start_time": "2022-05-30T11:48:02.182Z"
   },
   {
    "duration": 322,
    "start_time": "2022-05-30T11:48:02.512Z"
   },
   {
    "duration": 4568,
    "start_time": "2022-05-30T11:48:02.837Z"
   },
   {
    "duration": 4,
    "start_time": "2022-05-30T11:48:07.407Z"
   },
   {
    "duration": 18,
    "start_time": "2022-05-30T11:48:07.412Z"
   },
   {
    "duration": 53561,
    "start_time": "2022-05-30T11:48:07.436Z"
   },
   {
    "duration": 58,
    "start_time": "2022-05-30T11:49:00.999Z"
   },
   {
    "duration": 36,
    "start_time": "2022-05-30T11:49:01.058Z"
   },
   {
    "duration": 91,
    "start_time": "2022-05-30T11:49:01.095Z"
   },
   {
    "duration": 7777,
    "start_time": "2022-05-30T11:49:01.188Z"
   },
   {
    "duration": 5,
    "start_time": "2022-05-30T11:49:08.967Z"
   },
   {
    "duration": 7,
    "start_time": "2022-05-30T11:49:08.974Z"
   },
   {
    "duration": 7,
    "start_time": "2022-05-30T11:49:08.983Z"
   },
   {
    "duration": 2429,
    "start_time": "2022-05-30T12:08:09.614Z"
   },
   {
    "duration": 16242,
    "start_time": "2022-05-30T12:08:12.046Z"
   },
   {
    "duration": 5,
    "start_time": "2022-05-30T12:08:28.290Z"
   },
   {
    "duration": 2526,
    "start_time": "2022-05-30T12:08:28.297Z"
   },
   {
    "duration": 23,
    "start_time": "2022-05-30T12:08:30.825Z"
   },
   {
    "duration": 33,
    "start_time": "2022-05-30T12:08:30.849Z"
   },
   {
    "duration": 13,
    "start_time": "2022-05-30T12:08:30.884Z"
   },
   {
    "duration": 38,
    "start_time": "2022-05-30T12:08:30.899Z"
   },
   {
    "duration": 94,
    "start_time": "2022-05-30T12:08:30.945Z"
   },
   {
    "duration": 316,
    "start_time": "2022-05-30T12:08:31.042Z"
   },
   {
    "duration": 1659,
    "start_time": "2022-05-30T12:08:31.360Z"
   },
   {
    "duration": 309,
    "start_time": "2022-05-30T12:08:33.021Z"
   },
   {
    "duration": 290,
    "start_time": "2022-05-30T12:08:33.332Z"
   },
   {
    "duration": 348,
    "start_time": "2022-05-30T12:08:33.624Z"
   },
   {
    "duration": 4278,
    "start_time": "2022-05-30T12:08:33.974Z"
   },
   {
    "duration": 3,
    "start_time": "2022-05-30T12:08:38.255Z"
   },
   {
    "duration": 9,
    "start_time": "2022-05-30T12:08:38.260Z"
   },
   {
    "duration": 50214,
    "start_time": "2022-05-30T12:08:38.271Z"
   },
   {
    "duration": 50,
    "start_time": "2022-05-30T12:09:28.487Z"
   },
   {
    "duration": 14,
    "start_time": "2022-05-30T12:09:28.540Z"
   },
   {
    "duration": 85,
    "start_time": "2022-05-30T12:09:28.556Z"
   },
   {
    "duration": 7300,
    "start_time": "2022-05-30T12:09:28.643Z"
   },
   {
    "duration": 5,
    "start_time": "2022-05-30T12:09:35.945Z"
   },
   {
    "duration": 17,
    "start_time": "2022-05-30T12:09:35.951Z"
   },
   {
    "duration": 5,
    "start_time": "2022-05-30T12:09:35.970Z"
   },
   {
    "duration": 60,
    "start_time": "2022-05-30T12:11:06.741Z"
   },
   {
    "duration": 2456,
    "start_time": "2022-05-30T12:11:11.496Z"
   },
   {
    "duration": 14426,
    "start_time": "2022-05-30T12:11:13.955Z"
   },
   {
    "duration": 6,
    "start_time": "2022-05-30T12:11:28.383Z"
   },
   {
    "duration": 2572,
    "start_time": "2022-05-30T12:11:28.391Z"
   },
   {
    "duration": 18,
    "start_time": "2022-05-30T12:11:30.964Z"
   },
   {
    "duration": 63,
    "start_time": "2022-05-30T12:11:30.983Z"
   },
   {
    "duration": 16,
    "start_time": "2022-05-30T12:11:31.048Z"
   },
   {
    "duration": 23,
    "start_time": "2022-05-30T12:11:31.066Z"
   },
   {
    "duration": 92,
    "start_time": "2022-05-30T12:11:31.091Z"
   },
   {
    "duration": 312,
    "start_time": "2022-05-30T12:11:31.186Z"
   },
   {
    "duration": 1589,
    "start_time": "2022-05-30T12:11:31.499Z"
   },
   {
    "duration": 302,
    "start_time": "2022-05-30T12:11:33.090Z"
   },
   {
    "duration": 279,
    "start_time": "2022-05-30T12:11:33.394Z"
   },
   {
    "duration": 311,
    "start_time": "2022-05-30T12:11:33.675Z"
   },
   {
    "duration": 4050,
    "start_time": "2022-05-30T12:11:33.988Z"
   },
   {
    "duration": 2,
    "start_time": "2022-05-30T12:11:38.041Z"
   },
   {
    "duration": 16,
    "start_time": "2022-05-30T12:11:38.046Z"
   },
   {
    "duration": 49989,
    "start_time": "2022-05-30T12:11:38.064Z"
   },
   {
    "duration": 42,
    "start_time": "2022-05-30T12:12:28.054Z"
   },
   {
    "duration": 11,
    "start_time": "2022-05-30T12:12:28.098Z"
   },
   {
    "duration": 69,
    "start_time": "2022-05-30T12:12:28.128Z"
   },
   {
    "duration": 7162,
    "start_time": "2022-05-30T12:12:28.199Z"
   },
   {
    "duration": 5,
    "start_time": "2022-05-30T12:12:35.363Z"
   },
   {
    "duration": 19,
    "start_time": "2022-05-30T12:12:35.370Z"
   },
   {
    "duration": 7,
    "start_time": "2022-05-30T12:12:35.390Z"
   },
   {
    "duration": 7642,
    "start_time": "2022-05-30T12:14:11.394Z"
   },
   {
    "duration": 4,
    "start_time": "2022-05-30T12:14:23.468Z"
   },
   {
    "duration": 56,
    "start_time": "2022-05-30T12:17:28.085Z"
   },
   {
    "duration": 2,
    "start_time": "2022-05-30T12:17:37.768Z"
   },
   {
    "duration": 4,
    "start_time": "2022-05-30T12:17:42.666Z"
   },
   {
    "duration": 8,
    "start_time": "2022-05-30T12:18:01.922Z"
   },
   {
    "duration": 7,
    "start_time": "2022-05-30T12:18:04.175Z"
   },
   {
    "duration": 5,
    "start_time": "2022-05-30T12:18:21.523Z"
   },
   {
    "duration": 9,
    "start_time": "2022-05-30T12:18:32.634Z"
   },
   {
    "duration": 6811,
    "start_time": "2022-05-30T12:44:43.362Z"
   },
   {
    "duration": 4,
    "start_time": "2022-05-30T12:45:15.594Z"
   },
   {
    "duration": 64,
    "start_time": "2022-05-30T12:46:02.279Z"
   },
   {
    "duration": 6,
    "start_time": "2022-05-30T12:46:12.734Z"
   },
   {
    "duration": 2201,
    "start_time": "2022-05-30T12:46:25.853Z"
   },
   {
    "duration": 15484,
    "start_time": "2022-05-30T12:46:28.057Z"
   },
   {
    "duration": 5,
    "start_time": "2022-05-30T12:46:43.544Z"
   },
   {
    "duration": 2556,
    "start_time": "2022-05-30T12:46:43.551Z"
   },
   {
    "duration": 16,
    "start_time": "2022-05-30T12:46:46.109Z"
   },
   {
    "duration": 44,
    "start_time": "2022-05-30T12:46:46.128Z"
   },
   {
    "duration": 6,
    "start_time": "2022-05-30T12:46:46.174Z"
   },
   {
    "duration": 11,
    "start_time": "2022-05-30T12:46:46.182Z"
   },
   {
    "duration": 109,
    "start_time": "2022-05-30T12:46:46.194Z"
   },
   {
    "duration": 376,
    "start_time": "2022-05-30T12:46:46.307Z"
   },
   {
    "duration": 1499,
    "start_time": "2022-05-30T12:46:46.685Z"
   },
   {
    "duration": 279,
    "start_time": "2022-05-30T12:46:48.186Z"
   },
   {
    "duration": 249,
    "start_time": "2022-05-30T12:46:48.466Z"
   },
   {
    "duration": 267,
    "start_time": "2022-05-30T12:46:48.717Z"
   },
   {
    "duration": 3927,
    "start_time": "2022-05-30T12:46:48.985Z"
   },
   {
    "duration": 2,
    "start_time": "2022-05-30T12:46:52.914Z"
   },
   {
    "duration": 25,
    "start_time": "2022-05-30T12:46:52.926Z"
   },
   {
    "duration": 45829,
    "start_time": "2022-05-30T12:46:52.953Z"
   },
   {
    "duration": 56,
    "start_time": "2022-05-30T12:47:38.783Z"
   },
   {
    "duration": 14,
    "start_time": "2022-05-30T12:47:38.842Z"
   },
   {
    "duration": 80,
    "start_time": "2022-05-30T12:47:38.858Z"
   },
   {
    "duration": 6502,
    "start_time": "2022-05-30T12:47:38.940Z"
   },
   {
    "duration": 4,
    "start_time": "2022-05-30T12:47:45.444Z"
   },
   {
    "duration": 11,
    "start_time": "2022-05-30T12:47:45.449Z"
   },
   {
    "duration": 7,
    "start_time": "2022-05-30T12:47:45.462Z"
   },
   {
    "duration": 6623,
    "start_time": "2022-05-30T12:47:56.658Z"
   },
   {
    "duration": 4,
    "start_time": "2022-05-30T12:48:14.441Z"
   },
   {
    "duration": 4,
    "start_time": "2022-05-30T12:48:23.160Z"
   },
   {
    "duration": 13,
    "start_time": "2022-05-30T12:48:49.525Z"
   },
   {
    "duration": 4,
    "start_time": "2022-05-30T12:49:13.783Z"
   },
   {
    "duration": 54,
    "start_time": "2022-05-30T12:49:16.851Z"
   },
   {
    "duration": 28,
    "start_time": "2022-05-30T12:49:18.748Z"
   },
   {
    "duration": 4,
    "start_time": "2022-05-30T12:49:21.567Z"
   },
   {
    "duration": 132,
    "start_time": "2022-05-30T12:49:27.092Z"
   },
   {
    "duration": 3,
    "start_time": "2022-05-30T12:49:35.470Z"
   },
   {
    "duration": 4,
    "start_time": "2022-05-30T12:49:38.180Z"
   },
   {
    "duration": 6,
    "start_time": "2022-05-30T12:49:46.938Z"
   },
   {
    "duration": 100070,
    "start_time": "2022-05-30T12:49:49.846Z"
   },
   {
    "duration": 5569,
    "start_time": "2022-05-30T16:06:03.015Z"
   },
   {
    "duration": 6073,
    "start_time": "2022-05-30T16:06:08.587Z"
   },
   {
    "duration": 6,
    "start_time": "2022-05-30T16:06:14.661Z"
   },
   {
    "duration": 2326,
    "start_time": "2022-05-30T16:06:14.669Z"
   },
   {
    "duration": 15,
    "start_time": "2022-05-30T16:06:16.997Z"
   },
   {
    "duration": 30,
    "start_time": "2022-05-30T16:06:17.013Z"
   },
   {
    "duration": 5,
    "start_time": "2022-05-30T16:06:17.045Z"
   },
   {
    "duration": 11,
    "start_time": "2022-05-30T16:06:17.052Z"
   },
   {
    "duration": 92,
    "start_time": "2022-05-30T16:06:17.065Z"
   },
   {
    "duration": 464,
    "start_time": "2022-05-30T16:06:17.160Z"
   },
   {
    "duration": 1365,
    "start_time": "2022-05-30T16:06:17.626Z"
   },
   {
    "duration": 264,
    "start_time": "2022-05-30T16:06:18.993Z"
   },
   {
    "duration": 271,
    "start_time": "2022-05-30T16:06:19.259Z"
   },
   {
    "duration": 259,
    "start_time": "2022-05-30T16:06:19.531Z"
   },
   {
    "duration": 3584,
    "start_time": "2022-05-30T16:06:19.792Z"
   },
   {
    "duration": 3,
    "start_time": "2022-05-30T16:06:23.379Z"
   },
   {
    "duration": 7,
    "start_time": "2022-05-30T16:06:23.383Z"
   },
   {
    "duration": 41163,
    "start_time": "2022-05-30T16:06:23.392Z"
   },
   {
    "duration": 43,
    "start_time": "2022-05-30T16:07:04.556Z"
   },
   {
    "duration": 8,
    "start_time": "2022-05-30T16:07:04.601Z"
   },
   {
    "duration": 79,
    "start_time": "2022-05-30T16:07:04.610Z"
   },
   {
    "duration": 2,
    "start_time": "2022-05-30T16:07:04.691Z"
   },
   {
    "duration": 47,
    "start_time": "2022-05-30T16:07:04.695Z"
   },
   {
    "duration": 20,
    "start_time": "2022-05-30T16:07:04.744Z"
   },
   {
    "duration": 340,
    "start_time": "2022-05-30T16:07:04.766Z"
   },
   {
    "duration": 0,
    "start_time": "2022-05-30T16:07:05.108Z"
   },
   {
    "duration": 0,
    "start_time": "2022-05-30T16:07:05.109Z"
   },
   {
    "duration": 0,
    "start_time": "2022-05-30T16:07:05.110Z"
   },
   {
    "duration": 0,
    "start_time": "2022-05-30T16:07:05.111Z"
   },
   {
    "duration": 0,
    "start_time": "2022-05-30T16:07:05.112Z"
   },
   {
    "duration": 0,
    "start_time": "2022-05-30T16:07:05.113Z"
   },
   {
    "duration": 16,
    "start_time": "2022-05-30T16:11:41.915Z"
   },
   {
    "duration": 6,
    "start_time": "2022-05-30T16:12:55.390Z"
   },
   {
    "duration": 4,
    "start_time": "2022-05-30T16:13:58.994Z"
   },
   {
    "duration": 20,
    "start_time": "2022-05-30T16:14:01.864Z"
   },
   {
    "duration": 6008,
    "start_time": "2022-05-30T16:14:21.481Z"
   },
   {
    "duration": 4,
    "start_time": "2022-05-30T16:14:29.784Z"
   },
   {
    "duration": 112,
    "start_time": "2022-05-30T16:14:34.150Z"
   },
   {
    "duration": 4,
    "start_time": "2022-05-30T16:14:41.041Z"
   },
   {
    "duration": 4,
    "start_time": "2022-05-30T16:14:43.506Z"
   },
   {
    "duration": 5,
    "start_time": "2022-05-30T16:14:45.187Z"
   },
   {
    "duration": 3,
    "start_time": "2022-05-30T16:14:47.475Z"
   },
   {
    "duration": 208243,
    "start_time": "2022-05-30T16:15:03.105Z"
   },
   {
    "duration": 6,
    "start_time": "2022-05-30T16:19:04.926Z"
   },
   {
    "duration": 7209,
    "start_time": "2022-05-30T16:19:20.986Z"
   },
   {
    "duration": 17,
    "start_time": "2022-05-30T16:22:40.386Z"
   },
   {
    "duration": 2,
    "start_time": "2022-05-30T16:22:54.402Z"
   },
   {
    "duration": 0,
    "start_time": "2022-05-30T16:23:19.562Z"
   },
   {
    "duration": 48868,
    "start_time": "2022-05-30T16:23:22.875Z"
   },
   {
    "duration": 20335,
    "start_time": "2022-05-30T16:24:20.596Z"
   },
   {
    "duration": 4,
    "start_time": "2022-05-30T16:25:25.046Z"
   },
   {
    "duration": 19977,
    "start_time": "2022-05-30T16:25:29.838Z"
   },
   {
    "duration": 4,
    "start_time": "2022-05-30T16:41:53.787Z"
   },
   {
    "duration": 6641,
    "start_time": "2022-05-30T16:43:33.518Z"
   },
   {
    "duration": 18,
    "start_time": "2022-05-30T16:44:46.676Z"
   },
   {
    "duration": 5,
    "start_time": "2022-05-30T16:45:02.304Z"
   },
   {
    "duration": 25,
    "start_time": "2022-05-30T16:45:09.636Z"
   },
   {
    "duration": 17,
    "start_time": "2022-05-30T16:45:46.097Z"
   },
   {
    "duration": 95,
    "start_time": "2022-05-30T16:45:51.274Z"
   },
   {
    "duration": 18,
    "start_time": "2022-05-30T16:45:54.705Z"
   },
   {
    "duration": 37,
    "start_time": "2022-05-30T16:48:00.324Z"
   },
   {
    "duration": 19,
    "start_time": "2022-05-30T16:48:55.943Z"
   },
   {
    "duration": 4,
    "start_time": "2022-05-30T16:49:07.001Z"
   },
   {
    "duration": 5,
    "start_time": "2022-05-30T16:50:18.842Z"
   },
   {
    "duration": 19,
    "start_time": "2022-05-30T16:51:17.694Z"
   },
   {
    "duration": 5,
    "start_time": "2022-05-30T16:51:29.485Z"
   },
   {
    "duration": 5,
    "start_time": "2022-05-30T16:52:29.983Z"
   },
   {
    "duration": 1039,
    "start_time": "2022-05-30T16:52:54.208Z"
   },
   {
    "duration": 29,
    "start_time": "2022-05-30T16:53:30.420Z"
   },
   {
    "duration": 9,
    "start_time": "2022-05-30T16:53:43.196Z"
   },
   {
    "duration": 26,
    "start_time": "2022-05-30T16:54:42.477Z"
   },
   {
    "duration": 4,
    "start_time": "2022-05-30T16:54:54.491Z"
   },
   {
    "duration": 25,
    "start_time": "2022-05-30T16:55:31.903Z"
   },
   {
    "duration": 5,
    "start_time": "2022-05-30T16:55:42.127Z"
   },
   {
    "duration": 357,
    "start_time": "2022-05-30T16:56:50.644Z"
   },
   {
    "duration": 279,
    "start_time": "2022-05-30T16:57:41.396Z"
   },
   {
    "duration": 5,
    "start_time": "2022-05-30T16:58:28.973Z"
   },
   {
    "duration": 4,
    "start_time": "2022-05-30T16:58:59.512Z"
   },
   {
    "duration": 20,
    "start_time": "2022-05-30T16:59:19.270Z"
   },
   {
    "duration": 6,
    "start_time": "2022-05-30T16:59:30.158Z"
   },
   {
    "duration": 5442,
    "start_time": "2022-05-31T01:04:27.491Z"
   },
   {
    "duration": 4241,
    "start_time": "2022-05-31T01:04:32.935Z"
   },
   {
    "duration": 5,
    "start_time": "2022-05-31T01:04:37.178Z"
   },
   {
    "duration": 2290,
    "start_time": "2022-05-31T01:04:37.185Z"
   },
   {
    "duration": 15,
    "start_time": "2022-05-31T01:04:39.477Z"
   },
   {
    "duration": 30,
    "start_time": "2022-05-31T01:04:39.494Z"
   },
   {
    "duration": 6,
    "start_time": "2022-05-31T01:04:39.525Z"
   },
   {
    "duration": 12,
    "start_time": "2022-05-31T01:04:39.532Z"
   },
   {
    "duration": 91,
    "start_time": "2022-05-31T01:04:39.545Z"
   },
   {
    "duration": 287,
    "start_time": "2022-05-31T01:04:39.639Z"
   },
   {
    "duration": 1376,
    "start_time": "2022-05-31T01:04:39.928Z"
   },
   {
    "duration": 268,
    "start_time": "2022-05-31T01:04:41.305Z"
   },
   {
    "duration": 252,
    "start_time": "2022-05-31T01:04:41.574Z"
   },
   {
    "duration": 262,
    "start_time": "2022-05-31T01:04:41.828Z"
   },
   {
    "duration": 3513,
    "start_time": "2022-05-31T01:04:42.092Z"
   },
   {
    "duration": 3,
    "start_time": "2022-05-31T01:04:45.607Z"
   },
   {
    "duration": 8,
    "start_time": "2022-05-31T01:04:45.615Z"
   },
   {
    "duration": 41822,
    "start_time": "2022-05-31T01:04:45.625Z"
   },
   {
    "duration": 37,
    "start_time": "2022-05-31T01:05:27.449Z"
   },
   {
    "duration": 16,
    "start_time": "2022-05-31T01:05:27.488Z"
   },
   {
    "duration": 61,
    "start_time": "2022-05-31T01:05:27.505Z"
   },
   {
    "duration": 2,
    "start_time": "2022-05-31T01:05:27.568Z"
   },
   {
    "duration": 52,
    "start_time": "2022-05-31T01:05:27.572Z"
   },
   {
    "duration": 20,
    "start_time": "2022-05-31T01:05:27.626Z"
   },
   {
    "duration": 3,
    "start_time": "2022-05-31T01:05:27.648Z"
   },
   {
    "duration": 6566,
    "start_time": "2022-05-31T01:05:27.653Z"
   },
   {
    "duration": 3,
    "start_time": "2022-05-31T01:05:34.220Z"
   },
   {
    "duration": 21,
    "start_time": "2022-05-31T01:05:34.226Z"
   },
   {
    "duration": 29,
    "start_time": "2022-05-31T01:05:34.249Z"
   },
   {
    "duration": 10,
    "start_time": "2022-05-31T01:05:34.280Z"
   },
   {
    "duration": 343,
    "start_time": "2022-05-31T01:05:34.291Z"
   },
   {
    "duration": 0,
    "start_time": "2022-05-31T01:05:34.635Z"
   },
   {
    "duration": 0,
    "start_time": "2022-05-31T01:05:34.636Z"
   },
   {
    "duration": 0,
    "start_time": "2022-05-31T01:05:34.637Z"
   },
   {
    "duration": 0,
    "start_time": "2022-05-31T01:05:34.639Z"
   },
   {
    "duration": 0,
    "start_time": "2022-05-31T01:05:34.639Z"
   },
   {
    "duration": 18,
    "start_time": "2022-05-31T01:10:48.120Z"
   },
   {
    "duration": 19,
    "start_time": "2022-05-31T01:18:20.156Z"
   },
   {
    "duration": 4,
    "start_time": "2022-05-31T01:23:53.554Z"
   },
   {
    "duration": 6276,
    "start_time": "2022-05-31T01:24:03.168Z"
   },
   {
    "duration": 4,
    "start_time": "2022-05-31T01:24:23.923Z"
   },
   {
    "duration": 3,
    "start_time": "2022-05-31T01:24:33.363Z"
   },
   {
    "duration": 3,
    "start_time": "2022-05-31T01:24:55.584Z"
   },
   {
    "duration": 252809,
    "start_time": "2022-05-31T01:24:58.345Z"
   },
   {
    "duration": 5,
    "start_time": "2022-05-31T01:29:14.034Z"
   },
   {
    "duration": 29,
    "start_time": "2022-05-31T01:29:22.009Z"
   },
   {
    "duration": 5,
    "start_time": "2022-05-31T01:35:11.810Z"
   },
   {
    "duration": 6164,
    "start_time": "2022-05-31T01:35:13.379Z"
   },
   {
    "duration": 3,
    "start_time": "2022-05-31T01:35:22.924Z"
   },
   {
    "duration": 3,
    "start_time": "2022-05-31T01:35:26.947Z"
   },
   {
    "duration": 3,
    "start_time": "2022-05-31T01:35:30.102Z"
   },
   {
    "duration": 5,
    "start_time": "2022-05-31T01:35:37.548Z"
   },
   {
    "duration": 3,
    "start_time": "2022-05-31T01:35:39.420Z"
   },
   {
    "duration": 256662,
    "start_time": "2022-05-31T01:35:40.935Z"
   },
   {
    "duration": 6,
    "start_time": "2022-05-31T01:40:05.364Z"
   },
   {
    "duration": 9251,
    "start_time": "2022-05-31T01:40:08.451Z"
   },
   {
    "duration": 3,
    "start_time": "2022-05-31T01:40:33.196Z"
   },
   {
    "duration": 56837,
    "start_time": "2022-05-31T01:40:35.489Z"
   },
   {
    "duration": 19685,
    "start_time": "2022-05-31T01:41:44.698Z"
   },
   {
    "duration": 5,
    "start_time": "2022-05-31T01:42:43.969Z"
   },
   {
    "duration": 3,
    "start_time": "2022-05-31T01:42:59.357Z"
   },
   {
    "duration": 3,
    "start_time": "2022-05-31T01:43:22.272Z"
   },
   {
    "duration": 4,
    "start_time": "2022-05-31T01:43:40.138Z"
   },
   {
    "duration": 4,
    "start_time": "2022-05-31T01:43:50.003Z"
   },
   {
    "duration": 18,
    "start_time": "2022-05-31T01:44:34.277Z"
   },
   {
    "duration": 3,
    "start_time": "2022-05-31T01:44:56.913Z"
   },
   {
    "duration": 4,
    "start_time": "2022-05-31T01:45:05.481Z"
   },
   {
    "duration": 8,
    "start_time": "2022-05-31T01:45:23.312Z"
   },
   {
    "duration": 6,
    "start_time": "2022-05-31T01:52:50.001Z"
   },
   {
    "duration": 15,
    "start_time": "2022-05-31T01:52:51.953Z"
   },
   {
    "duration": 19,
    "start_time": "2022-05-31T01:56:06.567Z"
   },
   {
    "duration": 10,
    "start_time": "2022-05-31T01:56:27.236Z"
   },
   {
    "duration": 3,
    "start_time": "2022-05-31T01:56:37.987Z"
   },
   {
    "duration": 4,
    "start_time": "2022-05-31T01:57:04.736Z"
   },
   {
    "duration": 32,
    "start_time": "2022-05-31T01:58:05.791Z"
   },
   {
    "duration": 3,
    "start_time": "2022-05-31T01:58:14.975Z"
   },
   {
    "duration": 6534,
    "start_time": "2022-05-31T01:58:20.582Z"
   },
   {
    "duration": 3,
    "start_time": "2022-05-31T02:02:22.369Z"
   },
   {
    "duration": 70452,
    "start_time": "2022-05-31T02:02:30.464Z"
   },
   {
    "duration": 22730,
    "start_time": "2022-05-31T02:03:44.759Z"
   },
   {
    "duration": 225365,
    "start_time": "2022-05-31T02:13:52.916Z"
   },
   {
    "duration": 6,
    "start_time": "2022-05-31T02:17:43.307Z"
   },
   {
    "duration": 9039,
    "start_time": "2022-05-31T02:17:46.218Z"
   },
   {
    "duration": 4,
    "start_time": "2022-05-31T02:32:05.948Z"
   },
   {
    "duration": 19,
    "start_time": "2022-05-31T02:32:08.694Z"
   },
   {
    "duration": 31,
    "start_time": "2022-05-31T02:32:53.069Z"
   },
   {
    "duration": 17,
    "start_time": "2022-05-31T02:32:58.261Z"
   },
   {
    "duration": 30,
    "start_time": "2022-05-31T02:33:47.086Z"
   },
   {
    "duration": 2454,
    "start_time": "2022-05-31T02:33:53.378Z"
   },
   {
    "duration": 17052,
    "start_time": "2022-05-31T02:35:08.283Z"
   },
   {
    "duration": 3,
    "start_time": "2022-05-31T02:41:56.219Z"
   },
   {
    "duration": 5944,
    "start_time": "2022-05-31T02:41:58.356Z"
   },
   {
    "duration": 2128,
    "start_time": "2022-05-31T02:42:09.242Z"
   },
   {
    "duration": 2242,
    "start_time": "2022-05-31T02:46:50.716Z"
   },
   {
    "duration": 22616,
    "start_time": "2022-05-31T02:48:09.626Z"
   },
   {
    "duration": 72023,
    "start_time": "2022-05-31T02:48:37.898Z"
   },
   {
    "duration": 22725,
    "start_time": "2022-05-31T02:50:02.281Z"
   },
   {
    "duration": 39,
    "start_time": "2022-05-31T02:57:20.245Z"
   },
   {
    "duration": 3342,
    "start_time": "2022-05-31T02:57:22.842Z"
   },
   {
    "duration": 3,
    "start_time": "2022-05-31T02:57:29.960Z"
   },
   {
    "duration": 15222,
    "start_time": "2022-05-31T02:57:36.385Z"
   },
   {
    "duration": 9414,
    "start_time": "2022-05-31T02:57:56.646Z"
   },
   {
    "duration": 35,
    "start_time": "2022-05-31T02:58:18.243Z"
   },
   {
    "duration": 3827,
    "start_time": "2022-05-31T02:58:20.210Z"
   },
   {
    "duration": 3,
    "start_time": "2022-05-31T02:58:26.515Z"
   },
   {
    "duration": 31044,
    "start_time": "2022-05-31T02:58:29.158Z"
   },
   {
    "duration": 15180,
    "start_time": "2022-05-31T02:59:03.183Z"
   },
   {
    "duration": 40,
    "start_time": "2022-05-31T03:00:21.527Z"
   },
   {
    "duration": 4269,
    "start_time": "2022-05-31T03:00:23.762Z"
   },
   {
    "duration": 2,
    "start_time": "2022-05-31T03:00:37.359Z"
   },
   {
    "duration": 36316,
    "start_time": "2022-05-31T03:00:40.493Z"
   },
   {
    "duration": 15401,
    "start_time": "2022-05-31T03:01:23.772Z"
   },
   {
    "duration": 33,
    "start_time": "2022-05-31T03:01:48.072Z"
   },
   {
    "duration": 2922,
    "start_time": "2022-05-31T03:01:49.644Z"
   },
   {
    "duration": 3,
    "start_time": "2022-05-31T03:01:55.048Z"
   },
   {
    "duration": 9315,
    "start_time": "2022-05-31T03:01:57.389Z"
   },
   {
    "duration": 35,
    "start_time": "2022-05-31T03:03:21.611Z"
   },
   {
    "duration": 3306,
    "start_time": "2022-05-31T03:03:22.943Z"
   },
   {
    "duration": 3,
    "start_time": "2022-05-31T03:03:28.944Z"
   },
   {
    "duration": 20221,
    "start_time": "2022-05-31T03:03:32.088Z"
   },
   {
    "duration": 9621,
    "start_time": "2022-05-31T03:05:47.642Z"
   },
   {
    "duration": 3,
    "start_time": "2022-05-31T03:12:12.530Z"
   },
   {
    "duration": 91636,
    "start_time": "2022-05-31T03:12:19.942Z"
   },
   {
    "duration": 7,
    "start_time": "2022-05-31T03:13:58.603Z"
   },
   {
    "duration": 1215,
    "start_time": "2022-05-31T03:14:02.429Z"
   },
   {
    "duration": 5,
    "start_time": "2022-05-31T03:14:22.242Z"
   },
   {
    "duration": 18,
    "start_time": "2022-05-31T03:14:24.546Z"
   },
   {
    "duration": 32,
    "start_time": "2022-05-31T03:14:27.161Z"
   },
   {
    "duration": 6656,
    "start_time": "2022-05-31T03:14:30.026Z"
   },
   {
    "duration": 3,
    "start_time": "2022-05-31T03:15:05.220Z"
   },
   {
    "duration": 106460,
    "start_time": "2022-05-31T03:15:07.127Z"
   },
   {
    "duration": 17192,
    "start_time": "2022-05-31T03:17:01.080Z"
   },
   {
    "duration": 3,
    "start_time": "2022-05-31T03:17:33.782Z"
   },
   {
    "duration": 340643,
    "start_time": "2022-05-31T03:17:36.067Z"
   },
   {
    "duration": 6,
    "start_time": "2022-05-31T03:23:33.316Z"
   },
   {
    "duration": 579,
    "start_time": "2022-05-31T03:23:42.297Z"
   },
   {
    "duration": 4,
    "start_time": "2022-05-31T03:24:25.149Z"
   },
   {
    "duration": 82334,
    "start_time": "2022-05-31T03:24:29.555Z"
   },
   {
    "duration": 7,
    "start_time": "2022-05-31T03:25:56.583Z"
   },
   {
    "duration": 226,
    "start_time": "2022-05-31T03:25:59.151Z"
   },
   {
    "duration": 3,
    "start_time": "2022-05-31T03:26:40.421Z"
   },
   {
    "duration": 179638,
    "start_time": "2022-05-31T03:26:41.971Z"
   },
   {
    "duration": 6,
    "start_time": "2022-05-31T03:29:47.173Z"
   },
   {
    "duration": 1148,
    "start_time": "2022-05-31T03:29:50.643Z"
   },
   {
    "duration": 5,
    "start_time": "2022-05-31T03:33:35.747Z"
   },
   {
    "duration": 0,
    "start_time": "2022-05-31T03:47:24.332Z"
   },
   {
    "duration": 0,
    "start_time": "2022-05-31T03:47:24.335Z"
   },
   {
    "duration": 0,
    "start_time": "2022-05-31T03:47:24.336Z"
   },
   {
    "duration": 0,
    "start_time": "2022-05-31T03:47:24.337Z"
   },
   {
    "duration": 0,
    "start_time": "2022-05-31T03:47:24.338Z"
   },
   {
    "duration": 0,
    "start_time": "2022-05-31T03:47:24.339Z"
   },
   {
    "duration": 0,
    "start_time": "2022-05-31T03:47:24.340Z"
   },
   {
    "duration": 1,
    "start_time": "2022-05-31T03:47:24.340Z"
   },
   {
    "duration": 0,
    "start_time": "2022-05-31T03:47:24.342Z"
   },
   {
    "duration": 1,
    "start_time": "2022-05-31T03:47:24.342Z"
   },
   {
    "duration": 0,
    "start_time": "2022-05-31T03:47:24.343Z"
   },
   {
    "duration": 0,
    "start_time": "2022-05-31T03:47:24.344Z"
   },
   {
    "duration": 0,
    "start_time": "2022-05-31T03:47:24.345Z"
   },
   {
    "duration": 0,
    "start_time": "2022-05-31T03:47:24.346Z"
   },
   {
    "duration": 0,
    "start_time": "2022-05-31T03:47:24.348Z"
   },
   {
    "duration": 0,
    "start_time": "2022-05-31T03:47:24.348Z"
   },
   {
    "duration": 0,
    "start_time": "2022-05-31T03:47:24.349Z"
   },
   {
    "duration": 0,
    "start_time": "2022-05-31T03:47:24.350Z"
   },
   {
    "duration": 0,
    "start_time": "2022-05-31T03:47:24.400Z"
   },
   {
    "duration": 0,
    "start_time": "2022-05-31T03:47:24.400Z"
   },
   {
    "duration": 0,
    "start_time": "2022-05-31T03:47:24.402Z"
   },
   {
    "duration": 0,
    "start_time": "2022-05-31T03:47:24.403Z"
   },
   {
    "duration": 0,
    "start_time": "2022-05-31T03:47:24.404Z"
   },
   {
    "duration": 0,
    "start_time": "2022-05-31T03:47:24.405Z"
   },
   {
    "duration": 0,
    "start_time": "2022-05-31T03:47:24.406Z"
   },
   {
    "duration": 0,
    "start_time": "2022-05-31T03:47:24.407Z"
   },
   {
    "duration": 0,
    "start_time": "2022-05-31T03:47:24.408Z"
   },
   {
    "duration": 0,
    "start_time": "2022-05-31T03:47:24.409Z"
   },
   {
    "duration": 0,
    "start_time": "2022-05-31T03:47:24.411Z"
   },
   {
    "duration": 0,
    "start_time": "2022-05-31T03:47:24.411Z"
   },
   {
    "duration": 0,
    "start_time": "2022-05-31T03:47:24.412Z"
   },
   {
    "duration": 0,
    "start_time": "2022-05-31T03:47:24.413Z"
   },
   {
    "duration": 0,
    "start_time": "2022-05-31T03:47:24.414Z"
   },
   {
    "duration": 0,
    "start_time": "2022-05-31T03:47:24.416Z"
   },
   {
    "duration": 0,
    "start_time": "2022-05-31T03:47:24.416Z"
   },
   {
    "duration": 0,
    "start_time": "2022-05-31T03:47:24.417Z"
   },
   {
    "duration": 0,
    "start_time": "2022-05-31T03:47:24.418Z"
   },
   {
    "duration": 0,
    "start_time": "2022-05-31T03:47:24.419Z"
   },
   {
    "duration": 0,
    "start_time": "2022-05-31T03:47:24.420Z"
   },
   {
    "duration": 0,
    "start_time": "2022-05-31T03:47:24.421Z"
   },
   {
    "duration": 0,
    "start_time": "2022-05-31T03:47:24.422Z"
   },
   {
    "duration": 0,
    "start_time": "2022-05-31T03:47:24.423Z"
   },
   {
    "duration": 0,
    "start_time": "2022-05-31T03:47:24.423Z"
   },
   {
    "duration": 0,
    "start_time": "2022-05-31T03:47:24.424Z"
   },
   {
    "duration": 0,
    "start_time": "2022-05-31T03:47:24.425Z"
   },
   {
    "duration": 0,
    "start_time": "2022-05-31T03:47:24.426Z"
   },
   {
    "duration": 0,
    "start_time": "2022-05-31T03:47:24.427Z"
   },
   {
    "duration": 0,
    "start_time": "2022-05-31T03:47:24.428Z"
   },
   {
    "duration": 0,
    "start_time": "2022-05-31T03:47:24.429Z"
   },
   {
    "duration": 0,
    "start_time": "2022-05-31T03:47:24.430Z"
   },
   {
    "duration": 0,
    "start_time": "2022-05-31T03:47:24.431Z"
   },
   {
    "duration": 0,
    "start_time": "2022-05-31T03:47:24.432Z"
   },
   {
    "duration": 0,
    "start_time": "2022-05-31T03:47:24.433Z"
   },
   {
    "duration": 0,
    "start_time": "2022-05-31T03:47:24.434Z"
   },
   {
    "duration": 0,
    "start_time": "2022-05-31T03:47:24.435Z"
   },
   {
    "duration": 0,
    "start_time": "2022-05-31T03:47:24.499Z"
   },
   {
    "duration": 0,
    "start_time": "2022-05-31T03:47:24.501Z"
   },
   {
    "duration": 0,
    "start_time": "2022-05-31T03:47:24.502Z"
   },
   {
    "duration": 0,
    "start_time": "2022-05-31T03:47:24.503Z"
   },
   {
    "duration": 2124,
    "start_time": "2022-05-31T04:01:16.252Z"
   },
   {
    "duration": 215,
    "start_time": "2022-05-31T04:01:18.379Z"
   },
   {
    "duration": 3,
    "start_time": "2022-05-31T04:01:18.596Z"
   },
   {
    "duration": 1040,
    "start_time": "2022-05-31T04:01:18.601Z"
   },
   {
    "duration": 67,
    "start_time": "2022-05-31T04:01:19.642Z"
   },
   {
    "duration": 93,
    "start_time": "2022-05-31T04:01:19.711Z"
   },
   {
    "duration": 9,
    "start_time": "2022-05-31T04:01:19.806Z"
   },
   {
    "duration": 11,
    "start_time": "2022-05-31T04:01:19.817Z"
   },
   {
    "duration": 184,
    "start_time": "2022-05-31T04:01:19.830Z"
   },
   {
    "duration": 796,
    "start_time": "2022-05-31T04:01:20.016Z"
   },
   {
    "duration": 1588,
    "start_time": "2022-05-31T04:01:20.815Z"
   },
   {
    "duration": 302,
    "start_time": "2022-05-31T04:01:22.404Z"
   },
   {
    "duration": 265,
    "start_time": "2022-05-31T04:01:22.708Z"
   },
   {
    "duration": 280,
    "start_time": "2022-05-31T04:01:22.975Z"
   },
   {
    "duration": 3789,
    "start_time": "2022-05-31T04:01:23.257Z"
   },
   {
    "duration": 3,
    "start_time": "2022-05-31T04:01:27.049Z"
   },
   {
    "duration": 18,
    "start_time": "2022-05-31T04:01:27.054Z"
   },
   {
    "duration": 42832,
    "start_time": "2022-05-31T04:01:27.073Z"
   },
   {
    "duration": 0,
    "start_time": "2022-05-31T04:02:09.907Z"
   },
   {
    "duration": 0,
    "start_time": "2022-05-31T04:02:09.909Z"
   },
   {
    "duration": 0,
    "start_time": "2022-05-31T04:02:09.910Z"
   },
   {
    "duration": 0,
    "start_time": "2022-05-31T04:02:09.911Z"
   },
   {
    "duration": 0,
    "start_time": "2022-05-31T04:02:09.912Z"
   },
   {
    "duration": 0,
    "start_time": "2022-05-31T04:02:09.913Z"
   },
   {
    "duration": 0,
    "start_time": "2022-05-31T04:02:09.914Z"
   },
   {
    "duration": 0,
    "start_time": "2022-05-31T04:02:09.915Z"
   },
   {
    "duration": 0,
    "start_time": "2022-05-31T04:02:09.920Z"
   },
   {
    "duration": 0,
    "start_time": "2022-05-31T04:02:09.921Z"
   },
   {
    "duration": 0,
    "start_time": "2022-05-31T04:02:09.922Z"
   },
   {
    "duration": 0,
    "start_time": "2022-05-31T04:02:09.923Z"
   },
   {
    "duration": 0,
    "start_time": "2022-05-31T04:02:09.924Z"
   },
   {
    "duration": 0,
    "start_time": "2022-05-31T04:02:09.925Z"
   },
   {
    "duration": 0,
    "start_time": "2022-05-31T04:02:09.926Z"
   },
   {
    "duration": 0,
    "start_time": "2022-05-31T04:02:09.927Z"
   },
   {
    "duration": 0,
    "start_time": "2022-05-31T04:02:09.928Z"
   },
   {
    "duration": 0,
    "start_time": "2022-05-31T04:02:09.929Z"
   },
   {
    "duration": 0,
    "start_time": "2022-05-31T04:02:09.930Z"
   },
   {
    "duration": 0,
    "start_time": "2022-05-31T04:02:09.931Z"
   },
   {
    "duration": 0,
    "start_time": "2022-05-31T04:02:09.932Z"
   },
   {
    "duration": 0,
    "start_time": "2022-05-31T04:02:09.933Z"
   },
   {
    "duration": 0,
    "start_time": "2022-05-31T04:02:09.933Z"
   },
   {
    "duration": 0,
    "start_time": "2022-05-31T04:02:09.934Z"
   },
   {
    "duration": 0,
    "start_time": "2022-05-31T04:02:09.935Z"
   },
   {
    "duration": 0,
    "start_time": "2022-05-31T04:02:09.937Z"
   },
   {
    "duration": 0,
    "start_time": "2022-05-31T04:02:09.938Z"
   },
   {
    "duration": 0,
    "start_time": "2022-05-31T04:02:09.939Z"
   },
   {
    "duration": 0,
    "start_time": "2022-05-31T04:02:09.940Z"
   },
   {
    "duration": 0,
    "start_time": "2022-05-31T04:02:09.941Z"
   },
   {
    "duration": 0,
    "start_time": "2022-05-31T04:02:09.942Z"
   },
   {
    "duration": 0,
    "start_time": "2022-05-31T04:02:10.000Z"
   },
   {
    "duration": 0,
    "start_time": "2022-05-31T04:02:10.001Z"
   },
   {
    "duration": 0,
    "start_time": "2022-05-31T04:02:10.002Z"
   },
   {
    "duration": 0,
    "start_time": "2022-05-31T04:02:10.003Z"
   },
   {
    "duration": 0,
    "start_time": "2022-05-31T04:02:10.004Z"
   },
   {
    "duration": 0,
    "start_time": "2022-05-31T04:02:10.005Z"
   },
   {
    "duration": 0,
    "start_time": "2022-05-31T04:02:10.006Z"
   },
   {
    "duration": 0,
    "start_time": "2022-05-31T04:02:10.007Z"
   },
   {
    "duration": 0,
    "start_time": "2022-05-31T04:02:10.008Z"
   },
   {
    "duration": 0,
    "start_time": "2022-05-31T04:02:10.009Z"
   },
   {
    "duration": 2182,
    "start_time": "2022-05-31T04:02:21.716Z"
   },
   {
    "duration": 7,
    "start_time": "2022-05-31T04:02:23.900Z"
   },
   {
    "duration": 8,
    "start_time": "2022-05-31T04:02:23.908Z"
   },
   {
    "duration": 1424,
    "start_time": "2022-05-31T04:02:23.918Z"
   },
   {
    "duration": 11,
    "start_time": "2022-05-31T04:02:25.399Z"
   },
   {
    "duration": 31,
    "start_time": "2022-05-31T04:02:25.411Z"
   },
   {
    "duration": 59,
    "start_time": "2022-05-31T04:02:25.443Z"
   },
   {
    "duration": 11,
    "start_time": "2022-05-31T04:02:25.504Z"
   },
   {
    "duration": 141,
    "start_time": "2022-05-31T04:02:25.517Z"
   },
   {
    "duration": 315,
    "start_time": "2022-05-31T04:02:25.661Z"
   },
   {
    "duration": 1408,
    "start_time": "2022-05-31T04:02:25.977Z"
   },
   {
    "duration": 258,
    "start_time": "2022-05-31T04:02:27.387Z"
   },
   {
    "duration": 232,
    "start_time": "2022-05-31T04:02:27.647Z"
   },
   {
    "duration": 260,
    "start_time": "2022-05-31T04:02:27.882Z"
   },
   {
    "duration": 3731,
    "start_time": "2022-05-31T04:02:28.144Z"
   },
   {
    "duration": 3,
    "start_time": "2022-05-31T04:02:31.877Z"
   },
   {
    "duration": 21,
    "start_time": "2022-05-31T04:02:31.882Z"
   },
   {
    "duration": 41493,
    "start_time": "2022-05-31T04:02:31.904Z"
   },
   {
    "duration": 31,
    "start_time": "2022-05-31T04:03:13.399Z"
   },
   {
    "duration": 9,
    "start_time": "2022-05-31T04:03:13.431Z"
   },
   {
    "duration": 96,
    "start_time": "2022-05-31T04:03:13.441Z"
   },
   {
    "duration": 2,
    "start_time": "2022-05-31T04:03:13.539Z"
   },
   {
    "duration": 41,
    "start_time": "2022-05-31T04:03:13.542Z"
   },
   {
    "duration": 31,
    "start_time": "2022-05-31T04:03:13.584Z"
   },
   {
    "duration": 4,
    "start_time": "2022-05-31T04:03:13.617Z"
   },
   {
    "duration": 6181,
    "start_time": "2022-05-31T04:03:13.622Z"
   },
   {
    "duration": 4,
    "start_time": "2022-05-31T04:03:19.804Z"
   },
   {
    "duration": 3,
    "start_time": "2022-05-31T04:03:19.813Z"
   },
   {
    "duration": 13,
    "start_time": "2022-05-31T04:03:19.818Z"
   },
   {
    "duration": 8,
    "start_time": "2022-05-31T04:03:19.833Z"
   },
   {
    "duration": 7,
    "start_time": "2022-05-31T04:03:19.842Z"
   },
   {
    "duration": 227326,
    "start_time": "2022-05-31T04:03:19.851Z"
   },
   {
    "duration": 5,
    "start_time": "2022-05-31T04:07:07.179Z"
   },
   {
    "duration": 8606,
    "start_time": "2022-05-31T04:07:07.186Z"
   },
   {
    "duration": 3,
    "start_time": "2022-05-31T04:07:15.793Z"
   },
   {
    "duration": 55221,
    "start_time": "2022-05-31T04:07:15.797Z"
   },
   {
    "duration": 20365,
    "start_time": "2022-05-31T04:08:11.020Z"
   },
   {
    "duration": 15,
    "start_time": "2022-05-31T04:08:31.387Z"
   },
   {
    "duration": 7,
    "start_time": "2022-05-31T04:08:31.403Z"
   },
   {
    "duration": 23,
    "start_time": "2022-05-31T04:08:31.412Z"
   },
   {
    "duration": 27,
    "start_time": "2022-05-31T04:08:31.437Z"
   },
   {
    "duration": 4,
    "start_time": "2022-05-31T04:08:31.466Z"
   },
   {
    "duration": 6917,
    "start_time": "2022-05-31T04:08:31.499Z"
   },
   {
    "duration": 3,
    "start_time": "2022-05-31T04:08:38.417Z"
   },
   {
    "duration": 64602,
    "start_time": "2022-05-31T04:08:38.422Z"
   },
   {
    "duration": 25776,
    "start_time": "2022-05-31T04:09:43.026Z"
   },
   {
    "duration": 275376,
    "start_time": "2022-05-31T04:10:08.804Z"
   },
   {
    "duration": 18,
    "start_time": "2022-05-31T04:14:44.182Z"
   },
   {
    "duration": 10792,
    "start_time": "2022-05-31T04:14:44.202Z"
   },
   {
    "duration": 5,
    "start_time": "2022-05-31T04:14:54.996Z"
   },
   {
    "duration": 58,
    "start_time": "2022-05-31T04:14:55.003Z"
   },
   {
    "duration": 3822,
    "start_time": "2022-05-31T04:14:55.063Z"
   },
   {
    "duration": 3,
    "start_time": "2022-05-31T04:14:58.887Z"
   },
   {
    "duration": 13208,
    "start_time": "2022-05-31T04:14:58.899Z"
   },
   {
    "duration": 7447,
    "start_time": "2022-05-31T04:15:12.109Z"
   },
   {
    "duration": 4,
    "start_time": "2022-05-31T04:15:19.558Z"
   },
   {
    "duration": 184788,
    "start_time": "2022-05-31T04:15:19.564Z"
   },
   {
    "duration": 7,
    "start_time": "2022-05-31T04:18:24.354Z"
   },
   {
    "duration": 3470,
    "start_time": "2022-05-31T04:18:24.363Z"
   },
   {
    "duration": 4,
    "start_time": "2022-05-31T04:24:37.059Z"
   },
   {
    "duration": 127520,
    "start_time": "2022-05-31T04:24:40.586Z"
   },
   {
    "duration": 166736,
    "start_time": "2022-05-31T04:27:20.183Z"
   },
   {
    "duration": 7,
    "start_time": "2022-05-31T04:30:13.494Z"
   },
   {
    "duration": 4441,
    "start_time": "2022-05-31T04:30:17.713Z"
   },
   {
    "duration": 4,
    "start_time": "2022-05-31T04:30:50.388Z"
   },
   {
    "duration": 1181948,
    "start_time": "2022-05-31T04:30:52.775Z"
   },
   {
    "duration": 7,
    "start_time": "2022-05-31T04:51:11.633Z"
   },
   {
    "duration": 124250,
    "start_time": "2022-05-31T04:51:14.865Z"
   },
   {
    "duration": 5,
    "start_time": "2022-05-31T04:55:23.138Z"
   },
   {
    "duration": 954539,
    "start_time": "2022-05-31T04:55:25.537Z"
   }
  ],
  "kernelspec": {
   "display_name": "Python 3 (ipykernel)",
   "language": "python",
   "name": "python3"
  },
  "language_info": {
   "codemirror_mode": {
    "name": "ipython",
    "version": 3
   },
   "file_extension": ".py",
   "mimetype": "text/x-python",
   "name": "python",
   "nbconvert_exporter": "python",
   "pygments_lexer": "ipython3",
   "version": "3.9.7"
  },
  "toc": {
   "base_numbering": 1,
   "nav_menu": {},
   "number_sections": true,
   "sideBar": true,
   "skip_h1_title": true,
   "title_cell": "Содержание",
   "title_sidebar": "Contents",
   "toc_cell": true,
   "toc_position": {
    "height": "612px",
    "left": "811px",
    "top": "201.125px",
    "width": "302.391px"
   },
   "toc_section_display": true,
   "toc_window_display": true
  }
 },
 "nbformat": 4,
 "nbformat_minor": 2
}
