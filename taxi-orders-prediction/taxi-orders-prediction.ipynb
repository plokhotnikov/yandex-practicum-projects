{
 "cells": [
  {
   "cell_type": "markdown",
   "metadata": {
    "toc": true
   },
   "source": [
    "<h1>Содержание<span class=\"tocSkip\"></span></h1>\n",
    "<div class=\"toc\"><ul class=\"toc-item\"><li><span><a href=\"#Постановка-задачи\" data-toc-modified-id=\"Постановка-задачи-1\"><span class=\"toc-item-num\">1&nbsp;&nbsp;</span>Постановка задачи</a></span><ul class=\"toc-item\"><li><span><a href=\"#План-работ\" data-toc-modified-id=\"План-работ-1.1\"><span class=\"toc-item-num\">1.1&nbsp;&nbsp;</span>План работ</a></span></li><li><span><a href=\"#Описание-данных\" data-toc-modified-id=\"Описание-данных-1.2\"><span class=\"toc-item-num\">1.2&nbsp;&nbsp;</span>Описание данных</a></span></li></ul></li><li><span><a href=\"#Подготовка-данных\" data-toc-modified-id=\"Подготовка-данных-2\"><span class=\"toc-item-num\">2&nbsp;&nbsp;</span>Подготовка данных</a></span></li><li><span><a href=\"#Исследовательский-анализ\" data-toc-modified-id=\"Исследовательский-анализ-3\"><span class=\"toc-item-num\">3&nbsp;&nbsp;</span>Исследовательский анализ</a></span><ul class=\"toc-item\"><li><span><a href=\"#Вывод\" data-toc-modified-id=\"Вывод-3.1\"><span class=\"toc-item-num\">3.1&nbsp;&nbsp;</span>Вывод</a></span></li></ul></li><li><span><a href=\"#Обучение\" data-toc-modified-id=\"Обучение-4\"><span class=\"toc-item-num\">4&nbsp;&nbsp;</span>Обучение</a></span><ul class=\"toc-item\"><li><span><a href=\"#DecisionTree\" data-toc-modified-id=\"DecisionTree-4.1\"><span class=\"toc-item-num\">4.1&nbsp;&nbsp;</span>DecisionTree</a></span></li><li><span><a href=\"#XGBRegressor\" data-toc-modified-id=\"XGBRegressor-4.2\"><span class=\"toc-item-num\">4.2&nbsp;&nbsp;</span>XGBRegressor</a></span></li><li><span><a href=\"#LinerRegression\" data-toc-modified-id=\"LinerRegression-4.3\"><span class=\"toc-item-num\">4.3&nbsp;&nbsp;</span>LinerRegression</a></span></li><li><span><a href=\"#RandomForest\" data-toc-modified-id=\"RandomForest-4.4\"><span class=\"toc-item-num\">4.4&nbsp;&nbsp;</span>RandomForest</a></span></li><li><span><a href=\"#LightGBMRegressor\" data-toc-modified-id=\"LightGBMRegressor-4.5\"><span class=\"toc-item-num\">4.5&nbsp;&nbsp;</span>LightGBMRegressor</a></span></li><li><span><a href=\"#Вывод\" data-toc-modified-id=\"Вывод-4.6\"><span class=\"toc-item-num\">4.6&nbsp;&nbsp;</span>Вывод</a></span></li></ul></li><li><span><a href=\"#Тестирование\" data-toc-modified-id=\"Тестирование-5\"><span class=\"toc-item-num\">5&nbsp;&nbsp;</span>Тестирование</a></span><ul class=\"toc-item\"><li><span><a href=\"#Вывод\" data-toc-modified-id=\"Вывод-5.1\"><span class=\"toc-item-num\">5.1&nbsp;&nbsp;</span>Вывод</a></span></li></ul></li><li><span><a href=\"#Выводы\" data-toc-modified-id=\"Выводы-6\"><span class=\"toc-item-num\">6&nbsp;&nbsp;</span>Выводы</a></span></li><li><span><a href=\"#Чек-лист-проверки\" data-toc-modified-id=\"Чек-лист-проверки-7\"><span class=\"toc-item-num\">7&nbsp;&nbsp;</span>Чек-лист проверки</a></span></li></ul></div>"
   ]
  },
  {
   "cell_type": "markdown",
   "metadata": {},
   "source": [
    "#  Прогнозирование заказов такси"
   ]
  },
  {
   "cell_type": "markdown",
   "metadata": {},
   "source": [
    "## Постановка задачи\n",
    "\n",
    "По исходным данным о количестве заказов такси в аэропортах необходимо спрогнозировать количество заказов такси на следующий час, построить модель для такого предсказания. \n",
    "\n",
    "Значение метрики *RMSE* на тестовой выборке должно быть не больше 48.\n",
    "\n",
    "\n",
    "### План работ \n",
    "\n",
    "\n",
    "1. Загрузить данные и выполнить их ресемплирование по одному часу.\n",
    "2. Проанализировать данные.\n",
    "3. Обучить разные модели с различными гиперпараметрами. Сделать тестовую выборку размером 10% от исходных данных.\n",
    "4. Проверить данные на тестовой выборке и сделать выводы.\n",
    "\n",
    "### Описание данных\n",
    "\n",
    "- Данные лежат в файле /datasets/taxi.csv. \n",
    "- Количество заказов находится в столбце 'num_orders`.\n"
   ]
  },
  {
   "cell_type": "markdown",
   "metadata": {},
   "source": [
    "## Подготовка данных"
   ]
  },
  {
   "cell_type": "code",
   "execution_count": 1,
   "metadata": {},
   "outputs": [
    {
     "name": "stdout",
     "output_type": "stream",
     "text": [
      "Collecting hyperopt\n",
      "  Downloading hyperopt-0.2.7-py2.py3-none-any.whl (1.6 MB)\n",
      "     |████████████████████████████████| 1.6 MB 1.2 MB/s            \n",
      "\u001b[?25hRequirement already satisfied: tqdm in /opt/conda/lib/python3.9/site-packages (from hyperopt) (4.62.3)\n",
      "Collecting networkx>=2.2\n",
      "  Downloading networkx-2.8.2-py3-none-any.whl (2.0 MB)\n",
      "     |████████████████████████████████| 2.0 MB 30.8 MB/s            \n",
      "\u001b[?25hCollecting future\n",
      "  Downloading future-0.18.2.tar.gz (829 kB)\n",
      "     |████████████████████████████████| 829 kB 75.1 MB/s            \n",
      "\u001b[?25h  Preparing metadata (setup.py) ... \u001b[?25ldone\n",
      "\u001b[?25hCollecting cloudpickle\n",
      "  Downloading cloudpickle-2.1.0-py3-none-any.whl (25 kB)\n",
      "Requirement already satisfied: six in /opt/conda/lib/python3.9/site-packages (from hyperopt) (1.16.0)\n",
      "Requirement already satisfied: numpy in /opt/conda/lib/python3.9/site-packages (from hyperopt) (1.22.3)\n",
      "Requirement already satisfied: py4j in /opt/conda/lib/python3.9/site-packages (from hyperopt) (0.10.9.3)\n",
      "Requirement already satisfied: scipy in /opt/conda/lib/python3.9/site-packages (from hyperopt) (1.8.0)\n",
      "Building wheels for collected packages: future\n",
      "  Building wheel for future (setup.py) ... \u001b[?25ldone\n",
      "\u001b[?25h  Created wheel for future: filename=future-0.18.2-py3-none-any.whl size=491070 sha256=12bcf0be86f39a8b835ade44660d4936824b2420ff9976beefb37bed8277ec49\n",
      "  Stored in directory: /home/jovyan/.cache/pip/wheels/2f/a0/d3/4030d9f80e6b3be787f19fc911b8e7aa462986a40ab1e4bb94\n",
      "Successfully built future\n",
      "Installing collected packages: networkx, future, cloudpickle, hyperopt\n",
      "Successfully installed cloudpickle-2.1.0 future-0.18.2 hyperopt-0.2.7 networkx-2.8.2\n"
     ]
    }
   ],
   "source": [
    "!pip install hyperopt"
   ]
  },
  {
   "cell_type": "code",
   "execution_count": 2,
   "metadata": {},
   "outputs": [],
   "source": [
    "import numpy as np\n",
    "import pandas as pd\n",
    "import matplotlib.pyplot as plt\n",
    "\n",
    "import warnings\n",
    "warnings.filterwarnings('ignore')\n",
    "\n",
    "from statsmodels.tsa.seasonal import seasonal_decompose\n",
    "from statsmodels.tsa.stattools import adfuller\n",
    "\n",
    "from sklearn.model_selection import train_test_split, cross_val_score, TimeSeriesSplit\n",
    "from sklearn.preprocessing import StandardScaler\n",
    "from sklearn.metrics import mean_squared_error\n",
    "\n",
    "from sklearn.tree import DecisionTreeRegressor\n",
    "from sklearn.ensemble import RandomForestRegressor\n",
    "from sklearn.linear_model import LinearRegression\n",
    "from xgboost.sklearn import XGBRegressor\n",
    "\n",
    "import lightgbm as lgb\n",
    "from catboost import CatBoostRegressor\n",
    "\n",
    "from hyperopt import hp, tpe, Trials, STATUS_OK\n",
    "from hyperopt.fmin import fmin\n",
    "from functools import partial"
   ]
  },
  {
   "cell_type": "code",
   "execution_count": 3,
   "metadata": {},
   "outputs": [],
   "source": [
    "data = pd.read_csv('/datasets/taxi.csv', parse_dates = [0], index_col = [0])"
   ]
  },
  {
   "cell_type": "code",
   "execution_count": 4,
   "metadata": {},
   "outputs": [
    {
     "name": "stdout",
     "output_type": "stream",
     "text": [
      "<class 'pandas.core.frame.DataFrame'>\n",
      "DatetimeIndex: 26496 entries, 2018-03-01 00:00:00 to 2018-08-31 23:50:00\n",
      "Data columns (total 1 columns):\n",
      " #   Column      Non-Null Count  Dtype\n",
      "---  ------      --------------  -----\n",
      " 0   num_orders  26496 non-null  int64\n",
      "dtypes: int64(1)\n",
      "memory usage: 414.0 KB\n"
     ]
    }
   ],
   "source": [
    "data.info()"
   ]
  },
  {
   "cell_type": "code",
   "execution_count": 5,
   "metadata": {},
   "outputs": [
    {
     "data": {
      "text/html": [
       "<div>\n",
       "<style scoped>\n",
       "    .dataframe tbody tr th:only-of-type {\n",
       "        vertical-align: middle;\n",
       "    }\n",
       "\n",
       "    .dataframe tbody tr th {\n",
       "        vertical-align: top;\n",
       "    }\n",
       "\n",
       "    .dataframe thead th {\n",
       "        text-align: right;\n",
       "    }\n",
       "</style>\n",
       "<table border=\"1\" class=\"dataframe\">\n",
       "  <thead>\n",
       "    <tr style=\"text-align: right;\">\n",
       "      <th></th>\n",
       "      <th>num_orders</th>\n",
       "    </tr>\n",
       "    <tr>\n",
       "      <th>datetime</th>\n",
       "      <th></th>\n",
       "    </tr>\n",
       "  </thead>\n",
       "  <tbody>\n",
       "    <tr>\n",
       "      <th>2018-08-31 23:10:00</th>\n",
       "      <td>32</td>\n",
       "    </tr>\n",
       "    <tr>\n",
       "      <th>2018-08-31 23:20:00</th>\n",
       "      <td>24</td>\n",
       "    </tr>\n",
       "    <tr>\n",
       "      <th>2018-08-31 23:30:00</th>\n",
       "      <td>27</td>\n",
       "    </tr>\n",
       "    <tr>\n",
       "      <th>2018-08-31 23:40:00</th>\n",
       "      <td>39</td>\n",
       "    </tr>\n",
       "    <tr>\n",
       "      <th>2018-08-31 23:50:00</th>\n",
       "      <td>53</td>\n",
       "    </tr>\n",
       "  </tbody>\n",
       "</table>\n",
       "</div>"
      ],
      "text/plain": [
       "                     num_orders\n",
       "datetime                       \n",
       "2018-08-31 23:10:00          32\n",
       "2018-08-31 23:20:00          24\n",
       "2018-08-31 23:30:00          27\n",
       "2018-08-31 23:40:00          39\n",
       "2018-08-31 23:50:00          53"
      ]
     },
     "execution_count": 5,
     "metadata": {},
     "output_type": "execute_result"
    }
   ],
   "source": [
    "data.tail()"
   ]
  },
  {
   "cell_type": "code",
   "execution_count": 6,
   "metadata": {},
   "outputs": [
    {
     "data": {
      "text/plain": [
       "True"
      ]
     },
     "execution_count": 6,
     "metadata": {},
     "output_type": "execute_result"
    }
   ],
   "source": [
    "data.sort_index(inplace = True)\n",
    "data.index.is_monotonic"
   ]
  },
  {
   "cell_type": "markdown",
   "metadata": {},
   "source": [
    "Сгруппируем количество заказов по дням и посмотрим график заказов за весь период наблюдения"
   ]
  },
  {
   "cell_type": "code",
   "execution_count": 7,
   "metadata": {},
   "outputs": [],
   "source": [
    "data = data.resample('1H').sum()"
   ]
  },
  {
   "cell_type": "markdown",
   "metadata": {},
   "source": [
    "## Исследовательский анализ"
   ]
  },
  {
   "cell_type": "code",
   "execution_count": 8,
   "metadata": {},
   "outputs": [
    {
     "data": {
      "image/png": "[encoded data removed]",
      "text/plain": [
       "<Figure size 720x432 with 1 Axes>"
      ]
     },
     "metadata": {
      "needs_background": "light"
     },
     "output_type": "display_data"
    }
   ],
   "source": [
    "data.plot(grid = True, figsize = (10, 6))\n",
    "\n",
    "plt.xlabel('Время заказов такси в часах')\n",
    "plt.ylabel('Количество заказов в час')\n",
    "plt.title('График количества заказов такси по часам за период с марта по август 2018 г.')\n",
    "plt.show()"
   ]
  },
  {
   "cell_type": "markdown",
   "metadata": {},
   "source": [
    "По графику видим, что с марта по август наблюдается явная тенденция по увеличению количества заказов. Проанализируем более детально скользящее среднее."
   ]
  },
  {
   "cell_type": "code",
   "execution_count": 9,
   "metadata": {},
   "outputs": [
    {
     "data": {
      "image/png": "[encoded data removed]",
      "text/plain": [
       "<Figure size 720x432 with 1 Axes>"
      ]
     },
     "metadata": {
      "needs_background": "light"
     },
     "output_type": "display_data"
    }
   ],
   "source": [
    "ax = data.plot(grid = True, figsize = (10, 6))\n",
    "data.rolling(20).mean().plot(grid = True, figsize = (10, 6), ax=ax)\n",
    "data.rolling(10).std().plot(grid = True, figsize = (10, 6), ax=ax)\n",
    "\n",
    "plt.xlabel('Время заказов такси')\n",
    "plt.ylabel('Количество заказов в час')\n",
    "plt.title('График количества заказов такси по часам за период с марта по август 2018 г.')\n",
    "plt.show()"
   ]
  },
  {
   "cell_type": "markdown",
   "metadata": {},
   "source": [
    "Тендеция увеличения заказов прослеживается более явно. Исследуем сезонность и тренд подробнее. График сезонности рассмотрим на более узком промежутке времени, чтобы увидеть закономерность."
   ]
  },
  {
   "cell_type": "code",
   "execution_count": 10,
   "metadata": {},
   "outputs": [],
   "source": [
    "decomposed = seasonal_decompose(data) "
   ]
  },
  {
   "cell_type": "code",
   "execution_count": 11,
   "metadata": {},
   "outputs": [
    {
     "data": {
      "image/png": "[encoded data removed]",
      "text/plain": [
       "<Figure size 720x864 with 3 Axes>"
      ]
     },
     "metadata": {
      "needs_background": "light"
     },
     "output_type": "display_data"
    }
   ],
   "source": [
    "plt.figure(figsize = (10, 12))\n",
    "\n",
    "plt.subplot(311)\n",
    "decomposed.trend.plot(ax = plt.gca(), grid = True)\n",
    "plt.xlabel('Время заказов такси')\n",
    "plt.ylabel('Количество заказов в час')\n",
    "plt.title('Тренд')\n",
    "\n",
    "plt.subplot(312)\n",
    "decomposed.seasonal.plot(ax = plt.gca(), grid = True)\n",
    "plt.xlim('2018-03-01 00:00:00', '2018-03-04 00:00:00')\n",
    "plt.xlabel('Время заказов такси')\n",
    "plt.ylabel('Изменение количества заказов в час')\n",
    "plt.title('Сезонность по времени суток')\n",
    "\n",
    "plt.subplot(313)\n",
    "decomposed.resid.plot(ax = plt.gca(), grid = True)\n",
    "plt.xlabel('Время заказов такси')\n",
    "plt.ylabel('Изменение количества заказов в час')\n",
    "plt.title('Остатки')\n",
    "\n",
    "plt.tight_layout()"
   ]
  },
  {
   "cell_type": "markdown",
   "metadata": {},
   "source": [
    "На графике сезонности прослеживается явная закономерность изменения количества заказов от времени суток: количество заказов растет с 8 утра до 12, затем после пары падений и взлетов снова начинает расти до 12 ночи и затем количество заказов уменьшается до 8 утра следующего дня. Вероятно, это связано с расписанием прилета самолетов в аэропорт. Ввиду наличия такой закономерности создадим столбец с признаком, характеризующим время суток."
   ]
  },
  {
   "cell_type": "code",
   "execution_count": 12,
   "metadata": {},
   "outputs": [
    {
     "data": {
      "text/plain": [
       "array([ 0,  1,  2,  3,  4,  5,  6,  7,  8,  9, 10, 11, 12, 13, 14, 15, 16,\n",
       "       17, 18, 19, 20, 21, 22, 23])"
      ]
     },
     "execution_count": 12,
     "metadata": {},
     "output_type": "execute_result"
    }
   ],
   "source": [
    "data['hour'] = data.index.hour\n",
    "data['hour'].unique()"
   ]
  },
  {
   "cell_type": "markdown",
   "metadata": {},
   "source": [
    "Рассмотрим детально количество заказов в день на протяжении месяца."
   ]
  },
  {
   "cell_type": "code",
   "execution_count": 13,
   "metadata": {},
   "outputs": [],
   "source": [
    "decomposed = seasonal_decompose(data['num_orders'].resample('1D').sum()) "
   ]
  },
  {
   "cell_type": "code",
   "execution_count": 14,
   "metadata": {},
   "outputs": [
    {
     "data": {
      "text/plain": [
       "Text(0.5, 1.0, 'Сезонность по дню недели')"
      ]
     },
     "execution_count": 14,
     "metadata": {},
     "output_type": "execute_result"
    },
    {
     "data": {
      "image/png": "[encoded data removed]",
      "text/plain": [
       "<Figure size 720x288 with 1 Axes>"
      ]
     },
     "metadata": {
      "needs_background": "light"
     },
     "output_type": "display_data"
    }
   ],
   "source": [
    "plt.figure(figsize = (10, 4))\n",
    "decomposed.seasonal.plot(grid = True)\n",
    "\n",
    "plt.xlim('2018-03-01', '2018-04-01')\n",
    "plt.xlabel('День заказа такси в период с 01 марта по 1 апреля')\n",
    "plt.ylabel('Изменение количества заказов в день')\n",
    "plt.title('Сезонность по дню недели')"
   ]
  },
  {
   "cell_type": "markdown",
   "metadata": {},
   "source": [
    "По графику отслеживается сезонность заказов такси по дням недели: с понедельника по вторник количество заказов падает, затем до пятницы оно растет, падает до воскресенья и снова возрастает в понедельник. Создадим признак дня недели."
   ]
  },
  {
   "cell_type": "code",
   "execution_count": 15,
   "metadata": {},
   "outputs": [
    {
     "data": {
      "text/plain": [
       "array([3, 4, 5, 6, 0, 1, 2])"
      ]
     },
     "execution_count": 15,
     "metadata": {},
     "output_type": "execute_result"
    }
   ],
   "source": [
    "data['dayofweek'] = data.index.dayofweek\n",
    "data['dayofweek'].unique()"
   ]
  },
  {
   "cell_type": "markdown",
   "metadata": {},
   "source": [
    "Посмотрим, есть ли какая-то закономерность в заказах такси по неделям."
   ]
  },
  {
   "cell_type": "code",
   "execution_count": 16,
   "metadata": {},
   "outputs": [
    {
     "data": {
      "text/plain": [
       "<Figure size 432x288 with 0 Axes>"
      ]
     },
     "metadata": {},
     "output_type": "display_data"
    },
    {
     "data": {
      "image/png": "[encoded data removed]",
      "text/plain": [
       "<Figure size 864x360 with 1 Axes>"
      ]
     },
     "metadata": {
      "needs_background": "light"
     },
     "output_type": "display_data"
    }
   ],
   "source": [
    "plt.figure()\n",
    "data.resample('1W').sum().plot(grid = True, figsize = (12, 5))\n",
    "plt.xlim('2018-04-01', '2018-06-01')\n",
    "\n",
    "\n",
    "plt.xlabel('День начала новой недели')\n",
    "plt.ylabel('Количество заказов в неделю')\n",
    "plt.title('Сезонность по неделям')\n",
    "plt.show()"
   ]
  },
  {
   "cell_type": "markdown",
   "metadata": {},
   "source": [
    "Сезонность не такая явная как с днями недели, но закономерость все равно уловить можно: три недели количество заказов такси растет, на чевертую неделю немного снижается и затем снова растет. Создадам признак по номеру недели."
   ]
  },
  {
   "cell_type": "code",
   "execution_count": 17,
   "metadata": {},
   "outputs": [
    {
     "data": {
      "text/plain": [
       "<IntegerArray>\n",
       "[1, 2, 3, 0]\n",
       "Length: 4, dtype: UInt32"
      ]
     },
     "execution_count": 17,
     "metadata": {},
     "output_type": "execute_result"
    }
   ],
   "source": [
    "data['week'] = data.index.isocalendar()['week'] % 4\n",
    "data['week'].unique()"
   ]
  },
  {
   "cell_type": "markdown",
   "metadata": {},
   "source": [
    "Добавим в качестве признаков также номер месяца и число месяца."
   ]
  },
  {
   "cell_type": "code",
   "execution_count": 18,
   "metadata": {},
   "outputs": [],
   "source": [
    "data['month'] = data.index.month\n",
    "data['day'] = data.index.day"
   ]
  },
  {
   "cell_type": "markdown",
   "metadata": {},
   "source": [
    "Удостоверимся что наш временной ряд является стационарным с помощью теста Дики-Фуллера. Нулевая гипотеза теста предполагает, что временной ряд не является стационарным. Если значение p-value оказывается меньше стандартных 0.05, то нулевая гипотеза отвергается, ряд стацинарный (или не имеет временной структуры)."
   ]
  },
  {
   "cell_type": "code",
   "execution_count": 19,
   "metadata": {},
   "outputs": [
    {
     "name": "stdout",
     "output_type": "stream",
     "text": [
      "ADF Statistic: -3.068924\n",
      "p-value: 0.028940\n",
      "Critical Values:\n",
      "\t1%: -3.432\n",
      "\t5%: -2.862\n",
      "\t10%: -2.567\n"
     ]
    }
   ],
   "source": [
    "result = adfuller(data['num_orders'])\n",
    "print('ADF Statistic: %f' % result[0])\n",
    "print('p-value: %f' % result[1])\n",
    "print('Critical Values:')\n",
    "for key, value in result[4].items():\n",
    "   print('\\t%s: %.3f' % (key, value))"
   ]
  },
  {
   "cell_type": "markdown",
   "metadata": {},
   "source": [
    "Видим, что p-value=0.029 меньше установленного порогоа в 0.05, поэтому нулевую гипотезу отвергаем, ряд стацинарный."
   ]
  },
  {
   "cell_type": "markdown",
   "metadata": {},
   "source": [
    "### Вывод"
   ]
  },
  {
   "cell_type": "markdown",
   "metadata": {},
   "source": [
    "По результатам этапа был проведен анализ исходных данных о наличии трендов и сезонности в рамках различных периодов. По выявленным закономерностям, была сформирована предварительная таблица признаков и проведена проверка временного ряда на стационарность."
   ]
  },
  {
   "cell_type": "markdown",
   "metadata": {},
   "source": [
    "## Обучение"
   ]
  },
  {
   "cell_type": "markdown",
   "metadata": {},
   "source": [
    "Создадим функцию, куда включим расчет скользящего среднего и добавим также в качестве признаков отстающие значения. Разделим данные на обучающую и тестовую выборки и построим несколько моделей по этим данным. Включим все эти процессы в одну функцию."
   ]
  },
  {
   "cell_type": "code",
   "execution_count": 20,
   "metadata": {},
   "outputs": [],
   "source": [
    "def sampling(max_lag, rolling_size):\n",
    "    feats = data.copy()\n",
    "    for i in range(1, max_lag + 1):\n",
    "        feats['lag_{}'.format(i)] = data['num_orders'].shift(i)\n",
    "    \n",
    "    feats['rolling_mean'] = data['num_orders'].shift(1).rolling(rolling_size).mean()\n",
    "    feats = feats.dropna()\n",
    "  \n",
    "    f_train, f_test, t_train, t_test = train_test_split(feats.drop('num_orders', axis = 1), \n",
    "                                                        data.loc[feats.index]['num_orders'], \n",
    "                                                        test_size = 0.1, shuffle = False)\n",
    "    scaler = StandardScaler()\n",
    "    scaler.fit(f_train)\n",
    "    \n",
    "    f_train = scaler.transform(f_train)\n",
    "    f_test = scaler.transform(f_test)\n",
    "    \n",
    "    return {'features_train' : f_train, \n",
    "            'features_test' : f_test, \n",
    "            'target_train' : t_train, \n",
    "            'target_test' : t_test}"
   ]
  },
  {
   "cell_type": "markdown",
   "metadata": {},
   "source": [
    "Создадим функцию для подбора параметров с помощью hyperopt, использующего байесовскую оптимизацию. Для кроссвалидации временных рядов используем метод TimeSeriesSplit."
   ]
  },
  {
   "cell_type": "code",
   "execution_count": 21,
   "metadata": {},
   "outputs": [],
   "source": [
    "def hyperopt_score(params, x_train, y_train, type_model):\n",
    "    model = type_model(**params, random_state = 12345)\n",
    "    current_score = abs(cross_val_score(model, x_train, y_train, \n",
    "                                        scoring = 'neg_root_mean_squared_error', \n",
    "                                        cv = TimeSeriesSplit(n_splits = 4)).mean())\n",
    "\n",
    "    return {'loss': current_score, 'params': params, 'status': STATUS_OK}"
   ]
  },
  {
   "cell_type": "markdown",
   "metadata": {},
   "source": [
    "И напишем функцию для запуска моделей на тестовых данных"
   ]
  },
  {
   "cell_type": "code",
   "execution_count": 22,
   "metadata": {},
   "outputs": [],
   "source": [
    "work_sample = sampling(1, 8)"
   ]
  },
  {
   "cell_type": "code",
   "execution_count": 23,
   "metadata": {},
   "outputs": [],
   "source": [
    "def model_test(hyper_param, type_model, \n",
    "               f_train = work_sample['features_train'], f_test = work_sample['features_test'],\n",
    "               t_train = work_sample['target_train'], t_test = work_sample['target_test']):\n",
    "    \n",
    "    model = type_model(**hyper_param, random_state = 12345)\n",
    "    model.fit(f_train, t_train)\n",
    "    predicted = model.predict(f_test)\n",
    "    \n",
    "    return mean_squared_error(t_test, predicted, squared = False)"
   ]
  },
  {
   "cell_type": "code",
   "execution_count": 24,
   "metadata": {},
   "outputs": [],
   "source": [
    "model_metric = pd.DataFrame(index = ['rmse_train', 'rmse_test'], \n",
    "                            columns = ['Tree', 'RF', 'LR', 'XGBR', 'LGBM'])"
   ]
  },
  {
   "cell_type": "markdown",
   "metadata": {},
   "source": [
    "### DecisionTree"
   ]
  },
  {
   "cell_type": "markdown",
   "metadata": {},
   "source": [
    "Запустим функцию поиска с заданным пространством параметров space"
   ]
  },
  {
   "cell_type": "code",
   "execution_count": 456,
   "metadata": {},
   "outputs": [],
   "source": [
    "space = {'max_depth': hp.choice(\"max_depth\", np.arange(5, 60, dtype = int))}"
   ]
  },
  {
   "cell_type": "code",
   "execution_count": 457,
   "metadata": {},
   "outputs": [],
   "source": [
    "work_sample = sampling(1, 12)"
   ]
  },
  {
   "cell_type": "code",
   "execution_count": 458,
   "metadata": {},
   "outputs": [
    {
     "name": "stdout",
     "output_type": "stream",
     "text": [
      "100%|██████████| 20/20 [00:00<00:00, 26.10trial/s, best loss: 30.624450942018502]\n"
     ]
    }
   ],
   "source": [
    "trials = Trials()\n",
    "best = fmin(fn = partial(hyperopt_score, \n",
    "                         x_train = work_sample['features_train'], y_train = work_sample['target_train'], \n",
    "                         type_model = DecisionTreeRegressor), \n",
    "                                                     space = space, algo = tpe.suggest, \n",
    "                                                     max_evals = 20, trials = trials)"
   ]
  },
  {
   "cell_type": "code",
   "execution_count": 459,
   "metadata": {},
   "outputs": [],
   "source": [
    "model_metric.loc['rmse_train', 'Tree'] = trials.results[np.argmin([r['loss'] for r in trials.results])]['loss']"
   ]
  },
  {
   "cell_type": "code",
   "execution_count": 460,
   "metadata": {},
   "outputs": [],
   "source": [
    "hyper_param = {'max_depth' : trials.results[np.argmin([r['loss'] for r in trials.results])]['params']['max_depth']}"
   ]
  },
  {
   "cell_type": "code",
   "execution_count": 461,
   "metadata": {},
   "outputs": [],
   "source": [
    "model_metric.loc['rmse_test', 'Tree'] = model_test(hyper_param, DecisionTreeRegressor)"
   ]
  },
  {
   "cell_type": "code",
   "execution_count": 462,
   "metadata": {},
   "outputs": [
    {
     "data": {
      "text/html": [
       "<div>\n",
       "<style scoped>\n",
       "    .dataframe tbody tr th:only-of-type {\n",
       "        vertical-align: middle;\n",
       "    }\n",
       "\n",
       "    .dataframe tbody tr th {\n",
       "        vertical-align: top;\n",
       "    }\n",
       "\n",
       "    .dataframe thead th {\n",
       "        text-align: right;\n",
       "    }\n",
       "</style>\n",
       "<table border=\"1\" class=\"dataframe\">\n",
       "  <thead>\n",
       "    <tr style=\"text-align: right;\">\n",
       "      <th></th>\n",
       "      <th>Tree</th>\n",
       "      <th>RF</th>\n",
       "      <th>LR</th>\n",
       "      <th>XGBR</th>\n",
       "      <th>LGBM</th>\n",
       "    </tr>\n",
       "  </thead>\n",
       "  <tbody>\n",
       "    <tr>\n",
       "      <th>rmse_train</th>\n",
       "      <td>30.624451</td>\n",
       "      <td>NaN</td>\n",
       "      <td>NaN</td>\n",
       "      <td>NaN</td>\n",
       "      <td>NaN</td>\n",
       "    </tr>\n",
       "    <tr>\n",
       "      <th>rmse_test</th>\n",
       "      <td>49.588463</td>\n",
       "      <td>NaN</td>\n",
       "      <td>NaN</td>\n",
       "      <td>NaN</td>\n",
       "      <td>NaN</td>\n",
       "    </tr>\n",
       "  </tbody>\n",
       "</table>\n",
       "</div>"
      ],
      "text/plain": [
       "                 Tree   RF   LR XGBR LGBM\n",
       "rmse_train  30.624451  NaN  NaN  NaN  NaN\n",
       "rmse_test   49.588463  NaN  NaN  NaN  NaN"
      ]
     },
     "execution_count": 462,
     "metadata": {},
     "output_type": "execute_result"
    }
   ],
   "source": [
    "model_metric"
   ]
  },
  {
   "cell_type": "code",
   "execution_count": 463,
   "metadata": {},
   "outputs": [
    {
     "data": {
      "text/plain": [
       "{'max_depth': 8}"
      ]
     },
     "execution_count": 463,
     "metadata": {},
     "output_type": "execute_result"
    }
   ],
   "source": [
    "hyper_param"
   ]
  },
  {
   "cell_type": "markdown",
   "metadata": {},
   "source": [
    "Наилучшие результаты для модели Дерево решений были получены при скользящем среднем с окном =1 и максимальном сдвиге в дополнительных признаках =12, а также глубине дерева =9. Требуемое качество на тестовой моделе $RMSE$ <48 на этой моделе достигнуто: $RMSE$ =47.96"
   ]
  },
  {
   "cell_type": "markdown",
   "metadata": {},
   "source": [
    "### XGBRegressor"
   ]
  },
  {
   "cell_type": "code",
   "execution_count": 464,
   "metadata": {},
   "outputs": [],
   "source": [
    "space ={\n",
    "    'max_depth': hp.choice(\"max_depth\", np.arange(5, 10, dtype = int)),\n",
    "    'n_estimators' : hp.choice(\"n_estimators\", np.arange(45, 50, dtype = int))\n",
    "}"
   ]
  },
  {
   "cell_type": "code",
   "execution_count": 465,
   "metadata": {},
   "outputs": [],
   "source": [
    "work_sample = sampling(4, 8)"
   ]
  },
  {
   "cell_type": "code",
   "execution_count": 466,
   "metadata": {},
   "outputs": [
    {
     "name": "stdout",
     "output_type": "stream",
     "text": [
      "100%|██████████| 10/10 [02:32<00:00, 15.22s/trial, best loss: 26.673856282653265]\n"
     ]
    }
   ],
   "source": [
    "trials = Trials()\n",
    "best = fmin(fn = partial(hyperopt_score, \n",
    "                         x_train = work_sample['features_train'], y_train = work_sample['target_train'], \n",
    "                         type_model = XGBRegressor), \n",
    "                                                     space = space, algo = tpe.suggest, \n",
    "                                                     max_evals = 10, trials = trials)"
   ]
  },
  {
   "cell_type": "code",
   "execution_count": 467,
   "metadata": {},
   "outputs": [],
   "source": [
    "model_metric.loc['rmse_train', 'XGBR'] = trials.results[np.argmin([r['loss'] for r in trials.results])]['loss']"
   ]
  },
  {
   "cell_type": "code",
   "execution_count": 468,
   "metadata": {},
   "outputs": [],
   "source": [
    "hyper_param = {'max_depth' : trials.results[np.argmin([r['loss'] for r in trials.results])]['params']['max_depth'],\n",
    "               'n_estimators' : trials.results[np.argmin([r['loss'] for r in trials.results])]['params']['n_estimators']}"
   ]
  },
  {
   "cell_type": "code",
   "execution_count": 469,
   "metadata": {},
   "outputs": [],
   "source": [
    "model_metric.loc['rmse_test', 'XGBR'] = model_test(hyper_param, XGBRegressor)"
   ]
  },
  {
   "cell_type": "code",
   "execution_count": 470,
   "metadata": {},
   "outputs": [
    {
     "data": {
      "text/html": [
       "<div>\n",
       "<style scoped>\n",
       "    .dataframe tbody tr th:only-of-type {\n",
       "        vertical-align: middle;\n",
       "    }\n",
       "\n",
       "    .dataframe tbody tr th {\n",
       "        vertical-align: top;\n",
       "    }\n",
       "\n",
       "    .dataframe thead th {\n",
       "        text-align: right;\n",
       "    }\n",
       "</style>\n",
       "<table border=\"1\" class=\"dataframe\">\n",
       "  <thead>\n",
       "    <tr style=\"text-align: right;\">\n",
       "      <th></th>\n",
       "      <th>Tree</th>\n",
       "      <th>RF</th>\n",
       "      <th>LR</th>\n",
       "      <th>XGBR</th>\n",
       "      <th>LGBM</th>\n",
       "    </tr>\n",
       "  </thead>\n",
       "  <tbody>\n",
       "    <tr>\n",
       "      <th>rmse_train</th>\n",
       "      <td>30.624451</td>\n",
       "      <td>NaN</td>\n",
       "      <td>NaN</td>\n",
       "      <td>26.673856</td>\n",
       "      <td>NaN</td>\n",
       "    </tr>\n",
       "    <tr>\n",
       "      <th>rmse_test</th>\n",
       "      <td>49.588463</td>\n",
       "      <td>NaN</td>\n",
       "      <td>NaN</td>\n",
       "      <td>45.741402</td>\n",
       "      <td>NaN</td>\n",
       "    </tr>\n",
       "  </tbody>\n",
       "</table>\n",
       "</div>"
      ],
      "text/plain": [
       "                 Tree   RF   LR       XGBR LGBM\n",
       "rmse_train  30.624451  NaN  NaN  26.673856  NaN\n",
       "rmse_test   49.588463  NaN  NaN  45.741402  NaN"
      ]
     },
     "execution_count": 470,
     "metadata": {},
     "output_type": "execute_result"
    }
   ],
   "source": [
    "model_metric"
   ]
  },
  {
   "cell_type": "code",
   "execution_count": 471,
   "metadata": {},
   "outputs": [
    {
     "data": {
      "text/plain": [
       "{'max_depth': 6, 'n_estimators': 47}"
      ]
     },
     "execution_count": 471,
     "metadata": {},
     "output_type": "execute_result"
    }
   ],
   "source": [
    "hyper_param"
   ]
  },
  {
   "cell_type": "markdown",
   "metadata": {},
   "source": [
    "Наилучшие результаты для модели XGBRegressor были получены при скользящем среднем с окном =8 и максимальном сдвиге в дополнительных признаках =4, а также глубине дерева =6 и количестве деревьев =48. Требуемое качество на тестовой моделе $RMSE$ <48 на этой моделе достигнуто: $RMSE$ =45.81"
   ]
  },
  {
   "cell_type": "markdown",
   "metadata": {},
   "source": [
    "### LinerRegression"
   ]
  },
  {
   "cell_type": "code",
   "execution_count": 472,
   "metadata": {},
   "outputs": [],
   "source": [
    "work_sample = sampling(6, 8)"
   ]
  },
  {
   "cell_type": "code",
   "execution_count": 473,
   "metadata": {},
   "outputs": [],
   "source": [
    "model = LinearRegression()\n",
    "model_metric.loc['rmse_train', 'LR'] = abs(cross_val_score(model, work_sample['features_train'], \n",
    "                                                           work_sample['target_train'], \n",
    "                                                           scoring = 'neg_root_mean_squared_error', \n",
    "                                                           cv = TimeSeriesSplit(n_splits = 4)).mean())"
   ]
  },
  {
   "cell_type": "code",
   "execution_count": 474,
   "metadata": {},
   "outputs": [],
   "source": [
    "model.fit(work_sample['features_train'], work_sample['target_train'])\n",
    "predicted = model.predict(work_sample['features_test'])\n",
    "model_metric.loc['rmse_test', 'LR'] = mean_squared_error(work_sample['target_test'], predicted, squared = False)"
   ]
  },
  {
   "cell_type": "code",
   "execution_count": 475,
   "metadata": {},
   "outputs": [
    {
     "data": {
      "text/html": [
       "<div>\n",
       "<style scoped>\n",
       "    .dataframe tbody tr th:only-of-type {\n",
       "        vertical-align: middle;\n",
       "    }\n",
       "\n",
       "    .dataframe tbody tr th {\n",
       "        vertical-align: top;\n",
       "    }\n",
       "\n",
       "    .dataframe thead th {\n",
       "        text-align: right;\n",
       "    }\n",
       "</style>\n",
       "<table border=\"1\" class=\"dataframe\">\n",
       "  <thead>\n",
       "    <tr style=\"text-align: right;\">\n",
       "      <th></th>\n",
       "      <th>Tree</th>\n",
       "      <th>RF</th>\n",
       "      <th>LR</th>\n",
       "      <th>XGBR</th>\n",
       "      <th>LGBM</th>\n",
       "    </tr>\n",
       "  </thead>\n",
       "  <tbody>\n",
       "    <tr>\n",
       "      <th>rmse_train</th>\n",
       "      <td>30.624451</td>\n",
       "      <td>NaN</td>\n",
       "      <td>31.852914</td>\n",
       "      <td>26.673856</td>\n",
       "      <td>NaN</td>\n",
       "    </tr>\n",
       "    <tr>\n",
       "      <th>rmse_test</th>\n",
       "      <td>49.588463</td>\n",
       "      <td>NaN</td>\n",
       "      <td>52.872063</td>\n",
       "      <td>45.741402</td>\n",
       "      <td>NaN</td>\n",
       "    </tr>\n",
       "  </tbody>\n",
       "</table>\n",
       "</div>"
      ],
      "text/plain": [
       "                 Tree   RF         LR       XGBR LGBM\n",
       "rmse_train  30.624451  NaN  31.852914  26.673856  NaN\n",
       "rmse_test   49.588463  NaN  52.872063  45.741402  NaN"
      ]
     },
     "execution_count": 475,
     "metadata": {},
     "output_type": "execute_result"
    }
   ],
   "source": [
    "model_metric"
   ]
  },
  {
   "cell_type": "markdown",
   "metadata": {},
   "source": [
    "Наилучшие результаты для модели LinearRegression были получены при скользящем среднем с окном =8 и максимальном сдвиге в дополнительных признаках =6. Требуемое качество на тестовой моделе $RMSE$ <48 на этой моделе не достигнуто: $RMSE$ =52,87."
   ]
  },
  {
   "cell_type": "markdown",
   "metadata": {},
   "source": [
    "### RandomForest"
   ]
  },
  {
   "cell_type": "code",
   "execution_count": 476,
   "metadata": {},
   "outputs": [],
   "source": [
    "space ={\n",
    "    'max_depth': hp.choice(\"max_depth\", np.arange(5, 15, dtype = int)),\n",
    "    'n_estimators' : hp.choice(\"n_estimators\", np.arange(45, 50, dtype = int))\n",
    "}"
   ]
  },
  {
   "cell_type": "code",
   "execution_count": 477,
   "metadata": {},
   "outputs": [],
   "source": [
    "work_sample = sampling(14, 6)"
   ]
  },
  {
   "cell_type": "code",
   "execution_count": 478,
   "metadata": {},
   "outputs": [
    {
     "name": "stdout",
     "output_type": "stream",
     "text": [
      "100%|██████████| 10/10 [00:19<00:00,  1.92s/trial, best loss: 25.93478799302761]\n"
     ]
    }
   ],
   "source": [
    "trials = Trials()\n",
    "best = fmin(fn = partial(hyperopt_score, \n",
    "                         x_train = work_sample['features_train'], y_train = work_sample['target_train'], \n",
    "                         type_model = RandomForestRegressor), \n",
    "                                                     space = space, algo = tpe.suggest, \n",
    "                                                     max_evals = 10, trials = trials)"
   ]
  },
  {
   "cell_type": "code",
   "execution_count": 479,
   "metadata": {},
   "outputs": [],
   "source": [
    "model_metric.loc['rmse_train', 'RF'] = trials.results[np.argmin([r['loss'] for r in trials.results])]['loss']"
   ]
  },
  {
   "cell_type": "code",
   "execution_count": 480,
   "metadata": {},
   "outputs": [],
   "source": [
    "hyper_param = {'max_depth' : trials.results[np.argmin([r['loss'] for r in trials.results])]['params']['max_depth'],\n",
    "               'n_estimators' : trials.results[np.argmin([r['loss'] for r in trials.results])]['params']['n_estimators']}"
   ]
  },
  {
   "cell_type": "code",
   "execution_count": 481,
   "metadata": {},
   "outputs": [],
   "source": [
    "model_metric.loc['rmse_test', 'RF'] = model_test(hyper_param, RandomForestRegressor)"
   ]
  },
  {
   "cell_type": "code",
   "execution_count": 482,
   "metadata": {},
   "outputs": [
    {
     "data": {
      "text/html": [
       "<div>\n",
       "<style scoped>\n",
       "    .dataframe tbody tr th:only-of-type {\n",
       "        vertical-align: middle;\n",
       "    }\n",
       "\n",
       "    .dataframe tbody tr th {\n",
       "        vertical-align: top;\n",
       "    }\n",
       "\n",
       "    .dataframe thead th {\n",
       "        text-align: right;\n",
       "    }\n",
       "</style>\n",
       "<table border=\"1\" class=\"dataframe\">\n",
       "  <thead>\n",
       "    <tr style=\"text-align: right;\">\n",
       "      <th></th>\n",
       "      <th>Tree</th>\n",
       "      <th>RF</th>\n",
       "      <th>LR</th>\n",
       "      <th>XGBR</th>\n",
       "      <th>LGBM</th>\n",
       "    </tr>\n",
       "  </thead>\n",
       "  <tbody>\n",
       "    <tr>\n",
       "      <th>rmse_train</th>\n",
       "      <td>30.624451</td>\n",
       "      <td>25.934788</td>\n",
       "      <td>31.852914</td>\n",
       "      <td>26.673856</td>\n",
       "      <td>NaN</td>\n",
       "    </tr>\n",
       "    <tr>\n",
       "      <th>rmse_test</th>\n",
       "      <td>49.588463</td>\n",
       "      <td>44.935645</td>\n",
       "      <td>52.872063</td>\n",
       "      <td>45.741402</td>\n",
       "      <td>NaN</td>\n",
       "    </tr>\n",
       "  </tbody>\n",
       "</table>\n",
       "</div>"
      ],
      "text/plain": [
       "                 Tree         RF         LR       XGBR LGBM\n",
       "rmse_train  30.624451  25.934788  31.852914  26.673856  NaN\n",
       "rmse_test   49.588463  44.935645  52.872063  45.741402  NaN"
      ]
     },
     "execution_count": 482,
     "metadata": {},
     "output_type": "execute_result"
    }
   ],
   "source": [
    "model_metric"
   ]
  },
  {
   "cell_type": "code",
   "execution_count": 483,
   "metadata": {},
   "outputs": [
    {
     "data": {
      "text/plain": [
       "{'max_depth': 13, 'n_estimators': 49}"
      ]
     },
     "execution_count": 483,
     "metadata": {},
     "output_type": "execute_result"
    }
   ],
   "source": [
    "hyper_param"
   ]
  },
  {
   "cell_type": "markdown",
   "metadata": {},
   "source": [
    "Наилучшие результаты для модели RandomForest были получены при скользящем среднем с окном =6 и максимальном сдвиге в дополнительных признаках =14, а также глубине дерева =14 и количестве деревьев =49. Требуемое качество на тестовой моделе $RMSE$ <48 на этой моделе достигнуто: $RMSE$ =45."
   ]
  },
  {
   "cell_type": "markdown",
   "metadata": {},
   "source": [
    "### LightGBMRegressor"
   ]
  },
  {
   "cell_type": "code",
   "execution_count": 25,
   "metadata": {},
   "outputs": [],
   "source": [
    "space ={\n",
    "    'max_depth': hp.choice(\"max_depth\", np.arange(5, 16, dtype = int)),\n",
    "    'n_estimators' : hp.choice(\"n_estimators\", np.arange(50, 80, dtype = int))\n",
    "}"
   ]
  },
  {
   "cell_type": "code",
   "execution_count": 26,
   "metadata": {},
   "outputs": [],
   "source": [
    "work_sample = sampling(16, 4)"
   ]
  },
  {
   "cell_type": "code",
   "execution_count": 30,
   "metadata": {},
   "outputs": [
    {
     "name": "stdout",
     "output_type": "stream",
     "text": [
      "100%|██████████| 20/20 [13:12<00:00, 39.62s/trial, best loss: 25.441490920662297] \n"
     ]
    }
   ],
   "source": [
    "trials = Trials()\n",
    "best = fmin(fn = partial(hyperopt_score, \n",
    "                         x_train = work_sample['features_train'], y_train = work_sample['target_train'], \n",
    "                         type_model = lgb.LGBMRegressor), \n",
    "                                                     space = space, algo = tpe.suggest, \n",
    "                                                     max_evals = 20, trials = trials)"
   ]
  },
  {
   "cell_type": "code",
   "execution_count": 487,
   "metadata": {},
   "outputs": [],
   "source": [
    "model_metric.loc['rmse_train', 'LGBM'] = trials.results[np.argmin([r['loss'] for r in trials.results])]['loss']"
   ]
  },
  {
   "cell_type": "code",
   "execution_count": 31,
   "metadata": {},
   "outputs": [],
   "source": [
    "hyper_param = {'max_depth' : trials.results[np.argmin([r['loss'] for r in trials.results])]['params']['max_depth'],\n",
    "               'n_estimators' : trials.results[np.argmin([r['loss'] for r in trials.results])]['params']['n_estimators']}"
   ]
  },
  {
   "cell_type": "code",
   "execution_count": 489,
   "metadata": {},
   "outputs": [],
   "source": [
    "model_metric.loc['rmse_test', 'LGBM'] = model_test(hyper_param, lgb.LGBMRegressor)"
   ]
  },
  {
   "cell_type": "code",
   "execution_count": 490,
   "metadata": {},
   "outputs": [
    {
     "data": {
      "text/html": [
       "<div>\n",
       "<style scoped>\n",
       "    .dataframe tbody tr th:only-of-type {\n",
       "        vertical-align: middle;\n",
       "    }\n",
       "\n",
       "    .dataframe tbody tr th {\n",
       "        vertical-align: top;\n",
       "    }\n",
       "\n",
       "    .dataframe thead th {\n",
       "        text-align: right;\n",
       "    }\n",
       "</style>\n",
       "<table border=\"1\" class=\"dataframe\">\n",
       "  <thead>\n",
       "    <tr style=\"text-align: right;\">\n",
       "      <th></th>\n",
       "      <th>Tree</th>\n",
       "      <th>RF</th>\n",
       "      <th>LR</th>\n",
       "      <th>XGBR</th>\n",
       "      <th>LGBM</th>\n",
       "    </tr>\n",
       "  </thead>\n",
       "  <tbody>\n",
       "    <tr>\n",
       "      <th>rmse_train</th>\n",
       "      <td>30.624451</td>\n",
       "      <td>25.934788</td>\n",
       "      <td>31.852914</td>\n",
       "      <td>26.673856</td>\n",
       "      <td>25.438623</td>\n",
       "    </tr>\n",
       "    <tr>\n",
       "      <th>rmse_test</th>\n",
       "      <td>49.588463</td>\n",
       "      <td>44.935645</td>\n",
       "      <td>52.872063</td>\n",
       "      <td>45.741402</td>\n",
       "      <td>40.520714</td>\n",
       "    </tr>\n",
       "  </tbody>\n",
       "</table>\n",
       "</div>"
      ],
      "text/plain": [
       "                 Tree         RF         LR       XGBR       LGBM\n",
       "rmse_train  30.624451  25.934788  31.852914  26.673856  25.438623\n",
       "rmse_test   49.588463  44.935645  52.872063  45.741402  40.520714"
      ]
     },
     "execution_count": 490,
     "metadata": {},
     "output_type": "execute_result"
    }
   ],
   "source": [
    "model_metric"
   ]
  },
  {
   "cell_type": "code",
   "execution_count": 491,
   "metadata": {},
   "outputs": [
    {
     "data": {
      "text/plain": [
       "{'max_depth': 7, 'n_estimators': 76}"
      ]
     },
     "execution_count": 491,
     "metadata": {},
     "output_type": "execute_result"
    }
   ],
   "source": [
    "hyper_param"
   ]
  },
  {
   "cell_type": "markdown",
   "metadata": {},
   "source": [
    "Наилучшие результаты для модели LGBMRegressor были получены при скользящем среднем с окном =4 и максимальном сдвиге в дополнительных признаках =16, а также глубине дерева =12 и количестве деревьев =78. Требуемое качество на тестовой моделе $RMSE$ <48 на этой моделе достигнуто: $RMSE$ =40,9."
   ]
  },
  {
   "cell_type": "markdown",
   "metadata": {},
   "source": [
    "### Вывод"
   ]
  },
  {
   "cell_type": "markdown",
   "metadata": {},
   "source": [
    "Результатом этапа стала сводная таблица со значениями метрики $RMSE$ для тренировочной и тестовой выборок для каждой из разработанных моделей. В данном исследовании рассматрвались модели DecisionTree, XGBRegressor, LinearRegression, RandomForest, LightGBMRegressor. Для каждой из них были подобраны гиперпараметры, которые бы обеспечили наименьшеее значение метрики $RMSE$. Кроссвалидация выборок обеспечивалась методом TimeSeriesSplit, а подбор гиперпараметров осуществлялся с помощью байесовской оптимизации, реализованной в библиотеке hyperopt."
   ]
  },
  {
   "cell_type": "markdown",
   "metadata": {},
   "source": [
    "## Тестирование"
   ]
  },
  {
   "cell_type": "markdown",
   "metadata": {},
   "source": [
    "Посмотрим на общую таблицу с результатами"
   ]
  },
  {
   "cell_type": "code",
   "execution_count": 492,
   "metadata": {},
   "outputs": [
    {
     "data": {
      "text/html": [
       "<div>\n",
       "<style scoped>\n",
       "    .dataframe tbody tr th:only-of-type {\n",
       "        vertical-align: middle;\n",
       "    }\n",
       "\n",
       "    .dataframe tbody tr th {\n",
       "        vertical-align: top;\n",
       "    }\n",
       "\n",
       "    .dataframe thead th {\n",
       "        text-align: right;\n",
       "    }\n",
       "</style>\n",
       "<table border=\"1\" class=\"dataframe\">\n",
       "  <thead>\n",
       "    <tr style=\"text-align: right;\">\n",
       "      <th></th>\n",
       "      <th>Tree</th>\n",
       "      <th>RF</th>\n",
       "      <th>LR</th>\n",
       "      <th>XGBR</th>\n",
       "      <th>LGBM</th>\n",
       "    </tr>\n",
       "  </thead>\n",
       "  <tbody>\n",
       "    <tr>\n",
       "      <th>rmse_train</th>\n",
       "      <td>30.624451</td>\n",
       "      <td>25.934788</td>\n",
       "      <td>31.852914</td>\n",
       "      <td>26.673856</td>\n",
       "      <td>25.438623</td>\n",
       "    </tr>\n",
       "    <tr>\n",
       "      <th>rmse_test</th>\n",
       "      <td>49.588463</td>\n",
       "      <td>44.935645</td>\n",
       "      <td>52.872063</td>\n",
       "      <td>45.741402</td>\n",
       "      <td>40.520714</td>\n",
       "    </tr>\n",
       "  </tbody>\n",
       "</table>\n",
       "</div>"
      ],
      "text/plain": [
       "                 Tree         RF         LR       XGBR       LGBM\n",
       "rmse_train  30.624451  25.934788  31.852914  26.673856  25.438623\n",
       "rmse_test   49.588463  44.935645  52.872063  45.741402  40.520714"
      ]
     },
     "execution_count": 492,
     "metadata": {},
     "output_type": "execute_result"
    }
   ],
   "source": [
    "model_metric"
   ]
  },
  {
   "cell_type": "markdown",
   "metadata": {},
   "source": [
    "Из результатов видим, что с задачей не справилась только одна модель - модель линейной регресии, которая показала результат $RMSE$ = 52,87. Из других моделей наилучший результат на тестовых данных у модели LightGBMRegressor с $RMSE$ =40,9, который означает, что мы в предсказании количества заказов в час в среднем ошибаемся на 40,9 заказа. На втором месте оказалась модель RandomForest со значением метрики $RMSE$ =45. Таким образом останавиваем свой выбор на модели LightGBMRegressor. Проверим ее на адекватность, для чего сравним ее с константной моделью."
   ]
  },
  {
   "cell_type": "code",
   "execution_count": 27,
   "metadata": {},
   "outputs": [],
   "source": [
    "work_sample = sampling(16, 4)"
   ]
  },
  {
   "cell_type": "code",
   "execution_count": 494,
   "metadata": {},
   "outputs": [],
   "source": [
    "target_const = pd.Series(data = work_sample['target_test'].mean() * np.ones(work_sample['target_test'].shape[0]),\n",
    "                        index = work_sample['target_test'].index)"
   ]
  },
  {
   "cell_type": "code",
   "execution_count": 495,
   "metadata": {},
   "outputs": [
    {
     "data": {
      "text/plain": [
       "58.63086262955672"
      ]
     },
     "execution_count": 495,
     "metadata": {},
     "output_type": "execute_result"
    }
   ],
   "source": [
    "mean_squared_error(work_sample['target_test'], target_const, squared = False)"
   ]
  },
  {
   "cell_type": "markdown",
   "metadata": {},
   "source": [
    "Константная модель показала результат метрики $RMSE$ = 58,63 против модели LightGBMRegressor с ошибкой $RMSE$ =40,9. Можно сделать вывод, что наша модель адекватная."
   ]
  },
  {
   "cell_type": "markdown",
   "metadata": {},
   "source": [
    "Для визуальной оценки качества работы модели построим график реального количества заказов такси по тестовой выборке и предсказанного нашей моделью. "
   ]
  },
  {
   "cell_type": "code",
   "execution_count": 32,
   "metadata": {},
   "outputs": [],
   "source": [
    "model = lgb.LGBMRegressor(**hyper_param)\n",
    "model.fit(work_sample['features_train'], work_sample['target_train'])\n",
    "predicted = model.predict(work_sample['features_test'])"
   ]
  },
  {
   "cell_type": "code",
   "execution_count": 42,
   "metadata": {},
   "outputs": [
    {
     "data": {
      "image/png": "[encoded data removed]",
      "text/plain": [
       "<Figure size 864x432 with 1 Axes>"
      ]
     },
     "metadata": {
      "needs_background": "light"
     },
     "output_type": "display_data"
    }
   ],
   "source": [
    "ax = plt.subplots\n",
    "ax = work_sample['target_test'].plot(grid = True, y = 'target_test', figsize = (12, 6), label = 'Реальное количество')\n",
    "pd.Series(data = predicted, index = work_sample['target_test'].index).plot(grid = True, ax = ax,\n",
    "                                                                           label = 'Предсказание')\n",
    "ax.legend()\n",
    "plt.xlim(('2018-08-23', '2018-08-31'))\n",
    "plt.xlabel('Время заказов такси')\n",
    "plt.ylabel('Количество заказов в час')\n",
    "plt.title('График реального и предсказанного количества заказов такси по тестовой выборке')\n",
    "plt.show()"
   ]
  },
  {
   "cell_type": "markdown",
   "metadata": {},
   "source": [
    "По графику видим, что модель не очень хорошо справляется с предсказанием выбросов - резкого увеличения реального количества заказов."
   ]
  },
  {
   "cell_type": "markdown",
   "metadata": {},
   "source": [
    "### Вывод"
   ]
  },
  {
   "cell_type": "markdown",
   "metadata": {},
   "source": [
    "По полученным результатам на тестовой выборке выбрана наилучшая модель предсказания. Сделано сравнение с константной моделью."
   ]
  },
  {
   "cell_type": "markdown",
   "metadata": {},
   "source": [
    "## Выводы"
   ]
  },
  {
   "cell_type": "markdown",
   "metadata": {},
   "source": [
    "В рамках данного исследования был проведен анализ данных о количестве заказов такси в аэропортах на предмет наличия трендов, сезонности в различных периодах. По итогам анализа была создана таблица признаков, а также добавлены дополнительные признаки, сформированные на на основе скользащего среднего и разностей временного ряда. \n",
    "\n",
    "По созданным выборкам были разработаны модели предсказания количества заказов такси на следующий час. При разработке моделей помимо гиперпараметров (глубина дерева, количество деревьев) варьировался размер окна для скользящего среднего и размер максимального сдвига для разностей временного ряда, по которым были сформированы дополнительные признаки. \n",
    "\n",
    "По результатам тестирования моделей наилучшей оказалась модель  LightGBMRegressor с ошибкой $𝑅𝑀𝑆𝐸$  =40,9, что значительно лучше требуемого значения <48. Полученное значение метрики означает, что в среднем наше предсказание количества заказов на следующмй час обладает погрешнсть в примерно 41 заказ. "
   ]
  }
 ],
 "metadata": {
  "ExecuteTimeLog": [
   {
    "duration": 1366,
    "start_time": "2022-05-18T23:48:26.239Z"
   },
   {
    "duration": 145,
    "start_time": "2022-05-18T23:48:27.606Z"
   },
   {
    "duration": 10,
    "start_time": "2022-05-18T23:48:27.753Z"
   },
   {
    "duration": 10,
    "start_time": "2022-05-18T23:48:27.765Z"
   },
   {
    "duration": 14,
    "start_time": "2022-05-18T23:48:27.777Z"
   },
   {
    "duration": 12,
    "start_time": "2022-05-18T23:48:27.792Z"
   },
   {
    "duration": 401,
    "start_time": "2022-05-18T23:49:55.362Z"
   },
   {
    "duration": 318,
    "start_time": "2022-05-18T23:50:50.570Z"
   },
   {
    "duration": 124,
    "start_time": "2022-05-19T00:04:30.874Z"
   },
   {
    "duration": 208,
    "start_time": "2022-05-19T00:05:05.950Z"
   },
   {
    "duration": 338,
    "start_time": "2022-05-19T00:06:12.379Z"
   },
   {
    "duration": 305,
    "start_time": "2022-05-19T00:06:27.113Z"
   },
   {
    "duration": 259,
    "start_time": "2022-05-19T00:07:05.132Z"
   },
   {
    "duration": 6,
    "start_time": "2022-05-19T00:08:53.040Z"
   },
   {
    "duration": 345,
    "start_time": "2022-05-19T00:09:51.328Z"
   },
   {
    "duration": 248,
    "start_time": "2022-05-19T00:11:28.671Z"
   },
   {
    "duration": 322,
    "start_time": "2022-05-19T00:12:00.761Z"
   },
   {
    "duration": 306,
    "start_time": "2022-05-19T00:12:12.025Z"
   },
   {
    "duration": 381,
    "start_time": "2022-05-19T00:12:31.097Z"
   },
   {
    "duration": 3,
    "start_time": "2022-05-19T00:20:05.957Z"
   },
   {
    "duration": 57,
    "start_time": "2022-05-19T00:20:05.962Z"
   },
   {
    "duration": 12,
    "start_time": "2022-05-19T00:20:06.021Z"
   },
   {
    "duration": 6,
    "start_time": "2022-05-19T00:20:06.034Z"
   },
   {
    "duration": 7,
    "start_time": "2022-05-19T00:20:06.041Z"
   },
   {
    "duration": 8,
    "start_time": "2022-05-19T00:20:06.049Z"
   },
   {
    "duration": 286,
    "start_time": "2022-05-19T00:20:06.058Z"
   },
   {
    "duration": 5,
    "start_time": "2022-05-19T00:20:06.348Z"
   },
   {
    "duration": 351,
    "start_time": "2022-05-19T00:20:06.355Z"
   },
   {
    "duration": 339,
    "start_time": "2022-05-19T00:27:17.814Z"
   },
   {
    "duration": 385,
    "start_time": "2022-05-19T00:27:57.494Z"
   },
   {
    "duration": 298,
    "start_time": "2022-05-19T00:30:30.914Z"
   },
   {
    "duration": 292,
    "start_time": "2022-05-19T00:31:24.224Z"
   },
   {
    "duration": 504,
    "start_time": "2022-05-19T00:31:53.729Z"
   },
   {
    "duration": 287,
    "start_time": "2022-05-19T00:32:13.135Z"
   },
   {
    "duration": 394,
    "start_time": "2022-05-19T00:33:18.552Z"
   },
   {
    "duration": 5,
    "start_time": "2022-05-19T00:56:07.950Z"
   },
   {
    "duration": 11,
    "start_time": "2022-05-19T00:59:01.904Z"
   },
   {
    "duration": 10,
    "start_time": "2022-05-19T00:59:14.974Z"
   },
   {
    "duration": 127,
    "start_time": "2022-05-19T00:59:31.443Z"
   },
   {
    "duration": 146,
    "start_time": "2022-05-19T01:00:14.952Z"
   },
   {
    "duration": 280,
    "start_time": "2022-05-19T01:01:25.817Z"
   },
   {
    "duration": 234,
    "start_time": "2022-05-19T01:01:47.796Z"
   },
   {
    "duration": 5,
    "start_time": "2022-05-19T01:03:14.432Z"
   },
   {
    "duration": 132,
    "start_time": "2022-05-19T01:03:16.348Z"
   },
   {
    "duration": 137,
    "start_time": "2022-05-19T01:03:26.787Z"
   },
   {
    "duration": 3,
    "start_time": "2022-05-19T01:12:37.542Z"
   },
   {
    "duration": 46,
    "start_time": "2022-05-19T01:12:37.548Z"
   },
   {
    "duration": 12,
    "start_time": "2022-05-19T01:12:37.596Z"
   },
   {
    "duration": 8,
    "start_time": "2022-05-19T01:12:37.610Z"
   },
   {
    "duration": 4,
    "start_time": "2022-05-19T01:12:37.620Z"
   },
   {
    "duration": 9,
    "start_time": "2022-05-19T01:12:37.626Z"
   },
   {
    "duration": 286,
    "start_time": "2022-05-19T01:12:37.637Z"
   },
   {
    "duration": 5,
    "start_time": "2022-05-19T01:12:37.925Z"
   },
   {
    "duration": 368,
    "start_time": "2022-05-19T01:12:37.932Z"
   },
   {
    "duration": 10,
    "start_time": "2022-05-19T01:13:36.885Z"
   },
   {
    "duration": 9,
    "start_time": "2022-05-19T01:13:42.166Z"
   },
   {
    "duration": 9,
    "start_time": "2022-05-19T01:13:52.004Z"
   },
   {
    "duration": 11,
    "start_time": "2022-05-19T01:14:23.747Z"
   },
   {
    "duration": 4,
    "start_time": "2022-05-19T01:15:29.148Z"
   },
   {
    "duration": 57,
    "start_time": "2022-05-19T01:15:29.157Z"
   },
   {
    "duration": 10,
    "start_time": "2022-05-19T01:15:29.216Z"
   },
   {
    "duration": 7,
    "start_time": "2022-05-19T01:15:29.227Z"
   },
   {
    "duration": 6,
    "start_time": "2022-05-19T01:15:29.236Z"
   },
   {
    "duration": 8,
    "start_time": "2022-05-19T01:15:29.243Z"
   },
   {
    "duration": 367,
    "start_time": "2022-05-19T01:15:29.253Z"
   },
   {
    "duration": 9,
    "start_time": "2022-05-19T01:15:35.459Z"
   },
   {
    "duration": 8,
    "start_time": "2022-05-19T01:16:16.168Z"
   },
   {
    "duration": 728,
    "start_time": "2022-05-19T01:16:54.529Z"
   },
   {
    "duration": 6,
    "start_time": "2022-05-19T01:19:01.735Z"
   },
   {
    "duration": 15,
    "start_time": "2022-05-19T01:22:27.844Z"
   },
   {
    "duration": 9,
    "start_time": "2022-05-19T01:22:41.133Z"
   },
   {
    "duration": 666,
    "start_time": "2022-05-19T01:22:44.610Z"
   },
   {
    "duration": 21,
    "start_time": "2022-05-19T01:23:44.314Z"
   },
   {
    "duration": 14,
    "start_time": "2022-05-19T01:24:07.797Z"
   },
   {
    "duration": 9,
    "start_time": "2022-05-19T01:24:20.350Z"
   },
   {
    "duration": 724,
    "start_time": "2022-05-19T01:27:15.171Z"
   },
   {
    "duration": 896,
    "start_time": "2022-05-19T01:27:42.376Z"
   },
   {
    "duration": 9,
    "start_time": "2022-05-19T01:31:46.552Z"
   },
   {
    "duration": 733,
    "start_time": "2022-05-19T01:31:48.601Z"
   },
   {
    "duration": 652,
    "start_time": "2022-05-19T01:33:19.548Z"
   },
   {
    "duration": 764,
    "start_time": "2022-05-19T01:33:28.571Z"
   },
   {
    "duration": 664,
    "start_time": "2022-05-19T01:33:48.140Z"
   },
   {
    "duration": 776,
    "start_time": "2022-05-19T01:34:34.467Z"
   },
   {
    "duration": 665,
    "start_time": "2022-05-19T01:37:23.045Z"
   },
   {
    "duration": 776,
    "start_time": "2022-05-19T01:38:48.789Z"
   },
   {
    "duration": 923,
    "start_time": "2022-05-19T01:39:31.188Z"
   },
   {
    "duration": 837,
    "start_time": "2022-05-19T01:41:54.724Z"
   },
   {
    "duration": 829,
    "start_time": "2022-05-19T01:44:03.192Z"
   },
   {
    "duration": 5,
    "start_time": "2022-05-19T01:54:47.402Z"
   },
   {
    "duration": 4,
    "start_time": "2022-05-19T01:55:05.734Z"
   },
   {
    "duration": 29,
    "start_time": "2022-05-19T01:55:23.180Z"
   },
   {
    "duration": 9,
    "start_time": "2022-05-19T01:55:42.046Z"
   },
   {
    "duration": 22,
    "start_time": "2022-05-19T01:55:47.776Z"
   },
   {
    "duration": 6,
    "start_time": "2022-05-19T01:56:31.576Z"
   },
   {
    "duration": 65,
    "start_time": "2022-05-19T01:56:31.601Z"
   },
   {
    "duration": 19,
    "start_time": "2022-05-19T01:56:31.668Z"
   },
   {
    "duration": 11,
    "start_time": "2022-05-19T01:56:31.693Z"
   },
   {
    "duration": 5,
    "start_time": "2022-05-19T01:56:31.706Z"
   },
   {
    "duration": 9,
    "start_time": "2022-05-19T01:56:31.713Z"
   },
   {
    "duration": 494,
    "start_time": "2022-05-19T01:56:31.724Z"
   },
   {
    "duration": 12,
    "start_time": "2022-05-19T01:56:32.219Z"
   },
   {
    "duration": 348,
    "start_time": "2022-05-19T01:56:32.232Z"
   },
   {
    "duration": 35,
    "start_time": "2022-05-19T01:56:32.584Z"
   },
   {
    "duration": 0,
    "start_time": "2022-05-19T01:56:32.628Z"
   },
   {
    "duration": 0,
    "start_time": "2022-05-19T01:56:32.629Z"
   },
   {
    "duration": 0,
    "start_time": "2022-05-19T01:56:32.630Z"
   },
   {
    "duration": 17,
    "start_time": "2022-05-19T01:57:06.684Z"
   },
   {
    "duration": 9,
    "start_time": "2022-05-19T01:57:13.906Z"
   },
   {
    "duration": 3,
    "start_time": "2022-05-19T01:57:41.216Z"
   },
   {
    "duration": 46,
    "start_time": "2022-05-19T01:57:41.222Z"
   },
   {
    "duration": 15,
    "start_time": "2022-05-19T01:57:41.270Z"
   },
   {
    "duration": 18,
    "start_time": "2022-05-19T01:57:41.288Z"
   },
   {
    "duration": 7,
    "start_time": "2022-05-19T01:57:41.308Z"
   },
   {
    "duration": 9,
    "start_time": "2022-05-19T01:57:41.317Z"
   },
   {
    "duration": 298,
    "start_time": "2022-05-19T01:57:41.328Z"
   },
   {
    "duration": 9,
    "start_time": "2022-05-19T01:57:49.621Z"
   },
   {
    "duration": 275,
    "start_time": "2022-05-19T01:58:54.126Z"
   },
   {
    "duration": 279,
    "start_time": "2022-05-19T01:59:07.003Z"
   },
   {
    "duration": 3,
    "start_time": "2022-05-19T01:59:51.837Z"
   },
   {
    "duration": 20,
    "start_time": "2022-05-19T01:59:54.368Z"
   },
   {
    "duration": 4,
    "start_time": "2022-05-19T02:00:35.629Z"
   },
   {
    "duration": 34,
    "start_time": "2022-05-19T02:00:37.574Z"
   },
   {
    "duration": 3,
    "start_time": "2022-05-19T02:00:58.152Z"
   },
   {
    "duration": 83,
    "start_time": "2022-05-19T02:00:58.157Z"
   },
   {
    "duration": 12,
    "start_time": "2022-05-19T02:00:58.242Z"
   },
   {
    "duration": 12,
    "start_time": "2022-05-19T02:00:58.258Z"
   },
   {
    "duration": 44,
    "start_time": "2022-05-19T02:00:58.272Z"
   },
   {
    "duration": 14,
    "start_time": "2022-05-19T02:00:58.318Z"
   },
   {
    "duration": 286,
    "start_time": "2022-05-19T02:00:58.333Z"
   },
   {
    "duration": 2,
    "start_time": "2022-05-19T02:00:58.621Z"
   },
   {
    "duration": 15,
    "start_time": "2022-05-19T02:01:01.554Z"
   },
   {
    "duration": 4,
    "start_time": "2022-05-19T02:01:49.569Z"
   },
   {
    "duration": 6,
    "start_time": "2022-05-19T02:01:52.721Z"
   },
   {
    "duration": 314,
    "start_time": "2022-05-19T02:01:55.006Z"
   },
   {
    "duration": 7,
    "start_time": "2022-05-19T02:02:14.337Z"
   },
   {
    "duration": 917,
    "start_time": "2022-05-19T02:02:15.819Z"
   },
   {
    "duration": 4,
    "start_time": "2022-05-19T02:02:36.309Z"
   },
   {
    "duration": 5,
    "start_time": "2022-05-19T02:02:51.443Z"
   },
   {
    "duration": 14,
    "start_time": "2022-05-19T02:04:03.117Z"
   },
   {
    "duration": 255,
    "start_time": "2022-05-19T02:05:01.555Z"
   },
   {
    "duration": 285,
    "start_time": "2022-05-19T02:06:48.001Z"
   },
   {
    "duration": 236,
    "start_time": "2022-05-19T02:06:54.927Z"
   },
   {
    "duration": 246,
    "start_time": "2022-05-19T02:08:16.340Z"
   },
   {
    "duration": 365,
    "start_time": "2022-05-19T02:09:02.743Z"
   },
   {
    "duration": 244,
    "start_time": "2022-05-19T02:10:01.241Z"
   },
   {
    "duration": 320,
    "start_time": "2022-05-19T02:10:09.067Z"
   },
   {
    "duration": 259,
    "start_time": "2022-05-19T02:10:13.362Z"
   },
   {
    "duration": 9,
    "start_time": "2022-05-19T02:16:34.611Z"
   },
   {
    "duration": 16,
    "start_time": "2022-05-19T02:17:36.328Z"
   },
   {
    "duration": 6,
    "start_time": "2022-05-19T03:33:42.953Z"
   },
   {
    "duration": 16,
    "start_time": "2022-05-19T03:35:14.650Z"
   },
   {
    "duration": 23,
    "start_time": "2022-05-19T03:38:23.294Z"
   },
   {
    "duration": 16,
    "start_time": "2022-05-19T03:38:33.173Z"
   },
   {
    "duration": 12,
    "start_time": "2022-05-19T03:39:39.811Z"
   },
   {
    "duration": 6,
    "start_time": "2022-05-19T03:39:46.063Z"
   },
   {
    "duration": 28,
    "start_time": "2022-05-19T03:40:06.679Z"
   },
   {
    "duration": 14,
    "start_time": "2022-05-19T03:41:42.096Z"
   },
   {
    "duration": 413,
    "start_time": "2022-05-19T03:42:16.106Z"
   },
   {
    "duration": 232,
    "start_time": "2022-05-19T03:43:53.315Z"
   },
   {
    "duration": 231,
    "start_time": "2022-05-19T03:44:27.241Z"
   },
   {
    "duration": 268,
    "start_time": "2022-05-19T03:44:47.714Z"
   },
   {
    "duration": 250,
    "start_time": "2022-05-19T03:45:06.859Z"
   },
   {
    "duration": 4,
    "start_time": "2022-05-19T04:40:32.118Z"
   },
   {
    "duration": 84,
    "start_time": "2022-05-19T04:40:32.125Z"
   },
   {
    "duration": 13,
    "start_time": "2022-05-19T04:40:32.215Z"
   },
   {
    "duration": 18,
    "start_time": "2022-05-19T04:40:32.236Z"
   },
   {
    "duration": 15,
    "start_time": "2022-05-19T04:40:32.256Z"
   },
   {
    "duration": 51,
    "start_time": "2022-05-19T04:40:32.273Z"
   },
   {
    "duration": 327,
    "start_time": "2022-05-19T04:40:32.326Z"
   },
   {
    "duration": 3,
    "start_time": "2022-05-19T04:40:32.654Z"
   },
   {
    "duration": 16,
    "start_time": "2022-05-19T04:40:32.659Z"
   },
   {
    "duration": 531,
    "start_time": "2022-05-19T04:40:32.677Z"
   },
   {
    "duration": 11,
    "start_time": "2022-05-19T04:40:33.210Z"
   },
   {
    "duration": 1213,
    "start_time": "2022-05-19T04:40:33.224Z"
   },
   {
    "duration": 6,
    "start_time": "2022-05-19T04:40:34.438Z"
   },
   {
    "duration": 34,
    "start_time": "2022-05-19T04:40:34.445Z"
   },
   {
    "duration": 351,
    "start_time": "2022-05-19T04:40:34.482Z"
   },
   {
    "duration": 6,
    "start_time": "2022-05-19T04:40:34.834Z"
   },
   {
    "duration": 246,
    "start_time": "2022-05-19T04:40:53.195Z"
   },
   {
    "duration": 266,
    "start_time": "2022-05-19T04:41:25.673Z"
   },
   {
    "duration": 251,
    "start_time": "2022-05-19T04:59:41.799Z"
   },
   {
    "duration": 252,
    "start_time": "2022-05-19T05:00:05.478Z"
   },
   {
    "duration": 300,
    "start_time": "2022-05-19T05:00:43.732Z"
   },
   {
    "duration": 269,
    "start_time": "2022-05-19T05:00:58.745Z"
   },
   {
    "duration": 296,
    "start_time": "2022-05-19T05:03:18.909Z"
   },
   {
    "duration": 286,
    "start_time": "2022-05-19T05:04:50.664Z"
   },
   {
    "duration": 333,
    "start_time": "2022-05-19T05:05:22.225Z"
   },
   {
    "duration": 1012,
    "start_time": "2022-05-19T05:05:43.834Z"
   },
   {
    "duration": 10,
    "start_time": "2022-05-19T05:11:46.342Z"
   },
   {
    "duration": 14,
    "start_time": "2022-05-19T05:12:33.797Z"
   },
   {
    "duration": 228,
    "start_time": "2022-05-19T05:13:19.530Z"
   },
   {
    "duration": 4,
    "start_time": "2022-05-19T05:24:33.759Z"
   },
   {
    "duration": 28,
    "start_time": "2022-05-19T05:25:21.512Z"
   },
   {
    "duration": 508,
    "start_time": "2022-05-19T06:11:12.607Z"
   },
   {
    "duration": 344,
    "start_time": "2022-05-19T06:11:39.665Z"
   },
   {
    "duration": 4,
    "start_time": "2022-05-19T06:17:23.407Z"
   },
   {
    "duration": 57,
    "start_time": "2022-05-19T06:17:23.413Z"
   },
   {
    "duration": 17,
    "start_time": "2022-05-19T06:17:23.472Z"
   },
   {
    "duration": 36,
    "start_time": "2022-05-19T06:17:23.491Z"
   },
   {
    "duration": 8,
    "start_time": "2022-05-19T06:17:23.529Z"
   },
   {
    "duration": 8,
    "start_time": "2022-05-19T06:17:23.538Z"
   },
   {
    "duration": 282,
    "start_time": "2022-05-19T06:17:23.548Z"
   },
   {
    "duration": 3,
    "start_time": "2022-05-19T06:17:23.831Z"
   },
   {
    "duration": 7,
    "start_time": "2022-05-19T06:17:23.836Z"
   },
   {
    "duration": 411,
    "start_time": "2022-05-19T06:17:44.815Z"
   },
   {
    "duration": 4,
    "start_time": "2022-05-19T06:19:03.608Z"
   },
   {
    "duration": 45,
    "start_time": "2022-05-19T06:19:03.619Z"
   },
   {
    "duration": 19,
    "start_time": "2022-05-19T06:19:03.666Z"
   },
   {
    "duration": 28,
    "start_time": "2022-05-19T06:19:03.692Z"
   },
   {
    "duration": 9,
    "start_time": "2022-05-19T06:19:03.722Z"
   },
   {
    "duration": 8,
    "start_time": "2022-05-19T06:19:03.732Z"
   },
   {
    "duration": 302,
    "start_time": "2022-05-19T06:19:03.742Z"
   },
   {
    "duration": 3,
    "start_time": "2022-05-19T06:19:04.045Z"
   },
   {
    "duration": 8,
    "start_time": "2022-05-19T06:19:04.050Z"
   },
   {
    "duration": 425,
    "start_time": "2022-05-19T06:19:04.059Z"
   },
   {
    "duration": 555,
    "start_time": "2022-05-19T06:27:27.424Z"
   },
   {
    "duration": 7982,
    "start_time": "2022-05-19T06:34:47.325Z"
   },
   {
    "duration": 7668,
    "start_time": "2022-05-19T06:37:04.326Z"
   },
   {
    "duration": 6763,
    "start_time": "2022-05-19T06:39:24.135Z"
   },
   {
    "duration": 5330,
    "start_time": "2022-05-19T06:43:49.868Z"
   },
   {
    "duration": 6663,
    "start_time": "2022-05-19T06:44:28.333Z"
   },
   {
    "duration": 4,
    "start_time": "2022-05-19T06:44:46.306Z"
   },
   {
    "duration": 4421,
    "start_time": "2022-05-19T06:45:30.267Z"
   },
   {
    "duration": 51,
    "start_time": "2022-05-19T09:42:39.166Z"
   },
   {
    "duration": 37,
    "start_time": "2022-05-19T10:56:55.013Z"
   },
   {
    "duration": 46,
    "start_time": "2022-05-19T10:57:28.184Z"
   },
   {
    "duration": 2,
    "start_time": "2022-05-19T10:58:04.873Z"
   },
   {
    "duration": 5,
    "start_time": "2022-05-19T10:58:29.536Z"
   },
   {
    "duration": 1532,
    "start_time": "2022-05-19T10:58:39.495Z"
   },
   {
    "duration": 190,
    "start_time": "2022-05-19T10:58:41.029Z"
   },
   {
    "duration": 10,
    "start_time": "2022-05-19T10:58:41.220Z"
   },
   {
    "duration": 15,
    "start_time": "2022-05-19T10:58:41.232Z"
   },
   {
    "duration": 4,
    "start_time": "2022-05-19T10:58:41.248Z"
   },
   {
    "duration": 38,
    "start_time": "2022-05-19T10:58:41.253Z"
   },
   {
    "duration": 359,
    "start_time": "2022-05-19T10:58:41.293Z"
   },
   {
    "duration": 5,
    "start_time": "2022-05-19T10:58:41.655Z"
   },
   {
    "duration": 52,
    "start_time": "2022-05-19T10:58:41.664Z"
   },
   {
    "duration": 390,
    "start_time": "2022-05-19T10:58:41.718Z"
   },
   {
    "duration": 8,
    "start_time": "2022-05-19T10:58:42.110Z"
   },
   {
    "duration": 812,
    "start_time": "2022-05-19T10:58:42.120Z"
   },
   {
    "duration": 5,
    "start_time": "2022-05-19T10:58:42.934Z"
   },
   {
    "duration": 41,
    "start_time": "2022-05-19T10:58:42.941Z"
   },
   {
    "duration": 233,
    "start_time": "2022-05-19T10:58:42.984Z"
   },
   {
    "duration": 5,
    "start_time": "2022-05-19T10:58:43.219Z"
   },
   {
    "duration": 241,
    "start_time": "2022-05-19T10:58:43.225Z"
   },
   {
    "duration": 12,
    "start_time": "2022-05-19T10:58:43.469Z"
   },
   {
    "duration": 56,
    "start_time": "2022-05-19T10:58:43.483Z"
   },
   {
    "duration": 3738,
    "start_time": "2022-05-19T10:58:43.541Z"
   },
   {
    "duration": 3,
    "start_time": "2022-05-19T10:59:18.355Z"
   },
   {
    "duration": 73,
    "start_time": "2022-05-19T10:59:20.905Z"
   },
   {
    "duration": 14,
    "start_time": "2022-05-19T10:59:28.064Z"
   },
   {
    "duration": 6,
    "start_time": "2022-05-19T10:59:45.274Z"
   },
   {
    "duration": 11,
    "start_time": "2022-05-19T10:59:47.401Z"
   },
   {
    "duration": 3,
    "start_time": "2022-05-19T11:01:05.423Z"
   },
   {
    "duration": 8,
    "start_time": "2022-05-19T11:01:07.090Z"
   },
   {
    "duration": 9,
    "start_time": "2022-05-19T11:01:24.439Z"
   },
   {
    "duration": 11,
    "start_time": "2022-05-19T11:01:37.898Z"
   },
   {
    "duration": 3,
    "start_time": "2022-05-19T11:02:21.001Z"
   },
   {
    "duration": 7,
    "start_time": "2022-05-19T11:02:22.929Z"
   },
   {
    "duration": 19,
    "start_time": "2022-05-19T11:02:24.107Z"
   },
   {
    "duration": 28,
    "start_time": "2022-05-19T11:03:17.988Z"
   },
   {
    "duration": 4,
    "start_time": "2022-05-19T11:05:21.480Z"
   },
   {
    "duration": 60,
    "start_time": "2022-05-19T11:05:21.486Z"
   },
   {
    "duration": 13,
    "start_time": "2022-05-19T11:05:21.548Z"
   },
   {
    "duration": 14,
    "start_time": "2022-05-19T11:05:21.562Z"
   },
   {
    "duration": 15,
    "start_time": "2022-05-19T11:05:21.583Z"
   },
   {
    "duration": 11,
    "start_time": "2022-05-19T11:05:21.600Z"
   },
   {
    "duration": 400,
    "start_time": "2022-05-19T11:05:21.613Z"
   },
   {
    "duration": 5,
    "start_time": "2022-05-19T11:05:22.014Z"
   },
   {
    "duration": 10,
    "start_time": "2022-05-19T11:05:22.020Z"
   },
   {
    "duration": 400,
    "start_time": "2022-05-19T11:05:22.032Z"
   },
   {
    "duration": 9,
    "start_time": "2022-05-19T11:05:22.434Z"
   },
   {
    "duration": 871,
    "start_time": "2022-05-19T11:05:22.444Z"
   },
   {
    "duration": 7,
    "start_time": "2022-05-19T11:05:23.318Z"
   },
   {
    "duration": 18,
    "start_time": "2022-05-19T11:05:23.326Z"
   },
   {
    "duration": 280,
    "start_time": "2022-05-19T11:05:23.346Z"
   },
   {
    "duration": 6,
    "start_time": "2022-05-19T11:05:23.628Z"
   },
   {
    "duration": 329,
    "start_time": "2022-05-19T11:05:23.636Z"
   },
   {
    "duration": 13,
    "start_time": "2022-05-19T11:05:23.970Z"
   },
   {
    "duration": 30,
    "start_time": "2022-05-19T11:05:23.984Z"
   },
   {
    "duration": 5344,
    "start_time": "2022-05-19T11:05:24.016Z"
   },
   {
    "duration": 7,
    "start_time": "2022-05-19T11:05:29.363Z"
   },
   {
    "duration": 109,
    "start_time": "2022-05-19T11:05:29.372Z"
   },
   {
    "duration": 21,
    "start_time": "2022-05-19T11:05:33.961Z"
   },
   {
    "duration": 4,
    "start_time": "2022-05-19T11:22:05.781Z"
   },
   {
    "duration": 8,
    "start_time": "2022-05-19T11:22:32.736Z"
   },
   {
    "duration": 4,
    "start_time": "2022-05-19T11:22:47.113Z"
   },
   {
    "duration": 53,
    "start_time": "2022-05-19T11:22:47.128Z"
   },
   {
    "duration": 10,
    "start_time": "2022-05-19T11:22:47.184Z"
   },
   {
    "duration": 8,
    "start_time": "2022-05-19T11:22:47.196Z"
   },
   {
    "duration": 7,
    "start_time": "2022-05-19T11:22:47.205Z"
   },
   {
    "duration": 12,
    "start_time": "2022-05-19T11:22:47.214Z"
   },
   {
    "duration": 390,
    "start_time": "2022-05-19T11:22:47.228Z"
   },
   {
    "duration": 4,
    "start_time": "2022-05-19T11:22:47.620Z"
   },
   {
    "duration": 15,
    "start_time": "2022-05-19T11:22:47.627Z"
   },
   {
    "duration": 487,
    "start_time": "2022-05-19T11:22:47.644Z"
   },
   {
    "duration": 9,
    "start_time": "2022-05-19T11:22:48.133Z"
   },
   {
    "duration": 818,
    "start_time": "2022-05-19T11:22:48.144Z"
   },
   {
    "duration": 9,
    "start_time": "2022-05-19T11:22:48.970Z"
   },
   {
    "duration": 14,
    "start_time": "2022-05-19T11:22:48.981Z"
   },
   {
    "duration": 246,
    "start_time": "2022-05-19T11:22:48.998Z"
   },
   {
    "duration": 28,
    "start_time": "2022-05-19T11:22:49.247Z"
   },
   {
    "duration": 234,
    "start_time": "2022-05-19T11:22:49.276Z"
   },
   {
    "duration": 10,
    "start_time": "2022-05-19T11:22:49.512Z"
   },
   {
    "duration": 9,
    "start_time": "2022-05-19T11:22:49.523Z"
   },
   {
    "duration": 4328,
    "start_time": "2022-05-19T11:22:49.533Z"
   },
   {
    "duration": 5,
    "start_time": "2022-05-19T11:22:53.863Z"
   },
   {
    "duration": 113,
    "start_time": "2022-05-19T11:22:53.869Z"
   },
   {
    "duration": 16,
    "start_time": "2022-05-19T11:22:53.984Z"
   },
   {
    "duration": 3,
    "start_time": "2022-05-19T11:30:56.423Z"
   },
   {
    "duration": 7,
    "start_time": "2022-05-19T11:30:58.568Z"
   },
   {
    "duration": 10,
    "start_time": "2022-05-19T11:31:00.106Z"
   },
   {
    "duration": 20,
    "start_time": "2022-05-19T11:31:11.742Z"
   },
   {
    "duration": 5,
    "start_time": "2022-05-19T11:42:50.924Z"
   },
   {
    "duration": 4,
    "start_time": "2022-05-19T11:43:01.035Z"
   },
   {
    "duration": 9,
    "start_time": "2022-05-19T11:43:03.204Z"
   },
   {
    "duration": 8,
    "start_time": "2022-05-19T11:43:19.098Z"
   },
   {
    "duration": 6,
    "start_time": "2022-05-19T11:43:28.745Z"
   },
   {
    "duration": 10,
    "start_time": "2022-05-19T11:43:30.732Z"
   },
   {
    "duration": 4,
    "start_time": "2022-05-19T11:47:34.045Z"
   },
   {
    "duration": 8,
    "start_time": "2022-05-19T11:47:36.205Z"
   },
   {
    "duration": 15,
    "start_time": "2022-05-19T11:47:37.646Z"
   },
   {
    "duration": 181,
    "start_time": "2022-05-19T11:54:44.686Z"
   },
   {
    "duration": 10,
    "start_time": "2022-05-19T11:54:51.288Z"
   },
   {
    "duration": 163,
    "start_time": "2022-05-19T11:55:07.966Z"
   },
   {
    "duration": 18,
    "start_time": "2022-05-19T11:55:46.136Z"
   },
   {
    "duration": 7,
    "start_time": "2022-05-19T11:58:12.468Z"
   },
   {
    "duration": 53,
    "start_time": "2022-05-19T11:58:14.631Z"
   },
   {
    "duration": 4,
    "start_time": "2022-05-19T11:58:27.489Z"
   },
   {
    "duration": 37,
    "start_time": "2022-05-19T11:58:29.129Z"
   },
   {
    "duration": 13,
    "start_time": "2022-05-19T11:59:54.926Z"
   },
   {
    "duration": 15,
    "start_time": "2022-05-19T12:00:07.956Z"
   },
   {
    "duration": 5,
    "start_time": "2022-05-19T12:00:23.284Z"
   },
   {
    "duration": 8,
    "start_time": "2022-05-19T12:00:24.685Z"
   },
   {
    "duration": 10,
    "start_time": "2022-05-19T12:00:27.370Z"
   },
   {
    "duration": 11,
    "start_time": "2022-05-19T12:00:29.454Z"
   },
   {
    "duration": 2,
    "start_time": "2022-05-19T12:01:14.107Z"
   },
   {
    "duration": 75,
    "start_time": "2022-05-19T12:01:14.113Z"
   },
   {
    "duration": 8,
    "start_time": "2022-05-19T12:01:14.190Z"
   },
   {
    "duration": 27,
    "start_time": "2022-05-19T12:01:14.199Z"
   },
   {
    "duration": 18,
    "start_time": "2022-05-19T12:01:14.228Z"
   },
   {
    "duration": 46,
    "start_time": "2022-05-19T12:01:14.247Z"
   },
   {
    "duration": 294,
    "start_time": "2022-05-19T12:01:14.295Z"
   },
   {
    "duration": 3,
    "start_time": "2022-05-19T12:01:14.591Z"
   },
   {
    "duration": 24,
    "start_time": "2022-05-19T12:01:14.595Z"
   },
   {
    "duration": 368,
    "start_time": "2022-05-19T12:01:14.620Z"
   },
   {
    "duration": 6,
    "start_time": "2022-05-19T12:01:14.990Z"
   },
   {
    "duration": 760,
    "start_time": "2022-05-19T12:01:14.998Z"
   },
   {
    "duration": 13,
    "start_time": "2022-05-19T12:01:15.759Z"
   },
   {
    "duration": 29,
    "start_time": "2022-05-19T12:01:15.776Z"
   },
   {
    "duration": 211,
    "start_time": "2022-05-19T12:01:15.807Z"
   },
   {
    "duration": 5,
    "start_time": "2022-05-19T12:01:16.020Z"
   },
   {
    "duration": 331,
    "start_time": "2022-05-19T12:01:16.027Z"
   },
   {
    "duration": 10,
    "start_time": "2022-05-19T12:01:16.361Z"
   },
   {
    "duration": 26,
    "start_time": "2022-05-19T12:01:16.373Z"
   },
   {
    "duration": 4167,
    "start_time": "2022-05-19T12:01:16.400Z"
   },
   {
    "duration": 11,
    "start_time": "2022-05-19T12:01:20.572Z"
   },
   {
    "duration": 103,
    "start_time": "2022-05-19T12:01:20.586Z"
   },
   {
    "duration": 10,
    "start_time": "2022-05-19T12:01:20.691Z"
   },
   {
    "duration": 15,
    "start_time": "2022-05-19T12:01:27.784Z"
   },
   {
    "duration": 4,
    "start_time": "2022-05-19T12:02:00.774Z"
   },
   {
    "duration": 14,
    "start_time": "2022-05-19T12:02:03.745Z"
   },
   {
    "duration": 10,
    "start_time": "2022-05-19T12:02:12.276Z"
   },
   {
    "duration": 15,
    "start_time": "2022-05-19T12:02:15.250Z"
   },
   {
    "duration": 18,
    "start_time": "2022-05-19T12:02:51.076Z"
   },
   {
    "duration": 14,
    "start_time": "2022-05-19T12:03:13.585Z"
   },
   {
    "duration": 6,
    "start_time": "2022-05-19T12:03:57.109Z"
   },
   {
    "duration": 5,
    "start_time": "2022-05-19T12:04:16.015Z"
   },
   {
    "duration": 4,
    "start_time": "2022-05-19T12:04:42.787Z"
   },
   {
    "duration": 38,
    "start_time": "2022-05-19T12:04:44.804Z"
   },
   {
    "duration": 3,
    "start_time": "2022-05-19T12:06:47.511Z"
   },
   {
    "duration": 9,
    "start_time": "2022-05-19T12:06:49.481Z"
   },
   {
    "duration": 3,
    "start_time": "2022-05-19T12:06:57.536Z"
   },
   {
    "duration": 70,
    "start_time": "2022-05-19T12:06:57.547Z"
   },
   {
    "duration": 8,
    "start_time": "2022-05-19T12:06:57.619Z"
   },
   {
    "duration": 13,
    "start_time": "2022-05-19T12:06:57.628Z"
   },
   {
    "duration": 28,
    "start_time": "2022-05-19T12:06:57.642Z"
   },
   {
    "duration": 28,
    "start_time": "2022-05-19T12:06:57.673Z"
   },
   {
    "duration": 302,
    "start_time": "2022-05-19T12:06:57.703Z"
   },
   {
    "duration": 3,
    "start_time": "2022-05-19T12:06:58.006Z"
   },
   {
    "duration": 18,
    "start_time": "2022-05-19T12:06:58.011Z"
   },
   {
    "duration": 394,
    "start_time": "2022-05-19T12:06:58.031Z"
   },
   {
    "duration": 7,
    "start_time": "2022-05-19T12:06:58.426Z"
   },
   {
    "duration": 815,
    "start_time": "2022-05-19T12:06:58.435Z"
   },
   {
    "duration": 11,
    "start_time": "2022-05-19T12:06:59.252Z"
   },
   {
    "duration": 23,
    "start_time": "2022-05-19T12:06:59.266Z"
   },
   {
    "duration": 304,
    "start_time": "2022-05-19T12:06:59.292Z"
   },
   {
    "duration": 5,
    "start_time": "2022-05-19T12:06:59.598Z"
   },
   {
    "duration": 234,
    "start_time": "2022-05-19T12:06:59.604Z"
   },
   {
    "duration": 8,
    "start_time": "2022-05-19T12:06:59.839Z"
   },
   {
    "duration": 17,
    "start_time": "2022-05-19T12:06:59.859Z"
   },
   {
    "duration": 5292,
    "start_time": "2022-05-19T12:06:59.877Z"
   },
   {
    "duration": 5,
    "start_time": "2022-05-19T12:07:05.171Z"
   },
   {
    "duration": 135,
    "start_time": "2022-05-19T12:07:05.178Z"
   },
   {
    "duration": 10,
    "start_time": "2022-05-19T12:07:14.040Z"
   },
   {
    "duration": 11,
    "start_time": "2022-05-19T12:07:29.073Z"
   },
   {
    "duration": 3,
    "start_time": "2022-05-19T12:09:09.747Z"
   },
   {
    "duration": 19,
    "start_time": "2022-05-19T12:09:11.077Z"
   },
   {
    "duration": 4,
    "start_time": "2022-05-19T12:11:49.990Z"
   },
   {
    "duration": 9,
    "start_time": "2022-05-19T12:11:52.480Z"
   },
   {
    "duration": 18,
    "start_time": "2022-05-19T12:11:54.287Z"
   },
   {
    "duration": 17,
    "start_time": "2022-05-19T12:11:56.383Z"
   },
   {
    "duration": 3,
    "start_time": "2022-05-19T12:12:10.184Z"
   },
   {
    "duration": 49,
    "start_time": "2022-05-19T12:12:10.189Z"
   },
   {
    "duration": 9,
    "start_time": "2022-05-19T12:12:10.240Z"
   },
   {
    "duration": 6,
    "start_time": "2022-05-19T12:12:10.251Z"
   },
   {
    "duration": 53,
    "start_time": "2022-05-19T12:12:10.259Z"
   },
   {
    "duration": 37,
    "start_time": "2022-05-19T12:12:10.314Z"
   },
   {
    "duration": 280,
    "start_time": "2022-05-19T12:12:10.353Z"
   },
   {
    "duration": 4,
    "start_time": "2022-05-19T12:12:10.635Z"
   },
   {
    "duration": 29,
    "start_time": "2022-05-19T12:12:10.640Z"
   },
   {
    "duration": 361,
    "start_time": "2022-05-19T12:12:10.675Z"
   },
   {
    "duration": 7,
    "start_time": "2022-05-19T12:12:11.038Z"
   },
   {
    "duration": 876,
    "start_time": "2022-05-19T12:12:11.046Z"
   },
   {
    "duration": 6,
    "start_time": "2022-05-19T12:12:11.923Z"
   },
   {
    "duration": 23,
    "start_time": "2022-05-19T12:12:11.930Z"
   },
   {
    "duration": 338,
    "start_time": "2022-05-19T12:12:11.954Z"
   },
   {
    "duration": 6,
    "start_time": "2022-05-19T12:12:12.293Z"
   },
   {
    "duration": 222,
    "start_time": "2022-05-19T12:12:12.300Z"
   },
   {
    "duration": 8,
    "start_time": "2022-05-19T12:12:12.523Z"
   },
   {
    "duration": 18,
    "start_time": "2022-05-19T12:12:12.533Z"
   },
   {
    "duration": 3233,
    "start_time": "2022-05-19T12:12:12.553Z"
   },
   {
    "duration": 4,
    "start_time": "2022-05-19T12:12:15.862Z"
   },
   {
    "duration": 114,
    "start_time": "2022-05-19T12:12:15.867Z"
   },
   {
    "duration": 14,
    "start_time": "2022-05-19T12:12:15.983Z"
   },
   {
    "duration": 15,
    "start_time": "2022-05-19T12:12:26.445Z"
   },
   {
    "duration": 6,
    "start_time": "2022-05-19T12:12:38.584Z"
   },
   {
    "duration": 36,
    "start_time": "2022-05-19T12:57:59.871Z"
   },
   {
    "duration": 3,
    "start_time": "2022-05-19T12:58:16.878Z"
   },
   {
    "duration": 9,
    "start_time": "2022-05-19T13:00:44.783Z"
   },
   {
    "duration": 5921,
    "start_time": "2022-05-19T13:18:55.565Z"
   },
   {
    "duration": 415,
    "start_time": "2022-05-19T13:19:28.488Z"
   },
   {
    "duration": 43,
    "start_time": "2022-05-19T13:22:22.382Z"
   },
   {
    "duration": 14,
    "start_time": "2022-05-19T13:22:30.357Z"
   },
   {
    "duration": 13,
    "start_time": "2022-05-19T13:22:37.777Z"
   },
   {
    "duration": 14,
    "start_time": "2022-05-19T13:22:42.479Z"
   },
   {
    "duration": 4,
    "start_time": "2022-05-19T13:23:06.636Z"
   },
   {
    "duration": 17,
    "start_time": "2022-05-19T13:27:41.445Z"
   },
   {
    "duration": 5,
    "start_time": "2022-05-19T13:42:00.183Z"
   },
   {
    "duration": 4,
    "start_time": "2022-05-19T14:07:56.124Z"
   },
   {
    "duration": 2159,
    "start_time": "2022-05-19T14:08:11.114Z"
   },
   {
    "duration": 5,
    "start_time": "2022-05-19T14:08:13.276Z"
   },
   {
    "duration": 70,
    "start_time": "2022-05-19T14:08:13.282Z"
   },
   {
    "duration": 10,
    "start_time": "2022-05-19T14:08:13.354Z"
   },
   {
    "duration": 9,
    "start_time": "2022-05-19T14:08:13.367Z"
   },
   {
    "duration": 23,
    "start_time": "2022-05-19T14:08:13.377Z"
   },
   {
    "duration": 22,
    "start_time": "2022-05-19T14:08:13.402Z"
   },
   {
    "duration": 288,
    "start_time": "2022-05-19T14:08:13.426Z"
   },
   {
    "duration": 3,
    "start_time": "2022-05-19T14:08:13.716Z"
   },
   {
    "duration": 12,
    "start_time": "2022-05-19T14:08:13.721Z"
   },
   {
    "duration": 384,
    "start_time": "2022-05-19T14:08:13.735Z"
   },
   {
    "duration": 23,
    "start_time": "2022-05-19T14:08:14.121Z"
   },
   {
    "duration": 917,
    "start_time": "2022-05-19T14:08:14.145Z"
   },
   {
    "duration": 6,
    "start_time": "2022-05-19T14:08:15.064Z"
   },
   {
    "duration": 14,
    "start_time": "2022-05-19T14:08:15.071Z"
   },
   {
    "duration": 228,
    "start_time": "2022-05-19T14:08:15.087Z"
   },
   {
    "duration": 4,
    "start_time": "2022-05-19T14:08:15.317Z"
   },
   {
    "duration": 214,
    "start_time": "2022-05-19T14:08:15.323Z"
   },
   {
    "duration": 8,
    "start_time": "2022-05-19T14:08:15.539Z"
   },
   {
    "duration": 14,
    "start_time": "2022-05-19T14:08:15.548Z"
   },
   {
    "duration": 1796,
    "start_time": "2022-05-19T14:08:15.564Z"
   },
   {
    "duration": 5,
    "start_time": "2022-05-19T14:08:17.362Z"
   },
   {
    "duration": 100,
    "start_time": "2022-05-19T14:08:17.373Z"
   },
   {
    "duration": 7,
    "start_time": "2022-05-19T14:08:17.474Z"
   },
   {
    "duration": 29,
    "start_time": "2022-05-19T14:08:17.482Z"
   },
   {
    "duration": 13,
    "start_time": "2022-05-19T14:08:17.513Z"
   },
   {
    "duration": 4,
    "start_time": "2022-05-19T14:08:17.528Z"
   },
   {
    "duration": 9,
    "start_time": "2022-05-19T14:08:17.534Z"
   },
   {
    "duration": 20,
    "start_time": "2022-05-19T14:08:17.545Z"
   },
   {
    "duration": 11,
    "start_time": "2022-05-19T14:08:52.773Z"
   },
   {
    "duration": 37,
    "start_time": "2022-05-19T14:09:48.496Z"
   },
   {
    "duration": 49,
    "start_time": "2022-05-19T14:12:13.578Z"
   },
   {
    "duration": 36,
    "start_time": "2022-05-19T14:12:20.288Z"
   },
   {
    "duration": 4,
    "start_time": "2022-05-19T14:12:52.231Z"
   },
   {
    "duration": 232,
    "start_time": "2022-05-19T14:12:58.090Z"
   },
   {
    "duration": 3,
    "start_time": "2022-05-19T14:18:07.427Z"
   },
   {
    "duration": 55,
    "start_time": "2022-05-19T14:18:18.494Z"
   },
   {
    "duration": 2135,
    "start_time": "2022-05-19T14:19:11.242Z"
   },
   {
    "duration": 4,
    "start_time": "2022-05-19T14:19:13.379Z"
   },
   {
    "duration": 69,
    "start_time": "2022-05-19T14:19:13.385Z"
   },
   {
    "duration": 10,
    "start_time": "2022-05-19T14:19:13.456Z"
   },
   {
    "duration": 14,
    "start_time": "2022-05-19T14:19:13.468Z"
   },
   {
    "duration": 16,
    "start_time": "2022-05-19T14:19:13.484Z"
   },
   {
    "duration": 18,
    "start_time": "2022-05-19T14:19:13.502Z"
   },
   {
    "duration": 298,
    "start_time": "2022-05-19T14:19:13.522Z"
   },
   {
    "duration": 4,
    "start_time": "2022-05-19T14:19:13.821Z"
   },
   {
    "duration": 18,
    "start_time": "2022-05-19T14:19:13.828Z"
   },
   {
    "duration": 405,
    "start_time": "2022-05-19T14:19:13.848Z"
   },
   {
    "duration": 10,
    "start_time": "2022-05-19T14:19:14.255Z"
   },
   {
    "duration": 997,
    "start_time": "2022-05-19T14:19:14.267Z"
   },
   {
    "duration": 6,
    "start_time": "2022-05-19T14:19:15.266Z"
   },
   {
    "duration": 20,
    "start_time": "2022-05-19T14:19:15.273Z"
   },
   {
    "duration": 249,
    "start_time": "2022-05-19T14:19:15.294Z"
   },
   {
    "duration": 15,
    "start_time": "2022-05-19T14:19:15.545Z"
   },
   {
    "duration": 237,
    "start_time": "2022-05-19T14:19:15.562Z"
   },
   {
    "duration": 15,
    "start_time": "2022-05-19T14:19:15.802Z"
   },
   {
    "duration": 16,
    "start_time": "2022-05-19T14:19:15.819Z"
   },
   {
    "duration": 1123,
    "start_time": "2022-05-19T14:19:15.837Z"
   },
   {
    "duration": 4,
    "start_time": "2022-05-19T14:19:16.962Z"
   },
   {
    "duration": 111,
    "start_time": "2022-05-19T14:19:16.971Z"
   },
   {
    "duration": 14,
    "start_time": "2022-05-19T14:19:17.084Z"
   },
   {
    "duration": 22,
    "start_time": "2022-05-19T14:19:17.099Z"
   },
   {
    "duration": 30,
    "start_time": "2022-05-19T14:19:17.122Z"
   },
   {
    "duration": 14,
    "start_time": "2022-05-19T14:19:17.154Z"
   },
   {
    "duration": 19,
    "start_time": "2022-05-19T14:19:17.171Z"
   },
   {
    "duration": 65,
    "start_time": "2022-05-19T14:19:17.191Z"
   },
   {
    "duration": 2386,
    "start_time": "2022-05-19T14:20:11.458Z"
   },
   {
    "duration": 5,
    "start_time": "2022-05-19T14:20:13.847Z"
   },
   {
    "duration": 72,
    "start_time": "2022-05-19T14:20:13.854Z"
   },
   {
    "duration": 12,
    "start_time": "2022-05-19T14:20:13.928Z"
   },
   {
    "duration": 21,
    "start_time": "2022-05-19T14:20:13.943Z"
   },
   {
    "duration": 19,
    "start_time": "2022-05-19T14:20:13.966Z"
   },
   {
    "duration": 18,
    "start_time": "2022-05-19T14:20:13.987Z"
   },
   {
    "duration": 263,
    "start_time": "2022-05-19T14:20:14.006Z"
   },
   {
    "duration": 3,
    "start_time": "2022-05-19T14:20:14.270Z"
   },
   {
    "duration": 10,
    "start_time": "2022-05-19T14:20:14.275Z"
   },
   {
    "duration": 341,
    "start_time": "2022-05-19T14:20:14.287Z"
   },
   {
    "duration": 7,
    "start_time": "2022-05-19T14:20:14.630Z"
   },
   {
    "duration": 925,
    "start_time": "2022-05-19T14:20:14.638Z"
   },
   {
    "duration": 6,
    "start_time": "2022-05-19T14:20:15.565Z"
   },
   {
    "duration": 14,
    "start_time": "2022-05-19T14:20:15.572Z"
   },
   {
    "duration": 227,
    "start_time": "2022-05-19T14:20:15.588Z"
   },
   {
    "duration": 6,
    "start_time": "2022-05-19T14:20:15.817Z"
   },
   {
    "duration": 227,
    "start_time": "2022-05-19T14:20:15.825Z"
   },
   {
    "duration": 12,
    "start_time": "2022-05-19T14:20:16.053Z"
   },
   {
    "duration": 28,
    "start_time": "2022-05-19T14:20:16.066Z"
   },
   {
    "duration": 1271,
    "start_time": "2022-05-19T14:20:16.095Z"
   },
   {
    "duration": 4,
    "start_time": "2022-05-19T14:20:17.368Z"
   },
   {
    "duration": 197,
    "start_time": "2022-05-19T14:20:17.374Z"
   },
   {
    "duration": 10,
    "start_time": "2022-05-19T14:20:17.573Z"
   },
   {
    "duration": 27,
    "start_time": "2022-05-19T14:20:17.585Z"
   },
   {
    "duration": 26,
    "start_time": "2022-05-19T14:20:17.614Z"
   },
   {
    "duration": 16,
    "start_time": "2022-05-19T14:20:17.641Z"
   },
   {
    "duration": 23,
    "start_time": "2022-05-19T14:20:17.658Z"
   },
   {
    "duration": 69,
    "start_time": "2022-05-19T14:20:17.682Z"
   },
   {
    "duration": 11,
    "start_time": "2022-05-19T14:27:30.775Z"
   },
   {
    "duration": 27,
    "start_time": "2022-05-19T14:27:49.450Z"
   },
   {
    "duration": 3,
    "start_time": "2022-05-19T14:28:00.741Z"
   },
   {
    "duration": 4,
    "start_time": "2022-05-19T14:28:02.619Z"
   },
   {
    "duration": 4,
    "start_time": "2022-05-19T14:28:03.948Z"
   },
   {
    "duration": 23,
    "start_time": "2022-05-19T14:28:05.838Z"
   },
   {
    "duration": 5,
    "start_time": "2022-05-19T14:29:15.041Z"
   },
   {
    "duration": 308,
    "start_time": "2022-05-19T14:29:17.858Z"
   },
   {
    "duration": 5,
    "start_time": "2022-05-19T14:29:27.611Z"
   },
   {
    "duration": 165,
    "start_time": "2022-05-19T14:29:29.199Z"
   },
   {
    "duration": 4,
    "start_time": "2022-05-19T14:30:00.145Z"
   },
   {
    "duration": 471,
    "start_time": "2022-05-19T14:30:02.105Z"
   },
   {
    "duration": 4,
    "start_time": "2022-05-19T14:30:25.852Z"
   },
   {
    "duration": 4,
    "start_time": "2022-05-19T14:30:27.401Z"
   },
   {
    "duration": 446,
    "start_time": "2022-05-19T14:30:29.042Z"
   },
   {
    "duration": 12,
    "start_time": "2022-05-19T14:32:59.633Z"
   },
   {
    "duration": 4,
    "start_time": "2022-05-19T14:33:25.825Z"
   },
   {
    "duration": 4,
    "start_time": "2022-05-19T14:33:28.610Z"
   },
   {
    "duration": 34,
    "start_time": "2022-05-19T14:33:30.295Z"
   },
   {
    "duration": 3,
    "start_time": "2022-05-19T14:38:51.234Z"
   },
   {
    "duration": 5,
    "start_time": "2022-05-19T14:39:01.087Z"
   },
   {
    "duration": 4,
    "start_time": "2022-05-19T14:39:04.657Z"
   },
   {
    "duration": 40,
    "start_time": "2022-05-19T14:39:07.071Z"
   },
   {
    "duration": 316,
    "start_time": "2022-05-19T14:39:45.130Z"
   },
   {
    "duration": 146692,
    "start_time": "2022-05-19T14:39:58.216Z"
   },
   {
    "duration": 4,
    "start_time": "2022-05-19T14:43:56.239Z"
   },
   {
    "duration": 3,
    "start_time": "2022-05-19T14:44:14.096Z"
   },
   {
    "duration": 10,
    "start_time": "2022-05-19T14:44:28.533Z"
   },
   {
    "duration": 5,
    "start_time": "2022-05-19T14:44:35.684Z"
   },
   {
    "duration": 14,
    "start_time": "2022-05-19T14:45:14.065Z"
   },
   {
    "duration": 3,
    "start_time": "2022-05-19T14:48:01.081Z"
   },
   {
    "duration": 8,
    "start_time": "2022-05-19T14:48:02.928Z"
   },
   {
    "duration": 10,
    "start_time": "2022-05-19T14:50:00.402Z"
   },
   {
    "duration": 5,
    "start_time": "2022-05-19T14:50:11.890Z"
   },
   {
    "duration": 12,
    "start_time": "2022-05-19T14:50:26.500Z"
   },
   {
    "duration": 3,
    "start_time": "2022-05-19T14:53:30.083Z"
   },
   {
    "duration": 4,
    "start_time": "2022-05-19T14:54:02.016Z"
   },
   {
    "duration": 3,
    "start_time": "2022-05-19T14:54:22.599Z"
   },
   {
    "duration": 9,
    "start_time": "2022-05-19T14:54:29.625Z"
   },
   {
    "duration": 8,
    "start_time": "2022-05-19T14:54:34.003Z"
   },
   {
    "duration": 6,
    "start_time": "2022-05-19T14:55:30.195Z"
   },
   {
    "duration": 13,
    "start_time": "2022-05-19T14:55:33.397Z"
   },
   {
    "duration": 4,
    "start_time": "2022-05-19T14:56:03.347Z"
   },
   {
    "duration": 23,
    "start_time": "2022-05-19T14:56:06.358Z"
   },
   {
    "duration": 1996,
    "start_time": "2022-05-19T14:56:27.917Z"
   },
   {
    "duration": 6,
    "start_time": "2022-05-19T14:56:29.915Z"
   },
   {
    "duration": 51,
    "start_time": "2022-05-19T14:56:29.923Z"
   },
   {
    "duration": 10,
    "start_time": "2022-05-19T14:56:29.975Z"
   },
   {
    "duration": 6,
    "start_time": "2022-05-19T14:56:29.987Z"
   },
   {
    "duration": 6,
    "start_time": "2022-05-19T14:56:29.994Z"
   },
   {
    "duration": 13,
    "start_time": "2022-05-19T14:56:30.001Z"
   },
   {
    "duration": 274,
    "start_time": "2022-05-19T14:56:30.015Z"
   },
   {
    "duration": 4,
    "start_time": "2022-05-19T14:56:30.291Z"
   },
   {
    "duration": 17,
    "start_time": "2022-05-19T14:56:30.297Z"
   },
   {
    "duration": 472,
    "start_time": "2022-05-19T14:56:30.316Z"
   },
   {
    "duration": 7,
    "start_time": "2022-05-19T14:56:30.790Z"
   },
   {
    "duration": 825,
    "start_time": "2022-05-19T14:56:30.798Z"
   },
   {
    "duration": 5,
    "start_time": "2022-05-19T14:56:31.625Z"
   },
   {
    "duration": 10,
    "start_time": "2022-05-19T14:56:31.631Z"
   },
   {
    "duration": 269,
    "start_time": "2022-05-19T14:56:31.642Z"
   },
   {
    "duration": 6,
    "start_time": "2022-05-19T14:56:31.913Z"
   },
   {
    "duration": 241,
    "start_time": "2022-05-19T14:56:31.921Z"
   },
   {
    "duration": 10,
    "start_time": "2022-05-19T14:56:32.164Z"
   },
   {
    "duration": 6,
    "start_time": "2022-05-19T14:56:32.176Z"
   },
   {
    "duration": 1176,
    "start_time": "2022-05-19T14:56:32.183Z"
   },
   {
    "duration": 6,
    "start_time": "2022-05-19T14:56:33.365Z"
   },
   {
    "duration": 108,
    "start_time": "2022-05-19T14:56:33.374Z"
   },
   {
    "duration": 5,
    "start_time": "2022-05-19T14:57:04.974Z"
   },
   {
    "duration": 22,
    "start_time": "2022-05-19T14:57:08.440Z"
   },
   {
    "duration": 18,
    "start_time": "2022-05-19T14:57:18.745Z"
   },
   {
    "duration": 2096,
    "start_time": "2022-05-19T14:57:53.330Z"
   },
   {
    "duration": 5,
    "start_time": "2022-05-19T14:57:55.428Z"
   },
   {
    "duration": 53,
    "start_time": "2022-05-19T14:57:55.435Z"
   },
   {
    "duration": 15,
    "start_time": "2022-05-19T14:57:55.490Z"
   },
   {
    "duration": 10,
    "start_time": "2022-05-19T14:57:55.507Z"
   },
   {
    "duration": 6,
    "start_time": "2022-05-19T14:57:55.518Z"
   },
   {
    "duration": 12,
    "start_time": "2022-05-19T14:57:55.526Z"
   },
   {
    "duration": 254,
    "start_time": "2022-05-19T14:57:55.540Z"
   },
   {
    "duration": 2,
    "start_time": "2022-05-19T14:57:55.796Z"
   },
   {
    "duration": 9,
    "start_time": "2022-05-19T14:57:55.801Z"
   },
   {
    "duration": 331,
    "start_time": "2022-05-19T14:57:55.811Z"
   },
   {
    "duration": 19,
    "start_time": "2022-05-19T14:57:56.144Z"
   },
   {
    "duration": 921,
    "start_time": "2022-05-19T14:57:56.165Z"
   },
   {
    "duration": 6,
    "start_time": "2022-05-19T14:57:57.087Z"
   },
   {
    "duration": 10,
    "start_time": "2022-05-19T14:57:57.095Z"
   },
   {
    "duration": 228,
    "start_time": "2022-05-19T14:57:57.106Z"
   },
   {
    "duration": 5,
    "start_time": "2022-05-19T14:57:57.336Z"
   },
   {
    "duration": 202,
    "start_time": "2022-05-19T14:57:57.343Z"
   },
   {
    "duration": 16,
    "start_time": "2022-05-19T14:57:57.548Z"
   },
   {
    "duration": 5,
    "start_time": "2022-05-19T14:57:57.566Z"
   },
   {
    "duration": 1200,
    "start_time": "2022-05-19T14:57:57.572Z"
   },
   {
    "duration": 88,
    "start_time": "2022-05-19T14:57:58.774Z"
   },
   {
    "duration": 106,
    "start_time": "2022-05-19T14:57:58.865Z"
   },
   {
    "duration": 4,
    "start_time": "2022-05-19T14:58:51.969Z"
   },
   {
    "duration": 7,
    "start_time": "2022-05-19T14:59:18.298Z"
   },
   {
    "duration": 16,
    "start_time": "2022-05-19T14:59:27.886Z"
   },
   {
    "duration": 7,
    "start_time": "2022-05-19T14:59:33.426Z"
   },
   {
    "duration": 17,
    "start_time": "2022-05-19T14:59:35.025Z"
   },
   {
    "duration": 4,
    "start_time": "2022-05-19T14:59:47.084Z"
   },
   {
    "duration": 12,
    "start_time": "2022-05-19T14:59:49.560Z"
   },
   {
    "duration": 15,
    "start_time": "2022-05-19T15:00:08.558Z"
   },
   {
    "duration": 2047,
    "start_time": "2022-05-19T15:00:21.293Z"
   },
   {
    "duration": 6,
    "start_time": "2022-05-19T15:00:23.343Z"
   },
   {
    "duration": 52,
    "start_time": "2022-05-19T15:00:23.351Z"
   },
   {
    "duration": 11,
    "start_time": "2022-05-19T15:00:23.405Z"
   },
   {
    "duration": 7,
    "start_time": "2022-05-19T15:00:23.418Z"
   },
   {
    "duration": 7,
    "start_time": "2022-05-19T15:00:23.427Z"
   },
   {
    "duration": 11,
    "start_time": "2022-05-19T15:00:23.436Z"
   },
   {
    "duration": 249,
    "start_time": "2022-05-19T15:00:23.449Z"
   },
   {
    "duration": 3,
    "start_time": "2022-05-19T15:00:23.699Z"
   },
   {
    "duration": 7,
    "start_time": "2022-05-19T15:00:23.705Z"
   },
   {
    "duration": 333,
    "start_time": "2022-05-19T15:00:23.713Z"
   },
   {
    "duration": 16,
    "start_time": "2022-05-19T15:00:24.047Z"
   },
   {
    "duration": 929,
    "start_time": "2022-05-19T15:00:24.065Z"
   },
   {
    "duration": 5,
    "start_time": "2022-05-19T15:00:24.996Z"
   },
   {
    "duration": 11,
    "start_time": "2022-05-19T15:00:25.002Z"
   },
   {
    "duration": 216,
    "start_time": "2022-05-19T15:00:25.014Z"
   },
   {
    "duration": 5,
    "start_time": "2022-05-19T15:00:25.232Z"
   },
   {
    "duration": 232,
    "start_time": "2022-05-19T15:00:25.239Z"
   },
   {
    "duration": 9,
    "start_time": "2022-05-19T15:00:25.472Z"
   },
   {
    "duration": 7,
    "start_time": "2022-05-19T15:00:25.483Z"
   },
   {
    "duration": 2071,
    "start_time": "2022-05-19T15:00:25.491Z"
   },
   {
    "duration": 5,
    "start_time": "2022-05-19T15:00:27.564Z"
   },
   {
    "duration": 113,
    "start_time": "2022-05-19T15:00:27.571Z"
   },
   {
    "duration": 12,
    "start_time": "2022-05-19T15:00:36.109Z"
   },
   {
    "duration": 9,
    "start_time": "2022-05-19T15:01:11.873Z"
   },
   {
    "duration": 14,
    "start_time": "2022-05-19T15:01:14.658Z"
   },
   {
    "duration": 4,
    "start_time": "2022-05-19T15:01:34.589Z"
   },
   {
    "duration": 8,
    "start_time": "2022-05-19T15:01:36.271Z"
   },
   {
    "duration": 12,
    "start_time": "2022-05-19T15:01:38.658Z"
   },
   {
    "duration": 3,
    "start_time": "2022-05-19T15:02:06.171Z"
   },
   {
    "duration": 7,
    "start_time": "2022-05-19T15:02:09.062Z"
   },
   {
    "duration": 7,
    "start_time": "2022-05-19T15:02:19.443Z"
   },
   {
    "duration": 19,
    "start_time": "2022-05-19T15:02:20.929Z"
   },
   {
    "duration": 2209,
    "start_time": "2022-05-19T15:02:30.345Z"
   },
   {
    "duration": 4,
    "start_time": "2022-05-19T15:02:32.557Z"
   },
   {
    "duration": 51,
    "start_time": "2022-05-19T15:02:32.563Z"
   },
   {
    "duration": 11,
    "start_time": "2022-05-19T15:02:32.616Z"
   },
   {
    "duration": 15,
    "start_time": "2022-05-19T15:02:32.629Z"
   },
   {
    "duration": 8,
    "start_time": "2022-05-19T15:02:32.646Z"
   },
   {
    "duration": 13,
    "start_time": "2022-05-19T15:02:32.656Z"
   },
   {
    "duration": 247,
    "start_time": "2022-05-19T15:02:32.670Z"
   },
   {
    "duration": 3,
    "start_time": "2022-05-19T15:02:32.918Z"
   },
   {
    "duration": 8,
    "start_time": "2022-05-19T15:02:32.923Z"
   },
   {
    "duration": 317,
    "start_time": "2022-05-19T15:02:32.932Z"
   },
   {
    "duration": 12,
    "start_time": "2022-05-19T15:02:33.251Z"
   },
   {
    "duration": 802,
    "start_time": "2022-05-19T15:02:33.264Z"
   },
   {
    "duration": 7,
    "start_time": "2022-05-19T15:02:34.067Z"
   },
   {
    "duration": 26,
    "start_time": "2022-05-19T15:02:34.076Z"
   },
   {
    "duration": 391,
    "start_time": "2022-05-19T15:02:34.103Z"
   },
   {
    "duration": 7,
    "start_time": "2022-05-19T15:02:34.496Z"
   },
   {
    "duration": 221,
    "start_time": "2022-05-19T15:02:34.505Z"
   },
   {
    "duration": 10,
    "start_time": "2022-05-19T15:02:34.728Z"
   },
   {
    "duration": 22,
    "start_time": "2022-05-19T15:02:34.740Z"
   },
   {
    "duration": 2608,
    "start_time": "2022-05-19T15:02:34.764Z"
   },
   {
    "duration": 6,
    "start_time": "2022-05-19T15:02:37.461Z"
   },
   {
    "duration": 104,
    "start_time": "2022-05-19T15:02:37.469Z"
   },
   {
    "duration": 7,
    "start_time": "2022-05-19T15:02:37.575Z"
   },
   {
    "duration": 13,
    "start_time": "2022-05-19T15:02:37.583Z"
   },
   {
    "duration": 2074,
    "start_time": "2022-05-19T15:03:02.585Z"
   },
   {
    "duration": 7,
    "start_time": "2022-05-19T15:03:04.662Z"
   },
   {
    "duration": 77,
    "start_time": "2022-05-19T15:03:04.671Z"
   },
   {
    "duration": 11,
    "start_time": "2022-05-19T15:03:04.750Z"
   },
   {
    "duration": 23,
    "start_time": "2022-05-19T15:03:04.763Z"
   },
   {
    "duration": 20,
    "start_time": "2022-05-19T15:03:04.788Z"
   },
   {
    "duration": 32,
    "start_time": "2022-05-19T15:03:04.810Z"
   },
   {
    "duration": 267,
    "start_time": "2022-05-19T15:03:04.844Z"
   },
   {
    "duration": 3,
    "start_time": "2022-05-19T15:03:05.113Z"
   },
   {
    "duration": 36,
    "start_time": "2022-05-19T15:03:05.118Z"
   },
   {
    "duration": 359,
    "start_time": "2022-05-19T15:03:05.155Z"
   },
   {
    "duration": 9,
    "start_time": "2022-05-19T15:03:05.516Z"
   },
   {
    "duration": 826,
    "start_time": "2022-05-19T15:03:05.527Z"
   },
   {
    "duration": 6,
    "start_time": "2022-05-19T15:03:06.359Z"
   },
   {
    "duration": 47,
    "start_time": "2022-05-19T15:03:06.367Z"
   },
   {
    "duration": 238,
    "start_time": "2022-05-19T15:03:06.416Z"
   },
   {
    "duration": 4,
    "start_time": "2022-05-19T15:03:06.659Z"
   },
   {
    "duration": 212,
    "start_time": "2022-05-19T15:03:06.665Z"
   },
   {
    "duration": 10,
    "start_time": "2022-05-19T15:03:06.878Z"
   },
   {
    "duration": 18,
    "start_time": "2022-05-19T15:03:06.890Z"
   },
   {
    "duration": 3653,
    "start_time": "2022-05-19T15:03:06.910Z"
   },
   {
    "duration": 5,
    "start_time": "2022-05-19T15:03:10.569Z"
   },
   {
    "duration": 114,
    "start_time": "2022-05-19T15:03:10.578Z"
   },
   {
    "duration": 23,
    "start_time": "2022-05-19T15:03:10.694Z"
   },
   {
    "duration": 33,
    "start_time": "2022-05-19T15:03:10.719Z"
   },
   {
    "duration": 4,
    "start_time": "2022-05-19T15:03:22.092Z"
   },
   {
    "duration": 4,
    "start_time": "2022-05-19T15:03:35.390Z"
   },
   {
    "duration": 21,
    "start_time": "2022-05-19T15:03:46.881Z"
   },
   {
    "duration": 34,
    "start_time": "2022-05-19T15:04:11.319Z"
   },
   {
    "duration": 6,
    "start_time": "2022-05-19T15:04:17.046Z"
   },
   {
    "duration": 11,
    "start_time": "2022-05-19T15:04:35.256Z"
   },
   {
    "duration": 3,
    "start_time": "2022-05-19T15:06:33.879Z"
   },
   {
    "duration": 13,
    "start_time": "2022-05-19T15:06:35.292Z"
   },
   {
    "duration": 204,
    "start_time": "2022-05-19T15:06:52.979Z"
   },
   {
    "duration": 3,
    "start_time": "2022-05-19T15:07:09.776Z"
   },
   {
    "duration": 1547,
    "start_time": "2022-05-19T15:07:12.326Z"
   },
   {
    "duration": 3,
    "start_time": "2022-05-19T15:07:22.886Z"
   },
   {
    "duration": 11,
    "start_time": "2022-05-19T15:09:30.613Z"
   },
   {
    "duration": 10,
    "start_time": "2022-05-19T15:09:48.457Z"
   },
   {
    "duration": 47,
    "start_time": "2022-05-19T15:10:01.957Z"
   },
   {
    "duration": 19,
    "start_time": "2022-05-19T15:10:50.985Z"
   },
   {
    "duration": 22,
    "start_time": "2022-05-19T15:12:07.284Z"
   },
   {
    "duration": 2274,
    "start_time": "2022-05-19T15:12:19.840Z"
   },
   {
    "duration": 7,
    "start_time": "2022-05-19T15:12:22.117Z"
   },
   {
    "duration": 60,
    "start_time": "2022-05-19T15:12:22.127Z"
   },
   {
    "duration": 11,
    "start_time": "2022-05-19T15:12:22.189Z"
   },
   {
    "duration": 10,
    "start_time": "2022-05-19T15:12:22.202Z"
   },
   {
    "duration": 7,
    "start_time": "2022-05-19T15:12:22.214Z"
   },
   {
    "duration": 18,
    "start_time": "2022-05-19T15:12:22.223Z"
   },
   {
    "duration": 276,
    "start_time": "2022-05-19T15:12:22.259Z"
   },
   {
    "duration": 7,
    "start_time": "2022-05-19T15:12:22.536Z"
   },
   {
    "duration": 24,
    "start_time": "2022-05-19T15:12:22.546Z"
   },
   {
    "duration": 330,
    "start_time": "2022-05-19T15:12:22.572Z"
   },
   {
    "duration": 8,
    "start_time": "2022-05-19T15:12:22.904Z"
   },
   {
    "duration": 833,
    "start_time": "2022-05-19T15:12:22.913Z"
   },
   {
    "duration": 15,
    "start_time": "2022-05-19T15:12:23.748Z"
   },
   {
    "duration": 35,
    "start_time": "2022-05-19T15:12:23.765Z"
   },
   {
    "duration": 235,
    "start_time": "2022-05-19T15:12:23.802Z"
   },
   {
    "duration": 7,
    "start_time": "2022-05-19T15:12:24.039Z"
   },
   {
    "duration": 255,
    "start_time": "2022-05-19T15:12:24.058Z"
   },
   {
    "duration": 11,
    "start_time": "2022-05-19T15:12:24.316Z"
   },
   {
    "duration": 6,
    "start_time": "2022-05-19T15:12:24.329Z"
   },
   {
    "duration": 935,
    "start_time": "2022-05-19T15:12:24.337Z"
   },
   {
    "duration": 4,
    "start_time": "2022-05-19T15:12:25.274Z"
   },
   {
    "duration": 103,
    "start_time": "2022-05-19T15:12:25.361Z"
   },
   {
    "duration": 9,
    "start_time": "2022-05-19T15:12:25.466Z"
   },
   {
    "duration": 8,
    "start_time": "2022-05-19T15:12:25.477Z"
   },
   {
    "duration": 10,
    "start_time": "2022-05-19T15:12:25.487Z"
   },
   {
    "duration": 13,
    "start_time": "2022-05-19T15:12:25.499Z"
   },
   {
    "duration": 13,
    "start_time": "2022-05-19T15:12:25.517Z"
   },
   {
    "duration": 4,
    "start_time": "2022-05-19T15:12:25.532Z"
   },
   {
    "duration": 25,
    "start_time": "2022-05-19T15:12:25.537Z"
   },
   {
    "duration": 1574,
    "start_time": "2022-05-19T15:12:25.564Z"
   },
   {
    "duration": 5,
    "start_time": "2022-05-19T15:12:27.141Z"
   },
   {
    "duration": 26,
    "start_time": "2022-05-19T15:12:31.894Z"
   },
   {
    "duration": 11,
    "start_time": "2022-05-19T15:14:34.903Z"
   },
   {
    "duration": 27,
    "start_time": "2022-05-19T15:15:11.773Z"
   },
   {
    "duration": 16,
    "start_time": "2022-05-19T15:16:58.382Z"
   },
   {
    "duration": 15,
    "start_time": "2022-05-19T15:17:06.177Z"
   },
   {
    "duration": 9821,
    "start_time": "2022-05-20T10:53:35.081Z"
   },
   {
    "duration": 2363,
    "start_time": "2022-05-20T10:53:44.905Z"
   },
   {
    "duration": 370,
    "start_time": "2022-05-20T10:53:47.269Z"
   },
   {
    "duration": 14,
    "start_time": "2022-05-20T10:53:47.641Z"
   },
   {
    "duration": 42,
    "start_time": "2022-05-20T10:53:47.658Z"
   },
   {
    "duration": 6,
    "start_time": "2022-05-20T10:53:47.701Z"
   },
   {
    "duration": 29,
    "start_time": "2022-05-20T10:53:47.710Z"
   },
   {
    "duration": 374,
    "start_time": "2022-05-20T10:53:47.743Z"
   },
   {
    "duration": 3,
    "start_time": "2022-05-20T10:53:48.118Z"
   },
   {
    "duration": 15,
    "start_time": "2022-05-20T10:53:48.123Z"
   },
   {
    "duration": 469,
    "start_time": "2022-05-20T10:53:48.139Z"
   },
   {
    "duration": 9,
    "start_time": "2022-05-20T10:53:48.611Z"
   },
   {
    "duration": 1055,
    "start_time": "2022-05-20T10:53:48.621Z"
   },
   {
    "duration": 9,
    "start_time": "2022-05-20T10:53:49.679Z"
   },
   {
    "duration": 8,
    "start_time": "2022-05-20T10:53:49.690Z"
   },
   {
    "duration": 301,
    "start_time": "2022-05-20T10:53:49.700Z"
   },
   {
    "duration": 9,
    "start_time": "2022-05-20T10:53:50.004Z"
   },
   {
    "duration": 277,
    "start_time": "2022-05-20T10:53:50.017Z"
   },
   {
    "duration": 169,
    "start_time": "2022-05-20T10:55:17.939Z"
   },
   {
    "duration": 16,
    "start_time": "2022-05-20T10:55:37.021Z"
   },
   {
    "duration": 9,
    "start_time": "2022-05-20T10:56:24.573Z"
   },
   {
    "duration": 11,
    "start_time": "2022-05-20T10:56:30.030Z"
   },
   {
    "duration": 12,
    "start_time": "2022-05-20T10:56:36.788Z"
   },
   {
    "duration": 9,
    "start_time": "2022-05-20T10:56:56.214Z"
   },
   {
    "duration": 8,
    "start_time": "2022-05-20T10:57:20.416Z"
   },
   {
    "duration": 6,
    "start_time": "2022-05-20T10:57:37.593Z"
   },
   {
    "duration": 2448,
    "start_time": "2022-05-20T10:58:09.215Z"
   },
   {
    "duration": 6,
    "start_time": "2022-05-20T10:58:11.665Z"
   },
   {
    "duration": 61,
    "start_time": "2022-05-20T10:58:11.672Z"
   },
   {
    "duration": 19,
    "start_time": "2022-05-20T10:58:11.735Z"
   },
   {
    "duration": 13,
    "start_time": "2022-05-20T10:58:11.756Z"
   },
   {
    "duration": 7,
    "start_time": "2022-05-20T10:58:11.771Z"
   },
   {
    "duration": 10,
    "start_time": "2022-05-20T10:58:11.779Z"
   },
   {
    "duration": 283,
    "start_time": "2022-05-20T10:58:11.790Z"
   },
   {
    "duration": 3,
    "start_time": "2022-05-20T10:58:12.075Z"
   },
   {
    "duration": 11,
    "start_time": "2022-05-20T10:58:12.081Z"
   },
   {
    "duration": 384,
    "start_time": "2022-05-20T10:58:12.093Z"
   },
   {
    "duration": 9,
    "start_time": "2022-05-20T10:58:12.479Z"
   },
   {
    "duration": 1015,
    "start_time": "2022-05-20T10:58:12.490Z"
   },
   {
    "duration": 7,
    "start_time": "2022-05-20T10:58:13.507Z"
   },
   {
    "duration": 32,
    "start_time": "2022-05-20T10:58:13.515Z"
   },
   {
    "duration": 242,
    "start_time": "2022-05-20T10:58:13.550Z"
   },
   {
    "duration": 6,
    "start_time": "2022-05-20T10:58:13.794Z"
   },
   {
    "duration": 234,
    "start_time": "2022-05-20T10:58:13.802Z"
   },
   {
    "duration": 14,
    "start_time": "2022-05-20T10:58:14.040Z"
   },
   {
    "duration": 15,
    "start_time": "2022-05-20T10:58:14.055Z"
   },
   {
    "duration": 2794,
    "start_time": "2022-05-20T10:58:14.072Z"
   },
   {
    "duration": 74,
    "start_time": "2022-05-20T10:58:16.868Z"
   },
   {
    "duration": 130,
    "start_time": "2022-05-20T10:58:16.946Z"
   },
   {
    "duration": 23,
    "start_time": "2022-05-20T10:58:17.078Z"
   },
   {
    "duration": 19,
    "start_time": "2022-05-20T10:58:17.103Z"
   },
   {
    "duration": 10,
    "start_time": "2022-05-20T10:58:17.124Z"
   },
   {
    "duration": 40,
    "start_time": "2022-05-20T10:58:17.136Z"
   },
   {
    "duration": 39,
    "start_time": "2022-05-20T10:58:17.180Z"
   },
   {
    "duration": 3,
    "start_time": "2022-05-20T10:58:28.977Z"
   },
   {
    "duration": 10,
    "start_time": "2022-05-20T10:58:30.878Z"
   },
   {
    "duration": 1920,
    "start_time": "2022-05-20T10:58:34.033Z"
   },
   {
    "duration": 5,
    "start_time": "2022-05-20T10:58:41.035Z"
   },
   {
    "duration": 10,
    "start_time": "2022-05-20T10:58:42.793Z"
   },
   {
    "duration": 3,
    "start_time": "2022-05-20T11:05:03.172Z"
   },
   {
    "duration": 3,
    "start_time": "2022-05-20T11:05:04.889Z"
   },
   {
    "duration": 5,
    "start_time": "2022-05-20T11:05:06.963Z"
   },
   {
    "duration": 183,
    "start_time": "2022-05-20T11:05:08.986Z"
   },
   {
    "duration": 3,
    "start_time": "2022-05-20T11:05:36.859Z"
   },
   {
    "duration": 3,
    "start_time": "2022-05-20T11:05:38.463Z"
   },
   {
    "duration": 4,
    "start_time": "2022-05-20T11:05:39.804Z"
   },
   {
    "duration": 2202,
    "start_time": "2022-05-20T11:05:41.868Z"
   },
   {
    "duration": 4,
    "start_time": "2022-05-20T11:05:48.157Z"
   },
   {
    "duration": 15,
    "start_time": "2022-05-20T11:05:51.260Z"
   },
   {
    "duration": 4,
    "start_time": "2022-05-20T11:11:14.465Z"
   },
   {
    "duration": 45,
    "start_time": "2022-05-20T11:11:16.185Z"
   },
   {
    "duration": 5,
    "start_time": "2022-05-20T11:12:42.396Z"
   },
   {
    "duration": 40,
    "start_time": "2022-05-20T11:12:43.829Z"
   },
   {
    "duration": 4,
    "start_time": "2022-05-20T11:46:46.313Z"
   },
   {
    "duration": 2442,
    "start_time": "2022-05-20T11:46:49.877Z"
   },
   {
    "duration": 3,
    "start_time": "2022-05-20T11:50:08.582Z"
   },
   {
    "duration": 3,
    "start_time": "2022-05-20T11:50:20.406Z"
   },
   {
    "duration": 4,
    "start_time": "2022-05-20T11:50:21.879Z"
   },
   {
    "duration": 3,
    "start_time": "2022-05-20T11:50:23.080Z"
   },
   {
    "duration": 2801,
    "start_time": "2022-05-20T11:50:24.199Z"
   },
   {
    "duration": 4,
    "start_time": "2022-05-20T11:51:55.501Z"
   },
   {
    "duration": 3,
    "start_time": "2022-05-20T11:51:58.128Z"
   },
   {
    "duration": 2892,
    "start_time": "2022-05-20T11:52:00.768Z"
   },
   {
    "duration": 7,
    "start_time": "2022-05-20T11:54:58.969Z"
   },
   {
    "duration": 4,
    "start_time": "2022-05-20T11:55:00.687Z"
   },
   {
    "duration": 10,
    "start_time": "2022-05-20T11:55:02.169Z"
   },
   {
    "duration": 1315,
    "start_time": "2022-05-20T11:55:04.610Z"
   },
   {
    "duration": 4,
    "start_time": "2022-05-20T11:55:16.366Z"
   },
   {
    "duration": 15,
    "start_time": "2022-05-20T11:55:17.871Z"
   },
   {
    "duration": 4,
    "start_time": "2022-05-20T11:55:26.994Z"
   },
   {
    "duration": 5,
    "start_time": "2022-05-20T11:55:28.265Z"
   },
   {
    "duration": 4,
    "start_time": "2022-05-20T11:55:29.826Z"
   },
   {
    "duration": 2797,
    "start_time": "2022-05-20T11:55:30.892Z"
   },
   {
    "duration": 3,
    "start_time": "2022-05-20T11:55:38.174Z"
   },
   {
    "duration": 14,
    "start_time": "2022-05-20T11:55:39.379Z"
   },
   {
    "duration": 3,
    "start_time": "2022-05-20T12:39:31.185Z"
   },
   {
    "duration": 5,
    "start_time": "2022-05-20T12:52:09.910Z"
   },
   {
    "duration": 4,
    "start_time": "2022-05-20T12:52:17.701Z"
   },
   {
    "duration": 3,
    "start_time": "2022-05-20T12:54:06.373Z"
   },
   {
    "duration": 22,
    "start_time": "2022-05-20T12:54:28.892Z"
   },
   {
    "duration": 4,
    "start_time": "2022-05-20T12:55:44.328Z"
   },
   {
    "duration": 14,
    "start_time": "2022-05-20T12:55:48.222Z"
   },
   {
    "duration": 15,
    "start_time": "2022-05-20T12:56:42.924Z"
   },
   {
    "duration": 43,
    "start_time": "2022-05-20T12:57:55.030Z"
   },
   {
    "duration": 11,
    "start_time": "2022-05-20T12:58:11.391Z"
   },
   {
    "duration": 14,
    "start_time": "2022-05-20T12:58:32.913Z"
   },
   {
    "duration": 5,
    "start_time": "2022-05-20T13:17:21.825Z"
   },
   {
    "duration": 2206,
    "start_time": "2022-05-20T13:18:06.966Z"
   },
   {
    "duration": 5,
    "start_time": "2022-05-20T13:18:09.174Z"
   },
   {
    "duration": 212,
    "start_time": "2022-05-20T13:18:09.180Z"
   },
   {
    "duration": 11,
    "start_time": "2022-05-20T13:18:09.394Z"
   },
   {
    "duration": 7,
    "start_time": "2022-05-20T13:18:09.406Z"
   },
   {
    "duration": 7,
    "start_time": "2022-05-20T13:18:09.414Z"
   },
   {
    "duration": 9,
    "start_time": "2022-05-20T13:18:09.423Z"
   },
   {
    "duration": 256,
    "start_time": "2022-05-20T13:18:09.434Z"
   },
   {
    "duration": 4,
    "start_time": "2022-05-20T13:18:09.692Z"
   },
   {
    "duration": 16,
    "start_time": "2022-05-20T13:18:09.698Z"
   },
   {
    "duration": 527,
    "start_time": "2022-05-20T13:18:09.716Z"
   },
   {
    "duration": 24,
    "start_time": "2022-05-20T13:18:10.245Z"
   },
   {
    "duration": 848,
    "start_time": "2022-05-20T13:18:10.271Z"
   },
   {
    "duration": 5,
    "start_time": "2022-05-20T13:18:11.121Z"
   },
   {
    "duration": 22,
    "start_time": "2022-05-20T13:18:11.128Z"
   },
   {
    "duration": 239,
    "start_time": "2022-05-20T13:18:11.152Z"
   },
   {
    "duration": 6,
    "start_time": "2022-05-20T13:18:11.392Z"
   },
   {
    "duration": 226,
    "start_time": "2022-05-20T13:18:11.400Z"
   },
   {
    "duration": 18,
    "start_time": "2022-05-20T13:18:11.627Z"
   },
   {
    "duration": 9,
    "start_time": "2022-05-20T13:18:11.646Z"
   },
   {
    "duration": 5,
    "start_time": "2022-05-20T13:18:21.337Z"
   },
   {
    "duration": 19,
    "start_time": "2022-05-20T13:18:23.217Z"
   },
   {
    "duration": 4,
    "start_time": "2022-05-20T13:18:40.866Z"
   },
   {
    "duration": 4,
    "start_time": "2022-05-20T13:18:57.186Z"
   },
   {
    "duration": 4,
    "start_time": "2022-05-20T13:19:18.921Z"
   },
   {
    "duration": 5,
    "start_time": "2022-05-20T13:19:32.688Z"
   },
   {
    "duration": 5953,
    "start_time": "2022-05-20T15:25:51.033Z"
   },
   {
    "duration": 1731,
    "start_time": "2022-05-20T15:25:56.988Z"
   },
   {
    "duration": 101,
    "start_time": "2022-05-20T15:25:58.721Z"
   },
   {
    "duration": 12,
    "start_time": "2022-05-20T15:25:58.825Z"
   },
   {
    "duration": 35,
    "start_time": "2022-05-20T15:25:58.839Z"
   },
   {
    "duration": 11,
    "start_time": "2022-05-20T15:25:58.876Z"
   },
   {
    "duration": 11,
    "start_time": "2022-05-20T15:25:58.889Z"
   },
   {
    "duration": 296,
    "start_time": "2022-05-20T15:25:58.902Z"
   },
   {
    "duration": 4,
    "start_time": "2022-05-20T15:25:59.200Z"
   },
   {
    "duration": 8,
    "start_time": "2022-05-20T15:25:59.207Z"
   },
   {
    "duration": 484,
    "start_time": "2022-05-20T15:25:59.216Z"
   },
   {
    "duration": 7,
    "start_time": "2022-05-20T15:25:59.702Z"
   },
   {
    "duration": 890,
    "start_time": "2022-05-20T15:25:59.710Z"
   },
   {
    "duration": 7,
    "start_time": "2022-05-20T15:26:00.602Z"
   },
   {
    "duration": 31,
    "start_time": "2022-05-20T15:26:00.611Z"
   },
   {
    "duration": 256,
    "start_time": "2022-05-20T15:26:00.644Z"
   },
   {
    "duration": 6,
    "start_time": "2022-05-20T15:26:00.902Z"
   },
   {
    "duration": 271,
    "start_time": "2022-05-20T15:26:00.909Z"
   },
   {
    "duration": 9,
    "start_time": "2022-05-20T15:26:01.182Z"
   },
   {
    "duration": 51,
    "start_time": "2022-05-20T15:26:01.192Z"
   },
   {
    "duration": 2117,
    "start_time": "2022-05-20T15:26:01.245Z"
   },
   {
    "duration": 87,
    "start_time": "2022-05-20T15:26:03.365Z"
   },
   {
    "duration": 124,
    "start_time": "2022-05-20T15:26:03.454Z"
   },
   {
    "duration": 3,
    "start_time": "2022-05-20T15:26:03.580Z"
   },
   {
    "duration": 5,
    "start_time": "2022-05-20T15:26:03.585Z"
   },
   {
    "duration": 3,
    "start_time": "2022-05-20T15:26:14.416Z"
   },
   {
    "duration": 4,
    "start_time": "2022-05-20T15:26:16.251Z"
   },
   {
    "duration": 3,
    "start_time": "2022-05-20T15:26:18.284Z"
   },
   {
    "duration": 2294,
    "start_time": "2022-05-20T15:26:19.817Z"
   },
   {
    "duration": 4,
    "start_time": "2022-05-20T15:26:28.153Z"
   },
   {
    "duration": 4,
    "start_time": "2022-05-20T15:26:31.316Z"
   },
   {
    "duration": 3,
    "start_time": "2022-05-20T15:26:41.355Z"
   },
   {
    "duration": 18,
    "start_time": "2022-05-20T15:26:45.250Z"
   },
   {
    "duration": 21,
    "start_time": "2022-05-20T15:27:37.086Z"
   },
   {
    "duration": 2524,
    "start_time": "2022-05-20T15:32:47.388Z"
   },
   {
    "duration": 2,
    "start_time": "2022-05-20T15:33:28.527Z"
   },
   {
    "duration": 12,
    "start_time": "2022-05-20T15:33:42.950Z"
   },
   {
    "duration": 24,
    "start_time": "2022-05-20T15:34:10.609Z"
   },
   {
    "duration": 2471,
    "start_time": "2022-05-20T15:34:13.266Z"
   },
   {
    "duration": 3,
    "start_time": "2022-05-20T15:34:18.822Z"
   },
   {
    "duration": 11,
    "start_time": "2022-05-20T15:34:20.425Z"
   },
   {
    "duration": 19,
    "start_time": "2022-05-20T15:34:34.471Z"
   },
   {
    "duration": 2352,
    "start_time": "2022-05-20T15:34:37.718Z"
   },
   {
    "duration": 7,
    "start_time": "2022-05-20T15:34:42.854Z"
   },
   {
    "duration": 14,
    "start_time": "2022-05-20T15:34:45.192Z"
   },
   {
    "duration": 20,
    "start_time": "2022-05-20T15:35:20.185Z"
   },
   {
    "duration": 2705,
    "start_time": "2022-05-20T15:35:23.952Z"
   },
   {
    "duration": 2,
    "start_time": "2022-05-20T15:35:30.329Z"
   },
   {
    "duration": 15,
    "start_time": "2022-05-20T15:35:32.251Z"
   },
   {
    "duration": 4,
    "start_time": "2022-05-20T15:36:15.963Z"
   },
   {
    "duration": 20,
    "start_time": "2022-05-20T15:36:27.332Z"
   },
   {
    "duration": 2415,
    "start_time": "2022-05-20T15:36:28.764Z"
   },
   {
    "duration": 4,
    "start_time": "2022-05-20T15:36:33.465Z"
   },
   {
    "duration": 2,
    "start_time": "2022-05-20T15:36:35.687Z"
   },
   {
    "duration": 10,
    "start_time": "2022-05-20T15:36:38.564Z"
   },
   {
    "duration": 1984,
    "start_time": "2022-05-20T16:01:51.117Z"
   },
   {
    "duration": 5,
    "start_time": "2022-05-20T16:01:53.103Z"
   },
   {
    "duration": 43,
    "start_time": "2022-05-20T16:01:53.110Z"
   },
   {
    "duration": 11,
    "start_time": "2022-05-20T16:01:53.155Z"
   },
   {
    "duration": 7,
    "start_time": "2022-05-20T16:01:53.168Z"
   },
   {
    "duration": 5,
    "start_time": "2022-05-20T16:01:53.177Z"
   },
   {
    "duration": 9,
    "start_time": "2022-05-20T16:01:53.183Z"
   },
   {
    "duration": 300,
    "start_time": "2022-05-20T16:01:53.193Z"
   },
   {
    "duration": 3,
    "start_time": "2022-05-20T16:01:53.495Z"
   },
   {
    "duration": 16,
    "start_time": "2022-05-20T16:01:53.501Z"
   },
   {
    "duration": 464,
    "start_time": "2022-05-20T16:01:53.519Z"
   },
   {
    "duration": 8,
    "start_time": "2022-05-20T16:01:53.985Z"
   },
   {
    "duration": 878,
    "start_time": "2022-05-20T16:01:53.995Z"
   },
   {
    "duration": 6,
    "start_time": "2022-05-20T16:01:54.875Z"
   },
   {
    "duration": 17,
    "start_time": "2022-05-20T16:01:54.883Z"
   },
   {
    "duration": 250,
    "start_time": "2022-05-20T16:01:54.902Z"
   },
   {
    "duration": 7,
    "start_time": "2022-05-20T16:01:55.154Z"
   },
   {
    "duration": 310,
    "start_time": "2022-05-20T16:01:55.162Z"
   },
   {
    "duration": 9,
    "start_time": "2022-05-20T16:01:55.473Z"
   },
   {
    "duration": 11,
    "start_time": "2022-05-20T16:01:55.483Z"
   },
   {
    "duration": 1465,
    "start_time": "2022-05-20T16:01:55.495Z"
   },
   {
    "duration": 96,
    "start_time": "2022-05-20T16:01:56.962Z"
   },
   {
    "duration": 115,
    "start_time": "2022-05-20T16:01:57.060Z"
   },
   {
    "duration": 4,
    "start_time": "2022-05-20T16:01:57.177Z"
   },
   {
    "duration": 6,
    "start_time": "2022-05-20T16:01:57.182Z"
   },
   {
    "duration": 4,
    "start_time": "2022-05-20T16:02:08.017Z"
   },
   {
    "duration": 4,
    "start_time": "2022-05-20T16:02:10.097Z"
   },
   {
    "duration": 3,
    "start_time": "2022-05-20T16:02:12.706Z"
   },
   {
    "duration": 2192,
    "start_time": "2022-05-20T16:02:14.662Z"
   },
   {
    "duration": 4,
    "start_time": "2022-05-20T16:02:22.297Z"
   },
   {
    "duration": 3,
    "start_time": "2022-05-20T16:02:24.882Z"
   },
   {
    "duration": 4,
    "start_time": "2022-05-20T16:02:28.993Z"
   },
   {
    "duration": 14,
    "start_time": "2022-05-20T16:02:30.900Z"
   },
   {
    "duration": 21,
    "start_time": "2022-05-20T16:05:51.435Z"
   },
   {
    "duration": 2589,
    "start_time": "2022-05-20T16:05:53.083Z"
   },
   {
    "duration": 3,
    "start_time": "2022-05-20T16:05:58.284Z"
   },
   {
    "duration": 2,
    "start_time": "2022-05-20T16:05:59.906Z"
   },
   {
    "duration": 9,
    "start_time": "2022-05-20T16:06:01.484Z"
   },
   {
    "duration": 2011,
    "start_time": "2022-05-20T16:17:38.114Z"
   },
   {
    "duration": 5,
    "start_time": "2022-05-20T16:17:40.127Z"
   },
   {
    "duration": 49,
    "start_time": "2022-05-20T16:17:40.134Z"
   },
   {
    "duration": 11,
    "start_time": "2022-05-20T16:17:40.185Z"
   },
   {
    "duration": 6,
    "start_time": "2022-05-20T16:17:40.198Z"
   },
   {
    "duration": 8,
    "start_time": "2022-05-20T16:17:40.206Z"
   },
   {
    "duration": 10,
    "start_time": "2022-05-20T16:17:40.216Z"
   },
   {
    "duration": 405,
    "start_time": "2022-05-20T16:17:40.227Z"
   },
   {
    "duration": 3,
    "start_time": "2022-05-20T16:17:40.634Z"
   },
   {
    "duration": 13,
    "start_time": "2022-05-20T16:17:40.639Z"
   },
   {
    "duration": 363,
    "start_time": "2022-05-20T16:17:40.653Z"
   },
   {
    "duration": 7,
    "start_time": "2022-05-20T16:17:41.018Z"
   },
   {
    "duration": 853,
    "start_time": "2022-05-20T16:17:41.026Z"
   },
   {
    "duration": 5,
    "start_time": "2022-05-20T16:17:41.881Z"
   },
   {
    "duration": 12,
    "start_time": "2022-05-20T16:17:41.888Z"
   },
   {
    "duration": 262,
    "start_time": "2022-05-20T16:17:41.902Z"
   },
   {
    "duration": 6,
    "start_time": "2022-05-20T16:17:42.166Z"
   },
   {
    "duration": 230,
    "start_time": "2022-05-20T16:17:42.174Z"
   },
   {
    "duration": 9,
    "start_time": "2022-05-20T16:17:42.405Z"
   },
   {
    "duration": 7,
    "start_time": "2022-05-20T16:17:42.415Z"
   },
   {
    "duration": 1329,
    "start_time": "2022-05-20T16:17:42.423Z"
   },
   {
    "duration": 4,
    "start_time": "2022-05-20T16:17:53.433Z"
   },
   {
    "duration": 174,
    "start_time": "2022-05-20T16:17:56.054Z"
   },
   {
    "duration": 4,
    "start_time": "2022-05-20T16:18:45.674Z"
   },
   {
    "duration": 18,
    "start_time": "2022-05-20T16:18:48.600Z"
   },
   {
    "duration": 4,
    "start_time": "2022-05-20T16:18:51.153Z"
   },
   {
    "duration": 4,
    "start_time": "2022-05-20T16:18:53.156Z"
   },
   {
    "duration": 3,
    "start_time": "2022-05-20T16:19:02.461Z"
   },
   {
    "duration": 5,
    "start_time": "2022-05-20T16:19:05.255Z"
   },
   {
    "duration": 3,
    "start_time": "2022-05-20T16:19:52.331Z"
   },
   {
    "duration": 2303,
    "start_time": "2022-05-20T16:19:54.326Z"
   },
   {
    "duration": 4,
    "start_time": "2022-05-20T16:20:01.685Z"
   },
   {
    "duration": 5,
    "start_time": "2022-05-20T16:20:04.370Z"
   },
   {
    "duration": 3,
    "start_time": "2022-05-20T16:20:07.725Z"
   },
   {
    "duration": 20,
    "start_time": "2022-05-20T16:20:09.417Z"
   },
   {
    "duration": 22,
    "start_time": "2022-05-20T16:20:35.407Z"
   },
   {
    "duration": 4,
    "start_time": "2022-05-20T16:20:58.870Z"
   },
   {
    "duration": 2420,
    "start_time": "2022-05-20T16:21:06.885Z"
   },
   {
    "duration": 5,
    "start_time": "2022-05-20T16:21:13.058Z"
   },
   {
    "duration": 3,
    "start_time": "2022-05-20T16:21:16.165Z"
   },
   {
    "duration": 10,
    "start_time": "2022-05-20T16:21:18.959Z"
   },
   {
    "duration": 19,
    "start_time": "2022-05-20T16:21:33.729Z"
   },
   {
    "duration": 4,
    "start_time": "2022-05-20T16:21:36.969Z"
   },
   {
    "duration": 2571,
    "start_time": "2022-05-20T16:21:38.447Z"
   },
   {
    "duration": 4,
    "start_time": "2022-05-20T16:21:44.073Z"
   },
   {
    "duration": 5,
    "start_time": "2022-05-20T16:21:46.560Z"
   },
   {
    "duration": 3,
    "start_time": "2022-05-20T16:21:49.306Z"
   },
   {
    "duration": 11,
    "start_time": "2022-05-20T16:21:50.753Z"
   },
   {
    "duration": 18,
    "start_time": "2022-05-20T16:22:06.213Z"
   },
   {
    "duration": 3,
    "start_time": "2022-05-20T16:22:07.829Z"
   },
   {
    "duration": 2518,
    "start_time": "2022-05-20T16:22:09.257Z"
   },
   {
    "duration": 5,
    "start_time": "2022-05-20T16:22:14.499Z"
   },
   {
    "duration": 2,
    "start_time": "2022-05-20T16:22:25.760Z"
   },
   {
    "duration": 11,
    "start_time": "2022-05-20T16:22:26.978Z"
   },
   {
    "duration": 18,
    "start_time": "2022-05-20T16:22:31.629Z"
   },
   {
    "duration": 3,
    "start_time": "2022-05-20T16:22:33.292Z"
   },
   {
    "duration": 4,
    "start_time": "2022-05-20T16:22:53.484Z"
   },
   {
    "duration": 4,
    "start_time": "2022-05-20T16:23:34.956Z"
   },
   {
    "duration": 2467,
    "start_time": "2022-05-20T16:23:42.729Z"
   },
   {
    "duration": 4,
    "start_time": "2022-05-20T16:23:51.191Z"
   },
   {
    "duration": 3,
    "start_time": "2022-05-20T16:23:54.550Z"
   },
   {
    "duration": 12,
    "start_time": "2022-05-20T16:23:56.564Z"
   },
   {
    "duration": 3,
    "start_time": "2022-05-20T16:24:32.954Z"
   },
   {
    "duration": 4,
    "start_time": "2022-05-20T16:24:36.815Z"
   },
   {
    "duration": 2057,
    "start_time": "2022-05-20T16:29:07.607Z"
   },
   {
    "duration": 7,
    "start_time": "2022-05-20T16:29:09.667Z"
   },
   {
    "duration": 44,
    "start_time": "2022-05-20T16:29:09.676Z"
   },
   {
    "duration": 10,
    "start_time": "2022-05-20T16:29:09.723Z"
   },
   {
    "duration": 7,
    "start_time": "2022-05-20T16:29:09.735Z"
   },
   {
    "duration": 8,
    "start_time": "2022-05-20T16:29:09.744Z"
   },
   {
    "duration": 8,
    "start_time": "2022-05-20T16:29:09.755Z"
   },
   {
    "duration": 416,
    "start_time": "2022-05-20T16:29:09.765Z"
   },
   {
    "duration": 3,
    "start_time": "2022-05-20T16:29:10.183Z"
   },
   {
    "duration": 7,
    "start_time": "2022-05-20T16:29:10.188Z"
   },
   {
    "duration": 373,
    "start_time": "2022-05-20T16:29:10.197Z"
   },
   {
    "duration": 8,
    "start_time": "2022-05-20T16:29:10.572Z"
   },
   {
    "duration": 892,
    "start_time": "2022-05-20T16:29:10.581Z"
   },
   {
    "duration": 7,
    "start_time": "2022-05-20T16:29:11.475Z"
   },
   {
    "duration": 9,
    "start_time": "2022-05-20T16:29:11.483Z"
   },
   {
    "duration": 261,
    "start_time": "2022-05-20T16:29:11.494Z"
   },
   {
    "duration": 7,
    "start_time": "2022-05-20T16:29:11.757Z"
   },
   {
    "duration": 246,
    "start_time": "2022-05-20T16:29:11.766Z"
   },
   {
    "duration": 9,
    "start_time": "2022-05-20T16:29:12.014Z"
   },
   {
    "duration": 6,
    "start_time": "2022-05-20T16:29:12.024Z"
   },
   {
    "duration": 2225,
    "start_time": "2022-05-20T16:29:12.032Z"
   },
   {
    "duration": 98,
    "start_time": "2022-05-20T16:29:14.258Z"
   },
   {
    "duration": 128,
    "start_time": "2022-05-20T16:29:14.360Z"
   },
   {
    "duration": 4,
    "start_time": "2022-05-20T16:29:14.490Z"
   },
   {
    "duration": 8,
    "start_time": "2022-05-20T16:29:14.495Z"
   },
   {
    "duration": 5,
    "start_time": "2022-05-20T16:29:14.505Z"
   },
   {
    "duration": 13,
    "start_time": "2022-05-20T16:29:14.511Z"
   },
   {
    "duration": 19,
    "start_time": "2022-05-20T16:29:14.527Z"
   },
   {
    "duration": 2479,
    "start_time": "2022-05-20T16:29:14.548Z"
   },
   {
    "duration": 3,
    "start_time": "2022-05-20T16:29:17.029Z"
   },
   {
    "duration": 5,
    "start_time": "2022-05-20T16:29:23.179Z"
   },
   {
    "duration": 4,
    "start_time": "2022-05-20T16:29:56.758Z"
   },
   {
    "duration": 3,
    "start_time": "2022-05-20T16:29:58.973Z"
   },
   {
    "duration": 20,
    "start_time": "2022-05-20T16:30:01.471Z"
   },
   {
    "duration": 18,
    "start_time": "2022-05-20T16:30:20.390Z"
   },
   {
    "duration": 2617,
    "start_time": "2022-05-20T16:30:24.556Z"
   },
   {
    "duration": 5,
    "start_time": "2022-05-20T16:31:03.049Z"
   },
   {
    "duration": 4,
    "start_time": "2022-05-20T16:31:18.075Z"
   },
   {
    "duration": 18,
    "start_time": "2022-05-20T16:31:20.849Z"
   },
   {
    "duration": 27,
    "start_time": "2022-05-20T16:31:35.023Z"
   },
   {
    "duration": 5,
    "start_time": "2022-05-20T16:31:36.852Z"
   },
   {
    "duration": 2470,
    "start_time": "2022-05-20T16:31:38.757Z"
   },
   {
    "duration": 4,
    "start_time": "2022-05-20T16:31:43.166Z"
   },
   {
    "duration": 5,
    "start_time": "2022-05-20T16:31:45.389Z"
   },
   {
    "duration": 25,
    "start_time": "2022-05-20T16:31:47.160Z"
   },
   {
    "duration": 20,
    "start_time": "2022-05-20T16:32:02.255Z"
   },
   {
    "duration": 2485,
    "start_time": "2022-05-20T16:32:05.462Z"
   },
   {
    "duration": 5,
    "start_time": "2022-05-20T16:32:09.906Z"
   },
   {
    "duration": 5,
    "start_time": "2022-05-20T16:32:11.649Z"
   },
   {
    "duration": 5,
    "start_time": "2022-05-20T16:32:13.274Z"
   },
   {
    "duration": 23,
    "start_time": "2022-05-20T16:32:14.819Z"
   },
   {
    "duration": 6,
    "start_time": "2022-05-20T16:35:14.627Z"
   },
   {
    "duration": 28,
    "start_time": "2022-05-20T16:35:52.551Z"
   },
   {
    "duration": 2698,
    "start_time": "2022-05-20T16:35:58.812Z"
   },
   {
    "duration": 4,
    "start_time": "2022-05-20T16:36:07.847Z"
   },
   {
    "duration": 8,
    "start_time": "2022-05-20T16:36:12.156Z"
   },
   {
    "duration": 4,
    "start_time": "2022-05-20T16:36:35.975Z"
   },
   {
    "duration": 18,
    "start_time": "2022-05-20T16:36:38.231Z"
   },
   {
    "duration": 4,
    "start_time": "2022-05-20T16:37:17.720Z"
   },
   {
    "duration": 4,
    "start_time": "2022-05-20T16:37:21.053Z"
   },
   {
    "duration": 2133,
    "start_time": "2022-05-20T16:37:57.947Z"
   },
   {
    "duration": 7,
    "start_time": "2022-05-20T16:38:00.082Z"
   },
   {
    "duration": 50,
    "start_time": "2022-05-20T16:38:00.091Z"
   },
   {
    "duration": 13,
    "start_time": "2022-05-20T16:38:00.143Z"
   },
   {
    "duration": 12,
    "start_time": "2022-05-20T16:38:00.159Z"
   },
   {
    "duration": 12,
    "start_time": "2022-05-20T16:38:00.173Z"
   },
   {
    "duration": 25,
    "start_time": "2022-05-20T16:38:00.187Z"
   },
   {
    "duration": 435,
    "start_time": "2022-05-20T16:38:00.215Z"
   },
   {
    "duration": 4,
    "start_time": "2022-05-20T16:38:00.652Z"
   },
   {
    "duration": 37,
    "start_time": "2022-05-20T16:38:00.658Z"
   },
   {
    "duration": 396,
    "start_time": "2022-05-20T16:38:00.697Z"
   },
   {
    "duration": 10,
    "start_time": "2022-05-20T16:38:01.095Z"
   },
   {
    "duration": 944,
    "start_time": "2022-05-20T16:38:01.107Z"
   },
   {
    "duration": 7,
    "start_time": "2022-05-20T16:38:02.058Z"
   },
   {
    "duration": 28,
    "start_time": "2022-05-20T16:38:02.068Z"
   },
   {
    "duration": 311,
    "start_time": "2022-05-20T16:38:02.099Z"
   },
   {
    "duration": 6,
    "start_time": "2022-05-20T16:38:02.411Z"
   },
   {
    "duration": 281,
    "start_time": "2022-05-20T16:38:02.418Z"
   },
   {
    "duration": 10,
    "start_time": "2022-05-20T16:38:02.702Z"
   },
   {
    "duration": 28,
    "start_time": "2022-05-20T16:38:02.714Z"
   },
   {
    "duration": 1312,
    "start_time": "2022-05-20T16:38:02.744Z"
   },
   {
    "duration": 6,
    "start_time": "2022-05-20T16:38:04.058Z"
   },
   {
    "duration": 206,
    "start_time": "2022-05-20T16:38:04.066Z"
   },
   {
    "duration": 5,
    "start_time": "2022-05-20T16:38:04.274Z"
   },
   {
    "duration": 8,
    "start_time": "2022-05-20T16:38:04.281Z"
   },
   {
    "duration": 3,
    "start_time": "2022-05-20T16:40:07.375Z"
   },
   {
    "duration": 5,
    "start_time": "2022-05-20T16:40:09.579Z"
   },
   {
    "duration": 4,
    "start_time": "2022-05-20T16:40:11.821Z"
   },
   {
    "duration": 1779,
    "start_time": "2022-05-20T16:40:13.743Z"
   },
   {
    "duration": 5,
    "start_time": "2022-05-20T16:40:18.548Z"
   },
   {
    "duration": 4,
    "start_time": "2022-05-20T16:40:36.479Z"
   },
   {
    "duration": 3,
    "start_time": "2022-05-20T16:40:43.567Z"
   },
   {
    "duration": 14,
    "start_time": "2022-05-20T16:40:45.910Z"
   },
   {
    "duration": 4,
    "start_time": "2022-05-20T16:41:36.516Z"
   },
   {
    "duration": 28,
    "start_time": "2022-05-20T16:41:38.762Z"
   },
   {
    "duration": 3,
    "start_time": "2022-05-20T16:41:42.621Z"
   },
   {
    "duration": 21,
    "start_time": "2022-05-20T16:41:53.730Z"
   },
   {
    "duration": 4,
    "start_time": "2022-05-20T16:41:55.856Z"
   },
   {
    "duration": 2330,
    "start_time": "2022-05-20T16:41:58.034Z"
   },
   {
    "duration": 7,
    "start_time": "2022-05-20T16:42:02.820Z"
   },
   {
    "duration": 3,
    "start_time": "2022-05-20T16:42:09.988Z"
   },
   {
    "duration": 16,
    "start_time": "2022-05-20T16:42:11.971Z"
   },
   {
    "duration": 7,
    "start_time": "2022-05-20T16:42:15.714Z"
   },
   {
    "duration": 3,
    "start_time": "2022-05-20T16:42:34.991Z"
   },
   {
    "duration": 28,
    "start_time": "2022-05-20T16:42:48.796Z"
   },
   {
    "duration": 2366,
    "start_time": "2022-05-20T16:42:51.277Z"
   },
   {
    "duration": 7,
    "start_time": "2022-05-20T16:42:55.649Z"
   },
   {
    "duration": 22,
    "start_time": "2022-05-20T16:43:03.422Z"
   },
   {
    "duration": 7,
    "start_time": "2022-05-20T16:43:05.965Z"
   },
   {
    "duration": 3,
    "start_time": "2022-05-20T16:43:23.998Z"
   },
   {
    "duration": 21,
    "start_time": "2022-05-20T16:43:36.247Z"
   },
   {
    "duration": 3,
    "start_time": "2022-05-20T16:43:37.942Z"
   },
   {
    "duration": 2885,
    "start_time": "2022-05-20T16:43:39.606Z"
   },
   {
    "duration": 7,
    "start_time": "2022-05-20T16:43:44.676Z"
   },
   {
    "duration": 4,
    "start_time": "2022-05-20T16:43:48.364Z"
   },
   {
    "duration": 12,
    "start_time": "2022-05-20T16:43:54.350Z"
   },
   {
    "duration": 6,
    "start_time": "2022-05-20T16:43:56.525Z"
   },
   {
    "duration": 17,
    "start_time": "2022-05-20T17:18:28.038Z"
   },
   {
    "duration": 3,
    "start_time": "2022-05-20T17:19:18.295Z"
   },
   {
    "duration": 2032,
    "start_time": "2022-05-20T17:19:35.743Z"
   },
   {
    "duration": 5,
    "start_time": "2022-05-20T17:19:37.777Z"
   },
   {
    "duration": 42,
    "start_time": "2022-05-20T17:19:37.784Z"
   },
   {
    "duration": 11,
    "start_time": "2022-05-20T17:19:37.828Z"
   },
   {
    "duration": 6,
    "start_time": "2022-05-20T17:19:37.841Z"
   },
   {
    "duration": 20,
    "start_time": "2022-05-20T17:19:37.849Z"
   },
   {
    "duration": 8,
    "start_time": "2022-05-20T17:19:37.871Z"
   },
   {
    "duration": 270,
    "start_time": "2022-05-20T17:19:37.880Z"
   },
   {
    "duration": 3,
    "start_time": "2022-05-20T17:19:38.152Z"
   },
   {
    "duration": 12,
    "start_time": "2022-05-20T17:19:38.157Z"
   },
   {
    "duration": 486,
    "start_time": "2022-05-20T17:19:38.171Z"
   },
   {
    "duration": 7,
    "start_time": "2022-05-20T17:19:38.659Z"
   },
   {
    "duration": 834,
    "start_time": "2022-05-20T17:19:38.667Z"
   },
   {
    "duration": 6,
    "start_time": "2022-05-20T17:19:39.503Z"
   },
   {
    "duration": 16,
    "start_time": "2022-05-20T17:19:39.511Z"
   },
   {
    "duration": 238,
    "start_time": "2022-05-20T17:19:39.529Z"
   },
   {
    "duration": 7,
    "start_time": "2022-05-20T17:19:39.768Z"
   },
   {
    "duration": 247,
    "start_time": "2022-05-20T17:19:39.777Z"
   },
   {
    "duration": 10,
    "start_time": "2022-05-20T17:19:40.026Z"
   },
   {
    "duration": 19,
    "start_time": "2022-05-20T17:19:40.037Z"
   },
   {
    "duration": 1195,
    "start_time": "2022-05-20T17:19:40.058Z"
   },
   {
    "duration": 96,
    "start_time": "2022-05-20T17:19:41.256Z"
   },
   {
    "duration": 16,
    "start_time": "2022-05-20T17:19:41.354Z"
   },
   {
    "duration": 4,
    "start_time": "2022-05-20T17:19:41.372Z"
   },
   {
    "duration": 8,
    "start_time": "2022-05-20T17:19:41.377Z"
   },
   {
    "duration": 13,
    "start_time": "2022-05-20T17:19:41.386Z"
   },
   {
    "duration": 6,
    "start_time": "2022-05-20T17:19:41.401Z"
   },
   {
    "duration": 4,
    "start_time": "2022-05-20T17:19:41.412Z"
   },
   {
    "duration": 1636,
    "start_time": "2022-05-20T17:19:41.417Z"
   },
   {
    "duration": 5,
    "start_time": "2022-05-20T17:19:43.055Z"
   },
   {
    "duration": 5,
    "start_time": "2022-05-20T17:19:43.062Z"
   },
   {
    "duration": 5,
    "start_time": "2022-05-20T17:19:43.068Z"
   },
   {
    "duration": 5797,
    "start_time": "2022-05-21T06:39:15.984Z"
   },
   {
    "duration": 1930,
    "start_time": "2022-05-21T06:39:21.783Z"
   },
   {
    "duration": 90,
    "start_time": "2022-05-21T06:39:23.714Z"
   },
   {
    "duration": 14,
    "start_time": "2022-05-21T06:39:23.807Z"
   },
   {
    "duration": 18,
    "start_time": "2022-05-21T06:39:23.823Z"
   },
   {
    "duration": 32,
    "start_time": "2022-05-21T06:39:23.843Z"
   },
   {
    "duration": 39,
    "start_time": "2022-05-21T06:39:23.877Z"
   },
   {
    "duration": 331,
    "start_time": "2022-05-21T06:39:23.917Z"
   },
   {
    "duration": 4,
    "start_time": "2022-05-21T06:39:24.249Z"
   },
   {
    "duration": 28,
    "start_time": "2022-05-21T06:39:24.256Z"
   },
   {
    "duration": 426,
    "start_time": "2022-05-21T06:39:24.286Z"
   },
   {
    "duration": 7,
    "start_time": "2022-05-21T06:39:24.714Z"
   },
   {
    "duration": 1033,
    "start_time": "2022-05-21T06:39:24.723Z"
   },
   {
    "duration": 6,
    "start_time": "2022-05-21T06:39:25.757Z"
   },
   {
    "duration": 34,
    "start_time": "2022-05-21T06:39:25.764Z"
   },
   {
    "duration": 267,
    "start_time": "2022-05-21T06:39:25.799Z"
   },
   {
    "duration": 6,
    "start_time": "2022-05-21T06:39:26.068Z"
   },
   {
    "duration": 248,
    "start_time": "2022-05-21T06:39:26.075Z"
   },
   {
    "duration": 8,
    "start_time": "2022-05-21T06:39:26.325Z"
   },
   {
    "duration": 43,
    "start_time": "2022-05-21T06:39:26.335Z"
   },
   {
    "duration": 1674,
    "start_time": "2022-05-21T06:39:26.379Z"
   },
   {
    "duration": 93,
    "start_time": "2022-05-21T06:39:28.059Z"
   },
   {
    "duration": 33,
    "start_time": "2022-05-21T06:39:28.158Z"
   },
   {
    "duration": 164,
    "start_time": "2022-05-21T06:39:28.193Z"
   },
   {
    "duration": 0,
    "start_time": "2022-05-21T06:39:28.359Z"
   },
   {
    "duration": 0,
    "start_time": "2022-05-21T06:39:28.361Z"
   },
   {
    "duration": 0,
    "start_time": "2022-05-21T06:39:28.362Z"
   },
   {
    "duration": 0,
    "start_time": "2022-05-21T06:39:28.363Z"
   },
   {
    "duration": 0,
    "start_time": "2022-05-21T06:39:28.365Z"
   },
   {
    "duration": 0,
    "start_time": "2022-05-21T06:39:28.367Z"
   },
   {
    "duration": 0,
    "start_time": "2022-05-21T06:39:28.368Z"
   },
   {
    "duration": 0,
    "start_time": "2022-05-21T06:39:28.369Z"
   },
   {
    "duration": 12,
    "start_time": "2022-05-21T06:40:55.679Z"
   },
   {
    "duration": 2092,
    "start_time": "2022-05-21T06:42:32.277Z"
   },
   {
    "duration": 4,
    "start_time": "2022-05-21T06:42:34.372Z"
   },
   {
    "duration": 61,
    "start_time": "2022-05-21T06:42:34.378Z"
   },
   {
    "duration": 20,
    "start_time": "2022-05-21T06:42:34.441Z"
   },
   {
    "duration": 53,
    "start_time": "2022-05-21T06:42:34.462Z"
   },
   {
    "duration": 28,
    "start_time": "2022-05-21T06:42:34.517Z"
   },
   {
    "duration": 39,
    "start_time": "2022-05-21T06:42:34.547Z"
   },
   {
    "duration": 287,
    "start_time": "2022-05-21T06:42:34.587Z"
   },
   {
    "duration": 3,
    "start_time": "2022-05-21T06:42:34.875Z"
   },
   {
    "duration": 101,
    "start_time": "2022-05-21T06:42:34.881Z"
   },
   {
    "duration": 681,
    "start_time": "2022-05-21T06:42:34.984Z"
   },
   {
    "duration": 8,
    "start_time": "2022-05-21T06:42:35.666Z"
   },
   {
    "duration": 1051,
    "start_time": "2022-05-21T06:42:35.675Z"
   },
   {
    "duration": 6,
    "start_time": "2022-05-21T06:42:36.727Z"
   },
   {
    "duration": 21,
    "start_time": "2022-05-21T06:42:36.735Z"
   },
   {
    "duration": 256,
    "start_time": "2022-05-21T06:42:36.757Z"
   },
   {
    "duration": 7,
    "start_time": "2022-05-21T06:42:37.014Z"
   },
   {
    "duration": 243,
    "start_time": "2022-05-21T06:42:37.022Z"
   },
   {
    "duration": 8,
    "start_time": "2022-05-21T06:42:37.267Z"
   },
   {
    "duration": 33,
    "start_time": "2022-05-21T06:42:37.276Z"
   },
   {
    "duration": 1350,
    "start_time": "2022-05-21T06:42:37.311Z"
   },
   {
    "duration": 6,
    "start_time": "2022-05-21T06:42:38.753Z"
   },
   {
    "duration": 161,
    "start_time": "2022-05-21T06:42:38.762Z"
   },
   {
    "duration": 173,
    "start_time": "2022-05-21T06:42:38.924Z"
   },
   {
    "duration": 241,
    "start_time": "2022-05-21T06:42:39.099Z"
   },
   {
    "duration": 83,
    "start_time": "2022-05-21T06:42:39.342Z"
   },
   {
    "duration": 84,
    "start_time": "2022-05-21T06:42:39.427Z"
   },
   {
    "duration": 2350,
    "start_time": "2022-05-21T06:42:39.516Z"
   },
   {
    "duration": 4,
    "start_time": "2022-05-21T06:42:41.867Z"
   },
   {
    "duration": 67,
    "start_time": "2022-05-21T06:42:41.873Z"
   },
   {
    "duration": 73,
    "start_time": "2022-05-21T06:42:41.942Z"
   },
   {
    "duration": 9,
    "start_time": "2022-05-21T06:42:42.017Z"
   },
   {
    "duration": 4,
    "start_time": "2022-05-21T06:43:19.389Z"
   },
   {
    "duration": 3,
    "start_time": "2022-05-21T06:49:35.606Z"
   },
   {
    "duration": 3,
    "start_time": "2022-05-21T06:50:52.296Z"
   },
   {
    "duration": 3,
    "start_time": "2022-05-21T06:51:00.792Z"
   },
   {
    "duration": 18,
    "start_time": "2022-05-21T06:53:28.155Z"
   },
   {
    "duration": 30917,
    "start_time": "2022-05-21T06:53:58.154Z"
   },
   {
    "duration": 4,
    "start_time": "2022-05-21T06:54:44.715Z"
   },
   {
    "duration": 4,
    "start_time": "2022-05-21T06:54:59.303Z"
   },
   {
    "duration": 14,
    "start_time": "2022-05-21T06:58:36.658Z"
   },
   {
    "duration": 4,
    "start_time": "2022-05-21T06:59:36.798Z"
   },
   {
    "duration": 36,
    "start_time": "2022-05-21T06:59:44.856Z"
   },
   {
    "duration": 4,
    "start_time": "2022-05-21T07:00:24.880Z"
   },
   {
    "duration": 2079,
    "start_time": "2022-05-21T07:01:28.416Z"
   },
   {
    "duration": 5,
    "start_time": "2022-05-21T07:01:30.498Z"
   },
   {
    "duration": 111,
    "start_time": "2022-05-21T07:01:30.505Z"
   },
   {
    "duration": 91,
    "start_time": "2022-05-21T07:01:30.618Z"
   },
   {
    "duration": 119,
    "start_time": "2022-05-21T07:01:30.711Z"
   },
   {
    "duration": 649,
    "start_time": "2022-05-21T07:01:30.832Z"
   },
   {
    "duration": 159,
    "start_time": "2022-05-21T07:01:31.483Z"
   },
   {
    "duration": 323,
    "start_time": "2022-05-21T07:01:31.645Z"
   },
   {
    "duration": 4,
    "start_time": "2022-05-21T07:01:31.970Z"
   },
   {
    "duration": 29,
    "start_time": "2022-05-21T07:01:31.978Z"
   },
   {
    "duration": 524,
    "start_time": "2022-05-21T07:01:32.009Z"
   },
   {
    "duration": 17,
    "start_time": "2022-05-21T07:01:32.535Z"
   },
   {
    "duration": 915,
    "start_time": "2022-05-21T07:01:32.554Z"
   },
   {
    "duration": 6,
    "start_time": "2022-05-21T07:01:33.471Z"
   },
   {
    "duration": 57,
    "start_time": "2022-05-21T07:01:33.479Z"
   },
   {
    "duration": 263,
    "start_time": "2022-05-21T07:01:33.537Z"
   },
   {
    "duration": 7,
    "start_time": "2022-05-21T07:01:33.801Z"
   },
   {
    "duration": 259,
    "start_time": "2022-05-21T07:01:33.809Z"
   },
   {
    "duration": 8,
    "start_time": "2022-05-21T07:01:34.070Z"
   },
   {
    "duration": 29,
    "start_time": "2022-05-21T07:01:34.079Z"
   },
   {
    "duration": 1343,
    "start_time": "2022-05-21T07:01:34.110Z"
   },
   {
    "duration": 6,
    "start_time": "2022-05-21T07:01:35.455Z"
   },
   {
    "duration": 91,
    "start_time": "2022-05-21T07:01:35.463Z"
   },
   {
    "duration": 119,
    "start_time": "2022-05-21T07:01:35.556Z"
   },
   {
    "duration": 36,
    "start_time": "2022-05-21T07:01:35.677Z"
   },
   {
    "duration": 50,
    "start_time": "2022-05-21T07:01:35.715Z"
   },
   {
    "duration": 49,
    "start_time": "2022-05-21T07:01:35.767Z"
   },
   {
    "duration": 2333,
    "start_time": "2022-05-21T07:01:35.819Z"
   },
   {
    "duration": 4,
    "start_time": "2022-05-21T07:01:38.154Z"
   },
   {
    "duration": 30,
    "start_time": "2022-05-21T07:01:38.159Z"
   },
   {
    "duration": 36,
    "start_time": "2022-05-21T07:01:38.191Z"
   },
   {
    "duration": 24,
    "start_time": "2022-05-21T07:01:38.229Z"
   },
   {
    "duration": 36,
    "start_time": "2022-05-21T07:01:38.255Z"
   },
   {
    "duration": 15,
    "start_time": "2022-05-21T07:01:38.293Z"
   },
   {
    "duration": 60,
    "start_time": "2022-05-21T07:01:38.310Z"
   },
   {
    "duration": 87,
    "start_time": "2022-05-21T07:01:38.372Z"
   },
   {
    "duration": 28692,
    "start_time": "2022-05-21T07:01:38.461Z"
   },
   {
    "duration": 345,
    "start_time": "2022-05-21T07:03:00.062Z"
   },
   {
    "duration": 4,
    "start_time": "2022-05-21T07:04:14.722Z"
   },
   {
    "duration": 4,
    "start_time": "2022-05-21T07:04:17.673Z"
   },
   {
    "duration": 18,
    "start_time": "2022-05-21T07:04:19.351Z"
   },
   {
    "duration": 238897,
    "start_time": "2022-05-21T07:04:21.668Z"
   },
   {
    "duration": 4,
    "start_time": "2022-05-21T07:19:56.698Z"
   },
   {
    "duration": 4,
    "start_time": "2022-05-21T07:19:59.175Z"
   },
   {
    "duration": 10400,
    "start_time": "2022-05-21T07:20:06.277Z"
   },
   {
    "duration": 14,
    "start_time": "2022-05-21T07:20:19.867Z"
   },
   {
    "duration": 3,
    "start_time": "2022-05-21T07:22:35.469Z"
   },
   {
    "duration": 6,
    "start_time": "2022-05-21T07:22:39.667Z"
   },
   {
    "duration": 23,
    "start_time": "2022-05-21T07:22:46.478Z"
   },
   {
    "duration": 454162,
    "start_time": "2022-05-21T07:22:56.903Z"
   },
   {
    "duration": 3,
    "start_time": "2022-05-21T07:30:42.576Z"
   },
   {
    "duration": 4,
    "start_time": "2022-05-21T07:30:44.893Z"
   },
   {
    "duration": 20,
    "start_time": "2022-05-21T07:30:47.876Z"
   },
   {
    "duration": 26678,
    "start_time": "2022-05-21T07:30:52.723Z"
   },
   {
    "duration": 2,
    "start_time": "2022-05-21T07:31:28.899Z"
   },
   {
    "duration": 5,
    "start_time": "2022-05-21T07:31:31.166Z"
   },
   {
    "duration": 19,
    "start_time": "2022-05-21T07:31:33.133Z"
   },
   {
    "duration": 55107,
    "start_time": "2022-05-21T07:31:35.183Z"
   },
   {
    "duration": 2,
    "start_time": "2022-05-21T07:32:42.392Z"
   },
   {
    "duration": 18,
    "start_time": "2022-05-21T07:32:44.976Z"
   },
   {
    "duration": 4,
    "start_time": "2022-05-21T07:32:56.076Z"
   },
   {
    "duration": 11,
    "start_time": "2022-05-21T07:33:08.375Z"
   },
   {
    "duration": 54782,
    "start_time": "2022-05-21T07:33:32.313Z"
   },
   {
    "duration": 2285,
    "start_time": "2022-05-21T07:34:54.076Z"
   },
   {
    "duration": 1449,
    "start_time": "2022-05-21T07:34:56.371Z"
   },
   {
    "duration": 41,
    "start_time": "2022-05-21T07:34:57.822Z"
   },
   {
    "duration": 11,
    "start_time": "2022-05-21T07:34:57.869Z"
   },
   {
    "duration": 9,
    "start_time": "2022-05-21T07:34:57.882Z"
   },
   {
    "duration": 6,
    "start_time": "2022-05-21T07:34:57.893Z"
   },
   {
    "duration": 13,
    "start_time": "2022-05-21T07:34:57.900Z"
   },
   {
    "duration": 312,
    "start_time": "2022-05-21T07:34:57.915Z"
   },
   {
    "duration": 4,
    "start_time": "2022-05-21T07:34:58.229Z"
   },
   {
    "duration": 15,
    "start_time": "2022-05-21T07:34:58.255Z"
   },
   {
    "duration": 460,
    "start_time": "2022-05-21T07:34:58.272Z"
   },
   {
    "duration": 10,
    "start_time": "2022-05-21T07:34:58.734Z"
   },
   {
    "duration": 838,
    "start_time": "2022-05-21T07:34:58.746Z"
   },
   {
    "duration": 8,
    "start_time": "2022-05-21T07:34:59.586Z"
   },
   {
    "duration": 12,
    "start_time": "2022-05-21T07:34:59.596Z"
   },
   {
    "duration": 292,
    "start_time": "2022-05-21T07:34:59.609Z"
   },
   {
    "duration": 8,
    "start_time": "2022-05-21T07:34:59.903Z"
   },
   {
    "duration": 264,
    "start_time": "2022-05-21T07:34:59.913Z"
   },
   {
    "duration": 10,
    "start_time": "2022-05-21T07:35:00.179Z"
   },
   {
    "duration": 16,
    "start_time": "2022-05-21T07:35:00.191Z"
   },
   {
    "duration": 3469,
    "start_time": "2022-05-21T07:35:00.208Z"
   },
   {
    "duration": 12,
    "start_time": "2022-05-21T07:35:03.757Z"
   },
   {
    "duration": 102,
    "start_time": "2022-05-21T07:35:03.771Z"
   },
   {
    "duration": 27,
    "start_time": "2022-05-21T07:35:03.874Z"
   },
   {
    "duration": 4,
    "start_time": "2022-05-21T07:35:03.903Z"
   },
   {
    "duration": 14,
    "start_time": "2022-05-21T07:35:03.910Z"
   },
   {
    "duration": 12,
    "start_time": "2022-05-21T07:35:03.927Z"
   },
   {
    "duration": 2364,
    "start_time": "2022-05-21T07:35:03.942Z"
   },
   {
    "duration": 4,
    "start_time": "2022-05-21T07:35:06.308Z"
   },
   {
    "duration": 0,
    "start_time": "2022-05-21T07:35:06.313Z"
   },
   {
    "duration": 0,
    "start_time": "2022-05-21T07:35:06.314Z"
   },
   {
    "duration": 0,
    "start_time": "2022-05-21T07:35:06.316Z"
   },
   {
    "duration": 0,
    "start_time": "2022-05-21T07:35:06.317Z"
   },
   {
    "duration": 0,
    "start_time": "2022-05-21T07:35:06.318Z"
   },
   {
    "duration": 0,
    "start_time": "2022-05-21T07:35:06.319Z"
   },
   {
    "duration": 0,
    "start_time": "2022-05-21T07:35:06.320Z"
   },
   {
    "duration": 4,
    "start_time": "2022-05-21T07:35:28.213Z"
   },
   {
    "duration": 3,
    "start_time": "2022-05-21T07:35:30.269Z"
   },
   {
    "duration": 20,
    "start_time": "2022-05-21T07:35:31.620Z"
   },
   {
    "duration": 14,
    "start_time": "2022-05-21T07:35:32.899Z"
   },
   {
    "duration": 4,
    "start_time": "2022-05-21T07:35:42.379Z"
   },
   {
    "duration": 2,
    "start_time": "2022-05-21T07:35:46.590Z"
   },
   {
    "duration": 3,
    "start_time": "2022-05-21T07:35:53.178Z"
   },
   {
    "duration": 17,
    "start_time": "2022-05-21T07:35:56.095Z"
   },
   {
    "duration": 212299,
    "start_time": "2022-05-21T07:35:58.492Z"
   },
   {
    "duration": 51,
    "start_time": "2022-05-21T07:45:11.390Z"
   },
   {
    "duration": 3,
    "start_time": "2022-05-21T07:48:19.986Z"
   },
   {
    "duration": 4,
    "start_time": "2022-05-21T07:48:43.089Z"
   },
   {
    "duration": 19,
    "start_time": "2022-05-21T07:48:45.870Z"
   },
   {
    "duration": 45914,
    "start_time": "2022-05-21T07:48:51.608Z"
   },
   {
    "duration": 835,
    "start_time": "2022-05-21T07:56:05.065Z"
   },
   {
    "duration": 326,
    "start_time": "2022-05-21T07:56:23.191Z"
   },
   {
    "duration": 2043,
    "start_time": "2022-05-21T07:56:41.000Z"
   },
   {
    "duration": 5,
    "start_time": "2022-05-21T07:56:43.045Z"
   },
   {
    "duration": 60,
    "start_time": "2022-05-21T07:56:43.052Z"
   },
   {
    "duration": 11,
    "start_time": "2022-05-21T07:56:43.113Z"
   },
   {
    "duration": 9,
    "start_time": "2022-05-21T07:56:43.127Z"
   },
   {
    "duration": 8,
    "start_time": "2022-05-21T07:56:43.137Z"
   },
   {
    "duration": 14,
    "start_time": "2022-05-21T07:56:43.147Z"
   },
   {
    "duration": 285,
    "start_time": "2022-05-21T07:56:43.163Z"
   },
   {
    "duration": 4,
    "start_time": "2022-05-21T07:56:43.450Z"
   },
   {
    "duration": 355,
    "start_time": "2022-05-21T07:56:43.456Z"
   },
   {
    "duration": 2065,
    "start_time": "2022-05-21T07:58:07.897Z"
   },
   {
    "duration": 8,
    "start_time": "2022-05-21T07:58:09.965Z"
   },
   {
    "duration": 42,
    "start_time": "2022-05-21T07:58:09.975Z"
   },
   {
    "duration": 12,
    "start_time": "2022-05-21T07:58:10.019Z"
   },
   {
    "duration": 12,
    "start_time": "2022-05-21T07:58:10.034Z"
   },
   {
    "duration": 6,
    "start_time": "2022-05-21T07:58:10.048Z"
   },
   {
    "duration": 21,
    "start_time": "2022-05-21T07:58:10.055Z"
   },
   {
    "duration": 278,
    "start_time": "2022-05-21T07:58:10.078Z"
   },
   {
    "duration": 4,
    "start_time": "2022-05-21T07:58:10.358Z"
   },
   {
    "duration": 484,
    "start_time": "2022-05-21T07:58:10.363Z"
   },
   {
    "duration": 9,
    "start_time": "2022-05-21T07:58:10.848Z"
   },
   {
    "duration": 850,
    "start_time": "2022-05-21T07:58:10.859Z"
   },
   {
    "duration": 7,
    "start_time": "2022-05-21T07:58:11.710Z"
   },
   {
    "duration": 10,
    "start_time": "2022-05-21T07:58:11.720Z"
   },
   {
    "duration": 242,
    "start_time": "2022-05-21T07:58:11.731Z"
   },
   {
    "duration": 6,
    "start_time": "2022-05-21T07:58:11.974Z"
   },
   {
    "duration": 237,
    "start_time": "2022-05-21T07:58:11.981Z"
   },
   {
    "duration": 8,
    "start_time": "2022-05-21T07:58:12.220Z"
   },
   {
    "duration": 9,
    "start_time": "2022-05-21T07:58:12.230Z"
   },
   {
    "duration": 1799,
    "start_time": "2022-05-21T07:58:12.253Z"
   },
   {
    "duration": 4,
    "start_time": "2022-05-21T07:58:30.005Z"
   },
   {
    "duration": 25,
    "start_time": "2022-05-21T07:58:31.804Z"
   },
   {
    "duration": 5393,
    "start_time": "2022-05-21T07:58:33.896Z"
   },
   {
    "duration": 2027,
    "start_time": "2022-05-21T07:58:51.780Z"
   },
   {
    "duration": 6,
    "start_time": "2022-05-21T07:58:53.809Z"
   },
   {
    "duration": 43,
    "start_time": "2022-05-21T07:58:53.816Z"
   },
   {
    "duration": 10,
    "start_time": "2022-05-21T07:58:53.862Z"
   },
   {
    "duration": 7,
    "start_time": "2022-05-21T07:58:53.873Z"
   },
   {
    "duration": 6,
    "start_time": "2022-05-21T07:58:53.882Z"
   },
   {
    "duration": 9,
    "start_time": "2022-05-21T07:58:53.890Z"
   },
   {
    "duration": 422,
    "start_time": "2022-05-21T07:58:53.901Z"
   },
   {
    "duration": 4,
    "start_time": "2022-05-21T07:58:54.325Z"
   },
   {
    "duration": 356,
    "start_time": "2022-05-21T07:58:54.332Z"
   },
   {
    "duration": 9,
    "start_time": "2022-05-21T07:58:54.690Z"
   },
   {
    "duration": 971,
    "start_time": "2022-05-21T07:58:54.701Z"
   },
   {
    "duration": 7,
    "start_time": "2022-05-21T07:58:55.673Z"
   },
   {
    "duration": 12,
    "start_time": "2022-05-21T07:58:55.681Z"
   },
   {
    "duration": 242,
    "start_time": "2022-05-21T07:58:55.694Z"
   },
   {
    "duration": 14,
    "start_time": "2022-05-21T07:58:55.939Z"
   },
   {
    "duration": 225,
    "start_time": "2022-05-21T07:58:55.954Z"
   },
   {
    "duration": 7,
    "start_time": "2022-05-21T07:58:56.181Z"
   },
   {
    "duration": 5,
    "start_time": "2022-05-21T07:58:56.191Z"
   },
   {
    "duration": 1355,
    "start_time": "2022-05-21T07:58:56.198Z"
   },
   {
    "duration": 94,
    "start_time": "2022-05-21T07:58:57.558Z"
   },
   {
    "duration": 6,
    "start_time": "2022-05-21T07:58:57.654Z"
   },
   {
    "duration": 28,
    "start_time": "2022-05-21T07:58:57.661Z"
   },
   {
    "duration": 5,
    "start_time": "2022-05-21T07:58:57.690Z"
   },
   {
    "duration": 8,
    "start_time": "2022-05-21T07:58:57.697Z"
   },
   {
    "duration": 6,
    "start_time": "2022-05-21T07:58:57.707Z"
   },
   {
    "duration": 2175,
    "start_time": "2022-05-21T07:58:57.714Z"
   },
   {
    "duration": 4,
    "start_time": "2022-05-21T07:58:59.892Z"
   },
   {
    "duration": 6,
    "start_time": "2022-05-21T07:58:59.897Z"
   },
   {
    "duration": 18,
    "start_time": "2022-05-21T07:58:59.904Z"
   },
   {
    "duration": 29,
    "start_time": "2022-05-21T07:58:59.924Z"
   },
   {
    "duration": 7,
    "start_time": "2022-05-21T07:58:59.955Z"
   },
   {
    "duration": 4,
    "start_time": "2022-05-21T07:58:59.963Z"
   },
   {
    "duration": 3,
    "start_time": "2022-05-21T07:59:43.861Z"
   },
   {
    "duration": 4,
    "start_time": "2022-05-21T07:59:46.704Z"
   },
   {
    "duration": 18,
    "start_time": "2022-05-21T07:59:48.289Z"
   },
   {
    "duration": 219953,
    "start_time": "2022-05-21T07:59:51.025Z"
   },
   {
    "duration": 4,
    "start_time": "2022-05-21T08:03:42.489Z"
   },
   {
    "duration": 4,
    "start_time": "2022-05-21T08:03:44.497Z"
   },
   {
    "duration": 9273,
    "start_time": "2022-05-21T08:03:47.898Z"
   },
   {
    "duration": 9,
    "start_time": "2022-05-21T08:04:02.841Z"
   },
   {
    "duration": 4,
    "start_time": "2022-05-21T08:04:35.191Z"
   },
   {
    "duration": 4,
    "start_time": "2022-05-21T08:05:12.697Z"
   },
   {
    "duration": 17,
    "start_time": "2022-05-21T08:05:14.828Z"
   },
   {
    "duration": 5,
    "start_time": "2022-05-21T08:05:19.526Z"
   },
   {
    "duration": 3,
    "start_time": "2022-05-21T08:05:21.703Z"
   },
   {
    "duration": 17,
    "start_time": "2022-05-21T08:05:23.087Z"
   },
   {
    "duration": 753983,
    "start_time": "2022-05-21T08:05:24.886Z"
   },
   {
    "duration": 4,
    "start_time": "2022-05-21T08:18:13.273Z"
   },
   {
    "duration": 3,
    "start_time": "2022-05-21T08:18:15.309Z"
   },
   {
    "duration": 36712,
    "start_time": "2022-05-21T08:18:18.272Z"
   },
   {
    "duration": 12,
    "start_time": "2022-05-21T08:18:58.676Z"
   },
   {
    "duration": 4,
    "start_time": "2022-05-21T08:19:19.765Z"
   },
   {
    "duration": 3,
    "start_time": "2022-05-21T08:19:56.913Z"
   },
   {
    "duration": 3,
    "start_time": "2022-05-21T08:20:01.282Z"
   },
   {
    "duration": 17,
    "start_time": "2022-05-21T08:20:26.113Z"
   },
   {
    "duration": 2262817,
    "start_time": "2022-05-21T08:20:49.359Z"
   },
   {
    "duration": 3,
    "start_time": "2022-05-21T08:58:52.880Z"
   },
   {
    "duration": 4,
    "start_time": "2022-05-21T08:58:54.784Z"
   },
   {
    "duration": 758,
    "start_time": "2022-05-21T08:58:56.617Z"
   },
   {
    "duration": 10,
    "start_time": "2022-05-21T08:59:05.392Z"
   },
   {
    "duration": 4,
    "start_time": "2022-05-21T08:59:10.416Z"
   },
   {
    "duration": 4,
    "start_time": "2022-05-21T09:01:07.584Z"
   },
   {
    "duration": 3,
    "start_time": "2022-05-21T09:01:23.207Z"
   },
   {
    "duration": 21,
    "start_time": "2022-05-21T09:01:32.070Z"
   },
   {
    "duration": 285171,
    "start_time": "2022-05-21T09:01:35.504Z"
   },
   {
    "duration": 3,
    "start_time": "2022-05-21T09:33:12.134Z"
   },
   {
    "duration": 5,
    "start_time": "2022-05-21T09:33:14.637Z"
   },
   {
    "duration": 17564,
    "start_time": "2022-05-21T09:33:16.196Z"
   },
   {
    "duration": 10,
    "start_time": "2022-05-21T09:33:36.773Z"
   },
   {
    "duration": 3,
    "start_time": "2022-05-21T10:45:54.986Z"
   },
   {
    "duration": 3,
    "start_time": "2022-05-21T10:46:30.988Z"
   },
   {
    "duration": 16,
    "start_time": "2022-05-21T10:46:32.966Z"
   },
   {
    "duration": 19500,
    "start_time": "2022-05-21T10:46:36.386Z"
   },
   {
    "duration": 4,
    "start_time": "2022-05-21T10:47:48.369Z"
   },
   {
    "duration": 16,
    "start_time": "2022-05-21T10:47:50.885Z"
   },
   {
    "duration": 7124,
    "start_time": "2022-05-21T10:47:52.967Z"
   },
   {
    "duration": 4,
    "start_time": "2022-05-21T10:48:42.983Z"
   },
   {
    "duration": 4,
    "start_time": "2022-05-21T10:48:55.667Z"
   },
   {
    "duration": 24,
    "start_time": "2022-05-21T11:09:17.466Z"
   },
   {
    "duration": 5,
    "start_time": "2022-05-21T11:09:31.027Z"
   },
   {
    "duration": 4,
    "start_time": "2022-05-21T11:09:41.385Z"
   },
   {
    "duration": 23,
    "start_time": "2022-05-21T11:09:51.182Z"
   },
   {
    "duration": 17,
    "start_time": "2022-05-21T11:09:53.078Z"
   },
   {
    "duration": 15,
    "start_time": "2022-05-21T11:09:55.333Z"
   },
   {
    "duration": 5,
    "start_time": "2022-05-21T11:10:37.214Z"
   },
   {
    "duration": 5,
    "start_time": "2022-05-21T11:10:50.101Z"
   },
   {
    "duration": 17,
    "start_time": "2022-05-21T11:11:02.617Z"
   },
   {
    "duration": 204,
    "start_time": "2022-05-21T11:11:31.964Z"
   },
   {
    "duration": 5,
    "start_time": "2022-05-21T11:13:37.116Z"
   },
   {
    "duration": 9,
    "start_time": "2022-05-21T11:13:41.516Z"
   },
   {
    "duration": 8,
    "start_time": "2022-05-21T11:14:03.955Z"
   },
   {
    "duration": 23,
    "start_time": "2022-05-21T11:14:59.887Z"
   },
   {
    "duration": 109,
    "start_time": "2022-05-21T11:15:01.770Z"
   },
   {
    "duration": 10,
    "start_time": "2022-05-21T11:15:03.686Z"
   },
   {
    "duration": 9,
    "start_time": "2022-05-21T11:15:05.864Z"
   },
   {
    "duration": 25,
    "start_time": "2022-05-21T11:16:28.271Z"
   },
   {
    "duration": 106,
    "start_time": "2022-05-21T11:16:30.674Z"
   },
   {
    "duration": 11,
    "start_time": "2022-05-21T11:16:32.394Z"
   },
   {
    "duration": 14,
    "start_time": "2022-05-21T11:16:35.619Z"
   },
   {
    "duration": 22,
    "start_time": "2022-05-21T11:17:05.406Z"
   },
   {
    "duration": 120,
    "start_time": "2022-05-21T11:17:06.836Z"
   },
   {
    "duration": 12,
    "start_time": "2022-05-21T11:17:08.182Z"
   },
   {
    "duration": 13,
    "start_time": "2022-05-21T11:17:09.492Z"
   },
   {
    "duration": 18,
    "start_time": "2022-05-21T11:18:01.094Z"
   },
   {
    "duration": 29,
    "start_time": "2022-05-21T11:18:02.590Z"
   },
   {
    "duration": 9,
    "start_time": "2022-05-21T11:18:04.078Z"
   },
   {
    "duration": 9,
    "start_time": "2022-05-21T11:18:05.671Z"
   },
   {
    "duration": 18,
    "start_time": "2022-05-21T11:18:42.794Z"
   },
   {
    "duration": 28,
    "start_time": "2022-05-21T11:18:44.513Z"
   },
   {
    "duration": 9,
    "start_time": "2022-05-21T11:18:45.807Z"
   },
   {
    "duration": 9,
    "start_time": "2022-05-21T11:18:47.370Z"
   },
   {
    "duration": 26,
    "start_time": "2022-05-21T11:19:08.084Z"
   },
   {
    "duration": 32,
    "start_time": "2022-05-21T11:19:09.581Z"
   },
   {
    "duration": 10,
    "start_time": "2022-05-21T11:19:10.697Z"
   },
   {
    "duration": 10,
    "start_time": "2022-05-21T11:19:11.911Z"
   },
   {
    "duration": 3,
    "start_time": "2022-05-21T11:19:34.003Z"
   },
   {
    "duration": 19,
    "start_time": "2022-05-21T11:19:36.666Z"
   },
   {
    "duration": 25,
    "start_time": "2022-05-21T11:19:38.041Z"
   },
   {
    "duration": 22,
    "start_time": "2022-05-21T11:19:39.305Z"
   },
   {
    "duration": 10,
    "start_time": "2022-05-21T11:19:41.298Z"
   },
   {
    "duration": 3,
    "start_time": "2022-05-21T11:19:51.300Z"
   },
   {
    "duration": 18,
    "start_time": "2022-05-21T11:19:52.370Z"
   },
   {
    "duration": 35,
    "start_time": "2022-05-21T11:19:53.474Z"
   },
   {
    "duration": 12,
    "start_time": "2022-05-21T11:19:54.774Z"
   },
   {
    "duration": 9,
    "start_time": "2022-05-21T11:19:56.180Z"
   },
   {
    "duration": 4,
    "start_time": "2022-05-21T11:20:04.588Z"
   },
   {
    "duration": 19,
    "start_time": "2022-05-21T11:20:05.923Z"
   },
   {
    "duration": 40,
    "start_time": "2022-05-21T11:20:07.068Z"
   },
   {
    "duration": 11,
    "start_time": "2022-05-21T11:20:08.469Z"
   },
   {
    "duration": 8,
    "start_time": "2022-05-21T11:20:09.754Z"
   },
   {
    "duration": 7,
    "start_time": "2022-05-21T11:20:26.487Z"
   },
   {
    "duration": 20,
    "start_time": "2022-05-21T11:20:28.265Z"
   },
   {
    "duration": 31,
    "start_time": "2022-05-21T11:20:29.363Z"
   },
   {
    "duration": 9,
    "start_time": "2022-05-21T11:20:30.604Z"
   },
   {
    "duration": 12,
    "start_time": "2022-05-21T11:20:31.996Z"
   },
   {
    "duration": 3,
    "start_time": "2022-05-21T11:20:40.886Z"
   },
   {
    "duration": 24,
    "start_time": "2022-05-21T11:20:42.125Z"
   },
   {
    "duration": 26,
    "start_time": "2022-05-21T11:20:43.293Z"
   },
   {
    "duration": 11,
    "start_time": "2022-05-21T11:20:44.484Z"
   },
   {
    "duration": 16,
    "start_time": "2022-05-21T11:20:46.271Z"
   },
   {
    "duration": 18,
    "start_time": "2022-05-21T11:20:58.198Z"
   },
   {
    "duration": 3,
    "start_time": "2022-05-21T11:21:00.976Z"
   },
   {
    "duration": 23,
    "start_time": "2022-05-21T11:21:02.127Z"
   },
   {
    "duration": 32,
    "start_time": "2022-05-21T11:21:03.197Z"
   },
   {
    "duration": 10,
    "start_time": "2022-05-21T11:21:04.486Z"
   },
   {
    "duration": 9,
    "start_time": "2022-05-21T11:21:05.669Z"
   },
   {
    "duration": 2328,
    "start_time": "2022-05-21T11:21:18.275Z"
   },
   {
    "duration": 9,
    "start_time": "2022-05-21T11:21:20.607Z"
   },
   {
    "duration": 52,
    "start_time": "2022-05-21T11:21:20.618Z"
   },
   {
    "duration": 14,
    "start_time": "2022-05-21T11:21:20.673Z"
   },
   {
    "duration": 7,
    "start_time": "2022-05-21T11:21:20.689Z"
   },
   {
    "duration": 10,
    "start_time": "2022-05-21T11:21:20.698Z"
   },
   {
    "duration": 16,
    "start_time": "2022-05-21T11:21:20.710Z"
   },
   {
    "duration": 296,
    "start_time": "2022-05-21T11:21:20.728Z"
   },
   {
    "duration": 3,
    "start_time": "2022-05-21T11:21:21.026Z"
   },
   {
    "duration": 372,
    "start_time": "2022-05-21T11:21:21.032Z"
   },
   {
    "duration": 10,
    "start_time": "2022-05-21T11:21:21.406Z"
   },
   {
    "duration": 975,
    "start_time": "2022-05-21T11:21:21.418Z"
   },
   {
    "duration": 7,
    "start_time": "2022-05-21T11:21:22.394Z"
   },
   {
    "duration": 13,
    "start_time": "2022-05-21T11:21:22.403Z"
   },
   {
    "duration": 363,
    "start_time": "2022-05-21T11:21:22.419Z"
   },
   {
    "duration": 6,
    "start_time": "2022-05-21T11:21:22.785Z"
   },
   {
    "duration": 376,
    "start_time": "2022-05-21T11:21:22.793Z"
   },
   {
    "duration": 9,
    "start_time": "2022-05-21T11:21:23.171Z"
   },
   {
    "duration": 8,
    "start_time": "2022-05-21T11:21:23.182Z"
   },
   {
    "duration": 1473,
    "start_time": "2022-05-21T11:21:23.192Z"
   },
   {
    "duration": 23,
    "start_time": "2022-05-21T11:21:31.675Z"
   },
   {
    "duration": 73,
    "start_time": "2022-05-21T11:21:32.887Z"
   },
   {
    "duration": 10,
    "start_time": "2022-05-21T11:21:34.422Z"
   },
   {
    "duration": 10,
    "start_time": "2022-05-21T11:21:36.294Z"
   },
   {
    "duration": 3,
    "start_time": "2022-05-21T11:21:44.843Z"
   },
   {
    "duration": 20,
    "start_time": "2022-05-21T11:21:46.751Z"
   },
   {
    "duration": 25,
    "start_time": "2022-05-21T11:21:48.231Z"
   },
   {
    "duration": 9,
    "start_time": "2022-05-21T11:21:49.512Z"
   },
   {
    "duration": 11,
    "start_time": "2022-05-21T11:21:51.097Z"
   },
   {
    "duration": 4,
    "start_time": "2022-05-21T11:22:28.201Z"
   },
   {
    "duration": 3,
    "start_time": "2022-05-21T11:22:44.617Z"
   },
   {
    "duration": 3,
    "start_time": "2022-05-21T11:22:52.074Z"
   },
   {
    "duration": 18,
    "start_time": "2022-05-21T11:22:57.972Z"
   },
   {
    "duration": 36876,
    "start_time": "2022-05-21T11:23:02.607Z"
   },
   {
    "duration": 3,
    "start_time": "2022-05-21T11:23:44.039Z"
   },
   {
    "duration": 3,
    "start_time": "2022-05-21T11:23:57.525Z"
   },
   {
    "duration": 21,
    "start_time": "2022-05-21T11:24:00.726Z"
   },
   {
    "duration": 4,
    "start_time": "2022-05-21T11:24:02.988Z"
   },
   {
    "duration": 4,
    "start_time": "2022-05-21T11:24:17.814Z"
   },
   {
    "duration": 3,
    "start_time": "2022-05-21T11:24:30.329Z"
   },
   {
    "duration": 4,
    "start_time": "2022-05-21T11:24:38.510Z"
   },
   {
    "duration": 22,
    "start_time": "2022-05-21T11:24:40.687Z"
   },
   {
    "duration": 4,
    "start_time": "2022-05-21T11:24:42.111Z"
   },
   {
    "duration": 5,
    "start_time": "2022-05-21T11:24:43.527Z"
   },
   {
    "duration": 11654,
    "start_time": "2022-05-21T11:24:45.504Z"
   },
   {
    "duration": 4,
    "start_time": "2022-05-21T11:29:41.370Z"
   },
   {
    "duration": 25,
    "start_time": "2022-05-21T11:32:35.375Z"
   },
   {
    "duration": 12,
    "start_time": "2022-05-21T11:32:36.602Z"
   },
   {
    "duration": 12292,
    "start_time": "2022-05-21T11:33:15.462Z"
   },
   {
    "duration": 2887,
    "start_time": "2022-05-21T11:33:36.712Z"
   },
   {
    "duration": 19,
    "start_time": "2022-05-21T11:34:09.720Z"
   },
   {
    "duration": 4339,
    "start_time": "2022-05-21T11:34:10.927Z"
   },
   {
    "duration": 4,
    "start_time": "2022-05-21T11:34:49.013Z"
   },
   {
    "duration": 4,
    "start_time": "2022-05-21T11:35:00.995Z"
   },
   {
    "duration": 14,
    "start_time": "2022-05-21T11:35:11.197Z"
   },
   {
    "duration": 5388,
    "start_time": "2022-05-21T11:36:17.726Z"
   },
   {
    "duration": 5,
    "start_time": "2022-05-21T11:37:25.193Z"
   },
   {
    "duration": 18,
    "start_time": "2022-05-21T11:37:32.936Z"
   },
   {
    "duration": 3732,
    "start_time": "2022-05-21T11:37:43.764Z"
   },
   {
    "duration": 19,
    "start_time": "2022-05-21T12:00:39.568Z"
   },
   {
    "duration": 4,
    "start_time": "2022-05-21T12:00:41.864Z"
   },
   {
    "duration": 863309,
    "start_time": "2022-05-21T12:00:44.777Z"
   },
   {
    "duration": 3,
    "start_time": "2022-05-21T12:15:25.043Z"
   },
   {
    "duration": 6,
    "start_time": "2022-05-21T12:15:37.828Z"
   },
   {
    "duration": 4,
    "start_time": "2022-05-21T12:15:44.290Z"
   },
   {
    "duration": 18,
    "start_time": "2022-05-21T12:15:46.765Z"
   },
   {
    "duration": 3492974,
    "start_time": "2022-05-21T12:15:49.486Z"
   },
   {
    "duration": 4,
    "start_time": "2022-05-21T13:23:51.416Z"
   },
   {
    "duration": 4,
    "start_time": "2022-05-21T13:23:54.497Z"
   },
   {
    "duration": 17,
    "start_time": "2022-05-21T13:23:56.386Z"
   },
   {
    "duration": 57798,
    "start_time": "2022-05-21T13:24:12.260Z"
   },
   {
    "duration": 10,
    "start_time": "2022-05-21T13:26:34.361Z"
   },
   {
    "duration": 10,
    "start_time": "2022-05-21T13:27:03.831Z"
   },
   {
    "duration": 4,
    "start_time": "2022-05-21T13:27:11.357Z"
   },
   {
    "duration": 5,
    "start_time": "2022-05-21T13:31:14.114Z"
   },
   {
    "duration": 2124,
    "start_time": "2022-05-21T13:32:26.164Z"
   },
   {
    "duration": 5,
    "start_time": "2022-05-21T13:32:28.291Z"
   },
   {
    "duration": 46,
    "start_time": "2022-05-21T13:32:28.298Z"
   },
   {
    "duration": 11,
    "start_time": "2022-05-21T13:32:28.346Z"
   },
   {
    "duration": 9,
    "start_time": "2022-05-21T13:32:28.360Z"
   },
   {
    "duration": 7,
    "start_time": "2022-05-21T13:32:28.371Z"
   },
   {
    "duration": 11,
    "start_time": "2022-05-21T13:32:28.380Z"
   },
   {
    "duration": 304,
    "start_time": "2022-05-21T13:32:28.393Z"
   },
   {
    "duration": 4,
    "start_time": "2022-05-21T13:32:28.698Z"
   },
   {
    "duration": 368,
    "start_time": "2022-05-21T13:32:28.703Z"
   },
   {
    "duration": 8,
    "start_time": "2022-05-21T13:32:29.073Z"
   },
   {
    "duration": 1020,
    "start_time": "2022-05-21T13:32:29.082Z"
   },
   {
    "duration": 6,
    "start_time": "2022-05-21T13:32:30.104Z"
   },
   {
    "duration": 21,
    "start_time": "2022-05-21T13:32:30.113Z"
   },
   {
    "duration": 255,
    "start_time": "2022-05-21T13:32:30.136Z"
   },
   {
    "duration": 5,
    "start_time": "2022-05-21T13:32:30.393Z"
   },
   {
    "duration": 250,
    "start_time": "2022-05-21T13:32:30.400Z"
   },
   {
    "duration": 9,
    "start_time": "2022-05-21T13:32:30.652Z"
   },
   {
    "duration": 36,
    "start_time": "2022-05-21T13:32:30.663Z"
   },
   {
    "duration": 1261,
    "start_time": "2022-05-21T13:32:30.701Z"
   },
   {
    "duration": 92,
    "start_time": "2022-05-21T13:32:31.964Z"
   },
   {
    "duration": 102,
    "start_time": "2022-05-21T13:32:32.059Z"
   },
   {
    "duration": 22,
    "start_time": "2022-05-21T13:32:32.163Z"
   },
   {
    "duration": 4,
    "start_time": "2022-05-21T13:32:32.186Z"
   },
   {
    "duration": 9,
    "start_time": "2022-05-21T13:32:32.191Z"
   },
   {
    "duration": 3,
    "start_time": "2022-05-21T13:32:36.622Z"
   },
   {
    "duration": 15,
    "start_time": "2022-05-21T13:33:06.459Z"
   },
   {
    "duration": 1389,
    "start_time": "2022-05-21T13:33:31.007Z"
   },
   {
    "duration": 4,
    "start_time": "2022-05-21T13:33:35.264Z"
   },
   {
    "duration": 3,
    "start_time": "2022-05-21T13:33:37.702Z"
   },
   {
    "duration": 29,
    "start_time": "2022-05-21T13:33:39.266Z"
   },
   {
    "duration": 12,
    "start_time": "2022-05-21T13:33:41.559Z"
   },
   {
    "duration": 2055,
    "start_time": "2022-05-21T13:34:16.155Z"
   },
   {
    "duration": 5,
    "start_time": "2022-05-21T13:34:18.213Z"
   },
   {
    "duration": 44,
    "start_time": "2022-05-21T13:34:18.220Z"
   },
   {
    "duration": 10,
    "start_time": "2022-05-21T13:34:18.266Z"
   },
   {
    "duration": 7,
    "start_time": "2022-05-21T13:34:18.278Z"
   },
   {
    "duration": 9,
    "start_time": "2022-05-21T13:34:18.287Z"
   },
   {
    "duration": 8,
    "start_time": "2022-05-21T13:34:18.298Z"
   },
   {
    "duration": 281,
    "start_time": "2022-05-21T13:34:18.308Z"
   },
   {
    "duration": 4,
    "start_time": "2022-05-21T13:34:18.590Z"
   },
   {
    "duration": 344,
    "start_time": "2022-05-21T13:34:18.595Z"
   },
   {
    "duration": 13,
    "start_time": "2022-05-21T13:34:18.941Z"
   },
   {
    "duration": 1009,
    "start_time": "2022-05-21T13:34:18.956Z"
   },
   {
    "duration": 6,
    "start_time": "2022-05-21T13:34:19.967Z"
   },
   {
    "duration": 15,
    "start_time": "2022-05-21T13:34:19.976Z"
   },
   {
    "duration": 251,
    "start_time": "2022-05-21T13:34:19.993Z"
   },
   {
    "duration": 6,
    "start_time": "2022-05-21T13:34:20.251Z"
   },
   {
    "duration": 228,
    "start_time": "2022-05-21T13:34:20.258Z"
   },
   {
    "duration": 9,
    "start_time": "2022-05-21T13:34:20.488Z"
   },
   {
    "duration": 13,
    "start_time": "2022-05-21T13:34:20.499Z"
   },
   {
    "duration": 1443,
    "start_time": "2022-05-21T13:34:20.514Z"
   },
   {
    "duration": 5,
    "start_time": "2022-05-21T13:34:21.959Z"
   },
   {
    "duration": 99,
    "start_time": "2022-05-21T13:34:22.057Z"
   },
   {
    "duration": 26,
    "start_time": "2022-05-21T13:34:22.158Z"
   },
   {
    "duration": 4,
    "start_time": "2022-05-21T13:34:22.185Z"
   },
   {
    "duration": 8,
    "start_time": "2022-05-21T13:34:22.191Z"
   },
   {
    "duration": 9,
    "start_time": "2022-05-21T13:34:22.201Z"
   },
   {
    "duration": 17,
    "start_time": "2022-05-21T13:34:22.211Z"
   },
   {
    "duration": 0,
    "start_time": "2022-05-21T13:34:22.230Z"
   },
   {
    "duration": 0,
    "start_time": "2022-05-21T13:34:22.231Z"
   },
   {
    "duration": 0,
    "start_time": "2022-05-21T13:34:22.233Z"
   },
   {
    "duration": 0,
    "start_time": "2022-05-21T13:34:22.234Z"
   },
   {
    "duration": 0,
    "start_time": "2022-05-21T13:34:22.253Z"
   },
   {
    "duration": 0,
    "start_time": "2022-05-21T13:34:22.254Z"
   },
   {
    "duration": 994,
    "start_time": "2022-05-21T13:34:45.722Z"
   },
   {
    "duration": 4,
    "start_time": "2022-05-21T13:34:50.251Z"
   },
   {
    "duration": 3,
    "start_time": "2022-05-21T13:34:51.808Z"
   },
   {
    "duration": 19,
    "start_time": "2022-05-21T13:34:53.252Z"
   },
   {
    "duration": 10,
    "start_time": "2022-05-21T13:34:54.505Z"
   },
   {
    "duration": 2206,
    "start_time": "2022-05-21T13:36:14.163Z"
   },
   {
    "duration": 8,
    "start_time": "2022-05-21T13:36:16.372Z"
   },
   {
    "duration": 53,
    "start_time": "2022-05-21T13:36:16.382Z"
   },
   {
    "duration": 13,
    "start_time": "2022-05-21T13:36:16.437Z"
   },
   {
    "duration": 9,
    "start_time": "2022-05-21T13:36:16.453Z"
   },
   {
    "duration": 6,
    "start_time": "2022-05-21T13:36:16.464Z"
   },
   {
    "duration": 14,
    "start_time": "2022-05-21T13:36:16.473Z"
   },
   {
    "duration": 292,
    "start_time": "2022-05-21T13:36:16.489Z"
   },
   {
    "duration": 3,
    "start_time": "2022-05-21T13:36:16.782Z"
   },
   {
    "duration": 357,
    "start_time": "2022-05-21T13:36:16.787Z"
   },
   {
    "duration": 10,
    "start_time": "2022-05-21T13:36:17.146Z"
   },
   {
    "duration": 1048,
    "start_time": "2022-05-21T13:36:17.158Z"
   },
   {
    "duration": 6,
    "start_time": "2022-05-21T13:36:18.208Z"
   },
   {
    "duration": 8,
    "start_time": "2022-05-21T13:36:18.217Z"
   },
   {
    "duration": 260,
    "start_time": "2022-05-21T13:36:18.226Z"
   },
   {
    "duration": 5,
    "start_time": "2022-05-21T13:36:18.488Z"
   },
   {
    "duration": 245,
    "start_time": "2022-05-21T13:36:18.495Z"
   },
   {
    "duration": 3,
    "start_time": "2022-05-21T13:36:18.741Z"
   },
   {
    "duration": 9,
    "start_time": "2022-05-21T13:36:18.745Z"
   },
   {
    "duration": 1301,
    "start_time": "2022-05-21T13:36:18.755Z"
   },
   {
    "duration": 96,
    "start_time": "2022-05-21T13:36:20.058Z"
   },
   {
    "duration": 5,
    "start_time": "2022-05-21T13:36:20.156Z"
   },
   {
    "duration": 24,
    "start_time": "2022-05-21T13:36:20.251Z"
   },
   {
    "duration": 4,
    "start_time": "2022-05-21T13:36:20.277Z"
   },
   {
    "duration": 8,
    "start_time": "2022-05-21T13:36:20.282Z"
   },
   {
    "duration": 5,
    "start_time": "2022-05-21T13:36:20.292Z"
   },
   {
    "duration": 915,
    "start_time": "2022-05-21T13:36:20.298Z"
   },
   {
    "duration": 4,
    "start_time": "2022-05-21T13:36:21.214Z"
   },
   {
    "duration": 9,
    "start_time": "2022-05-21T13:36:21.219Z"
   },
   {
    "duration": 30,
    "start_time": "2022-05-21T13:36:21.230Z"
   },
   {
    "duration": 9,
    "start_time": "2022-05-21T13:36:21.261Z"
   },
   {
    "duration": 9,
    "start_time": "2022-05-21T13:36:21.271Z"
   },
   {
    "duration": 2249,
    "start_time": "2022-05-21T13:37:16.169Z"
   },
   {
    "duration": 5,
    "start_time": "2022-05-21T13:37:18.421Z"
   },
   {
    "duration": 41,
    "start_time": "2022-05-21T13:37:18.428Z"
   },
   {
    "duration": 11,
    "start_time": "2022-05-21T13:37:18.472Z"
   },
   {
    "duration": 7,
    "start_time": "2022-05-21T13:37:18.485Z"
   },
   {
    "duration": 9,
    "start_time": "2022-05-21T13:37:18.493Z"
   },
   {
    "duration": 10,
    "start_time": "2022-05-21T13:37:18.505Z"
   },
   {
    "duration": 320,
    "start_time": "2022-05-21T13:37:18.517Z"
   },
   {
    "duration": 3,
    "start_time": "2022-05-21T13:37:18.839Z"
   },
   {
    "duration": 364,
    "start_time": "2022-05-21T13:37:18.851Z"
   },
   {
    "duration": 8,
    "start_time": "2022-05-21T13:37:19.216Z"
   },
   {
    "duration": 863,
    "start_time": "2022-05-21T13:37:19.226Z"
   },
   {
    "duration": 7,
    "start_time": "2022-05-21T13:37:20.091Z"
   },
   {
    "duration": 10,
    "start_time": "2022-05-21T13:37:20.099Z"
   },
   {
    "duration": 268,
    "start_time": "2022-05-21T13:37:20.111Z"
   },
   {
    "duration": 6,
    "start_time": "2022-05-21T13:37:20.381Z"
   },
   {
    "duration": 441,
    "start_time": "2022-05-21T13:37:20.388Z"
   },
   {
    "duration": 10,
    "start_time": "2022-05-21T13:37:20.831Z"
   },
   {
    "duration": 14,
    "start_time": "2022-05-21T13:37:20.852Z"
   },
   {
    "duration": 1090,
    "start_time": "2022-05-21T13:37:20.868Z"
   },
   {
    "duration": 94,
    "start_time": "2022-05-21T13:37:21.964Z"
   },
   {
    "duration": 13,
    "start_time": "2022-05-21T13:37:22.060Z"
   },
   {
    "duration": 35,
    "start_time": "2022-05-21T13:37:22.076Z"
   },
   {
    "duration": 4,
    "start_time": "2022-05-21T13:37:22.112Z"
   },
   {
    "duration": 14,
    "start_time": "2022-05-21T13:37:22.119Z"
   },
   {
    "duration": 5,
    "start_time": "2022-05-21T13:38:29.317Z"
   },
   {
    "duration": 4,
    "start_time": "2022-05-21T13:38:53.459Z"
   },
   {
    "duration": 24,
    "start_time": "2022-05-21T13:38:55.393Z"
   },
   {
    "duration": 84238,
    "start_time": "2022-05-21T13:39:07.020Z"
   },
   {
    "duration": 4,
    "start_time": "2022-05-21T13:40:38.806Z"
   },
   {
    "duration": 3,
    "start_time": "2022-05-21T13:40:40.415Z"
   },
   {
    "duration": 112,
    "start_time": "2022-05-21T13:40:42.251Z"
   },
   {
    "duration": 9,
    "start_time": "2022-05-21T13:40:44.348Z"
   },
   {
    "duration": 19,
    "start_time": "2022-05-21T13:41:01.175Z"
   },
   {
    "duration": 3,
    "start_time": "2022-05-21T13:41:02.959Z"
   },
   {
    "duration": 16190,
    "start_time": "2022-05-21T13:41:04.367Z"
   },
   {
    "duration": 4,
    "start_time": "2022-05-21T13:42:33.907Z"
   },
   {
    "duration": 5,
    "start_time": "2022-05-21T13:42:35.490Z"
   },
   {
    "duration": 41589,
    "start_time": "2022-05-21T13:42:36.875Z"
   },
   {
    "duration": 9,
    "start_time": "2022-05-21T13:44:22.179Z"
   },
   {
    "duration": 19,
    "start_time": "2022-05-21T13:44:59.375Z"
   },
   {
    "duration": 17504,
    "start_time": "2022-05-21T13:45:08.159Z"
   },
   {
    "duration": 3,
    "start_time": "2022-05-21T13:45:38.083Z"
   },
   {
    "duration": 3,
    "start_time": "2022-05-21T13:45:39.514Z"
   },
   {
    "duration": 49,
    "start_time": "2022-05-21T13:45:40.812Z"
   },
   {
    "duration": 10,
    "start_time": "2022-05-21T13:45:42.801Z"
   },
   {
    "duration": 16,
    "start_time": "2022-05-21T13:45:53.678Z"
   },
   {
    "duration": 17267,
    "start_time": "2022-05-21T13:45:55.492Z"
   },
   {
    "duration": 5,
    "start_time": "2022-05-21T13:46:16.053Z"
   },
   {
    "duration": 3,
    "start_time": "2022-05-21T13:46:17.403Z"
   },
   {
    "duration": 110,
    "start_time": "2022-05-21T13:46:18.951Z"
   },
   {
    "duration": 12,
    "start_time": "2022-05-21T13:46:20.580Z"
   },
   {
    "duration": 4,
    "start_time": "2022-05-21T13:46:46.015Z"
   },
   {
    "duration": 5,
    "start_time": "2022-05-21T13:47:01.674Z"
   },
   {
    "duration": 17,
    "start_time": "2022-05-21T13:47:03.318Z"
   },
   {
    "duration": 2215,
    "start_time": "2022-05-21T16:00:58.772Z"
   },
   {
    "duration": 8,
    "start_time": "2022-05-21T16:01:00.990Z"
   },
   {
    "duration": 72,
    "start_time": "2022-05-21T16:01:01.000Z"
   },
   {
    "duration": 12,
    "start_time": "2022-05-21T16:01:01.076Z"
   },
   {
    "duration": 37,
    "start_time": "2022-05-21T16:01:01.092Z"
   },
   {
    "duration": 42,
    "start_time": "2022-05-21T16:01:01.131Z"
   },
   {
    "duration": 21,
    "start_time": "2022-05-21T16:01:01.175Z"
   },
   {
    "duration": 304,
    "start_time": "2022-05-21T16:01:01.199Z"
   },
   {
    "duration": 3,
    "start_time": "2022-05-21T16:01:01.505Z"
   },
   {
    "duration": 387,
    "start_time": "2022-05-21T16:01:01.511Z"
   },
   {
    "duration": 11,
    "start_time": "2022-05-21T16:01:01.900Z"
   },
   {
    "duration": 968,
    "start_time": "2022-05-21T16:01:01.914Z"
   },
   {
    "duration": 7,
    "start_time": "2022-05-21T16:01:02.884Z"
   },
   {
    "duration": 36,
    "start_time": "2022-05-21T16:01:02.893Z"
   },
   {
    "duration": 280,
    "start_time": "2022-05-21T16:01:02.931Z"
   },
   {
    "duration": 7,
    "start_time": "2022-05-21T16:01:03.213Z"
   },
   {
    "duration": 275,
    "start_time": "2022-05-21T16:01:03.222Z"
   },
   {
    "duration": 12,
    "start_time": "2022-05-21T16:01:03.499Z"
   },
   {
    "duration": 26,
    "start_time": "2022-05-21T16:01:03.513Z"
   },
   {
    "duration": 4645,
    "start_time": "2022-05-21T16:01:03.540Z"
   },
   {
    "duration": 90,
    "start_time": "2022-05-21T16:01:08.266Z"
   },
   {
    "duration": 22,
    "start_time": "2022-05-21T16:01:08.359Z"
   },
   {
    "duration": 21,
    "start_time": "2022-05-21T16:01:08.384Z"
   },
   {
    "duration": 14,
    "start_time": "2022-05-21T16:01:08.406Z"
   },
   {
    "duration": 12,
    "start_time": "2022-05-21T16:01:08.422Z"
   },
   {
    "duration": 21,
    "start_time": "2022-05-21T16:01:08.435Z"
   },
   {
    "duration": 843,
    "start_time": "2022-05-21T16:01:08.457Z"
   },
   {
    "duration": 3,
    "start_time": "2022-05-21T16:01:09.304Z"
   },
   {
    "duration": 6,
    "start_time": "2022-05-21T16:01:09.310Z"
   },
   {
    "duration": 37,
    "start_time": "2022-05-21T16:01:09.318Z"
   },
   {
    "duration": 12,
    "start_time": "2022-05-21T16:01:09.368Z"
   },
   {
    "duration": 4,
    "start_time": "2022-05-21T16:01:09.382Z"
   },
   {
    "duration": 21,
    "start_time": "2022-05-21T16:01:40.154Z"
   },
   {
    "duration": 912,
    "start_time": "2022-05-21T16:01:50.893Z"
   },
   {
    "duration": 5,
    "start_time": "2022-05-21T16:01:55.162Z"
   },
   {
    "duration": 3,
    "start_time": "2022-05-21T16:01:56.867Z"
   },
   {
    "duration": 20,
    "start_time": "2022-05-21T16:01:58.349Z"
   },
   {
    "duration": 8,
    "start_time": "2022-05-21T16:01:59.701Z"
   },
   {
    "duration": 17,
    "start_time": "2022-05-21T16:02:11.022Z"
   },
   {
    "duration": 781,
    "start_time": "2022-05-21T16:02:19.103Z"
   },
   {
    "duration": 21,
    "start_time": "2022-05-21T16:02:38.168Z"
   },
   {
    "duration": 1152,
    "start_time": "2022-05-21T16:02:45.422Z"
   },
   {
    "duration": 5,
    "start_time": "2022-05-21T16:02:58.378Z"
   },
   {
    "duration": 1512,
    "start_time": "2022-05-21T16:03:00.593Z"
   },
   {
    "duration": 4,
    "start_time": "2022-05-21T16:03:03.607Z"
   },
   {
    "duration": 3,
    "start_time": "2022-05-21T16:03:04.942Z"
   },
   {
    "duration": 38,
    "start_time": "2022-05-21T16:03:06.372Z"
   },
   {
    "duration": 14,
    "start_time": "2022-05-21T16:03:07.481Z"
   },
   {
    "duration": 20,
    "start_time": "2022-05-21T16:03:29.697Z"
   },
   {
    "duration": 1932,
    "start_time": "2022-05-21T16:03:40.175Z"
   },
   {
    "duration": 4,
    "start_time": "2022-05-21T16:03:43.763Z"
   },
   {
    "duration": 8,
    "start_time": "2022-05-21T16:03:45.263Z"
   },
   {
    "duration": 14,
    "start_time": "2022-05-21T16:03:50.108Z"
   },
   {
    "duration": 9,
    "start_time": "2022-05-21T16:03:51.467Z"
   },
   {
    "duration": 1425,
    "start_time": "2022-05-21T16:04:14.676Z"
   },
   {
    "duration": 3,
    "start_time": "2022-05-21T16:04:20.315Z"
   },
   {
    "duration": 3,
    "start_time": "2022-05-21T16:04:21.709Z"
   },
   {
    "duration": 14,
    "start_time": "2022-05-21T16:04:23.196Z"
   },
   {
    "duration": 14,
    "start_time": "2022-05-21T16:04:24.612Z"
   },
   {
    "duration": 20,
    "start_time": "2022-05-21T16:04:46.463Z"
   },
   {
    "duration": 3,
    "start_time": "2022-05-21T16:04:57.775Z"
   },
   {
    "duration": 1475,
    "start_time": "2022-05-21T16:04:59.471Z"
   },
   {
    "duration": 3,
    "start_time": "2022-05-21T16:05:02.280Z"
   },
   {
    "duration": 3,
    "start_time": "2022-05-21T16:05:03.711Z"
   },
   {
    "duration": 15,
    "start_time": "2022-05-21T16:05:04.968Z"
   },
   {
    "duration": 8,
    "start_time": "2022-05-21T16:05:06.165Z"
   },
   {
    "duration": 18,
    "start_time": "2022-05-21T16:05:17.614Z"
   },
   {
    "duration": 1556,
    "start_time": "2022-05-21T16:05:24.925Z"
   },
   {
    "duration": 3,
    "start_time": "2022-05-21T16:05:29.486Z"
   },
   {
    "duration": 4,
    "start_time": "2022-05-21T16:05:30.857Z"
   },
   {
    "duration": 13,
    "start_time": "2022-05-21T16:05:32.111Z"
   },
   {
    "duration": 10,
    "start_time": "2022-05-21T16:05:33.879Z"
   },
   {
    "duration": 18,
    "start_time": "2022-05-21T16:05:51.286Z"
   },
   {
    "duration": 1447,
    "start_time": "2022-05-21T16:05:54.599Z"
   },
   {
    "duration": 4,
    "start_time": "2022-05-21T16:06:00.629Z"
   },
   {
    "duration": 3,
    "start_time": "2022-05-21T16:06:04.064Z"
   },
   {
    "duration": 17,
    "start_time": "2022-05-21T16:06:05.386Z"
   },
   {
    "duration": 9,
    "start_time": "2022-05-21T16:06:06.728Z"
   },
   {
    "duration": 17,
    "start_time": "2022-05-21T16:06:16.115Z"
   },
   {
    "duration": 4,
    "start_time": "2022-05-21T16:06:20.129Z"
   },
   {
    "duration": 1375,
    "start_time": "2022-05-21T16:06:21.328Z"
   },
   {
    "duration": 4,
    "start_time": "2022-05-21T16:06:42.666Z"
   },
   {
    "duration": 4,
    "start_time": "2022-05-21T16:06:43.929Z"
   },
   {
    "duration": 17,
    "start_time": "2022-05-21T16:06:45.267Z"
   },
   {
    "duration": 9,
    "start_time": "2022-05-21T16:06:46.625Z"
   },
   {
    "duration": 27,
    "start_time": "2022-05-21T16:11:41.007Z"
   },
   {
    "duration": 2530,
    "start_time": "2022-05-21T16:11:47.164Z"
   },
   {
    "duration": 4,
    "start_time": "2022-05-21T16:11:52.079Z"
   },
   {
    "duration": 3,
    "start_time": "2022-05-21T16:11:54.414Z"
   },
   {
    "duration": 14,
    "start_time": "2022-05-21T16:11:56.264Z"
   },
   {
    "duration": 9,
    "start_time": "2022-05-21T16:12:01.223Z"
   },
   {
    "duration": 31,
    "start_time": "2022-05-21T16:12:13.164Z"
   },
   {
    "duration": 2638,
    "start_time": "2022-05-21T16:12:19.146Z"
   },
   {
    "duration": 4,
    "start_time": "2022-05-21T16:12:24.198Z"
   },
   {
    "duration": 4,
    "start_time": "2022-05-21T16:12:25.695Z"
   },
   {
    "duration": 19,
    "start_time": "2022-05-21T16:12:26.951Z"
   },
   {
    "duration": 9,
    "start_time": "2022-05-21T16:12:29.208Z"
   },
   {
    "duration": 4,
    "start_time": "2022-05-21T16:12:49.969Z"
   },
   {
    "duration": 24,
    "start_time": "2022-05-21T16:12:57.250Z"
   },
   {
    "duration": 4,
    "start_time": "2022-05-21T16:13:01.089Z"
   },
   {
    "duration": 21,
    "start_time": "2022-05-21T16:13:09.080Z"
   },
   {
    "duration": 4,
    "start_time": "2022-05-21T16:13:14.068Z"
   },
   {
    "duration": 2228,
    "start_time": "2022-05-21T16:13:45.782Z"
   },
   {
    "duration": 7,
    "start_time": "2022-05-21T16:13:48.015Z"
   },
   {
    "duration": 49,
    "start_time": "2022-05-21T16:13:48.024Z"
   },
   {
    "duration": 11,
    "start_time": "2022-05-21T16:13:48.075Z"
   },
   {
    "duration": 11,
    "start_time": "2022-05-21T16:13:48.088Z"
   },
   {
    "duration": 6,
    "start_time": "2022-05-21T16:13:48.101Z"
   },
   {
    "duration": 9,
    "start_time": "2022-05-21T16:13:48.109Z"
   },
   {
    "duration": 314,
    "start_time": "2022-05-21T16:13:48.120Z"
   },
   {
    "duration": 501,
    "start_time": "2022-05-21T16:13:48.437Z"
   },
   {
    "duration": 17,
    "start_time": "2022-05-21T16:13:48.940Z"
   },
   {
    "duration": 862,
    "start_time": "2022-05-21T16:13:48.959Z"
   },
   {
    "duration": 3,
    "start_time": "2022-05-21T16:13:49.823Z"
   },
   {
    "duration": 14,
    "start_time": "2022-05-21T16:13:49.827Z"
   },
   {
    "duration": 12,
    "start_time": "2022-05-21T16:13:49.860Z"
   },
   {
    "duration": 241,
    "start_time": "2022-05-21T16:13:49.874Z"
   },
   {
    "duration": 8,
    "start_time": "2022-05-21T16:13:50.118Z"
   },
   {
    "duration": 240,
    "start_time": "2022-05-21T16:13:50.135Z"
   },
   {
    "duration": 8,
    "start_time": "2022-05-21T16:13:50.377Z"
   },
   {
    "duration": 4,
    "start_time": "2022-05-21T16:13:50.386Z"
   },
   {
    "duration": 2874,
    "start_time": "2022-05-21T16:13:50.392Z"
   },
   {
    "duration": 7,
    "start_time": "2022-05-21T16:13:53.268Z"
   },
   {
    "duration": 96,
    "start_time": "2022-05-21T16:13:53.277Z"
   },
   {
    "duration": 23,
    "start_time": "2022-05-21T16:13:53.375Z"
   },
   {
    "duration": 3,
    "start_time": "2022-05-21T16:13:53.400Z"
   },
   {
    "duration": 11,
    "start_time": "2022-05-21T16:13:53.405Z"
   },
   {
    "duration": 15,
    "start_time": "2022-05-21T16:13:53.418Z"
   },
   {
    "duration": 3,
    "start_time": "2022-05-21T16:14:09.484Z"
   },
   {
    "duration": 983,
    "start_time": "2022-05-21T16:14:10.819Z"
   },
   {
    "duration": 4,
    "start_time": "2022-05-21T16:14:13.531Z"
   },
   {
    "duration": 4,
    "start_time": "2022-05-21T16:14:14.865Z"
   },
   {
    "duration": 23,
    "start_time": "2022-05-21T16:14:16.155Z"
   },
   {
    "duration": 13,
    "start_time": "2022-05-21T16:14:17.561Z"
   },
   {
    "duration": 16,
    "start_time": "2022-05-21T16:18:17.265Z"
   },
   {
    "duration": 4,
    "start_time": "2022-05-21T16:18:22.605Z"
   },
   {
    "duration": 3,
    "start_time": "2022-05-21T16:18:27.417Z"
   },
   {
    "duration": 1177,
    "start_time": "2022-05-21T16:18:30.564Z"
   },
   {
    "duration": 28,
    "start_time": "2022-05-21T16:18:39.248Z"
   },
   {
    "duration": 4,
    "start_time": "2022-05-21T16:18:44.417Z"
   },
   {
    "duration": 6,
    "start_time": "2022-05-21T16:18:51.149Z"
   },
   {
    "duration": 2379,
    "start_time": "2022-05-21T16:18:54.687Z"
   },
   {
    "duration": 19,
    "start_time": "2022-05-21T16:19:03.120Z"
   },
   {
    "duration": 4,
    "start_time": "2022-05-21T16:19:08.521Z"
   },
   {
    "duration": 3,
    "start_time": "2022-05-21T16:21:12.447Z"
   },
   {
    "duration": 24,
    "start_time": "2022-05-21T16:21:20.363Z"
   },
   {
    "duration": 4,
    "start_time": "2022-05-21T16:21:22.727Z"
   },
   {
    "duration": 4,
    "start_time": "2022-05-21T16:29:32.651Z"
   },
   {
    "duration": 20,
    "start_time": "2022-05-21T16:29:46.212Z"
   },
   {
    "duration": 4,
    "start_time": "2022-05-21T16:29:50.594Z"
   },
   {
    "duration": 5,
    "start_time": "2022-05-21T16:31:23.127Z"
   },
   {
    "duration": 19,
    "start_time": "2022-05-21T16:31:33.406Z"
   },
   {
    "duration": 25,
    "start_time": "2022-05-21T16:32:14.449Z"
   },
   {
    "duration": 5,
    "start_time": "2022-05-21T16:33:33.796Z"
   },
   {
    "duration": 32,
    "start_time": "2022-05-21T16:33:39.800Z"
   },
   {
    "duration": 5,
    "start_time": "2022-05-21T16:34:31.798Z"
   },
   {
    "duration": 32,
    "start_time": "2022-05-21T16:36:16.378Z"
   },
   {
    "duration": 18,
    "start_time": "2022-05-21T16:38:55.672Z"
   },
   {
    "duration": 2091,
    "start_time": "2022-05-21T16:40:05.498Z"
   },
   {
    "duration": 5,
    "start_time": "2022-05-21T16:40:07.592Z"
   },
   {
    "duration": 43,
    "start_time": "2022-05-21T16:40:07.599Z"
   },
   {
    "duration": 14,
    "start_time": "2022-05-21T16:40:07.644Z"
   },
   {
    "duration": 17,
    "start_time": "2022-05-21T16:40:07.661Z"
   },
   {
    "duration": 7,
    "start_time": "2022-05-21T16:40:07.680Z"
   },
   {
    "duration": 8,
    "start_time": "2022-05-21T16:40:07.689Z"
   },
   {
    "duration": 274,
    "start_time": "2022-05-21T16:40:07.699Z"
   },
   {
    "duration": 375,
    "start_time": "2022-05-21T16:40:07.974Z"
   },
   {
    "duration": 16,
    "start_time": "2022-05-21T16:40:08.352Z"
   },
   {
    "duration": 848,
    "start_time": "2022-05-21T16:40:08.370Z"
   },
   {
    "duration": 3,
    "start_time": "2022-05-21T16:40:09.220Z"
   },
   {
    "duration": 10,
    "start_time": "2022-05-21T16:40:09.225Z"
   },
   {
    "duration": 26,
    "start_time": "2022-05-21T16:40:09.238Z"
   },
   {
    "duration": 240,
    "start_time": "2022-05-21T16:40:09.266Z"
   },
   {
    "duration": 6,
    "start_time": "2022-05-21T16:40:09.508Z"
   },
   {
    "duration": 256,
    "start_time": "2022-05-21T16:40:09.515Z"
   },
   {
    "duration": 9,
    "start_time": "2022-05-21T16:40:09.773Z"
   },
   {
    "duration": 4,
    "start_time": "2022-05-21T16:40:09.784Z"
   },
   {
    "duration": 1879,
    "start_time": "2022-05-21T16:40:09.790Z"
   },
   {
    "duration": 4,
    "start_time": "2022-05-21T16:40:31.229Z"
   },
   {
    "duration": 3,
    "start_time": "2022-05-21T16:40:40.327Z"
   },
   {
    "duration": 10,
    "start_time": "2022-05-21T16:40:43.666Z"
   },
   {
    "duration": 26,
    "start_time": "2022-05-21T16:40:48.569Z"
   },
   {
    "duration": 25,
    "start_time": "2022-05-21T16:41:05.702Z"
   },
   {
    "duration": 4,
    "start_time": "2022-05-21T16:41:28.521Z"
   },
   {
    "duration": 2328,
    "start_time": "2022-05-21T16:41:30.464Z"
   },
   {
    "duration": 4,
    "start_time": "2022-05-21T16:41:40.926Z"
   },
   {
    "duration": 3,
    "start_time": "2022-05-21T16:41:42.549Z"
   },
   {
    "duration": 12,
    "start_time": "2022-05-21T16:41:44.001Z"
   },
   {
    "duration": 20,
    "start_time": "2022-05-21T16:41:46.349Z"
   },
   {
    "duration": 4,
    "start_time": "2022-05-21T16:41:47.992Z"
   },
   {
    "duration": 33,
    "start_time": "2022-05-21T16:42:27.459Z"
   },
   {
    "duration": 12,
    "start_time": "2022-05-21T16:42:56.949Z"
   },
   {
    "duration": 27,
    "start_time": "2022-05-21T16:43:11.047Z"
   },
   {
    "duration": 10,
    "start_time": "2022-05-21T16:43:14.828Z"
   },
   {
    "duration": 31,
    "start_time": "2022-05-21T16:43:23.413Z"
   },
   {
    "duration": 15,
    "start_time": "2022-05-21T16:43:34.160Z"
   },
   {
    "duration": 5800,
    "start_time": "2022-05-22T01:19:04.569Z"
   },
   {
    "duration": 1923,
    "start_time": "2022-05-22T01:19:10.371Z"
   },
   {
    "duration": 99,
    "start_time": "2022-05-22T01:19:12.296Z"
   },
   {
    "duration": 11,
    "start_time": "2022-05-22T01:19:12.397Z"
   },
   {
    "duration": 11,
    "start_time": "2022-05-22T01:19:12.410Z"
   },
   {
    "duration": 4,
    "start_time": "2022-05-22T01:19:12.423Z"
   },
   {
    "duration": 28,
    "start_time": "2022-05-22T01:19:12.428Z"
   },
   {
    "duration": 283,
    "start_time": "2022-05-22T01:19:12.458Z"
   },
   {
    "duration": 528,
    "start_time": "2022-05-22T01:19:12.743Z"
   },
   {
    "duration": 8,
    "start_time": "2022-05-22T01:19:13.273Z"
   },
   {
    "duration": 922,
    "start_time": "2022-05-22T01:19:13.283Z"
   },
   {
    "duration": 3,
    "start_time": "2022-05-22T01:19:14.206Z"
   },
   {
    "duration": 23,
    "start_time": "2022-05-22T01:19:14.211Z"
   },
   {
    "duration": 21,
    "start_time": "2022-05-22T01:19:14.240Z"
   },
   {
    "duration": 236,
    "start_time": "2022-05-22T01:19:14.263Z"
   },
   {
    "duration": 7,
    "start_time": "2022-05-22T01:19:14.501Z"
   },
   {
    "duration": 257,
    "start_time": "2022-05-22T01:19:14.510Z"
   },
   {
    "duration": 11,
    "start_time": "2022-05-22T01:19:14.768Z"
   },
   {
    "duration": 9,
    "start_time": "2022-05-22T01:19:14.781Z"
   },
   {
    "duration": 4245,
    "start_time": "2022-05-22T01:19:14.792Z"
   },
   {
    "duration": 7,
    "start_time": "2022-05-22T01:19:23.259Z"
   },
   {
    "duration": 10,
    "start_time": "2022-05-22T01:19:31.202Z"
   },
   {
    "duration": 46,
    "start_time": "2022-05-22T01:19:41.688Z"
   },
   {
    "duration": 5,
    "start_time": "2022-05-22T01:19:53.342Z"
   },
   {
    "duration": 17,
    "start_time": "2022-05-22T01:20:00.729Z"
   },
   {
    "duration": 30,
    "start_time": "2022-05-22T01:20:14.209Z"
   },
   {
    "duration": 6,
    "start_time": "2022-05-22T01:21:14.523Z"
   },
   {
    "duration": 20,
    "start_time": "2022-05-22T01:21:27.582Z"
   },
   {
    "duration": 4,
    "start_time": "2022-05-22T01:21:38.182Z"
   },
   {
    "duration": 158,
    "start_time": "2022-05-22T01:21:44.898Z"
   },
   {
    "duration": 14,
    "start_time": "2022-05-22T01:21:54.796Z"
   },
   {
    "duration": 4,
    "start_time": "2022-05-22T01:22:05.078Z"
   },
   {
    "duration": 7,
    "start_time": "2022-05-22T01:22:42.940Z"
   },
   {
    "duration": 19,
    "start_time": "2022-05-22T01:22:50.071Z"
   },
   {
    "duration": 4,
    "start_time": "2022-05-22T01:22:51.986Z"
   },
   {
    "duration": 15,
    "start_time": "2022-05-22T01:22:56.256Z"
   },
   {
    "duration": 2291,
    "start_time": "2022-05-22T01:23:48.539Z"
   },
   {
    "duration": 7,
    "start_time": "2022-05-22T01:23:50.833Z"
   },
   {
    "duration": 60,
    "start_time": "2022-05-22T01:23:50.842Z"
   },
   {
    "duration": 11,
    "start_time": "2022-05-22T01:23:50.904Z"
   },
   {
    "duration": 7,
    "start_time": "2022-05-22T01:23:50.916Z"
   },
   {
    "duration": 7,
    "start_time": "2022-05-22T01:23:50.925Z"
   },
   {
    "duration": 12,
    "start_time": "2022-05-22T01:23:50.934Z"
   },
   {
    "duration": 250,
    "start_time": "2022-05-22T01:23:50.948Z"
   },
   {
    "duration": 508,
    "start_time": "2022-05-22T01:23:51.199Z"
   },
   {
    "duration": 17,
    "start_time": "2022-05-22T01:23:51.710Z"
   },
   {
    "duration": 889,
    "start_time": "2022-05-22T01:23:51.728Z"
   },
   {
    "duration": 9,
    "start_time": "2022-05-22T01:23:52.619Z"
   },
   {
    "duration": 37,
    "start_time": "2022-05-22T01:23:52.630Z"
   },
   {
    "duration": 11,
    "start_time": "2022-05-22T01:23:52.670Z"
   },
   {
    "duration": 238,
    "start_time": "2022-05-22T01:23:52.684Z"
   },
   {
    "duration": 7,
    "start_time": "2022-05-22T01:23:52.924Z"
   },
   {
    "duration": 214,
    "start_time": "2022-05-22T01:23:52.932Z"
   },
   {
    "duration": 10,
    "start_time": "2022-05-22T01:23:53.149Z"
   },
   {
    "duration": 12,
    "start_time": "2022-05-22T01:23:53.160Z"
   },
   {
    "duration": 3960,
    "start_time": "2022-05-22T01:23:53.174Z"
   },
   {
    "duration": 4,
    "start_time": "2022-05-22T01:48:12.739Z"
   },
   {
    "duration": 5,
    "start_time": "2022-05-22T01:48:58.835Z"
   },
   {
    "duration": 21,
    "start_time": "2022-05-22T01:49:14.314Z"
   },
   {
    "duration": 5,
    "start_time": "2022-05-22T01:49:21.239Z"
   },
   {
    "duration": 7,
    "start_time": "2022-05-22T01:49:31.661Z"
   },
   {
    "duration": 9,
    "start_time": "2022-05-22T01:49:39.374Z"
   },
   {
    "duration": 12,
    "start_time": "2022-05-22T01:49:50.939Z"
   },
   {
    "duration": 10,
    "start_time": "2022-05-22T01:49:58.397Z"
   },
   {
    "duration": 5,
    "start_time": "2022-05-22T01:55:14.195Z"
   },
   {
    "duration": 10,
    "start_time": "2022-05-22T01:55:38.860Z"
   },
   {
    "duration": 19,
    "start_time": "2022-05-22T01:55:45.498Z"
   },
   {
    "duration": 6,
    "start_time": "2022-05-22T01:55:47.202Z"
   },
   {
    "duration": 11,
    "start_time": "2022-05-22T01:55:58.916Z"
   },
   {
    "duration": 9,
    "start_time": "2022-05-22T01:56:24.781Z"
   },
   {
    "duration": 2274,
    "start_time": "2022-05-22T01:57:01.398Z"
   },
   {
    "duration": 6,
    "start_time": "2022-05-22T01:57:03.674Z"
   },
   {
    "duration": 50,
    "start_time": "2022-05-22T01:57:03.681Z"
   },
   {
    "duration": 11,
    "start_time": "2022-05-22T01:57:03.733Z"
   },
   {
    "duration": 11,
    "start_time": "2022-05-22T01:57:03.745Z"
   },
   {
    "duration": 9,
    "start_time": "2022-05-22T01:57:03.758Z"
   },
   {
    "duration": 10,
    "start_time": "2022-05-22T01:57:03.769Z"
   },
   {
    "duration": 303,
    "start_time": "2022-05-22T01:57:03.780Z"
   },
   {
    "duration": 497,
    "start_time": "2022-05-22T01:57:04.085Z"
   },
   {
    "duration": 12,
    "start_time": "2022-05-22T01:57:04.585Z"
   },
   {
    "duration": 861,
    "start_time": "2022-05-22T01:57:04.599Z"
   },
   {
    "duration": 4,
    "start_time": "2022-05-22T01:57:05.462Z"
   },
   {
    "duration": 15,
    "start_time": "2022-05-22T01:57:05.468Z"
   },
   {
    "duration": 15,
    "start_time": "2022-05-22T01:57:05.485Z"
   },
   {
    "duration": 246,
    "start_time": "2022-05-22T01:57:05.502Z"
   },
   {
    "duration": 6,
    "start_time": "2022-05-22T01:57:05.750Z"
   },
   {
    "duration": 246,
    "start_time": "2022-05-22T01:57:05.757Z"
   },
   {
    "duration": 24,
    "start_time": "2022-05-22T01:57:06.005Z"
   },
   {
    "duration": 6,
    "start_time": "2022-05-22T01:57:06.031Z"
   },
   {
    "duration": 2588,
    "start_time": "2022-05-22T01:57:06.039Z"
   },
   {
    "duration": 5,
    "start_time": "2022-05-22T01:57:14.135Z"
   },
   {
    "duration": 20,
    "start_time": "2022-05-22T01:57:34.161Z"
   },
   {
    "duration": 19,
    "start_time": "2022-05-22T01:57:36.872Z"
   },
   {
    "duration": 27,
    "start_time": "2022-05-22T01:57:49.541Z"
   },
   {
    "duration": 20,
    "start_time": "2022-05-22T01:58:15.865Z"
   },
   {
    "duration": 19,
    "start_time": "2022-05-22T01:58:21.846Z"
   },
   {
    "duration": 18,
    "start_time": "2022-05-22T01:58:24.562Z"
   },
   {
    "duration": 24,
    "start_time": "2022-05-22T01:58:44.611Z"
   },
   {
    "duration": 21,
    "start_time": "2022-05-22T01:58:52.995Z"
   },
   {
    "duration": 2398,
    "start_time": "2022-05-22T02:00:00.752Z"
   },
   {
    "duration": 7,
    "start_time": "2022-05-22T02:00:03.155Z"
   },
   {
    "duration": 179,
    "start_time": "2022-05-22T02:00:03.164Z"
   },
   {
    "duration": 13,
    "start_time": "2022-05-22T02:00:03.347Z"
   },
   {
    "duration": 16,
    "start_time": "2022-05-22T02:00:03.361Z"
   },
   {
    "duration": 14,
    "start_time": "2022-05-22T02:00:03.379Z"
   },
   {
    "duration": 22,
    "start_time": "2022-05-22T02:00:03.395Z"
   },
   {
    "duration": 267,
    "start_time": "2022-05-22T02:00:03.419Z"
   },
   {
    "duration": 524,
    "start_time": "2022-05-22T02:00:03.688Z"
   },
   {
    "duration": 14,
    "start_time": "2022-05-22T02:00:04.215Z"
   },
   {
    "duration": 934,
    "start_time": "2022-05-22T02:00:04.235Z"
   },
   {
    "duration": 3,
    "start_time": "2022-05-22T02:00:05.170Z"
   },
   {
    "duration": 24,
    "start_time": "2022-05-22T02:00:05.175Z"
   },
   {
    "duration": 23,
    "start_time": "2022-05-22T02:00:05.200Z"
   },
   {
    "duration": 289,
    "start_time": "2022-05-22T02:00:05.225Z"
   },
   {
    "duration": 6,
    "start_time": "2022-05-22T02:00:05.516Z"
   },
   {
    "duration": 237,
    "start_time": "2022-05-22T02:00:05.527Z"
   },
   {
    "duration": 9,
    "start_time": "2022-05-22T02:00:05.766Z"
   },
   {
    "duration": 14,
    "start_time": "2022-05-22T02:00:05.776Z"
   },
   {
    "duration": 3356,
    "start_time": "2022-05-22T02:00:05.791Z"
   },
   {
    "duration": 14,
    "start_time": "2022-05-22T02:00:19.614Z"
   },
   {
    "duration": 7,
    "start_time": "2022-05-22T02:00:26.409Z"
   },
   {
    "duration": 23,
    "start_time": "2022-05-22T02:00:48.240Z"
   },
   {
    "duration": 17,
    "start_time": "2022-05-22T02:00:53.845Z"
   },
   {
    "duration": 5805,
    "start_time": "2022-05-22T06:42:50.546Z"
   },
   {
    "duration": 1722,
    "start_time": "2022-05-22T06:42:56.353Z"
   },
   {
    "duration": 93,
    "start_time": "2022-05-22T06:42:58.077Z"
   },
   {
    "duration": 11,
    "start_time": "2022-05-22T06:42:58.172Z"
   },
   {
    "duration": 53,
    "start_time": "2022-05-22T06:42:58.184Z"
   },
   {
    "duration": 45,
    "start_time": "2022-05-22T06:42:58.239Z"
   },
   {
    "duration": 52,
    "start_time": "2022-05-22T06:42:58.286Z"
   },
   {
    "duration": 315,
    "start_time": "2022-05-22T06:42:58.340Z"
   },
   {
    "duration": 451,
    "start_time": "2022-05-22T06:42:58.657Z"
   },
   {
    "duration": 7,
    "start_time": "2022-05-22T06:42:59.110Z"
   },
   {
    "duration": 879,
    "start_time": "2022-05-22T06:42:59.119Z"
   },
   {
    "duration": 6,
    "start_time": "2022-05-22T06:43:00.000Z"
   },
   {
    "duration": 213,
    "start_time": "2022-05-22T06:43:00.007Z"
   },
   {
    "duration": 0,
    "start_time": "2022-05-22T06:43:00.221Z"
   },
   {
    "duration": 0,
    "start_time": "2022-05-22T06:43:00.223Z"
   },
   {
    "duration": 0,
    "start_time": "2022-05-22T06:43:00.225Z"
   },
   {
    "duration": 0,
    "start_time": "2022-05-22T06:43:00.226Z"
   },
   {
    "duration": 0,
    "start_time": "2022-05-22T06:43:00.227Z"
   },
   {
    "duration": 0,
    "start_time": "2022-05-22T06:43:00.228Z"
   },
   {
    "duration": 5,
    "start_time": "2022-05-22T06:43:27.938Z"
   },
   {
    "duration": 9,
    "start_time": "2022-05-22T06:43:34.064Z"
   },
   {
    "duration": 229,
    "start_time": "2022-05-22T06:43:37.323Z"
   },
   {
    "duration": 2042,
    "start_time": "2022-05-22T06:43:50.279Z"
   },
   {
    "duration": 5,
    "start_time": "2022-05-22T06:43:52.324Z"
   },
   {
    "duration": 66,
    "start_time": "2022-05-22T06:43:52.331Z"
   },
   {
    "duration": 12,
    "start_time": "2022-05-22T06:43:52.399Z"
   },
   {
    "duration": 12,
    "start_time": "2022-05-22T06:43:52.413Z"
   },
   {
    "duration": 19,
    "start_time": "2022-05-22T06:43:52.426Z"
   },
   {
    "duration": 23,
    "start_time": "2022-05-22T06:43:52.447Z"
   },
   {
    "duration": 321,
    "start_time": "2022-05-22T06:43:52.471Z"
   },
   {
    "duration": 481,
    "start_time": "2022-05-22T06:43:52.794Z"
   },
   {
    "duration": 7,
    "start_time": "2022-05-22T06:43:53.277Z"
   },
   {
    "duration": 902,
    "start_time": "2022-05-22T06:43:53.286Z"
   },
   {
    "duration": 6,
    "start_time": "2022-05-22T06:43:54.190Z"
   },
   {
    "duration": 27,
    "start_time": "2022-05-22T06:43:54.197Z"
   },
   {
    "duration": 258,
    "start_time": "2022-05-22T06:43:54.226Z"
   },
   {
    "duration": 6,
    "start_time": "2022-05-22T06:43:54.486Z"
   },
   {
    "duration": 251,
    "start_time": "2022-05-22T06:43:54.493Z"
   },
   {
    "duration": 9,
    "start_time": "2022-05-22T06:43:54.746Z"
   },
   {
    "duration": 28,
    "start_time": "2022-05-22T06:43:54.757Z"
   },
   {
    "duration": 1177,
    "start_time": "2022-05-22T06:43:54.787Z"
   },
   {
    "duration": 5,
    "start_time": "2022-05-22T06:44:14.537Z"
   },
   {
    "duration": 26,
    "start_time": "2022-05-22T06:44:21.371Z"
   },
   {
    "duration": 5,
    "start_time": "2022-05-22T06:44:49.085Z"
   },
   {
    "duration": 26,
    "start_time": "2022-05-22T06:44:54.589Z"
   },
   {
    "duration": 14,
    "start_time": "2022-05-22T06:44:57.349Z"
   },
   {
    "duration": 14,
    "start_time": "2022-05-22T06:45:27.214Z"
   },
   {
    "duration": 6,
    "start_time": "2022-05-22T06:46:31.385Z"
   },
   {
    "duration": 4,
    "start_time": "2022-05-22T06:46:55.945Z"
   },
   {
    "duration": 14,
    "start_time": "2022-05-22T06:47:16.867Z"
   },
   {
    "duration": 21,
    "start_time": "2022-05-22T06:47:36.188Z"
   },
   {
    "duration": 2022,
    "start_time": "2022-05-22T06:50:00.316Z"
   },
   {
    "duration": 5,
    "start_time": "2022-05-22T06:50:02.341Z"
   },
   {
    "duration": 86,
    "start_time": "2022-05-22T06:50:02.348Z"
   },
   {
    "duration": 10,
    "start_time": "2022-05-22T06:50:02.436Z"
   },
   {
    "duration": 45,
    "start_time": "2022-05-22T06:50:02.447Z"
   },
   {
    "duration": 13,
    "start_time": "2022-05-22T06:50:02.494Z"
   },
   {
    "duration": 27,
    "start_time": "2022-05-22T06:50:02.509Z"
   },
   {
    "duration": 337,
    "start_time": "2022-05-22T06:50:02.538Z"
   },
   {
    "duration": 485,
    "start_time": "2022-05-22T06:50:02.877Z"
   },
   {
    "duration": 8,
    "start_time": "2022-05-22T06:50:03.365Z"
   },
   {
    "duration": 925,
    "start_time": "2022-05-22T06:50:03.374Z"
   },
   {
    "duration": 7,
    "start_time": "2022-05-22T06:50:04.301Z"
   },
   {
    "duration": 53,
    "start_time": "2022-05-22T06:50:04.310Z"
   },
   {
    "duration": 268,
    "start_time": "2022-05-22T06:50:04.364Z"
   },
   {
    "duration": 5,
    "start_time": "2022-05-22T06:50:04.634Z"
   },
   {
    "duration": 265,
    "start_time": "2022-05-22T06:50:04.640Z"
   },
   {
    "duration": 8,
    "start_time": "2022-05-22T06:50:04.907Z"
   },
   {
    "duration": 19,
    "start_time": "2022-05-22T06:50:04.917Z"
   },
   {
    "duration": 2220,
    "start_time": "2022-05-22T06:50:04.938Z"
   },
   {
    "duration": 5,
    "start_time": "2022-05-22T06:50:11.274Z"
   },
   {
    "duration": 29,
    "start_time": "2022-05-22T06:50:24.865Z"
   },
   {
    "duration": 29,
    "start_time": "2022-05-22T06:54:04.788Z"
   },
   {
    "duration": 6,
    "start_time": "2022-05-22T06:54:11.499Z"
   },
   {
    "duration": 15,
    "start_time": "2022-05-22T06:54:17.812Z"
   },
   {
    "duration": 16,
    "start_time": "2022-05-22T06:54:21.531Z"
   },
   {
    "duration": 5,
    "start_time": "2022-05-22T06:55:13.263Z"
   },
   {
    "duration": 25,
    "start_time": "2022-05-22T06:55:20.438Z"
   },
   {
    "duration": 13,
    "start_time": "2022-05-22T06:55:24.086Z"
   },
   {
    "duration": 6,
    "start_time": "2022-05-22T06:55:29.479Z"
   },
   {
    "duration": 5,
    "start_time": "2022-05-22T06:55:36.631Z"
   },
   {
    "duration": 6,
    "start_time": "2022-05-22T06:56:05.354Z"
   },
   {
    "duration": 3,
    "start_time": "2022-05-22T06:57:12.499Z"
   },
   {
    "duration": 14,
    "start_time": "2022-05-22T06:57:15.154Z"
   },
   {
    "duration": 12,
    "start_time": "2022-05-22T06:57:28.510Z"
   },
   {
    "duration": 18,
    "start_time": "2022-05-22T06:58:54.200Z"
   },
   {
    "duration": 39,
    "start_time": "2022-05-22T06:59:02.839Z"
   },
   {
    "duration": 103,
    "start_time": "2022-05-22T06:59:48.105Z"
   },
   {
    "duration": 4,
    "start_time": "2022-05-22T07:00:49.829Z"
   },
   {
    "duration": 1352,
    "start_time": "2022-05-22T07:00:55.964Z"
   },
   {
    "duration": 4,
    "start_time": "2022-05-22T07:01:16.510Z"
   },
   {
    "duration": 18,
    "start_time": "2022-05-22T07:01:26.701Z"
   },
   {
    "duration": 4,
    "start_time": "2022-05-22T07:01:29.736Z"
   },
   {
    "duration": 841,
    "start_time": "2022-05-22T07:01:43.670Z"
   },
   {
    "duration": 6386,
    "start_time": "2022-05-22T09:49:39.803Z"
   },
   {
    "duration": 1906,
    "start_time": "2022-05-22T09:49:46.191Z"
   },
   {
    "duration": 179,
    "start_time": "2022-05-22T09:49:48.099Z"
   },
   {
    "duration": 10,
    "start_time": "2022-05-22T09:49:48.282Z"
   },
   {
    "duration": 10,
    "start_time": "2022-05-22T09:49:48.293Z"
   },
   {
    "duration": 4,
    "start_time": "2022-05-22T09:49:48.304Z"
   },
   {
    "duration": 9,
    "start_time": "2022-05-22T09:49:48.309Z"
   },
   {
    "duration": 258,
    "start_time": "2022-05-22T09:49:48.319Z"
   },
   {
    "duration": 434,
    "start_time": "2022-05-22T09:49:48.578Z"
   },
   {
    "duration": 7,
    "start_time": "2022-05-22T09:49:49.015Z"
   },
   {
    "duration": 774,
    "start_time": "2022-05-22T09:49:49.023Z"
   },
   {
    "duration": 6,
    "start_time": "2022-05-22T09:49:49.800Z"
   },
   {
    "duration": 9,
    "start_time": "2022-05-22T09:49:49.808Z"
   },
   {
    "duration": 224,
    "start_time": "2022-05-22T09:49:49.819Z"
   },
   {
    "duration": 5,
    "start_time": "2022-05-22T09:49:50.044Z"
   },
   {
    "duration": 224,
    "start_time": "2022-05-22T09:49:50.050Z"
   },
   {
    "duration": 9,
    "start_time": "2022-05-22T09:49:50.277Z"
   },
   {
    "duration": 11,
    "start_time": "2022-05-22T09:49:50.287Z"
   },
   {
    "duration": 5061,
    "start_time": "2022-05-22T09:49:50.299Z"
   },
   {
    "duration": 89,
    "start_time": "2022-05-22T09:49:55.371Z"
   },
   {
    "duration": 31,
    "start_time": "2022-05-22T09:49:55.463Z"
   },
   {
    "duration": 26,
    "start_time": "2022-05-22T09:49:55.496Z"
   },
   {
    "duration": 4,
    "start_time": "2022-05-22T09:49:55.524Z"
   },
   {
    "duration": 0,
    "start_time": "2022-05-22T09:49:55.529Z"
   },
   {
    "duration": 46,
    "start_time": "2022-05-22T09:53:02.551Z"
   },
   {
    "duration": 3,
    "start_time": "2022-05-22T09:53:44.024Z"
   },
   {
    "duration": 4,
    "start_time": "2022-05-22T09:53:47.602Z"
   },
   {
    "duration": 3,
    "start_time": "2022-05-22T09:54:07.917Z"
   },
   {
    "duration": 140,
    "start_time": "2022-05-22T09:54:11.289Z"
   },
   {
    "duration": 868,
    "start_time": "2022-05-22T09:55:11.770Z"
   },
   {
    "duration": 3,
    "start_time": "2022-05-22T09:55:27.645Z"
   },
   {
    "duration": 3,
    "start_time": "2022-05-22T09:55:30.524Z"
   },
   {
    "duration": 11,
    "start_time": "2022-05-22T09:55:33.297Z"
   },
   {
    "duration": 10,
    "start_time": "2022-05-22T09:55:35.217Z"
   },
   {
    "duration": 3,
    "start_time": "2022-05-22T09:55:39.719Z"
   },
   {
    "duration": 21,
    "start_time": "2022-05-22T09:57:16.243Z"
   },
   {
    "duration": 1120,
    "start_time": "2022-05-22T09:57:18.062Z"
   },
   {
    "duration": 5,
    "start_time": "2022-05-22T09:57:21.070Z"
   },
   {
    "duration": 23,
    "start_time": "2022-05-22T09:57:22.459Z"
   },
   {
    "duration": 12,
    "start_time": "2022-05-22T09:57:23.897Z"
   },
   {
    "duration": 8,
    "start_time": "2022-05-22T09:57:25.300Z"
   },
   {
    "duration": 26,
    "start_time": "2022-05-22T09:57:38.873Z"
   },
   {
    "duration": 1136,
    "start_time": "2022-05-22T09:57:40.409Z"
   },
   {
    "duration": 3,
    "start_time": "2022-05-22T09:57:43.302Z"
   },
   {
    "duration": 3,
    "start_time": "2022-05-22T09:57:44.717Z"
   },
   {
    "duration": 12,
    "start_time": "2022-05-22T09:57:46.103Z"
   },
   {
    "duration": 25,
    "start_time": "2022-05-22T09:57:47.454Z"
   },
   {
    "duration": 4,
    "start_time": "2022-05-22T09:58:30.915Z"
   },
   {
    "duration": 4,
    "start_time": "2022-05-22T09:58:36.298Z"
   },
   {
    "duration": 20,
    "start_time": "2022-05-22T09:58:53.951Z"
   },
   {
    "duration": 5,
    "start_time": "2022-05-22T09:58:56.787Z"
   },
   {
    "duration": 29,
    "start_time": "2022-05-22T09:59:01.601Z"
   },
   {
    "duration": 3,
    "start_time": "2022-05-22T09:59:04.026Z"
   },
   {
    "duration": 17,
    "start_time": "2022-05-22T09:59:12.499Z"
   },
   {
    "duration": 779,
    "start_time": "2022-05-22T09:59:16.142Z"
   },
   {
    "duration": 3,
    "start_time": "2022-05-22T09:59:20.900Z"
   },
   {
    "duration": 2,
    "start_time": "2022-05-22T09:59:22.187Z"
   },
   {
    "duration": 10,
    "start_time": "2022-05-22T09:59:23.881Z"
   },
   {
    "duration": 7,
    "start_time": "2022-05-22T09:59:25.301Z"
   },
   {
    "duration": 17,
    "start_time": "2022-05-22T09:59:41.288Z"
   },
   {
    "duration": 828,
    "start_time": "2022-05-22T09:59:42.649Z"
   },
   {
    "duration": 3,
    "start_time": "2022-05-22T09:59:47.574Z"
   },
   {
    "duration": 3,
    "start_time": "2022-05-22T09:59:48.746Z"
   },
   {
    "duration": 12,
    "start_time": "2022-05-22T09:59:50.002Z"
   },
   {
    "duration": 8,
    "start_time": "2022-05-22T09:59:51.396Z"
   },
   {
    "duration": 21,
    "start_time": "2022-05-22T10:00:09.324Z"
   },
   {
    "duration": 1034,
    "start_time": "2022-05-22T10:00:10.659Z"
   },
   {
    "duration": 3,
    "start_time": "2022-05-22T10:00:13.262Z"
   },
   {
    "duration": 3,
    "start_time": "2022-05-22T10:00:14.821Z"
   },
   {
    "duration": 12,
    "start_time": "2022-05-22T10:00:16.468Z"
   },
   {
    "duration": 8,
    "start_time": "2022-05-22T10:00:18.795Z"
   },
   {
    "duration": 19,
    "start_time": "2022-05-22T10:00:31.581Z"
   },
   {
    "duration": 789,
    "start_time": "2022-05-22T10:00:33.406Z"
   },
   {
    "duration": 4,
    "start_time": "2022-05-22T10:00:36.053Z"
   },
   {
    "duration": 3,
    "start_time": "2022-05-22T10:00:37.956Z"
   },
   {
    "duration": 11,
    "start_time": "2022-05-22T10:00:39.568Z"
   },
   {
    "duration": 8,
    "start_time": "2022-05-22T10:00:41.154Z"
   },
   {
    "duration": 23,
    "start_time": "2022-05-22T10:00:49.320Z"
   },
   {
    "duration": 923,
    "start_time": "2022-05-22T10:00:51.311Z"
   },
   {
    "duration": 4,
    "start_time": "2022-05-22T10:00:54.864Z"
   },
   {
    "duration": 3,
    "start_time": "2022-05-22T10:00:56.704Z"
   },
   {
    "duration": 11,
    "start_time": "2022-05-22T10:00:58.309Z"
   },
   {
    "duration": 8,
    "start_time": "2022-05-22T10:01:00.416Z"
   },
   {
    "duration": 19,
    "start_time": "2022-05-22T10:01:09.126Z"
   },
   {
    "duration": 909,
    "start_time": "2022-05-22T10:01:10.546Z"
   },
   {
    "duration": 4,
    "start_time": "2022-05-22T10:01:13.041Z"
   },
   {
    "duration": 4,
    "start_time": "2022-05-22T10:01:14.638Z"
   },
   {
    "duration": 10,
    "start_time": "2022-05-22T10:01:16.087Z"
   },
   {
    "duration": 8,
    "start_time": "2022-05-22T10:01:17.678Z"
   },
   {
    "duration": 17,
    "start_time": "2022-05-22T10:01:28.282Z"
   },
   {
    "duration": 1086,
    "start_time": "2022-05-22T10:01:29.704Z"
   },
   {
    "duration": 3,
    "start_time": "2022-05-22T10:01:33.315Z"
   },
   {
    "duration": 3,
    "start_time": "2022-05-22T10:01:35.463Z"
   },
   {
    "duration": 12,
    "start_time": "2022-05-22T10:01:38.383Z"
   },
   {
    "duration": 8,
    "start_time": "2022-05-22T10:01:40.361Z"
   },
   {
    "duration": 15,
    "start_time": "2022-05-22T10:01:49.193Z"
   },
   {
    "duration": 743,
    "start_time": "2022-05-22T10:01:50.658Z"
   },
   {
    "duration": 4,
    "start_time": "2022-05-22T10:01:53.024Z"
   },
   {
    "duration": 3,
    "start_time": "2022-05-22T10:01:54.752Z"
   },
   {
    "duration": 12,
    "start_time": "2022-05-22T10:01:56.024Z"
   },
   {
    "duration": 11,
    "start_time": "2022-05-22T10:01:57.808Z"
   },
   {
    "duration": 16,
    "start_time": "2022-05-22T10:02:07.520Z"
   },
   {
    "duration": 802,
    "start_time": "2022-05-22T10:02:09.129Z"
   },
   {
    "duration": 3,
    "start_time": "2022-05-22T10:02:11.754Z"
   },
   {
    "duration": 3,
    "start_time": "2022-05-22T10:02:13.348Z"
   },
   {
    "duration": 11,
    "start_time": "2022-05-22T10:02:15.872Z"
   },
   {
    "duration": 11,
    "start_time": "2022-05-22T10:02:18.096Z"
   },
   {
    "duration": 16,
    "start_time": "2022-05-22T10:02:23.194Z"
   },
   {
    "duration": 751,
    "start_time": "2022-05-22T10:02:24.627Z"
   },
   {
    "duration": 4,
    "start_time": "2022-05-22T10:02:26.955Z"
   },
   {
    "duration": 4,
    "start_time": "2022-05-22T10:02:28.354Z"
   },
   {
    "duration": 13,
    "start_time": "2022-05-22T10:02:29.761Z"
   },
   {
    "duration": 8,
    "start_time": "2022-05-22T10:02:31.696Z"
   },
   {
    "duration": 3,
    "start_time": "2022-05-22T10:03:41.461Z"
   },
   {
    "duration": 5,
    "start_time": "2022-05-22T10:04:01.967Z"
   },
   {
    "duration": 4,
    "start_time": "2022-05-22T10:08:36.589Z"
   },
   {
    "duration": 21,
    "start_time": "2022-05-22T10:08:42.425Z"
   },
   {
    "duration": 596518,
    "start_time": "2022-05-22T10:08:44.689Z"
   },
   {
    "duration": 21,
    "start_time": "2022-05-22T10:18:55.354Z"
   },
   {
    "duration": 142036,
    "start_time": "2022-05-22T10:18:58.851Z"
   },
   {
    "duration": 4,
    "start_time": "2022-05-22T10:21:59.452Z"
   },
   {
    "duration": 5,
    "start_time": "2022-05-22T10:22:02.254Z"
   },
   {
    "duration": 1323,
    "start_time": "2022-05-22T10:22:05.358Z"
   },
   {
    "duration": 8,
    "start_time": "2022-05-22T10:22:11.354Z"
   },
   {
    "duration": 3,
    "start_time": "2022-05-22T10:22:42.463Z"
   },
   {
    "duration": 3,
    "start_time": "2022-05-22T10:22:55.975Z"
   },
   {
    "duration": 16,
    "start_time": "2022-05-22T10:23:45.058Z"
   },
   {
    "duration": 166006,
    "start_time": "2022-05-22T10:23:47.082Z"
   },
   {
    "duration": 3,
    "start_time": "2022-05-22T10:26:48.014Z"
   },
   {
    "duration": 3,
    "start_time": "2022-05-22T10:26:49.609Z"
   },
   {
    "duration": 32411,
    "start_time": "2022-05-22T10:26:51.182Z"
   },
   {
    "duration": 12,
    "start_time": "2022-05-22T10:27:30.158Z"
   },
   {
    "duration": 18,
    "start_time": "2022-05-22T10:28:16.468Z"
   },
   {
    "duration": 389827,
    "start_time": "2022-05-22T10:28:18.266Z"
   },
   {
    "duration": 3,
    "start_time": "2022-05-22T10:35:38.265Z"
   },
   {
    "duration": 3,
    "start_time": "2022-05-22T10:35:39.927Z"
   },
   {
    "duration": 1710,
    "start_time": "2022-05-22T10:35:41.573Z"
   },
   {
    "duration": 8,
    "start_time": "2022-05-22T10:35:46.392Z"
   },
   {
    "duration": 4,
    "start_time": "2022-05-22T10:36:06.994Z"
   },
   {
    "duration": 29,
    "start_time": "2022-05-22T10:36:35.161Z"
   },
   {
    "duration": 259298,
    "start_time": "2022-05-22T10:36:38.161Z"
   },
   {
    "duration": 4,
    "start_time": "2022-05-22T10:41:06.062Z"
   },
   {
    "duration": 3,
    "start_time": "2022-05-22T10:41:07.689Z"
   },
   {
    "duration": 1451,
    "start_time": "2022-05-22T10:41:10.209Z"
   },
   {
    "duration": 8,
    "start_time": "2022-05-22T10:41:14.227Z"
   },
   {
    "duration": 19,
    "start_time": "2022-05-22T10:41:39.930Z"
   },
   {
    "duration": 57069,
    "start_time": "2022-05-22T10:41:42.420Z"
   },
   {
    "duration": 3,
    "start_time": "2022-05-22T10:42:41.774Z"
   },
   {
    "duration": 3,
    "start_time": "2022-05-22T10:42:43.213Z"
   },
   {
    "duration": 1073,
    "start_time": "2022-05-22T10:42:44.606Z"
   },
   {
    "duration": 9,
    "start_time": "2022-05-22T10:42:47.279Z"
   },
   {
    "duration": 19,
    "start_time": "2022-05-22T10:43:19.007Z"
   },
   {
    "duration": 63409,
    "start_time": "2022-05-22T10:43:20.879Z"
   },
   {
    "duration": 4,
    "start_time": "2022-05-22T10:46:53.160Z"
   },
   {
    "duration": 3,
    "start_time": "2022-05-22T10:46:54.695Z"
   },
   {
    "duration": 35099,
    "start_time": "2022-05-22T10:46:56.083Z"
   },
   {
    "duration": 7,
    "start_time": "2022-05-22T10:47:58.419Z"
   },
   {
    "duration": 22,
    "start_time": "2022-05-22T10:49:34.284Z"
   },
   {
    "duration": 70083,
    "start_time": "2022-05-22T10:49:36.410Z"
   },
   {
    "duration": 4,
    "start_time": "2022-05-22T10:50:49.302Z"
   },
   {
    "duration": 3,
    "start_time": "2022-05-22T10:50:51.427Z"
   },
   {
    "duration": 1214,
    "start_time": "2022-05-22T10:50:53.169Z"
   },
   {
    "duration": 9,
    "start_time": "2022-05-22T10:50:55.116Z"
   },
   {
    "duration": 3,
    "start_time": "2022-05-22T10:51:22.011Z"
   },
   {
    "duration": 3,
    "start_time": "2022-05-22T10:51:32.963Z"
   },
   {
    "duration": 20,
    "start_time": "2022-05-22T10:52:02.047Z"
   },
   {
    "duration": 63063,
    "start_time": "2022-05-22T10:52:04.398Z"
   },
   {
    "duration": 3,
    "start_time": "2022-05-22T10:53:11.982Z"
   },
   {
    "duration": 3,
    "start_time": "2022-05-22T10:53:13.304Z"
   },
   {
    "duration": 1368,
    "start_time": "2022-05-22T10:53:14.692Z"
   },
   {
    "duration": 10,
    "start_time": "2022-05-22T10:53:17.717Z"
   },
   {
    "duration": 20,
    "start_time": "2022-05-22T10:53:57.720Z"
   },
   {
    "duration": 91112,
    "start_time": "2022-05-22T10:53:59.450Z"
   },
   {
    "duration": 4,
    "start_time": "2022-05-22T10:55:39.851Z"
   },
   {
    "duration": 4,
    "start_time": "2022-05-22T10:55:41.339Z"
   },
   {
    "duration": 1274,
    "start_time": "2022-05-22T10:55:43.314Z"
   },
   {
    "duration": 8,
    "start_time": "2022-05-22T10:55:45.997Z"
   },
   {
    "duration": 4,
    "start_time": "2022-05-22T11:07:40.116Z"
   },
   {
    "duration": 20,
    "start_time": "2022-05-22T11:12:17.293Z"
   },
   {
    "duration": 13,
    "start_time": "2022-05-22T11:12:19.673Z"
   },
   {
    "duration": 9,
    "start_time": "2022-05-22T11:12:21.573Z"
   },
   {
    "duration": 9,
    "start_time": "2022-05-22T11:12:23.901Z"
   },
   {
    "duration": 16,
    "start_time": "2022-05-22T11:13:23.082Z"
   },
   {
    "duration": 12,
    "start_time": "2022-05-22T11:13:25.173Z"
   },
   {
    "duration": 7,
    "start_time": "2022-05-22T11:13:26.596Z"
   },
   {
    "duration": 9,
    "start_time": "2022-05-22T11:13:28.702Z"
   },
   {
    "duration": 25,
    "start_time": "2022-05-22T11:13:47.888Z"
   },
   {
    "duration": 37,
    "start_time": "2022-05-22T11:13:49.928Z"
   },
   {
    "duration": 7,
    "start_time": "2022-05-22T11:13:51.223Z"
   },
   {
    "duration": 8,
    "start_time": "2022-05-22T11:13:52.565Z"
   },
   {
    "duration": 22,
    "start_time": "2022-05-22T11:14:12.928Z"
   },
   {
    "duration": 335,
    "start_time": "2022-05-22T11:14:14.631Z"
   },
   {
    "duration": 7,
    "start_time": "2022-05-22T11:14:16.397Z"
   },
   {
    "duration": 8,
    "start_time": "2022-05-22T11:14:17.732Z"
   },
   {
    "duration": 23,
    "start_time": "2022-05-22T11:14:44.870Z"
   },
   {
    "duration": 39,
    "start_time": "2022-05-22T11:14:46.722Z"
   },
   {
    "duration": 7,
    "start_time": "2022-05-22T11:14:48.085Z"
   },
   {
    "duration": 8,
    "start_time": "2022-05-22T11:14:49.593Z"
   },
   {
    "duration": 21,
    "start_time": "2022-05-22T11:15:13.329Z"
   },
   {
    "duration": 103,
    "start_time": "2022-05-22T11:15:15.762Z"
   },
   {
    "duration": 6,
    "start_time": "2022-05-22T11:15:17.328Z"
   },
   {
    "duration": 9,
    "start_time": "2022-05-22T11:15:18.974Z"
   },
   {
    "duration": 21,
    "start_time": "2022-05-22T11:15:50.134Z"
   },
   {
    "duration": 28,
    "start_time": "2022-05-22T11:15:53.038Z"
   },
   {
    "duration": 7,
    "start_time": "2022-05-22T11:15:55.174Z"
   },
   {
    "duration": 8,
    "start_time": "2022-05-22T11:15:56.527Z"
   },
   {
    "duration": 3,
    "start_time": "2022-05-22T11:22:23.797Z"
   },
   {
    "duration": 23,
    "start_time": "2022-05-22T11:22:25.865Z"
   },
   {
    "duration": 10,
    "start_time": "2022-05-22T11:22:27.445Z"
   },
   {
    "duration": 10286,
    "start_time": "2022-05-22T11:22:51.901Z"
   },
   {
    "duration": 3,
    "start_time": "2022-05-22T11:24:14.083Z"
   },
   {
    "duration": 3,
    "start_time": "2022-05-22T11:24:16.076Z"
   },
   {
    "duration": 321,
    "start_time": "2022-05-22T11:24:17.888Z"
   },
   {
    "duration": 8,
    "start_time": "2022-05-22T11:24:23.185Z"
   },
   {
    "duration": 3,
    "start_time": "2022-05-22T11:24:52.915Z"
   },
   {
    "duration": 2,
    "start_time": "2022-05-22T11:25:03.200Z"
   },
   {
    "duration": 23,
    "start_time": "2022-05-22T11:25:20.801Z"
   },
   {
    "duration": 14892,
    "start_time": "2022-05-22T11:25:22.505Z"
   },
   {
    "duration": 3,
    "start_time": "2022-05-22T11:25:40.927Z"
   },
   {
    "duration": 3,
    "start_time": "2022-05-22T11:25:42.510Z"
   },
   {
    "duration": 364,
    "start_time": "2022-05-22T11:25:46.327Z"
   },
   {
    "duration": 8,
    "start_time": "2022-05-22T11:25:48.315Z"
   },
   {
    "duration": 4,
    "start_time": "2022-05-22T11:26:20.527Z"
   },
   {
    "duration": 25,
    "start_time": "2022-05-22T11:26:33.709Z"
   },
   {
    "duration": 16139,
    "start_time": "2022-05-22T11:26:35.381Z"
   },
   {
    "duration": 3,
    "start_time": "2022-05-22T11:27:05.701Z"
   },
   {
    "duration": 3,
    "start_time": "2022-05-22T11:27:08.044Z"
   },
   {
    "duration": 376,
    "start_time": "2022-05-22T11:27:09.605Z"
   },
   {
    "duration": 8,
    "start_time": "2022-05-22T11:27:11.514Z"
   },
   {
    "duration": 29,
    "start_time": "2022-05-22T11:27:31.786Z"
   },
   {
    "duration": 17660,
    "start_time": "2022-05-22T11:27:33.318Z"
   },
   {
    "duration": 3,
    "start_time": "2022-05-22T11:28:25.201Z"
   },
   {
    "duration": 3,
    "start_time": "2022-05-22T11:28:26.582Z"
   },
   {
    "duration": 395,
    "start_time": "2022-05-22T11:28:29.075Z"
   },
   {
    "duration": 8,
    "start_time": "2022-05-22T11:28:35.096Z"
   },
   {
    "duration": 28,
    "start_time": "2022-05-22T11:28:51.113Z"
   },
   {
    "duration": 18798,
    "start_time": "2022-05-22T11:28:52.978Z"
   },
   {
    "duration": 3,
    "start_time": "2022-05-22T11:29:16.529Z"
   },
   {
    "duration": 4,
    "start_time": "2022-05-22T11:29:17.803Z"
   },
   {
    "duration": 397,
    "start_time": "2022-05-22T11:29:19.154Z"
   },
   {
    "duration": 8,
    "start_time": "2022-05-22T11:29:21.098Z"
   },
   {
    "duration": 32,
    "start_time": "2022-05-22T11:29:42.666Z"
   },
   {
    "duration": 21511,
    "start_time": "2022-05-22T11:29:44.026Z"
   },
   {
    "duration": 4,
    "start_time": "2022-05-22T11:30:08.492Z"
   },
   {
    "duration": 4,
    "start_time": "2022-05-22T11:30:09.785Z"
   },
   {
    "duration": 353,
    "start_time": "2022-05-22T11:30:11.112Z"
   },
   {
    "duration": 7,
    "start_time": "2022-05-22T11:30:13.326Z"
   },
   {
    "duration": 31,
    "start_time": "2022-05-22T11:30:35.170Z"
   },
   {
    "duration": 21197,
    "start_time": "2022-05-22T11:30:36.567Z"
   },
   {
    "duration": 3,
    "start_time": "2022-05-22T11:31:00.194Z"
   },
   {
    "duration": 3,
    "start_time": "2022-05-22T11:31:01.491Z"
   },
   {
    "duration": 452,
    "start_time": "2022-05-22T11:31:02.808Z"
   },
   {
    "duration": 9,
    "start_time": "2022-05-22T11:31:04.702Z"
   },
   {
    "duration": 27,
    "start_time": "2022-05-22T11:31:26.900Z"
   },
   {
    "duration": 21234,
    "start_time": "2022-05-22T11:31:28.600Z"
   },
   {
    "duration": 3,
    "start_time": "2022-05-22T11:31:53.727Z"
   },
   {
    "duration": 4,
    "start_time": "2022-05-22T11:31:55.093Z"
   },
   {
    "duration": 411,
    "start_time": "2022-05-22T11:31:56.410Z"
   },
   {
    "duration": 11,
    "start_time": "2022-05-22T11:31:58.071Z"
   },
   {
    "duration": 29,
    "start_time": "2022-05-22T11:32:19.274Z"
   },
   {
    "duration": 21104,
    "start_time": "2022-05-22T11:32:20.747Z"
   },
   {
    "duration": 3,
    "start_time": "2022-05-22T11:32:45.698Z"
   },
   {
    "duration": 4,
    "start_time": "2022-05-22T11:32:47.029Z"
   },
   {
    "duration": 400,
    "start_time": "2022-05-22T11:32:48.402Z"
   },
   {
    "duration": 10,
    "start_time": "2022-05-22T11:32:50.316Z"
   },
   {
    "duration": 28,
    "start_time": "2022-05-22T11:33:17.381Z"
   },
   {
    "duration": 18124,
    "start_time": "2022-05-22T11:33:18.720Z"
   },
   {
    "duration": 3,
    "start_time": "2022-05-22T11:33:39.517Z"
   },
   {
    "duration": 3,
    "start_time": "2022-05-22T11:33:40.717Z"
   },
   {
    "duration": 365,
    "start_time": "2022-05-22T11:33:41.906Z"
   },
   {
    "duration": 8,
    "start_time": "2022-05-22T11:33:43.974Z"
   },
   {
    "duration": 28,
    "start_time": "2022-05-22T11:34:50.029Z"
   },
   {
    "duration": 19486,
    "start_time": "2022-05-22T11:34:51.404Z"
   },
   {
    "duration": 3,
    "start_time": "2022-05-22T11:35:19.759Z"
   },
   {
    "duration": 3,
    "start_time": "2022-05-22T11:35:21.169Z"
   },
   {
    "duration": 416,
    "start_time": "2022-05-22T11:35:22.570Z"
   },
   {
    "duration": 8,
    "start_time": "2022-05-22T11:35:24.402Z"
   },
   {
    "duration": 26,
    "start_time": "2022-05-22T11:35:43.461Z"
   },
   {
    "duration": 20448,
    "start_time": "2022-05-22T11:35:44.959Z"
   },
   {
    "duration": 3,
    "start_time": "2022-05-22T11:36:08.351Z"
   },
   {
    "duration": 3,
    "start_time": "2022-05-22T11:36:09.676Z"
   },
   {
    "duration": 463,
    "start_time": "2022-05-22T11:36:10.973Z"
   },
   {
    "duration": 8,
    "start_time": "2022-05-22T11:36:12.773Z"
   },
   {
    "duration": 27,
    "start_time": "2022-05-22T11:36:39.462Z"
   },
   {
    "duration": 22130,
    "start_time": "2022-05-22T11:36:41.032Z"
   },
   {
    "duration": 3,
    "start_time": "2022-05-22T11:37:05.017Z"
   },
   {
    "duration": 3,
    "start_time": "2022-05-22T11:37:06.914Z"
   },
   {
    "duration": 428,
    "start_time": "2022-05-22T11:37:08.265Z"
   },
   {
    "duration": 7,
    "start_time": "2022-05-22T11:37:10.057Z"
   },
   {
    "duration": 4,
    "start_time": "2022-05-22T11:37:29.121Z"
   },
   {
    "duration": 3,
    "start_time": "2022-05-22T11:39:48.113Z"
   },
   {
    "duration": 31,
    "start_time": "2022-05-22T11:39:51.659Z"
   },
   {
    "duration": 106657,
    "start_time": "2022-05-22T11:39:55.406Z"
   },
   {
    "duration": 3,
    "start_time": "2022-05-22T11:41:52.259Z"
   },
   {
    "duration": 3,
    "start_time": "2022-05-22T11:41:53.599Z"
   },
   {
    "duration": 279,
    "start_time": "2022-05-22T11:41:55.285Z"
   },
   {
    "duration": 8,
    "start_time": "2022-05-22T11:41:58.071Z"
   },
   {
    "duration": 3,
    "start_time": "2022-05-22T11:42:20.629Z"
   },
   {
    "duration": 30,
    "start_time": "2022-05-22T11:42:32.102Z"
   },
   {
    "duration": 111754,
    "start_time": "2022-05-22T11:42:33.716Z"
   },
   {
    "duration": 4,
    "start_time": "2022-05-22T11:44:32.058Z"
   },
   {
    "duration": 4,
    "start_time": "2022-05-22T11:44:33.460Z"
   },
   {
    "duration": 462,
    "start_time": "2022-05-22T11:44:34.805Z"
   },
   {
    "duration": 8,
    "start_time": "2022-05-22T11:44:36.801Z"
   },
   {
    "duration": 4,
    "start_time": "2022-05-22T11:44:51.752Z"
   },
   {
    "duration": 3,
    "start_time": "2022-05-22T11:45:01.757Z"
   },
   {
    "duration": 31,
    "start_time": "2022-05-22T11:45:11.958Z"
   },
   {
    "duration": 43890,
    "start_time": "2022-05-22T11:45:15.477Z"
   },
   {
    "duration": 4,
    "start_time": "2022-05-22T11:46:04.000Z"
   },
   {
    "duration": 3,
    "start_time": "2022-05-22T11:46:06.674Z"
   },
   {
    "duration": 401,
    "start_time": "2022-05-22T11:46:08.364Z"
   },
   {
    "duration": 8,
    "start_time": "2022-05-22T11:46:10.713Z"
   },
   {
    "duration": 31,
    "start_time": "2022-05-22T11:46:33.816Z"
   },
   {
    "duration": 148270,
    "start_time": "2022-05-22T11:46:36.304Z"
   },
   {
    "duration": 3,
    "start_time": "2022-05-22T11:49:14.904Z"
   },
   {
    "duration": 4,
    "start_time": "2022-05-22T11:49:16.201Z"
   },
   {
    "duration": 510,
    "start_time": "2022-05-22T11:49:17.552Z"
   },
   {
    "duration": 8,
    "start_time": "2022-05-22T11:49:19.466Z"
   },
   {
    "duration": 28,
    "start_time": "2022-05-22T11:49:44.193Z"
   },
   {
    "duration": 82900,
    "start_time": "2022-05-22T11:49:46.267Z"
   },
   {
    "duration": 3,
    "start_time": "2022-05-22T11:54:35.001Z"
   },
   {
    "duration": 3,
    "start_time": "2022-05-22T11:54:36.486Z"
   },
   {
    "duration": 373,
    "start_time": "2022-05-22T11:54:37.900Z"
   },
   {
    "duration": 8,
    "start_time": "2022-05-22T11:54:39.788Z"
   },
   {
    "duration": 27,
    "start_time": "2022-05-22T11:54:57.225Z"
   },
   {
    "duration": 39057,
    "start_time": "2022-05-22T11:54:59.704Z"
   },
   {
    "duration": 3,
    "start_time": "2022-05-22T11:55:49.720Z"
   },
   {
    "duration": 3,
    "start_time": "2022-05-22T11:55:51.101Z"
   },
   {
    "duration": 410,
    "start_time": "2022-05-22T11:55:52.456Z"
   },
   {
    "duration": 8,
    "start_time": "2022-05-22T11:55:54.423Z"
   },
   {
    "duration": 4,
    "start_time": "2022-05-22T11:56:14.457Z"
   },
   {
    "duration": 3,
    "start_time": "2022-05-22T11:56:27.209Z"
   },
   {
    "duration": 29,
    "start_time": "2022-05-22T11:56:31.465Z"
   },
   {
    "duration": 45594,
    "start_time": "2022-05-22T11:56:33.568Z"
   },
   {
    "duration": 3,
    "start_time": "2022-05-22T11:57:24.186Z"
   },
   {
    "duration": 4,
    "start_time": "2022-05-22T11:57:25.572Z"
   },
   {
    "duration": 407,
    "start_time": "2022-05-22T11:57:26.958Z"
   },
   {
    "duration": 8,
    "start_time": "2022-05-22T11:57:28.884Z"
   },
   {
    "duration": 3,
    "start_time": "2022-05-22T11:57:52.865Z"
   },
   {
    "duration": 28,
    "start_time": "2022-05-22T11:57:54.665Z"
   },
   {
    "duration": 43239,
    "start_time": "2022-05-22T11:57:56.130Z"
   },
   {
    "duration": 3,
    "start_time": "2022-05-22T11:58:42.726Z"
   },
   {
    "duration": 3,
    "start_time": "2022-05-22T11:58:44.088Z"
   },
   {
    "duration": 3990,
    "start_time": "2022-05-22T11:58:45.470Z"
   },
   {
    "duration": 7,
    "start_time": "2022-05-22T11:58:51.175Z"
   },
   {
    "duration": 4,
    "start_time": "2022-05-22T11:58:56.164Z"
   },
   {
    "duration": 0,
    "start_time": "2022-05-22T12:38:31.940Z"
   },
   {
    "duration": 0,
    "start_time": "2022-05-22T12:38:31.941Z"
   },
   {
    "duration": 2032,
    "start_time": "2022-05-22T12:45:17.587Z"
   },
   {
    "duration": 5,
    "start_time": "2022-05-22T12:45:19.621Z"
   },
   {
    "duration": 49,
    "start_time": "2022-05-22T12:45:19.627Z"
   },
   {
    "duration": 9,
    "start_time": "2022-05-22T12:45:19.678Z"
   },
   {
    "duration": 6,
    "start_time": "2022-05-22T12:45:19.688Z"
   },
   {
    "duration": 7,
    "start_time": "2022-05-22T12:45:19.695Z"
   },
   {
    "duration": 7,
    "start_time": "2022-05-22T12:45:19.704Z"
   },
   {
    "duration": 267,
    "start_time": "2022-05-22T12:45:19.712Z"
   },
   {
    "duration": 394,
    "start_time": "2022-05-22T12:45:19.980Z"
   },
   {
    "duration": 8,
    "start_time": "2022-05-22T12:45:20.376Z"
   },
   {
    "duration": 801,
    "start_time": "2022-05-22T12:45:20.385Z"
   },
   {
    "duration": 5,
    "start_time": "2022-05-22T12:45:21.188Z"
   },
   {
    "duration": 9,
    "start_time": "2022-05-22T12:45:21.194Z"
   },
   {
    "duration": 227,
    "start_time": "2022-05-22T12:45:21.205Z"
   },
   {
    "duration": 5,
    "start_time": "2022-05-22T12:45:21.434Z"
   },
   {
    "duration": 222,
    "start_time": "2022-05-22T12:45:21.441Z"
   },
   {
    "duration": 9,
    "start_time": "2022-05-22T12:45:21.665Z"
   },
   {
    "duration": 7,
    "start_time": "2022-05-22T12:45:21.676Z"
   },
   {
    "duration": 1575,
    "start_time": "2022-05-22T12:45:21.685Z"
   },
   {
    "duration": 6,
    "start_time": "2022-05-22T12:45:23.262Z"
   },
   {
    "duration": 95,
    "start_time": "2022-05-22T12:45:23.270Z"
   },
   {
    "duration": 31,
    "start_time": "2022-05-22T12:45:23.366Z"
   },
   {
    "duration": 3,
    "start_time": "2022-05-22T12:45:23.398Z"
   },
   {
    "duration": 30,
    "start_time": "2022-05-22T12:45:23.403Z"
   },
   {
    "duration": 4,
    "start_time": "2022-05-22T12:45:37.773Z"
   },
   {
    "duration": 9,
    "start_time": "2022-05-22T12:45:52.622Z"
   },
   {
    "duration": 29,
    "start_time": "2022-05-22T13:01:48.868Z"
   },
   {
    "duration": 3,
    "start_time": "2022-05-22T13:03:35.768Z"
   },
   {
    "duration": 4,
    "start_time": "2022-05-22T13:03:42.741Z"
   },
   {
    "duration": 4,
    "start_time": "2022-05-22T13:03:53.653Z"
   },
   {
    "duration": 14,
    "start_time": "2022-05-22T13:04:08.275Z"
   },
   {
    "duration": 7,
    "start_time": "2022-05-22T13:05:15.975Z"
   },
   {
    "duration": 3,
    "start_time": "2022-05-22T13:05:46.123Z"
   },
   {
    "duration": 4,
    "start_time": "2022-05-22T13:07:53.101Z"
   },
   {
    "duration": 30,
    "start_time": "2022-05-22T13:08:16.660Z"
   },
   {
    "duration": 42380,
    "start_time": "2022-05-22T13:09:20.391Z"
   },
   {
    "duration": 37,
    "start_time": "2022-05-22T13:10:21.662Z"
   },
   {
    "duration": 3,
    "start_time": "2022-05-22T13:10:25.374Z"
   },
   {
    "duration": 3,
    "start_time": "2022-05-22T13:10:27.098Z"
   },
   {
    "duration": 46055,
    "start_time": "2022-05-22T13:10:28.925Z"
   },
   {
    "duration": 11,
    "start_time": "2022-05-22T13:11:44.955Z"
   },
   {
    "duration": 4,
    "start_time": "2022-05-22T13:12:07.411Z"
   },
   {
    "duration": 5,
    "start_time": "2022-05-22T13:12:17.955Z"
   },
   {
    "duration": 4,
    "start_time": "2022-05-22T13:14:37.545Z"
   },
   {
    "duration": 4,
    "start_time": "2022-05-22T13:15:58.187Z"
   },
   {
    "duration": 41075,
    "start_time": "2022-05-22T13:18:04.601Z"
   },
   {
    "duration": 37,
    "start_time": "2022-05-22T13:22:42.530Z"
   },
   {
    "duration": 55394,
    "start_time": "2022-05-22T13:22:56.079Z"
   },
   {
    "duration": 4,
    "start_time": "2022-05-22T13:25:43.855Z"
   },
   {
    "duration": 13,
    "start_time": "2022-05-22T13:25:55.573Z"
   },
   {
    "duration": 10,
    "start_time": "2022-05-22T13:26:06.357Z"
   },
   {
    "duration": 4,
    "start_time": "2022-05-22T13:26:22.823Z"
   },
   {
    "duration": 51325,
    "start_time": "2022-05-22T13:26:28.956Z"
   },
   {
    "duration": 6,
    "start_time": "2022-05-22T13:27:54.350Z"
   },
   {
    "duration": 6,
    "start_time": "2022-05-22T13:28:16.376Z"
   },
   {
    "duration": 11,
    "start_time": "2022-05-22T13:29:47.291Z"
   },
   {
    "duration": 6,
    "start_time": "2022-05-22T13:30:52.921Z"
   },
   {
    "duration": 7,
    "start_time": "2022-05-22T13:31:10.757Z"
   },
   {
    "duration": 30885,
    "start_time": "2022-05-22T13:31:16.598Z"
   },
   {
    "duration": 7,
    "start_time": "2022-05-22T13:32:03.985Z"
   },
   {
    "duration": 4,
    "start_time": "2022-05-22T13:34:42.657Z"
   },
   {
    "duration": 11,
    "start_time": "2022-05-22T13:42:15.220Z"
   },
   {
    "duration": 10,
    "start_time": "2022-05-22T13:52:41.663Z"
   },
   {
    "duration": 11,
    "start_time": "2022-05-22T13:53:26.371Z"
   },
   {
    "duration": 4,
    "start_time": "2022-05-22T14:08:09.562Z"
   },
   {
    "duration": 3168,
    "start_time": "2022-05-22T14:11:34.903Z"
   },
   {
    "duration": 6,
    "start_time": "2022-05-22T14:11:38.074Z"
   },
   {
    "duration": 160,
    "start_time": "2022-05-22T14:11:38.082Z"
   },
   {
    "duration": 10,
    "start_time": "2022-05-22T14:11:38.244Z"
   },
   {
    "duration": 8,
    "start_time": "2022-05-22T14:11:38.255Z"
   },
   {
    "duration": 15,
    "start_time": "2022-05-22T14:11:38.265Z"
   },
   {
    "duration": 9,
    "start_time": "2022-05-22T14:11:38.282Z"
   },
   {
    "duration": 269,
    "start_time": "2022-05-22T14:11:38.293Z"
   },
   {
    "duration": 497,
    "start_time": "2022-05-22T14:11:38.565Z"
   },
   {
    "duration": 22,
    "start_time": "2022-05-22T14:11:39.065Z"
   },
   {
    "duration": 797,
    "start_time": "2022-05-22T14:11:39.089Z"
   },
   {
    "duration": 5,
    "start_time": "2022-05-22T14:11:39.888Z"
   },
   {
    "duration": 9,
    "start_time": "2022-05-22T14:11:39.895Z"
   },
   {
    "duration": 292,
    "start_time": "2022-05-22T14:11:39.906Z"
   },
   {
    "duration": 5,
    "start_time": "2022-05-22T14:11:40.199Z"
   },
   {
    "duration": 220,
    "start_time": "2022-05-22T14:11:40.206Z"
   },
   {
    "duration": 9,
    "start_time": "2022-05-22T14:11:40.428Z"
   },
   {
    "duration": 20,
    "start_time": "2022-05-22T14:11:40.439Z"
   },
   {
    "duration": 1407,
    "start_time": "2022-05-22T14:11:40.462Z"
   },
   {
    "duration": 9,
    "start_time": "2022-05-22T14:11:41.959Z"
   },
   {
    "duration": 91,
    "start_time": "2022-05-22T14:11:41.970Z"
   },
   {
    "duration": 21,
    "start_time": "2022-05-22T14:11:42.062Z"
   },
   {
    "duration": 3,
    "start_time": "2022-05-22T14:11:42.085Z"
   },
   {
    "duration": 9,
    "start_time": "2022-05-22T14:11:42.089Z"
   },
   {
    "duration": 7,
    "start_time": "2022-05-22T14:11:42.100Z"
   },
   {
    "duration": 28,
    "start_time": "2022-05-22T14:11:42.110Z"
   },
   {
    "duration": 798,
    "start_time": "2022-05-22T14:11:42.140Z"
   },
   {
    "duration": 3,
    "start_time": "2022-05-22T14:11:42.942Z"
   },
   {
    "duration": 16,
    "start_time": "2022-05-22T14:11:42.946Z"
   },
   {
    "duration": 18,
    "start_time": "2022-05-22T14:11:42.964Z"
   },
   {
    "duration": 11,
    "start_time": "2022-05-22T14:11:42.984Z"
   },
   {
    "duration": 5,
    "start_time": "2022-05-22T14:11:42.998Z"
   },
   {
    "duration": 5,
    "start_time": "2022-05-22T14:11:43.004Z"
   },
   {
    "duration": 25,
    "start_time": "2022-05-22T14:11:43.011Z"
   },
   {
    "duration": 152202,
    "start_time": "2022-05-22T14:11:43.060Z"
   },
   {
    "duration": 3,
    "start_time": "2022-05-22T14:14:15.263Z"
   },
   {
    "duration": 7,
    "start_time": "2022-05-22T14:14:15.267Z"
   },
   {
    "duration": 1713,
    "start_time": "2022-05-22T14:14:15.276Z"
   },
   {
    "duration": 71,
    "start_time": "2022-05-22T14:14:16.990Z"
   },
   {
    "duration": 6,
    "start_time": "2022-05-22T14:14:17.063Z"
   },
   {
    "duration": 24,
    "start_time": "2022-05-22T14:14:17.070Z"
   },
   {
    "duration": 366,
    "start_time": "2022-05-22T14:14:17.095Z"
   },
   {
    "duration": 97,
    "start_time": "2022-05-22T14:14:17.466Z"
   },
   {
    "duration": 10,
    "start_time": "2022-05-22T14:14:17.565Z"
   },
   {
    "duration": 6,
    "start_time": "2022-05-22T14:14:17.577Z"
   },
   {
    "duration": 113,
    "start_time": "2022-05-22T14:14:17.585Z"
   },
   {
    "duration": 19265,
    "start_time": "2022-05-22T14:14:17.700Z"
   },
   {
    "duration": 3,
    "start_time": "2022-05-22T14:14:36.967Z"
   },
   {
    "duration": 7,
    "start_time": "2022-05-22T14:14:36.971Z"
   },
   {
    "duration": 627,
    "start_time": "2022-05-22T14:14:36.979Z"
   },
   {
    "duration": 7,
    "start_time": "2022-05-22T14:14:37.607Z"
   },
   {
    "duration": 6,
    "start_time": "2022-05-22T14:14:37.616Z"
   },
   {
    "duration": 9,
    "start_time": "2022-05-22T14:14:37.623Z"
   },
   {
    "duration": 46,
    "start_time": "2022-05-22T14:14:37.634Z"
   },
   {
    "duration": 55296,
    "start_time": "2022-05-22T14:14:37.682Z"
   },
   {
    "duration": 4,
    "start_time": "2022-05-22T14:15:33.059Z"
   },
   {
    "duration": 8,
    "start_time": "2022-05-22T14:15:33.064Z"
   },
   {
    "duration": 594,
    "start_time": "2022-05-22T14:15:33.074Z"
   },
   {
    "duration": 7,
    "start_time": "2022-05-22T14:15:33.669Z"
   },
   {
    "duration": 82,
    "start_time": "2022-05-22T14:15:33.678Z"
   },
   {
    "duration": 13,
    "start_time": "2022-05-22T14:15:33.762Z"
   },
   {
    "duration": 33,
    "start_time": "2022-05-22T14:15:33.777Z"
   },
   {
    "duration": 3,
    "start_time": "2022-05-22T14:15:33.812Z"
   },
   {
    "duration": 10,
    "start_time": "2022-05-22T14:15:33.816Z"
   },
   {
    "duration": 31,
    "start_time": "2022-05-22T15:01:12.354Z"
   },
   {
    "duration": 5631,
    "start_time": "2022-05-23T10:12:42.989Z"
   },
   {
    "duration": 1742,
    "start_time": "2022-05-23T10:12:48.622Z"
   },
   {
    "duration": 146,
    "start_time": "2022-05-23T10:12:50.366Z"
   },
   {
    "duration": 11,
    "start_time": "2022-05-23T10:12:50.513Z"
   },
   {
    "duration": 13,
    "start_time": "2022-05-23T10:12:50.525Z"
   },
   {
    "duration": 8,
    "start_time": "2022-05-23T10:12:50.540Z"
   },
   {
    "duration": 10,
    "start_time": "2022-05-23T10:12:50.549Z"
   },
   {
    "duration": 248,
    "start_time": "2022-05-23T10:12:50.561Z"
   },
   {
    "duration": 427,
    "start_time": "2022-05-23T10:12:50.810Z"
   },
   {
    "duration": 6,
    "start_time": "2022-05-23T10:12:51.240Z"
   },
   {
    "duration": 830,
    "start_time": "2022-05-23T10:12:51.248Z"
   },
   {
    "duration": 8,
    "start_time": "2022-05-23T10:12:52.079Z"
   },
   {
    "duration": 13,
    "start_time": "2022-05-23T10:12:52.088Z"
   },
   {
    "duration": 230,
    "start_time": "2022-05-23T10:12:52.103Z"
   },
   {
    "duration": 5,
    "start_time": "2022-05-23T10:12:52.335Z"
   },
   {
    "duration": 223,
    "start_time": "2022-05-23T10:12:52.341Z"
   },
   {
    "duration": 10,
    "start_time": "2022-05-23T10:12:52.565Z"
   },
   {
    "duration": 7,
    "start_time": "2022-05-23T10:12:52.577Z"
   },
   {
    "duration": 1498,
    "start_time": "2022-05-23T10:12:52.585Z"
   },
   {
    "duration": 6,
    "start_time": "2022-05-23T10:12:54.176Z"
   },
   {
    "duration": 4,
    "start_time": "2022-05-23T10:12:54.274Z"
   },
   {
    "duration": 19,
    "start_time": "2022-05-23T10:12:54.280Z"
   },
   {
    "duration": 4,
    "start_time": "2022-05-23T10:12:54.300Z"
   },
   {
    "duration": 8,
    "start_time": "2022-05-23T10:12:54.306Z"
   },
   {
    "duration": 4,
    "start_time": "2022-05-23T10:15:36.244Z"
   },
   {
    "duration": 34,
    "start_time": "2022-05-23T10:15:38.309Z"
   },
   {
    "duration": 31,
    "start_time": "2022-05-23T10:16:19.286Z"
   },
   {
    "duration": 212,
    "start_time": "2022-05-23T10:17:31.666Z"
   },
   {
    "duration": 210,
    "start_time": "2022-05-23T10:18:05.375Z"
   },
   {
    "duration": 792407,
    "start_time": "2022-05-23T10:21:47.376Z"
   },
   {
    "duration": 3,
    "start_time": "2022-05-23T10:35:14.406Z"
   },
   {
    "duration": 1496,
    "start_time": "2022-05-23T10:35:20.686Z"
   },
   {
    "duration": 314,
    "start_time": "2022-05-23T10:36:07.808Z"
   },
   {
    "duration": 206,
    "start_time": "2022-05-23T10:36:38.957Z"
   },
   {
    "duration": 289,
    "start_time": "2022-05-23T10:37:32.781Z"
   },
   {
    "duration": 208,
    "start_time": "2022-05-23T10:40:17.908Z"
   },
   {
    "duration": 186,
    "start_time": "2022-05-23T10:52:50.958Z"
   },
   {
    "duration": 7,
    "start_time": "2022-05-23T10:55:12.390Z"
   },
   {
    "duration": 12,
    "start_time": "2022-05-23T10:55:24.591Z"
   },
   {
    "duration": 192,
    "start_time": "2022-05-23T10:55:57.953Z"
   },
   {
    "duration": 219,
    "start_time": "2022-05-23T10:58:28.035Z"
   },
   {
    "duration": 220,
    "start_time": "2022-05-23T11:00:19.699Z"
   }
  ],
  "kernelspec": {
   "display_name": "Python 3 (ipykernel)",
   "language": "python",
   "name": "python3"
  },
  "language_info": {
   "codemirror_mode": {
    "name": "ipython",
    "version": 3
   },
   "file_extension": ".py",
   "mimetype": "text/x-python",
   "name": "python",
   "nbconvert_exporter": "python",
   "pygments_lexer": "ipython3",
   "version": "3.9.7"
  },
  "toc": {
   "base_numbering": 1,
   "nav_menu": {},
   "number_sections": true,
   "sideBar": true,
   "skip_h1_title": true,
   "title_cell": "Содержание",
   "title_sidebar": "Contents",
   "toc_cell": true,
   "toc_position": {
    "height": "calc(100% - 180px)",
    "left": "10px",
    "top": "150px",
    "width": "286.875px"
   },
   "toc_section_display": true,
   "toc_window_display": true
  }
 },
 "nbformat": 4,
 "nbformat_minor": 2
}
